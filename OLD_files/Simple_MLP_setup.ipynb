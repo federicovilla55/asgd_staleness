{
 "cells": [
  {
   "cell_type": "markdown",
   "metadata": {
    "colab_type": "text",
    "id": "view-in-github"
   },
   "source": [
    "<a href=\"https://colab.research.google.com/github/federicovilla55/optML_mini_project/blob/setup/Simple_MLP_setup.ipynb\" target=\"_parent\"><img src=\"https://colab.research.google.com/assets/colab-badge.svg\" alt=\"Open In Colab\"/></a>"
   ]
  },
  {
   "cell_type": "code",
   "execution_count": 1,
   "metadata": {
    "colab": {
     "base_uri": "https://localhost:8080/"
    },
    "id": "n5KiZNmrzre_",
    "outputId": "603cb668-4650-43a7-f20b-3aab4206b259"
   },
   "outputs": [
    {
     "name": "stdout",
     "output_type": "stream",
     "text": [
      "Collecting openml\n",
      "  Downloading openml-0.15.1-py3-none-any.whl.metadata (10 kB)\n",
      "Collecting liac-arff>=2.4.0 (from openml)\n",
      "  Downloading liac-arff-2.5.0.tar.gz (13 kB)\n",
      "  Preparing metadata (setup.py) ... \u001b[?25l\u001b[?25hdone\n",
      "Collecting xmltodict (from openml)\n",
      "  Downloading xmltodict-0.14.2-py2.py3-none-any.whl.metadata (8.0 kB)\n",
      "Requirement already satisfied: requests in /usr/local/lib/python3.11/dist-packages (from openml) (2.32.3)\n",
      "Requirement already satisfied: scikit-learn>=0.18 in /usr/local/lib/python3.11/dist-packages (from openml) (1.6.1)\n",
      "Requirement already satisfied: python-dateutil in /usr/local/lib/python3.11/dist-packages (from openml) (2.8.2)\n",
      "Requirement already satisfied: pandas>=1.0.0 in /usr/local/lib/python3.11/dist-packages (from openml) (2.2.2)\n",
      "Requirement already satisfied: scipy>=0.13.3 in /usr/local/lib/python3.11/dist-packages (from openml) (1.14.1)\n",
      "Requirement already satisfied: numpy>=1.6.2 in /usr/local/lib/python3.11/dist-packages (from openml) (2.0.2)\n",
      "Collecting minio (from openml)\n",
      "  Downloading minio-7.2.15-py3-none-any.whl.metadata (6.7 kB)\n",
      "Requirement already satisfied: pyarrow in /usr/local/lib/python3.11/dist-packages (from openml) (18.1.0)\n",
      "Requirement already satisfied: tqdm in /usr/local/lib/python3.11/dist-packages (from openml) (4.67.1)\n",
      "Requirement already satisfied: packaging in /usr/local/lib/python3.11/dist-packages (from openml) (24.2)\n",
      "Requirement already satisfied: pytz>=2020.1 in /usr/local/lib/python3.11/dist-packages (from pandas>=1.0.0->openml) (2025.2)\n",
      "Requirement already satisfied: tzdata>=2022.7 in /usr/local/lib/python3.11/dist-packages (from pandas>=1.0.0->openml) (2025.2)\n",
      "Requirement already satisfied: six>=1.5 in /usr/local/lib/python3.11/dist-packages (from python-dateutil->openml) (1.17.0)\n",
      "Requirement already satisfied: joblib>=1.2.0 in /usr/local/lib/python3.11/dist-packages (from scikit-learn>=0.18->openml) (1.4.2)\n",
      "Requirement already satisfied: threadpoolctl>=3.1.0 in /usr/local/lib/python3.11/dist-packages (from scikit-learn>=0.18->openml) (3.6.0)\n",
      "Requirement already satisfied: certifi in /usr/local/lib/python3.11/dist-packages (from minio->openml) (2025.1.31)\n",
      "Requirement already satisfied: urllib3 in /usr/local/lib/python3.11/dist-packages (from minio->openml) (2.3.0)\n",
      "Requirement already satisfied: argon2-cffi in /usr/local/lib/python3.11/dist-packages (from minio->openml) (23.1.0)\n",
      "Collecting pycryptodome (from minio->openml)\n",
      "  Downloading pycryptodome-3.22.0-cp37-abi3-manylinux_2_17_x86_64.manylinux2014_x86_64.whl.metadata (3.4 kB)\n",
      "Requirement already satisfied: typing-extensions in /usr/local/lib/python3.11/dist-packages (from minio->openml) (4.13.0)\n",
      "Requirement already satisfied: charset-normalizer<4,>=2 in /usr/local/lib/python3.11/dist-packages (from requests->openml) (3.4.1)\n",
      "Requirement already satisfied: idna<4,>=2.5 in /usr/local/lib/python3.11/dist-packages (from requests->openml) (3.10)\n",
      "Requirement already satisfied: argon2-cffi-bindings in /usr/local/lib/python3.11/dist-packages (from argon2-cffi->minio->openml) (21.2.0)\n",
      "Requirement already satisfied: cffi>=1.0.1 in /usr/local/lib/python3.11/dist-packages (from argon2-cffi-bindings->argon2-cffi->minio->openml) (1.17.1)\n",
      "Requirement already satisfied: pycparser in /usr/local/lib/python3.11/dist-packages (from cffi>=1.0.1->argon2-cffi-bindings->argon2-cffi->minio->openml) (2.22)\n",
      "Downloading openml-0.15.1-py3-none-any.whl (160 kB)\n",
      "\u001b[2K   \u001b[90m━━━━━━━━━━━━━━━━━━━━━━━━━━━━━━━━━━━━━━━━\u001b[0m \u001b[32m160.4/160.4 kB\u001b[0m \u001b[31m2.0 MB/s\u001b[0m eta \u001b[36m0:00:00\u001b[0m\n",
      "\u001b[?25hDownloading minio-7.2.15-py3-none-any.whl (95 kB)\n",
      "\u001b[2K   \u001b[90m━━━━━━━━━━━━━━━━━━━━━━━━━━━━━━━━━━━━━━━━\u001b[0m \u001b[32m95.1/95.1 kB\u001b[0m \u001b[31m5.4 MB/s\u001b[0m eta \u001b[36m0:00:00\u001b[0m\n",
      "\u001b[?25hDownloading xmltodict-0.14.2-py2.py3-none-any.whl (10.0 kB)\n",
      "Downloading pycryptodome-3.22.0-cp37-abi3-manylinux_2_17_x86_64.manylinux2014_x86_64.whl (2.3 MB)\n",
      "\u001b[2K   \u001b[90m━━━━━━━━━━━━━━━━━━━━━━━━━━━━━━━━━━━━━━━━\u001b[0m \u001b[32m2.3/2.3 MB\u001b[0m \u001b[31m26.9 MB/s\u001b[0m eta \u001b[36m0:00:00\u001b[0m\n",
      "\u001b[?25hBuilding wheels for collected packages: liac-arff\n",
      "  Building wheel for liac-arff (setup.py) ... \u001b[?25l\u001b[?25hdone\n",
      "  Created wheel for liac-arff: filename=liac_arff-2.5.0-py3-none-any.whl size=11717 sha256=8d0d14b9a6e26f8ce506883c91441d4c1a91cecfc2c12d1ca783ef2e9ea7d344\n",
      "  Stored in directory: /root/.cache/pip/wheels/00/23/31/5e562fce1f95aabe57f2a7320d07433ba1cd152bcde2f6a002\n",
      "Successfully built liac-arff\n",
      "Installing collected packages: xmltodict, pycryptodome, liac-arff, minio, openml\n",
      "Successfully installed liac-arff-2.5.0 minio-7.2.15 openml-0.15.1 pycryptodome-3.22.0 xmltodict-0.14.2\n"
     ]
    }
   ],
   "source": [
    "!pip install openml"
   ]
  },
  {
   "cell_type": "code",
   "execution_count": 2,
   "metadata": {
    "id": "aJYHzU_AAhji"
   },
   "outputs": [],
   "source": [
    "import numpy as np\n",
    "import pandas as pd\n",
    "import torch\n",
    "import torch.nn as nn\n",
    "import torch.nn.functional as F\n",
    "import torch.optim as optim\n",
    "from sklearn.datasets import fetch_openml\n",
    "from sklearn.preprocessing import StandardScaler\n",
    "from sklearn.model_selection import train_test_split\n",
    "from torch.utils.data import TensorDataset, DataLoader\n",
    "import matplotlib.pyplot as plt\n",
    "import time\n",
    "from getpass import getpass\n",
    "from tqdm.notebook import tqdm\n",
    "import matplotlib.pyplot as plt\n",
    "import numpy as np\n",
    "# Set device\n",
    "device = torch.device(\"cuda\" if torch.cuda.is_available() else \"cpu\")"
   ]
  },
  {
   "cell_type": "markdown",
   "metadata": {
    "id": "AuwIlYgGHC81"
   },
   "source": [
    "**CONNECT TO GIT**\n",
    "\n",
    "You will need to create and store a Personal Access Token PAT and use this to connect with git. (this takes 30 seconds to create)"
   ]
  },
  {
   "cell_type": "code",
   "execution_count": 31,
   "metadata": {
    "id": "eJG_QPOlI0tS"
   },
   "outputs": [],
   "source": [
    "!git config --global user.email \"caspar.amery@gmail.com\"\n",
    "!git config --global user.name \"casparamery\""
   ]
  },
  {
   "cell_type": "code",
   "execution_count": 3,
   "metadata": {
    "colab": {
     "base_uri": "https://localhost:8080/"
    },
    "id": "Fn-IA7KzHCDI",
    "outputId": "bd8dbaed-526b-4942-e28d-b4e1efe9ef31"
   },
   "outputs": [
    {
     "name": "stdout",
     "output_type": "stream",
     "text": [
      "Enter your GitHub token: ··········\n",
      "Cloning into 'optML_mini_project'...\n",
      "remote: Enumerating objects: 262, done.\u001b[K\n",
      "remote: Counting objects: 100% (262/262), done.\u001b[K\n",
      "remote: Compressing objects: 100% (177/177), done.\u001b[K\n",
      "remote: Total 262 (delta 86), reused 252 (delta 81), pack-reused 0 (from 0)\u001b[K\n",
      "Receiving objects: 100% (262/262), 6.32 MiB | 11.07 MiB/s, done.\n",
      "Resolving deltas: 100% (86/86), done.\n",
      "/content/optML_mini_project\n",
      "On branch main\n",
      "Your branch is up to date with 'origin/main'.\n",
      "\n",
      "nothing to commit, working tree clean\n"
     ]
    }
   ],
   "source": [
    "token = getpass(\"Enter your GitHub token: \")\n",
    "repo_url = f\"https://{token}@github.com/federicovilla55/optML_mini_project.git\"\n",
    "\n",
    "!git clone {repo_url}\n",
    "%cd optML_mini_project\n",
    "!git status"
   ]
  },
  {
   "cell_type": "markdown",
   "metadata": {
    "id": "4xvt7UdiLGY5"
   },
   "source": [
    "Where to work in git"
   ]
  },
  {
   "cell_type": "code",
   "execution_count": 5,
   "metadata": {
    "colab": {
     "base_uri": "https://localhost:8080/"
    },
    "id": "auAR553tLOMS",
    "outputId": "0df3027a-d94c-4465-9f1f-95018a3bd5de"
   },
   "outputs": [
    {
     "name": "stdout",
     "output_type": "stream",
     "text": [
      "Branch 'setup' set up to track remote branch 'setup' from 'origin'.\n",
      "Switched to a new branch 'setup'\n"
     ]
    }
   ],
   "source": [
    "# To create a branch:\n",
    "\n",
    "#!git checkout -b branch_name\n",
    "\n",
    "# Switch to an existing branch:\n",
    "\n",
    "!git checkout setup\n",
    "\n",
    "#List all branches:\n",
    "\n",
    "#!git branch\n",
    "\n",
    "#Push a new branch to GitHub (if needed):\n",
    "\n",
    "#!git push -u origin branch_name"
   ]
  },
  {
   "cell_type": "code",
   "execution_count": 6,
   "metadata": {
    "colab": {
     "base_uri": "https://localhost:8080/"
    },
    "id": "va_MLakjOJSF",
    "outputId": "08b29bc3-8465-4383-a238-aea4c8cdc875"
   },
   "outputs": [
    {
     "name": "stdout",
     "output_type": "stream",
     "text": [
      "  main\u001b[m\n",
      "* \u001b[32msetup\u001b[m\n"
     ]
    }
   ],
   "source": [
    "!git branch"
   ]
  },
  {
   "cell_type": "markdown",
   "metadata": {
    "id": "R5HOVxgS5WOP"
   },
   "source": [
    "**DATA SET**\n",
    "\n",
    "UCI Adult dataset (also known as the \"Census Income\" dataset). This dataset is widely used for binary classification tasks and contains demographic information (such as age, work class, education, marital status, etc.) with the goal of predicting whether an individual earns more than $50K per year.\n",
    "\n",
    "Size: Originally about 48,842 instances; after cleaning, around 45,000 instances.\n",
    "\n",
    "Features: 14 demographic/categorical features (after one-hot encoding) and standardized numerical features."
   ]
  },
  {
   "cell_type": "code",
   "execution_count": 7,
   "metadata": {
    "colab": {
     "base_uri": "https://localhost:8080/"
    },
    "id": "P3PDfjuq15N3",
    "outputId": "bc8b737b-706c-47b8-e197-fd2972826b3f"
   },
   "outputs": [
    {
     "name": "stdout",
     "output_type": "stream",
     "text": [
      "Number of training datapoints: 36177\n",
      "Number of testing datapoints: 9045\n"
     ]
    }
   ],
   "source": [
    "seed = 42\n",
    "np.random.seed(seed)\n",
    "torch.manual_seed(seed)\n",
    "\n",
    "# 1. Load and preprocess the UCI Adult dataset\n",
    "adult = fetch_openml(name='adult', version=2, as_frame=True)\n",
    "df = adult.frame\n",
    "\n",
    "# Drop rows with missing values and separate features and target.\n",
    "df = df.replace('?', np.nan).dropna()\n",
    "y = df['class'].apply(lambda x: 1 if x.strip() == '>50K' else 0).values\n",
    "X = df.drop(columns=['class'])\n",
    "\n",
    "# One-hot encode categorical variables.\n",
    "X = pd.get_dummies(X)\n",
    "\n",
    "# Standardize numerical features.\n",
    "scaler = StandardScaler()\n",
    "X[X.columns] = scaler.fit_transform(X[X.columns])\n",
    "\n",
    "# Convert to numpy arrays.\n",
    "X_np = X.values.astype(np.float32)\n",
    "y_np = y.astype(np.int64)\n",
    "\n",
    "# Split the dataset into training (80%) and testing (20%) for experimenting\n",
    "X_train, X_test, y_train, y_test = train_test_split(X_np, y_np, test_size=0.2, random_state=seed, stratify=y_np)\n",
    "\n",
    "# Split further to get validation set for hyperparameter tuning of baseline model\n",
    "X_train_search, X_val_search, y_train_search, y_val_search = train_test_split(\n",
    "    X_train, y_train, test_size=0.25, random_state=seed, stratify=y_train)\n",
    "\n",
    "# Create TensorDatasets and DataLoaders.\n",
    "train_dataset = TensorDataset(torch.from_numpy(X_train), torch.from_numpy(y_train))\n",
    "test_dataset = TensorDataset(torch.from_numpy(X_test), torch.from_numpy(y_test))\n",
    "\n",
    "#    The input dimension is determined by the number of features in the preprocessed data.\n",
    "input_dim = X_np.shape[1]\n",
    "num_classes = 2  # binary classification\n",
    "\n",
    "\n",
    "print('Number of training datapoints:', X_train.shape[0])\n",
    "print('Number of testing datapoints:', X_test.shape[0])"
   ]
  },
  {
   "cell_type": "markdown",
   "metadata": {
    "id": "IfRxPqxiElG2"
   },
   "source": [
    "Check distribution of data set"
   ]
  },
  {
   "cell_type": "code",
   "execution_count": 8,
   "metadata": {
    "colab": {
     "base_uri": "https://localhost:8080/"
    },
    "id": "DIMVP-XCEkbz",
    "outputId": "a5a62dbc-f65d-481b-cad3-ab4884d8c724"
   },
   "outputs": [
    {
     "name": "stdout",
     "output_type": "stream",
     "text": [
      "Class Distribution in the Entire Dataset:\n",
      "Class <=50K: 75.22%\n",
      "Class >50K: 24.78%\n",
      "\n",
      "Training Set Class Distribution:\n",
      "Class <=50K: 75.22%\n",
      "Class >50K: 24.78%\n",
      "\n",
      "Test Set Class Distribution:\n",
      "Class <=50K: 75.21%\n",
      "Class >50K: 24.79%\n"
     ]
    }
   ],
   "source": [
    "# Compute and print distribution for the entire dataset\n",
    "unique, counts = np.unique(y_np, return_counts=True)\n",
    "total = counts.sum()\n",
    "print(\"Class Distribution in the Entire Dataset:\")\n",
    "for label, count in zip(unique, counts):\n",
    "    percentage = (count / total) * 100\n",
    "    # Assuming label 0 corresponds to \"<=50K\" and label 1 corresponds to \">50K\"\n",
    "    label_str = '<=50K' if label == 0 else '>50K'\n",
    "    print(f\"Class {label_str}: {percentage:.2f}%\")\n",
    "\n",
    "# Compute and print distribution for the training set\n",
    "unique_train, counts_train = np.unique(y_train, return_counts=True)\n",
    "total_train = counts_train.sum()\n",
    "print(\"\\nTraining Set Class Distribution:\")\n",
    "for label, count in zip(unique_train, counts_train):\n",
    "    percentage = (count / total_train) * 100\n",
    "    label_str = '<=50K' if label == 0 else '>50K'\n",
    "    print(f\"Class {label_str}: {percentage:.2f}%\")\n",
    "\n",
    "# Compute and print distribution for the testing set\n",
    "unique_test, counts_test = np.unique(y_test, return_counts=True)\n",
    "total_test = counts_test.sum()\n",
    "print(\"\\nTest Set Class Distribution:\")\n",
    "for label, count in zip(unique_test, counts_test):\n",
    "    percentage = (count / total_test) * 100\n",
    "    label_str = '<=50K' if label == 0 else '>50K'\n",
    "    print(f\"Class {label_str}: {percentage:.2f}%\")\n"
   ]
  },
  {
   "cell_type": "markdown",
   "metadata": {
    "id": "IjS_-t_Dcdpy"
   },
   "source": [
    "# **Hyperparameter tuning for baseline**"
   ]
  },
  {
   "cell_type": "markdown",
   "metadata": {
    "id": "eH9I3Zu1c0Bk"
   },
   "source": [
    "Using Keras for this because its interface is easier for this"
   ]
  },
  {
   "cell_type": "code",
   "execution_count": 9,
   "metadata": {
    "colab": {
     "base_uri": "https://localhost:8080/"
    },
    "collapsed": true,
    "id": "VDQH0h38cj33",
    "outputId": "6fb0f57c-42a2-40ea-979e-9433fe8725dc"
   },
   "outputs": [
    {
     "name": "stdout",
     "output_type": "stream",
     "text": [
      "Collecting keras_core\n",
      "  Downloading keras_core-0.1.7-py3-none-any.whl.metadata (4.3 kB)\n",
      "Requirement already satisfied: absl-py in /usr/local/lib/python3.11/dist-packages (from keras_core) (1.4.0)\n",
      "Requirement already satisfied: numpy in /usr/local/lib/python3.11/dist-packages (from keras_core) (2.0.2)\n",
      "Requirement already satisfied: rich in /usr/local/lib/python3.11/dist-packages (from keras_core) (13.9.4)\n",
      "Requirement already satisfied: namex in /usr/local/lib/python3.11/dist-packages (from keras_core) (0.0.8)\n",
      "Requirement already satisfied: h5py in /usr/local/lib/python3.11/dist-packages (from keras_core) (3.13.0)\n",
      "Requirement already satisfied: dm-tree in /usr/local/lib/python3.11/dist-packages (from keras_core) (0.1.9)\n",
      "Requirement already satisfied: attrs>=18.2.0 in /usr/local/lib/python3.11/dist-packages (from dm-tree->keras_core) (25.3.0)\n",
      "Requirement already satisfied: wrapt>=1.11.2 in /usr/local/lib/python3.11/dist-packages (from dm-tree->keras_core) (1.17.2)\n",
      "Requirement already satisfied: markdown-it-py>=2.2.0 in /usr/local/lib/python3.11/dist-packages (from rich->keras_core) (3.0.0)\n",
      "Requirement already satisfied: pygments<3.0.0,>=2.13.0 in /usr/local/lib/python3.11/dist-packages (from rich->keras_core) (2.18.0)\n",
      "Requirement already satisfied: mdurl~=0.1 in /usr/local/lib/python3.11/dist-packages (from markdown-it-py>=2.2.0->rich->keras_core) (0.1.2)\n",
      "Downloading keras_core-0.1.7-py3-none-any.whl (950 kB)\n",
      "\u001b[2K   \u001b[90m━━━━━━━━━━━━━━━━━━━━━━━━━━━━━━━━━━━━━━━━\u001b[0m \u001b[32m950.8/950.8 kB\u001b[0m \u001b[31m10.7 MB/s\u001b[0m eta \u001b[36m0:00:00\u001b[0m\n",
      "\u001b[?25hInstalling collected packages: keras_core\n",
      "Successfully installed keras_core-0.1.7\n",
      "Collecting keras-tuner\n",
      "  Downloading keras_tuner-1.4.7-py3-none-any.whl.metadata (5.4 kB)\n",
      "Requirement already satisfied: keras in /usr/local/lib/python3.11/dist-packages (from keras-tuner) (3.8.0)\n",
      "Requirement already satisfied: packaging in /usr/local/lib/python3.11/dist-packages (from keras-tuner) (24.2)\n",
      "Requirement already satisfied: requests in /usr/local/lib/python3.11/dist-packages (from keras-tuner) (2.32.3)\n",
      "Collecting kt-legacy (from keras-tuner)\n",
      "  Downloading kt_legacy-1.0.5-py3-none-any.whl.metadata (221 bytes)\n",
      "Requirement already satisfied: absl-py in /usr/local/lib/python3.11/dist-packages (from keras->keras-tuner) (1.4.0)\n",
      "Requirement already satisfied: numpy in /usr/local/lib/python3.11/dist-packages (from keras->keras-tuner) (2.0.2)\n",
      "Requirement already satisfied: rich in /usr/local/lib/python3.11/dist-packages (from keras->keras-tuner) (13.9.4)\n",
      "Requirement already satisfied: namex in /usr/local/lib/python3.11/dist-packages (from keras->keras-tuner) (0.0.8)\n",
      "Requirement already satisfied: h5py in /usr/local/lib/python3.11/dist-packages (from keras->keras-tuner) (3.13.0)\n",
      "Requirement already satisfied: optree in /usr/local/lib/python3.11/dist-packages (from keras->keras-tuner) (0.14.1)\n",
      "Requirement already satisfied: ml-dtypes in /usr/local/lib/python3.11/dist-packages (from keras->keras-tuner) (0.4.1)\n",
      "Requirement already satisfied: charset-normalizer<4,>=2 in /usr/local/lib/python3.11/dist-packages (from requests->keras-tuner) (3.4.1)\n",
      "Requirement already satisfied: idna<4,>=2.5 in /usr/local/lib/python3.11/dist-packages (from requests->keras-tuner) (3.10)\n",
      "Requirement already satisfied: urllib3<3,>=1.21.1 in /usr/local/lib/python3.11/dist-packages (from requests->keras-tuner) (2.3.0)\n",
      "Requirement already satisfied: certifi>=2017.4.17 in /usr/local/lib/python3.11/dist-packages (from requests->keras-tuner) (2025.1.31)\n",
      "Requirement already satisfied: typing-extensions>=4.5.0 in /usr/local/lib/python3.11/dist-packages (from optree->keras->keras-tuner) (4.13.0)\n",
      "Requirement already satisfied: markdown-it-py>=2.2.0 in /usr/local/lib/python3.11/dist-packages (from rich->keras->keras-tuner) (3.0.0)\n",
      "Requirement already satisfied: pygments<3.0.0,>=2.13.0 in /usr/local/lib/python3.11/dist-packages (from rich->keras->keras-tuner) (2.18.0)\n",
      "Requirement already satisfied: mdurl~=0.1 in /usr/local/lib/python3.11/dist-packages (from markdown-it-py>=2.2.0->rich->keras->keras-tuner) (0.1.2)\n",
      "Downloading keras_tuner-1.4.7-py3-none-any.whl (129 kB)\n",
      "\u001b[2K   \u001b[90m━━━━━━━━━━━━━━━━━━━━━━━━━━━━━━━━━━━━━━━━\u001b[0m \u001b[32m129.1/129.1 kB\u001b[0m \u001b[31m3.1 MB/s\u001b[0m eta \u001b[36m0:00:00\u001b[0m\n",
      "\u001b[?25hDownloading kt_legacy-1.0.5-py3-none-any.whl (9.6 kB)\n",
      "Installing collected packages: kt-legacy, keras-tuner\n",
      "Successfully installed keras-tuner-1.4.7 kt-legacy-1.0.5\n"
     ]
    }
   ],
   "source": [
    "!pip install keras_core\n",
    "!pip install keras-tuner --upgrade"
   ]
  },
  {
   "cell_type": "code",
   "execution_count": 10,
   "metadata": {
    "colab": {
     "base_uri": "https://localhost:8080/"
    },
    "id": "U4J5x1MScurO",
    "outputId": "831cccb5-85b6-4b4a-c4a4-cf137f38c417"
   },
   "outputs": [
    {
     "name": "stdout",
     "output_type": "stream",
     "text": [
      "Using PyTorch backend.\n"
     ]
    }
   ],
   "source": [
    "import os\n",
    "os.environ[\"KERAS_BACKEND\"] = \"torch\"\n",
    "import keras_core as keras\n",
    "#########################################\n",
    "import tensorflow as tf\n",
    "#from tensorflow.keras.optimizers import Adadelta\n",
    "import keras\n",
    "#from tensorflow.keras import layers\n",
    "#from tensorflow.keras.optimizers import Adam\n",
    "import keras_tuner as kt\n",
    "from tensorflow.keras.callbacks import EarlyStopping\n",
    "from tensorflow.keras.callbacks import Callback\n",
    "from tensorflow.keras import regularizers\n",
    "#import tensorflow as tf\n",
    "#from tensorflow import keras\n",
    "#from tensorflow.keras import layers\n",
    "from tensorflow.keras.models import clone_model\n",
    "from tensorflow.keras.models import load_model"
   ]
  },
  {
   "cell_type": "code",
   "execution_count": 11,
   "metadata": {
    "colab": {
     "base_uri": "https://localhost:8080/"
    },
    "id": "xIu0m7mHdBiZ",
    "outputId": "50b26ba0-c026-447a-acb1-8a4f1ea32479"
   },
   "outputs": [
    {
     "name": "stdout",
     "output_type": "stream",
     "text": [
      "Reloading Tuner from /content/optML_mini_project/Hyperparam Search Baseline Model/tuner0.json\n"
     ]
    }
   ],
   "source": [
    "# Define the model as a function for Keras Tuner\n",
    "def build_model(hp):\n",
    "    net = keras.Sequential()\n",
    "\n",
    "    # Input layer\n",
    "    net.add(keras.layers.Input(shape=(X_train_search.shape[1],)))\n",
    "\n",
    "    # Define the activation function to be used for all layers\n",
    "    activation_function = hp.Choice('activation_function', ['relu', 'tanh', 'sigmoid'])\n",
    "\n",
    "    # No regularization in base line\n",
    "    #regularization = hp.Float('regularization', min_value=0.0, max_value=0.1, step=0.005)\n",
    "\n",
    "    # Tune the number of hidden layers\n",
    "    for i in range(hp.Int('hidden_layers', 2, 5)):\n",
    "        # Tune the number of units per layer\n",
    "        units = hp.Int(f'units_in_layer{i}', min_value=18, max_value=128, step=10)\n",
    "        net.add(keras.layers.Dense(units=units, activation= activation_function, kernel_regularizer=regularizers.l2(0)))\n",
    "\n",
    "    # Output layer\n",
    "    net.add(keras.layers.Dense(units=1, activation= activation_function))\n",
    "\n",
    "    net.compile(\n",
    "        optimizer=keras.optimizers.SGD(learning_rate=hp.Float('learning_rate', 1e-3, 1e-1, sampling='log')),\n",
    "        loss='binary_crossentropy',\n",
    "        metrics=['accuracy']\n",
    "        )\n",
    "    return net\n",
    "\n",
    "# Define the tuner\n",
    "tuner = kt.RandomSearch(\n",
    "    build_model,\n",
    "    objective='val_accuracy',  # Optimize for validation accuracy\n",
    "    max_trials=100,         # Number of hyperparameter combinations to try\n",
    "    executions_per_trial=1, # Number of times to train each configuration\n",
    "    directory='/content/optML_mini_project',\n",
    "    project_name='Hyperparam Search Baseline Model'\n",
    ")\n",
    "\n",
    "# Define the EarlyStopping callback\n",
    "early_stopping = EarlyStopping(\n",
    "    monitor = 'val_accuracy',        # Monitor validation accuracy\n",
    "    patience = 5,               # Number of epochs with no improvement before stopping\n",
    "    restore_best_weights=True # Restore model weights from the epoch with the best validation loss and use that as final model\n",
    ")\n"
   ]
  },
  {
   "cell_type": "markdown",
   "metadata": {
    "id": "9eDQM23aeb1M"
   },
   "source": [
    "**Only run this cell if want training/search again => THIS CAN TAKE A LONG TIME**"
   ]
  },
  {
   "cell_type": "code",
   "execution_count": null,
   "metadata": {
    "colab": {
     "base_uri": "https://localhost:8080/",
     "height": 773
    },
    "id": "njofmYuteVKv",
    "outputId": "3e534a57-48c2-4f6e-cec0-ece16eab3f44"
   },
   "outputs": [
    {
     "name": "stdout",
     "output_type": "stream",
     "text": [
      "Trial 78 Complete [00h 02m 38s]\n",
      "val_accuracy: 0.8470425605773926\n",
      "\n",
      "Best val_accuracy So Far: 0.8487562239170074\n",
      "Total elapsed time: 02h 41m 52s\n",
      "\n",
      "Search: Running Trial #79\n",
      "\n",
      "Value             |Best Value So Far |Hyperparameter\n",
      "relu              |sigmoid           |activation_function\n",
      "2                 |4                 |hidden_layers\n",
      "18                |58                |units_in_layer0\n",
      "28                |108               |units_in_layer1\n",
      "0.018761          |0.082237          |learning_rate\n",
      "58                |48                |units_in_layer2\n",
      "118               |98                |units_in_layer3\n",
      "48                |None              |units_in_layer4\n",
      "\n",
      "Epoch 1/75\n",
      "\u001b[1m424/424\u001b[0m \u001b[32m━━━━━━━━━━━━━━━━━━━━\u001b[0m\u001b[37m\u001b[0m \u001b[1m3s\u001b[0m 7ms/step - accuracy: 0.4061 - loss: 8.6493 - val_accuracy: 0.2479 - val_loss: 11.9907\n",
      "Epoch 2/75\n",
      "\u001b[1m424/424\u001b[0m \u001b[32m━━━━━━━━━━━━━━━━━━━━\u001b[0m\u001b[37m\u001b[0m \u001b[1m3s\u001b[0m 6ms/step - accuracy: 0.2496 - loss: 11.9625 - val_accuracy: 0.2479 - val_loss: 11.9907\n",
      "Epoch 3/75\n",
      "\u001b[1m401/424\u001b[0m \u001b[32m━━━━━━━━━━━━━━━━━━\u001b[0m\u001b[37m━━\u001b[0m \u001b[1m0s\u001b[0m 4ms/step - accuracy: 0.2414 - loss: 12.0932"
     ]
    },
    {
     "ename": "KeyboardInterrupt",
     "evalue": "",
     "output_type": "error",
     "traceback": [
      "\u001b[0;31m---------------------------------------------------------------------------\u001b[0m",
      "\u001b[0;31mKeyboardInterrupt\u001b[0m                         Traceback (most recent call last)",
      "\u001b[0;32m<ipython-input-53-6a9b5cd6f5bf>\u001b[0m in \u001b[0;36m<cell line: 0>\u001b[0;34m()\u001b[0m\n\u001b[1;32m      2\u001b[0m \u001b[0;31m# Run tuner search with custom loss history and early stopping\u001b[0m\u001b[0;34m\u001b[0m\u001b[0;34m\u001b[0m\u001b[0m\n\u001b[1;32m      3\u001b[0m \u001b[0;32mfor\u001b[0m \u001b[0mtrial_id\u001b[0m \u001b[0;32min\u001b[0m \u001b[0mrange\u001b[0m\u001b[0;34m(\u001b[0m\u001b[0mtuner\u001b[0m\u001b[0;34m.\u001b[0m\u001b[0moracle\u001b[0m\u001b[0;34m.\u001b[0m\u001b[0mmax_trials\u001b[0m\u001b[0;34m)\u001b[0m\u001b[0;34m:\u001b[0m\u001b[0;34m\u001b[0m\u001b[0;34m\u001b[0m\u001b[0m\n\u001b[0;32m----> 4\u001b[0;31m     tuner.search(\n\u001b[0m\u001b[1;32m      5\u001b[0m         \u001b[0mX_train_search\u001b[0m\u001b[0;34m,\u001b[0m \u001b[0my_train_search\u001b[0m\u001b[0;34m,\u001b[0m\u001b[0;34m\u001b[0m\u001b[0;34m\u001b[0m\u001b[0m\n\u001b[1;32m      6\u001b[0m         \u001b[0mvalidation_data\u001b[0m\u001b[0;34m=\u001b[0m\u001b[0;34m(\u001b[0m\u001b[0mX_val_search\u001b[0m\u001b[0;34m,\u001b[0m \u001b[0my_val_search\u001b[0m\u001b[0;34m)\u001b[0m\u001b[0;34m,\u001b[0m    \u001b[0;31m#Fixed validation set\u001b[0m\u001b[0;34m\u001b[0m\u001b[0;34m\u001b[0m\u001b[0m\n",
      "\u001b[0;32m/usr/local/lib/python3.11/dist-packages/keras_tuner/src/engine/base_tuner.py\u001b[0m in \u001b[0;36msearch\u001b[0;34m(self, *fit_args, **fit_kwargs)\u001b[0m\n\u001b[1;32m    232\u001b[0m \u001b[0;34m\u001b[0m\u001b[0m\n\u001b[1;32m    233\u001b[0m             \u001b[0mself\u001b[0m\u001b[0;34m.\u001b[0m\u001b[0mon_trial_begin\u001b[0m\u001b[0;34m(\u001b[0m\u001b[0mtrial\u001b[0m\u001b[0;34m)\u001b[0m\u001b[0;34m\u001b[0m\u001b[0;34m\u001b[0m\u001b[0m\n\u001b[0;32m--> 234\u001b[0;31m             \u001b[0mself\u001b[0m\u001b[0;34m.\u001b[0m\u001b[0m_try_run_and_update_trial\u001b[0m\u001b[0;34m(\u001b[0m\u001b[0mtrial\u001b[0m\u001b[0;34m,\u001b[0m \u001b[0;34m*\u001b[0m\u001b[0mfit_args\u001b[0m\u001b[0;34m,\u001b[0m \u001b[0;34m**\u001b[0m\u001b[0mfit_kwargs\u001b[0m\u001b[0;34m)\u001b[0m\u001b[0;34m\u001b[0m\u001b[0;34m\u001b[0m\u001b[0m\n\u001b[0m\u001b[1;32m    235\u001b[0m             \u001b[0mself\u001b[0m\u001b[0;34m.\u001b[0m\u001b[0mon_trial_end\u001b[0m\u001b[0;34m(\u001b[0m\u001b[0mtrial\u001b[0m\u001b[0;34m)\u001b[0m\u001b[0;34m\u001b[0m\u001b[0;34m\u001b[0m\u001b[0m\n\u001b[1;32m    236\u001b[0m         \u001b[0mself\u001b[0m\u001b[0;34m.\u001b[0m\u001b[0mon_search_end\u001b[0m\u001b[0;34m(\u001b[0m\u001b[0;34m)\u001b[0m\u001b[0;34m\u001b[0m\u001b[0;34m\u001b[0m\u001b[0m\n",
      "\u001b[0;32m/usr/local/lib/python3.11/dist-packages/keras_tuner/src/engine/base_tuner.py\u001b[0m in \u001b[0;36m_try_run_and_update_trial\u001b[0;34m(self, trial, *fit_args, **fit_kwargs)\u001b[0m\n\u001b[1;32m    272\u001b[0m     \u001b[0;32mdef\u001b[0m \u001b[0m_try_run_and_update_trial\u001b[0m\u001b[0;34m(\u001b[0m\u001b[0mself\u001b[0m\u001b[0;34m,\u001b[0m \u001b[0mtrial\u001b[0m\u001b[0;34m,\u001b[0m \u001b[0;34m*\u001b[0m\u001b[0mfit_args\u001b[0m\u001b[0;34m,\u001b[0m \u001b[0;34m**\u001b[0m\u001b[0mfit_kwargs\u001b[0m\u001b[0;34m)\u001b[0m\u001b[0;34m:\u001b[0m\u001b[0;34m\u001b[0m\u001b[0;34m\u001b[0m\u001b[0m\n\u001b[1;32m    273\u001b[0m         \u001b[0;32mtry\u001b[0m\u001b[0;34m:\u001b[0m\u001b[0;34m\u001b[0m\u001b[0;34m\u001b[0m\u001b[0m\n\u001b[0;32m--> 274\u001b[0;31m             \u001b[0mself\u001b[0m\u001b[0;34m.\u001b[0m\u001b[0m_run_and_update_trial\u001b[0m\u001b[0;34m(\u001b[0m\u001b[0mtrial\u001b[0m\u001b[0;34m,\u001b[0m \u001b[0;34m*\u001b[0m\u001b[0mfit_args\u001b[0m\u001b[0;34m,\u001b[0m \u001b[0;34m**\u001b[0m\u001b[0mfit_kwargs\u001b[0m\u001b[0;34m)\u001b[0m\u001b[0;34m\u001b[0m\u001b[0;34m\u001b[0m\u001b[0m\n\u001b[0m\u001b[1;32m    275\u001b[0m             \u001b[0mtrial\u001b[0m\u001b[0;34m.\u001b[0m\u001b[0mstatus\u001b[0m \u001b[0;34m=\u001b[0m \u001b[0mtrial_module\u001b[0m\u001b[0;34m.\u001b[0m\u001b[0mTrialStatus\u001b[0m\u001b[0;34m.\u001b[0m\u001b[0mCOMPLETED\u001b[0m\u001b[0;34m\u001b[0m\u001b[0;34m\u001b[0m\u001b[0m\n\u001b[1;32m    276\u001b[0m             \u001b[0;32mreturn\u001b[0m\u001b[0;34m\u001b[0m\u001b[0;34m\u001b[0m\u001b[0m\n",
      "\u001b[0;32m/usr/local/lib/python3.11/dist-packages/keras_tuner/src/engine/base_tuner.py\u001b[0m in \u001b[0;36m_run_and_update_trial\u001b[0;34m(self, trial, *fit_args, **fit_kwargs)\u001b[0m\n\u001b[1;32m    237\u001b[0m \u001b[0;34m\u001b[0m\u001b[0m\n\u001b[1;32m    238\u001b[0m     \u001b[0;32mdef\u001b[0m \u001b[0m_run_and_update_trial\u001b[0m\u001b[0;34m(\u001b[0m\u001b[0mself\u001b[0m\u001b[0;34m,\u001b[0m \u001b[0mtrial\u001b[0m\u001b[0;34m,\u001b[0m \u001b[0;34m*\u001b[0m\u001b[0mfit_args\u001b[0m\u001b[0;34m,\u001b[0m \u001b[0;34m**\u001b[0m\u001b[0mfit_kwargs\u001b[0m\u001b[0;34m)\u001b[0m\u001b[0;34m:\u001b[0m\u001b[0;34m\u001b[0m\u001b[0;34m\u001b[0m\u001b[0m\n\u001b[0;32m--> 239\u001b[0;31m         \u001b[0mresults\u001b[0m \u001b[0;34m=\u001b[0m \u001b[0mself\u001b[0m\u001b[0;34m.\u001b[0m\u001b[0mrun_trial\u001b[0m\u001b[0;34m(\u001b[0m\u001b[0mtrial\u001b[0m\u001b[0;34m,\u001b[0m \u001b[0;34m*\u001b[0m\u001b[0mfit_args\u001b[0m\u001b[0;34m,\u001b[0m \u001b[0;34m**\u001b[0m\u001b[0mfit_kwargs\u001b[0m\u001b[0;34m)\u001b[0m\u001b[0;34m\u001b[0m\u001b[0;34m\u001b[0m\u001b[0m\n\u001b[0m\u001b[1;32m    240\u001b[0m         if self.oracle.get_trial(trial.trial_id).metrics.exists(\n\u001b[1;32m    241\u001b[0m             \u001b[0mself\u001b[0m\u001b[0;34m.\u001b[0m\u001b[0moracle\u001b[0m\u001b[0;34m.\u001b[0m\u001b[0mobjective\u001b[0m\u001b[0;34m.\u001b[0m\u001b[0mname\u001b[0m\u001b[0;34m\u001b[0m\u001b[0;34m\u001b[0m\u001b[0m\n",
      "\u001b[0;32m/usr/local/lib/python3.11/dist-packages/keras_tuner/src/engine/tuner.py\u001b[0m in \u001b[0;36mrun_trial\u001b[0;34m(self, trial, *args, **kwargs)\u001b[0m\n\u001b[1;32m    312\u001b[0m             \u001b[0mcallbacks\u001b[0m\u001b[0;34m.\u001b[0m\u001b[0mappend\u001b[0m\u001b[0;34m(\u001b[0m\u001b[0mmodel_checkpoint\u001b[0m\u001b[0;34m)\u001b[0m\u001b[0;34m\u001b[0m\u001b[0;34m\u001b[0m\u001b[0m\n\u001b[1;32m    313\u001b[0m             \u001b[0mcopied_kwargs\u001b[0m\u001b[0;34m[\u001b[0m\u001b[0;34m\"callbacks\"\u001b[0m\u001b[0;34m]\u001b[0m \u001b[0;34m=\u001b[0m \u001b[0mcallbacks\u001b[0m\u001b[0;34m\u001b[0m\u001b[0;34m\u001b[0m\u001b[0m\n\u001b[0;32m--> 314\u001b[0;31m             \u001b[0mobj_value\u001b[0m \u001b[0;34m=\u001b[0m \u001b[0mself\u001b[0m\u001b[0;34m.\u001b[0m\u001b[0m_build_and_fit_model\u001b[0m\u001b[0;34m(\u001b[0m\u001b[0mtrial\u001b[0m\u001b[0;34m,\u001b[0m \u001b[0;34m*\u001b[0m\u001b[0margs\u001b[0m\u001b[0;34m,\u001b[0m \u001b[0;34m**\u001b[0m\u001b[0mcopied_kwargs\u001b[0m\u001b[0;34m)\u001b[0m\u001b[0;34m\u001b[0m\u001b[0;34m\u001b[0m\u001b[0m\n\u001b[0m\u001b[1;32m    315\u001b[0m \u001b[0;34m\u001b[0m\u001b[0m\n\u001b[1;32m    316\u001b[0m             \u001b[0mhistories\u001b[0m\u001b[0;34m.\u001b[0m\u001b[0mappend\u001b[0m\u001b[0;34m(\u001b[0m\u001b[0mobj_value\u001b[0m\u001b[0;34m)\u001b[0m\u001b[0;34m\u001b[0m\u001b[0;34m\u001b[0m\u001b[0m\n",
      "\u001b[0;32m/usr/local/lib/python3.11/dist-packages/keras_tuner/src/engine/tuner.py\u001b[0m in \u001b[0;36m_build_and_fit_model\u001b[0;34m(self, trial, *args, **kwargs)\u001b[0m\n\u001b[1;32m    231\u001b[0m         \u001b[0mhp\u001b[0m \u001b[0;34m=\u001b[0m \u001b[0mtrial\u001b[0m\u001b[0;34m.\u001b[0m\u001b[0mhyperparameters\u001b[0m\u001b[0;34m\u001b[0m\u001b[0;34m\u001b[0m\u001b[0m\n\u001b[1;32m    232\u001b[0m         \u001b[0mmodel\u001b[0m \u001b[0;34m=\u001b[0m \u001b[0mself\u001b[0m\u001b[0;34m.\u001b[0m\u001b[0m_try_build\u001b[0m\u001b[0;34m(\u001b[0m\u001b[0mhp\u001b[0m\u001b[0;34m)\u001b[0m\u001b[0;34m\u001b[0m\u001b[0;34m\u001b[0m\u001b[0m\n\u001b[0;32m--> 233\u001b[0;31m         \u001b[0mresults\u001b[0m \u001b[0;34m=\u001b[0m \u001b[0mself\u001b[0m\u001b[0;34m.\u001b[0m\u001b[0mhypermodel\u001b[0m\u001b[0;34m.\u001b[0m\u001b[0mfit\u001b[0m\u001b[0;34m(\u001b[0m\u001b[0mhp\u001b[0m\u001b[0;34m,\u001b[0m \u001b[0mmodel\u001b[0m\u001b[0;34m,\u001b[0m \u001b[0;34m*\u001b[0m\u001b[0margs\u001b[0m\u001b[0;34m,\u001b[0m \u001b[0;34m**\u001b[0m\u001b[0mkwargs\u001b[0m\u001b[0;34m)\u001b[0m\u001b[0;34m\u001b[0m\u001b[0;34m\u001b[0m\u001b[0m\n\u001b[0m\u001b[1;32m    234\u001b[0m \u001b[0;34m\u001b[0m\u001b[0m\n\u001b[1;32m    235\u001b[0m         \u001b[0;31m# Save the build config for model loading later.\u001b[0m\u001b[0;34m\u001b[0m\u001b[0;34m\u001b[0m\u001b[0m\n",
      "\u001b[0;32m/usr/local/lib/python3.11/dist-packages/keras_tuner/src/engine/hypermodel.py\u001b[0m in \u001b[0;36mfit\u001b[0;34m(self, hp, model, *args, **kwargs)\u001b[0m\n\u001b[1;32m    147\u001b[0m             \u001b[0mIf\u001b[0m \u001b[0;32mreturn\u001b[0m \u001b[0ma\u001b[0m \u001b[0mfloat\u001b[0m\u001b[0;34m,\u001b[0m \u001b[0mit\u001b[0m \u001b[0mshould\u001b[0m \u001b[0mbe\u001b[0m \u001b[0mthe\u001b[0m\u001b[0;31m \u001b[0m\u001b[0;31m`\u001b[0m\u001b[0mobjective\u001b[0m\u001b[0;31m`\u001b[0m \u001b[0mvalue\u001b[0m\u001b[0;34m.\u001b[0m\u001b[0;34m\u001b[0m\u001b[0;34m\u001b[0m\u001b[0m\n\u001b[1;32m    148\u001b[0m         \"\"\"\n\u001b[0;32m--> 149\u001b[0;31m         \u001b[0;32mreturn\u001b[0m \u001b[0mmodel\u001b[0m\u001b[0;34m.\u001b[0m\u001b[0mfit\u001b[0m\u001b[0;34m(\u001b[0m\u001b[0;34m*\u001b[0m\u001b[0margs\u001b[0m\u001b[0;34m,\u001b[0m \u001b[0;34m**\u001b[0m\u001b[0mkwargs\u001b[0m\u001b[0;34m)\u001b[0m\u001b[0;34m\u001b[0m\u001b[0;34m\u001b[0m\u001b[0m\n\u001b[0m\u001b[1;32m    150\u001b[0m \u001b[0;34m\u001b[0m\u001b[0m\n\u001b[1;32m    151\u001b[0m \u001b[0;34m\u001b[0m\u001b[0m\n",
      "\u001b[0;32m/usr/local/lib/python3.11/dist-packages/keras/src/utils/traceback_utils.py\u001b[0m in \u001b[0;36merror_handler\u001b[0;34m(*args, **kwargs)\u001b[0m\n\u001b[1;32m    115\u001b[0m         \u001b[0mfiltered_tb\u001b[0m \u001b[0;34m=\u001b[0m \u001b[0;32mNone\u001b[0m\u001b[0;34m\u001b[0m\u001b[0;34m\u001b[0m\u001b[0m\n\u001b[1;32m    116\u001b[0m         \u001b[0;32mtry\u001b[0m\u001b[0;34m:\u001b[0m\u001b[0;34m\u001b[0m\u001b[0;34m\u001b[0m\u001b[0m\n\u001b[0;32m--> 117\u001b[0;31m             \u001b[0;32mreturn\u001b[0m \u001b[0mfn\u001b[0m\u001b[0;34m(\u001b[0m\u001b[0;34m*\u001b[0m\u001b[0margs\u001b[0m\u001b[0;34m,\u001b[0m \u001b[0;34m**\u001b[0m\u001b[0mkwargs\u001b[0m\u001b[0;34m)\u001b[0m\u001b[0;34m\u001b[0m\u001b[0;34m\u001b[0m\u001b[0m\n\u001b[0m\u001b[1;32m    118\u001b[0m         \u001b[0;32mexcept\u001b[0m \u001b[0mException\u001b[0m \u001b[0;32mas\u001b[0m \u001b[0me\u001b[0m\u001b[0;34m:\u001b[0m\u001b[0;34m\u001b[0m\u001b[0;34m\u001b[0m\u001b[0m\n\u001b[1;32m    119\u001b[0m             \u001b[0mfiltered_tb\u001b[0m \u001b[0;34m=\u001b[0m \u001b[0m_process_traceback_frames\u001b[0m\u001b[0;34m(\u001b[0m\u001b[0me\u001b[0m\u001b[0;34m.\u001b[0m\u001b[0m__traceback__\u001b[0m\u001b[0;34m)\u001b[0m\u001b[0;34m\u001b[0m\u001b[0;34m\u001b[0m\u001b[0m\n",
      "\u001b[0;32m/usr/local/lib/python3.11/dist-packages/keras/src/backend/torch/trainer.py\u001b[0m in \u001b[0;36mfit\u001b[0;34m(self, x, y, batch_size, epochs, verbose, callbacks, validation_split, validation_data, shuffle, class_weight, sample_weight, initial_epoch, steps_per_epoch, validation_steps, validation_batch_size, validation_freq)\u001b[0m\n\u001b[1;32m    255\u001b[0m                 \u001b[0mcallbacks\u001b[0m\u001b[0;34m.\u001b[0m\u001b[0mon_train_batch_begin\u001b[0m\u001b[0;34m(\u001b[0m\u001b[0mstep\u001b[0m\u001b[0;34m)\u001b[0m\u001b[0;34m\u001b[0m\u001b[0;34m\u001b[0m\u001b[0m\n\u001b[1;32m    256\u001b[0m \u001b[0;34m\u001b[0m\u001b[0m\n\u001b[0;32m--> 257\u001b[0;31m                 \u001b[0mlogs\u001b[0m \u001b[0;34m=\u001b[0m \u001b[0mself\u001b[0m\u001b[0;34m.\u001b[0m\u001b[0mtrain_function\u001b[0m\u001b[0;34m(\u001b[0m\u001b[0mdata\u001b[0m\u001b[0;34m)\u001b[0m\u001b[0;34m\u001b[0m\u001b[0;34m\u001b[0m\u001b[0m\n\u001b[0m\u001b[1;32m    258\u001b[0m \u001b[0;34m\u001b[0m\u001b[0m\n\u001b[1;32m    259\u001b[0m                 \u001b[0;31m# Callbacks\u001b[0m\u001b[0;34m\u001b[0m\u001b[0;34m\u001b[0m\u001b[0m\n",
      "\u001b[0;32m/usr/local/lib/python3.11/dist-packages/keras/src/backend/torch/trainer.py\u001b[0m in \u001b[0;36mone_step_on_data\u001b[0;34m(data)\u001b[0m\n\u001b[1;32m    115\u001b[0m             \u001b[0;34m\"\"\"Runs a single training step on a batch of data.\"\"\"\u001b[0m\u001b[0;34m\u001b[0m\u001b[0;34m\u001b[0m\u001b[0m\n\u001b[1;32m    116\u001b[0m             \u001b[0mdata\u001b[0m \u001b[0;34m=\u001b[0m \u001b[0mdata\u001b[0m\u001b[0;34m[\u001b[0m\u001b[0;36m0\u001b[0m\u001b[0;34m]\u001b[0m\u001b[0;34m\u001b[0m\u001b[0;34m\u001b[0m\u001b[0m\n\u001b[0;32m--> 117\u001b[0;31m             \u001b[0;32mreturn\u001b[0m \u001b[0mself\u001b[0m\u001b[0;34m.\u001b[0m\u001b[0mtrain_step\u001b[0m\u001b[0;34m(\u001b[0m\u001b[0mdata\u001b[0m\u001b[0;34m)\u001b[0m\u001b[0;34m\u001b[0m\u001b[0;34m\u001b[0m\u001b[0m\n\u001b[0m\u001b[1;32m    118\u001b[0m \u001b[0;34m\u001b[0m\u001b[0m\n\u001b[1;32m    119\u001b[0m         \u001b[0;32mif\u001b[0m \u001b[0mself\u001b[0m\u001b[0;34m.\u001b[0m\u001b[0m_should_torch_compile\u001b[0m\u001b[0;34m(\u001b[0m\u001b[0;34m)\u001b[0m\u001b[0;34m:\u001b[0m\u001b[0;34m\u001b[0m\u001b[0;34m\u001b[0m\u001b[0m\n",
      "\u001b[0;32m/usr/local/lib/python3.11/dist-packages/keras/src/backend/torch/trainer.py\u001b[0m in \u001b[0;36mtrain_step\u001b[0;34m(self, data)\u001b[0m\n\u001b[1;32m     42\u001b[0m         \u001b[0;31m# Compute predictions\u001b[0m\u001b[0;34m\u001b[0m\u001b[0;34m\u001b[0m\u001b[0m\n\u001b[1;32m     43\u001b[0m         \u001b[0;32mif\u001b[0m \u001b[0mself\u001b[0m\u001b[0;34m.\u001b[0m\u001b[0m_call_has_training_arg\u001b[0m\u001b[0;34m:\u001b[0m\u001b[0;34m\u001b[0m\u001b[0;34m\u001b[0m\u001b[0m\n\u001b[0;32m---> 44\u001b[0;31m             \u001b[0my_pred\u001b[0m \u001b[0;34m=\u001b[0m \u001b[0mself\u001b[0m\u001b[0;34m(\u001b[0m\u001b[0mx\u001b[0m\u001b[0;34m,\u001b[0m \u001b[0mtraining\u001b[0m\u001b[0;34m=\u001b[0m\u001b[0;32mTrue\u001b[0m\u001b[0;34m)\u001b[0m\u001b[0;34m\u001b[0m\u001b[0;34m\u001b[0m\u001b[0m\n\u001b[0m\u001b[1;32m     45\u001b[0m         \u001b[0;32melse\u001b[0m\u001b[0;34m:\u001b[0m\u001b[0;34m\u001b[0m\u001b[0;34m\u001b[0m\u001b[0m\n\u001b[1;32m     46\u001b[0m             \u001b[0my_pred\u001b[0m \u001b[0;34m=\u001b[0m \u001b[0mself\u001b[0m\u001b[0;34m(\u001b[0m\u001b[0mx\u001b[0m\u001b[0;34m)\u001b[0m\u001b[0;34m\u001b[0m\u001b[0;34m\u001b[0m\u001b[0m\n",
      "\u001b[0;32m/usr/local/lib/python3.11/dist-packages/keras/src/utils/traceback_utils.py\u001b[0m in \u001b[0;36merror_handler\u001b[0;34m(*args, **kwargs)\u001b[0m\n\u001b[1;32m    115\u001b[0m         \u001b[0mfiltered_tb\u001b[0m \u001b[0;34m=\u001b[0m \u001b[0;32mNone\u001b[0m\u001b[0;34m\u001b[0m\u001b[0;34m\u001b[0m\u001b[0m\n\u001b[1;32m    116\u001b[0m         \u001b[0;32mtry\u001b[0m\u001b[0;34m:\u001b[0m\u001b[0;34m\u001b[0m\u001b[0;34m\u001b[0m\u001b[0m\n\u001b[0;32m--> 117\u001b[0;31m             \u001b[0;32mreturn\u001b[0m \u001b[0mfn\u001b[0m\u001b[0;34m(\u001b[0m\u001b[0;34m*\u001b[0m\u001b[0margs\u001b[0m\u001b[0;34m,\u001b[0m \u001b[0;34m**\u001b[0m\u001b[0mkwargs\u001b[0m\u001b[0;34m)\u001b[0m\u001b[0;34m\u001b[0m\u001b[0;34m\u001b[0m\u001b[0m\n\u001b[0m\u001b[1;32m    118\u001b[0m         \u001b[0;32mexcept\u001b[0m \u001b[0mException\u001b[0m \u001b[0;32mas\u001b[0m \u001b[0me\u001b[0m\u001b[0;34m:\u001b[0m\u001b[0;34m\u001b[0m\u001b[0;34m\u001b[0m\u001b[0m\n\u001b[1;32m    119\u001b[0m             \u001b[0mfiltered_tb\u001b[0m \u001b[0;34m=\u001b[0m \u001b[0m_process_traceback_frames\u001b[0m\u001b[0;34m(\u001b[0m\u001b[0me\u001b[0m\u001b[0;34m.\u001b[0m\u001b[0m__traceback__\u001b[0m\u001b[0;34m)\u001b[0m\u001b[0;34m\u001b[0m\u001b[0;34m\u001b[0m\u001b[0m\n",
      "\u001b[0;32m/usr/local/lib/python3.11/dist-packages/keras/src/layers/layer.py\u001b[0m in \u001b[0;36m__call__\u001b[0;34m(self, *args, **kwargs)\u001b[0m\n\u001b[1;32m    906\u001b[0m                         \u001b[0moutputs\u001b[0m \u001b[0;34m=\u001b[0m \u001b[0msuper\u001b[0m\u001b[0;34m(\u001b[0m\u001b[0;34m)\u001b[0m\u001b[0;34m.\u001b[0m\u001b[0m__call__\u001b[0m\u001b[0;34m(\u001b[0m\u001b[0;34m*\u001b[0m\u001b[0margs\u001b[0m\u001b[0;34m,\u001b[0m \u001b[0;34m**\u001b[0m\u001b[0mkwargs\u001b[0m\u001b[0;34m)\u001b[0m\u001b[0;34m\u001b[0m\u001b[0;34m\u001b[0m\u001b[0m\n\u001b[1;32m    907\u001b[0m                 \u001b[0;32melse\u001b[0m\u001b[0;34m:\u001b[0m\u001b[0;34m\u001b[0m\u001b[0;34m\u001b[0m\u001b[0m\n\u001b[0;32m--> 908\u001b[0;31m                     \u001b[0moutputs\u001b[0m \u001b[0;34m=\u001b[0m \u001b[0msuper\u001b[0m\u001b[0;34m(\u001b[0m\u001b[0;34m)\u001b[0m\u001b[0;34m.\u001b[0m\u001b[0m__call__\u001b[0m\u001b[0;34m(\u001b[0m\u001b[0;34m*\u001b[0m\u001b[0margs\u001b[0m\u001b[0;34m,\u001b[0m \u001b[0;34m**\u001b[0m\u001b[0mkwargs\u001b[0m\u001b[0;34m)\u001b[0m\u001b[0;34m\u001b[0m\u001b[0;34m\u001b[0m\u001b[0m\n\u001b[0m\u001b[1;32m    909\u001b[0m                 \u001b[0;31m# Change the layout for the layer output if needed.\u001b[0m\u001b[0;34m\u001b[0m\u001b[0;34m\u001b[0m\u001b[0m\n\u001b[1;32m    910\u001b[0m                 \u001b[0;31m# This is useful for relayout intermediate tensor in the model\u001b[0m\u001b[0;34m\u001b[0m\u001b[0;34m\u001b[0m\u001b[0m\n",
      "\u001b[0;32m/usr/local/lib/python3.11/dist-packages/torch/nn/modules/module.py\u001b[0m in \u001b[0;36m_wrapped_call_impl\u001b[0;34m(self, *args, **kwargs)\u001b[0m\n\u001b[1;32m   1737\u001b[0m             \u001b[0;32mreturn\u001b[0m \u001b[0mself\u001b[0m\u001b[0;34m.\u001b[0m\u001b[0m_compiled_call_impl\u001b[0m\u001b[0;34m(\u001b[0m\u001b[0;34m*\u001b[0m\u001b[0margs\u001b[0m\u001b[0;34m,\u001b[0m \u001b[0;34m**\u001b[0m\u001b[0mkwargs\u001b[0m\u001b[0;34m)\u001b[0m  \u001b[0;31m# type: ignore[misc]\u001b[0m\u001b[0;34m\u001b[0m\u001b[0;34m\u001b[0m\u001b[0m\n\u001b[1;32m   1738\u001b[0m         \u001b[0;32melse\u001b[0m\u001b[0;34m:\u001b[0m\u001b[0;34m\u001b[0m\u001b[0;34m\u001b[0m\u001b[0m\n\u001b[0;32m-> 1739\u001b[0;31m             \u001b[0;32mreturn\u001b[0m \u001b[0mself\u001b[0m\u001b[0;34m.\u001b[0m\u001b[0m_call_impl\u001b[0m\u001b[0;34m(\u001b[0m\u001b[0;34m*\u001b[0m\u001b[0margs\u001b[0m\u001b[0;34m,\u001b[0m \u001b[0;34m**\u001b[0m\u001b[0mkwargs\u001b[0m\u001b[0;34m)\u001b[0m\u001b[0;34m\u001b[0m\u001b[0;34m\u001b[0m\u001b[0m\n\u001b[0m\u001b[1;32m   1740\u001b[0m \u001b[0;34m\u001b[0m\u001b[0m\n\u001b[1;32m   1741\u001b[0m     \u001b[0;31m# torchrec tests the code consistency with the following code\u001b[0m\u001b[0;34m\u001b[0m\u001b[0;34m\u001b[0m\u001b[0m\n",
      "\u001b[0;32m/usr/local/lib/python3.11/dist-packages/torch/nn/modules/module.py\u001b[0m in \u001b[0;36m_call_impl\u001b[0;34m(self, *args, **kwargs)\u001b[0m\n\u001b[1;32m   1748\u001b[0m                 \u001b[0;32mor\u001b[0m \u001b[0m_global_backward_pre_hooks\u001b[0m \u001b[0;32mor\u001b[0m \u001b[0m_global_backward_hooks\u001b[0m\u001b[0;34m\u001b[0m\u001b[0;34m\u001b[0m\u001b[0m\n\u001b[1;32m   1749\u001b[0m                 or _global_forward_hooks or _global_forward_pre_hooks):\n\u001b[0;32m-> 1750\u001b[0;31m             \u001b[0;32mreturn\u001b[0m \u001b[0mforward_call\u001b[0m\u001b[0;34m(\u001b[0m\u001b[0;34m*\u001b[0m\u001b[0margs\u001b[0m\u001b[0;34m,\u001b[0m \u001b[0;34m**\u001b[0m\u001b[0mkwargs\u001b[0m\u001b[0;34m)\u001b[0m\u001b[0;34m\u001b[0m\u001b[0;34m\u001b[0m\u001b[0m\n\u001b[0m\u001b[1;32m   1751\u001b[0m \u001b[0;34m\u001b[0m\u001b[0m\n\u001b[1;32m   1752\u001b[0m         \u001b[0mresult\u001b[0m \u001b[0;34m=\u001b[0m \u001b[0;32mNone\u001b[0m\u001b[0;34m\u001b[0m\u001b[0;34m\u001b[0m\u001b[0m\n",
      "\u001b[0;32m/usr/local/lib/python3.11/dist-packages/keras/src/backend/torch/layer.py\u001b[0m in \u001b[0;36mforward\u001b[0;34m(self, *args, **kwargs)\u001b[0m\n\u001b[1;32m     42\u001b[0m \u001b[0;34m\u001b[0m\u001b[0m\n\u001b[1;32m     43\u001b[0m     \u001b[0;32mdef\u001b[0m \u001b[0mforward\u001b[0m\u001b[0;34m(\u001b[0m\u001b[0mself\u001b[0m\u001b[0;34m,\u001b[0m \u001b[0;34m*\u001b[0m\u001b[0margs\u001b[0m\u001b[0;34m,\u001b[0m \u001b[0;34m**\u001b[0m\u001b[0mkwargs\u001b[0m\u001b[0;34m)\u001b[0m\u001b[0;34m:\u001b[0m\u001b[0;34m\u001b[0m\u001b[0;34m\u001b[0m\u001b[0m\n\u001b[0;32m---> 44\u001b[0;31m         \u001b[0;32mreturn\u001b[0m \u001b[0mOperation\u001b[0m\u001b[0;34m.\u001b[0m\u001b[0m__call__\u001b[0m\u001b[0;34m(\u001b[0m\u001b[0mself\u001b[0m\u001b[0;34m,\u001b[0m \u001b[0;34m*\u001b[0m\u001b[0margs\u001b[0m\u001b[0;34m,\u001b[0m \u001b[0;34m**\u001b[0m\u001b[0mkwargs\u001b[0m\u001b[0;34m)\u001b[0m\u001b[0;34m\u001b[0m\u001b[0;34m\u001b[0m\u001b[0m\n\u001b[0m\u001b[1;32m     45\u001b[0m \u001b[0;34m\u001b[0m\u001b[0m\n\u001b[1;32m     46\u001b[0m     \u001b[0;32mdef\u001b[0m \u001b[0m_setattr_hook\u001b[0m\u001b[0;34m(\u001b[0m\u001b[0mself\u001b[0m\u001b[0;34m,\u001b[0m \u001b[0mname\u001b[0m\u001b[0;34m,\u001b[0m \u001b[0mvalue\u001b[0m\u001b[0;34m)\u001b[0m\u001b[0;34m:\u001b[0m\u001b[0;34m\u001b[0m\u001b[0;34m\u001b[0m\u001b[0m\n",
      "\u001b[0;32m/usr/local/lib/python3.11/dist-packages/keras/src/utils/traceback_utils.py\u001b[0m in \u001b[0;36merror_handler\u001b[0;34m(*args, **kwargs)\u001b[0m\n\u001b[1;32m    115\u001b[0m         \u001b[0mfiltered_tb\u001b[0m \u001b[0;34m=\u001b[0m \u001b[0;32mNone\u001b[0m\u001b[0;34m\u001b[0m\u001b[0;34m\u001b[0m\u001b[0m\n\u001b[1;32m    116\u001b[0m         \u001b[0;32mtry\u001b[0m\u001b[0;34m:\u001b[0m\u001b[0;34m\u001b[0m\u001b[0;34m\u001b[0m\u001b[0m\n\u001b[0;32m--> 117\u001b[0;31m             \u001b[0;32mreturn\u001b[0m \u001b[0mfn\u001b[0m\u001b[0;34m(\u001b[0m\u001b[0;34m*\u001b[0m\u001b[0margs\u001b[0m\u001b[0;34m,\u001b[0m \u001b[0;34m**\u001b[0m\u001b[0mkwargs\u001b[0m\u001b[0;34m)\u001b[0m\u001b[0;34m\u001b[0m\u001b[0;34m\u001b[0m\u001b[0m\n\u001b[0m\u001b[1;32m    118\u001b[0m         \u001b[0;32mexcept\u001b[0m \u001b[0mException\u001b[0m \u001b[0;32mas\u001b[0m \u001b[0me\u001b[0m\u001b[0;34m:\u001b[0m\u001b[0;34m\u001b[0m\u001b[0;34m\u001b[0m\u001b[0m\n\u001b[1;32m    119\u001b[0m             \u001b[0mfiltered_tb\u001b[0m \u001b[0;34m=\u001b[0m \u001b[0m_process_traceback_frames\u001b[0m\u001b[0;34m(\u001b[0m\u001b[0me\u001b[0m\u001b[0;34m.\u001b[0m\u001b[0m__traceback__\u001b[0m\u001b[0;34m)\u001b[0m\u001b[0;34m\u001b[0m\u001b[0;34m\u001b[0m\u001b[0m\n",
      "\u001b[0;32m/usr/local/lib/python3.11/dist-packages/keras/src/ops/operation.py\u001b[0m in \u001b[0;36m__call__\u001b[0;34m(self, *args, **kwargs)\u001b[0m\n\u001b[1;32m     44\u001b[0m                 \u001b[0mobject_name\u001b[0m\u001b[0;34m=\u001b[0m\u001b[0;34m(\u001b[0m\u001b[0;34mf\"{self.__class__.__name__}.call()\"\u001b[0m\u001b[0;34m)\u001b[0m\u001b[0;34m,\u001b[0m\u001b[0;34m\u001b[0m\u001b[0;34m\u001b[0m\u001b[0m\n\u001b[1;32m     45\u001b[0m             )\n\u001b[0;32m---> 46\u001b[0;31m             \u001b[0;32mreturn\u001b[0m \u001b[0mcall_fn\u001b[0m\u001b[0;34m(\u001b[0m\u001b[0;34m*\u001b[0m\u001b[0margs\u001b[0m\u001b[0;34m,\u001b[0m \u001b[0;34m**\u001b[0m\u001b[0mkwargs\u001b[0m\u001b[0;34m)\u001b[0m\u001b[0;34m\u001b[0m\u001b[0;34m\u001b[0m\u001b[0m\n\u001b[0m\u001b[1;32m     47\u001b[0m \u001b[0;34m\u001b[0m\u001b[0m\n\u001b[1;32m     48\u001b[0m         \u001b[0;31m# Plain flow.\u001b[0m\u001b[0;34m\u001b[0m\u001b[0;34m\u001b[0m\u001b[0m\n",
      "\u001b[0;32m/usr/local/lib/python3.11/dist-packages/keras/src/utils/traceback_utils.py\u001b[0m in \u001b[0;36merror_handler\u001b[0;34m(*args, **kwargs)\u001b[0m\n\u001b[1;32m    154\u001b[0m         \u001b[0mbound_signature\u001b[0m \u001b[0;34m=\u001b[0m \u001b[0;32mNone\u001b[0m\u001b[0;34m\u001b[0m\u001b[0;34m\u001b[0m\u001b[0m\n\u001b[1;32m    155\u001b[0m         \u001b[0;32mtry\u001b[0m\u001b[0;34m:\u001b[0m\u001b[0;34m\u001b[0m\u001b[0;34m\u001b[0m\u001b[0m\n\u001b[0;32m--> 156\u001b[0;31m             \u001b[0;32mreturn\u001b[0m \u001b[0mfn\u001b[0m\u001b[0;34m(\u001b[0m\u001b[0;34m*\u001b[0m\u001b[0margs\u001b[0m\u001b[0;34m,\u001b[0m \u001b[0;34m**\u001b[0m\u001b[0mkwargs\u001b[0m\u001b[0;34m)\u001b[0m\u001b[0;34m\u001b[0m\u001b[0;34m\u001b[0m\u001b[0m\n\u001b[0m\u001b[1;32m    157\u001b[0m         \u001b[0;32mexcept\u001b[0m \u001b[0mException\u001b[0m \u001b[0;32mas\u001b[0m \u001b[0me\u001b[0m\u001b[0;34m:\u001b[0m\u001b[0;34m\u001b[0m\u001b[0;34m\u001b[0m\u001b[0m\n\u001b[1;32m    158\u001b[0m             \u001b[0;32mif\u001b[0m \u001b[0mhasattr\u001b[0m\u001b[0;34m(\u001b[0m\u001b[0me\u001b[0m\u001b[0;34m,\u001b[0m \u001b[0;34m\"_keras_call_info_injected\"\u001b[0m\u001b[0;34m)\u001b[0m\u001b[0;34m:\u001b[0m\u001b[0;34m\u001b[0m\u001b[0;34m\u001b[0m\u001b[0m\n",
      "\u001b[0;32m/usr/local/lib/python3.11/dist-packages/keras/src/models/sequential.py\u001b[0m in \u001b[0;36mcall\u001b[0;34m(self, inputs, training, mask)\u001b[0m\n\u001b[1;32m    211\u001b[0m     \u001b[0;32mdef\u001b[0m \u001b[0mcall\u001b[0m\u001b[0;34m(\u001b[0m\u001b[0mself\u001b[0m\u001b[0;34m,\u001b[0m \u001b[0minputs\u001b[0m\u001b[0;34m,\u001b[0m \u001b[0mtraining\u001b[0m\u001b[0;34m=\u001b[0m\u001b[0;32mNone\u001b[0m\u001b[0;34m,\u001b[0m \u001b[0mmask\u001b[0m\u001b[0;34m=\u001b[0m\u001b[0;32mNone\u001b[0m\u001b[0;34m)\u001b[0m\u001b[0;34m:\u001b[0m\u001b[0;34m\u001b[0m\u001b[0;34m\u001b[0m\u001b[0m\n\u001b[1;32m    212\u001b[0m         \u001b[0;32mif\u001b[0m \u001b[0mself\u001b[0m\u001b[0;34m.\u001b[0m\u001b[0m_functional\u001b[0m\u001b[0;34m:\u001b[0m\u001b[0;34m\u001b[0m\u001b[0;34m\u001b[0m\u001b[0m\n\u001b[0;32m--> 213\u001b[0;31m             \u001b[0;32mreturn\u001b[0m \u001b[0mself\u001b[0m\u001b[0;34m.\u001b[0m\u001b[0m_functional\u001b[0m\u001b[0;34m.\u001b[0m\u001b[0mcall\u001b[0m\u001b[0;34m(\u001b[0m\u001b[0minputs\u001b[0m\u001b[0;34m,\u001b[0m \u001b[0mtraining\u001b[0m\u001b[0;34m=\u001b[0m\u001b[0mtraining\u001b[0m\u001b[0;34m,\u001b[0m \u001b[0mmask\u001b[0m\u001b[0;34m=\u001b[0m\u001b[0mmask\u001b[0m\u001b[0;34m)\u001b[0m\u001b[0;34m\u001b[0m\u001b[0;34m\u001b[0m\u001b[0m\n\u001b[0m\u001b[1;32m    214\u001b[0m \u001b[0;34m\u001b[0m\u001b[0m\n\u001b[1;32m    215\u001b[0m         \u001b[0;31m# Fallback: Just apply the layer sequence.\u001b[0m\u001b[0;34m\u001b[0m\u001b[0;34m\u001b[0m\u001b[0m\n",
      "\u001b[0;32m/usr/local/lib/python3.11/dist-packages/keras/src/models/functional.py\u001b[0m in \u001b[0;36mcall\u001b[0;34m(self, inputs, training, mask)\u001b[0m\n\u001b[1;32m    180\u001b[0m                 \u001b[0;32mif\u001b[0m \u001b[0mmask\u001b[0m \u001b[0;32mis\u001b[0m \u001b[0;32mnot\u001b[0m \u001b[0;32mNone\u001b[0m\u001b[0;34m:\u001b[0m\u001b[0;34m\u001b[0m\u001b[0;34m\u001b[0m\u001b[0m\n\u001b[1;32m    181\u001b[0m                     \u001b[0mbackend\u001b[0m\u001b[0;34m.\u001b[0m\u001b[0mset_keras_mask\u001b[0m\u001b[0;34m(\u001b[0m\u001b[0mx\u001b[0m\u001b[0;34m,\u001b[0m \u001b[0mmask\u001b[0m\u001b[0;34m)\u001b[0m\u001b[0;34m\u001b[0m\u001b[0;34m\u001b[0m\u001b[0m\n\u001b[0;32m--> 182\u001b[0;31m         outputs = self._run_through_graph(\n\u001b[0m\u001b[1;32m    183\u001b[0m             \u001b[0minputs\u001b[0m\u001b[0;34m,\u001b[0m \u001b[0moperation_fn\u001b[0m\u001b[0;34m=\u001b[0m\u001b[0;32mlambda\u001b[0m \u001b[0mop\u001b[0m\u001b[0;34m:\u001b[0m \u001b[0moperation_fn\u001b[0m\u001b[0;34m(\u001b[0m\u001b[0mop\u001b[0m\u001b[0;34m,\u001b[0m \u001b[0mtraining\u001b[0m\u001b[0;34m=\u001b[0m\u001b[0mtraining\u001b[0m\u001b[0;34m)\u001b[0m\u001b[0;34m\u001b[0m\u001b[0;34m\u001b[0m\u001b[0m\n\u001b[1;32m    184\u001b[0m         )\n",
      "\u001b[0;32m/usr/local/lib/python3.11/dist-packages/keras/src/ops/function.py\u001b[0m in \u001b[0;36m_run_through_graph\u001b[0;34m(self, inputs, operation_fn, call_fn)\u001b[0m\n\u001b[1;32m    169\u001b[0m                     \u001b[0moutputs\u001b[0m \u001b[0;34m=\u001b[0m \u001b[0mcall_fn\u001b[0m\u001b[0;34m(\u001b[0m\u001b[0mop\u001b[0m\u001b[0;34m,\u001b[0m \u001b[0;34m*\u001b[0m\u001b[0margs\u001b[0m\u001b[0;34m,\u001b[0m \u001b[0;34m**\u001b[0m\u001b[0mkwargs\u001b[0m\u001b[0;34m)\u001b[0m\u001b[0;34m\u001b[0m\u001b[0;34m\u001b[0m\u001b[0m\n\u001b[1;32m    170\u001b[0m                 \u001b[0;32melse\u001b[0m\u001b[0;34m:\u001b[0m\u001b[0;34m\u001b[0m\u001b[0;34m\u001b[0m\u001b[0m\n\u001b[0;32m--> 171\u001b[0;31m                     \u001b[0moutputs\u001b[0m \u001b[0;34m=\u001b[0m \u001b[0mop\u001b[0m\u001b[0;34m(\u001b[0m\u001b[0;34m*\u001b[0m\u001b[0margs\u001b[0m\u001b[0;34m,\u001b[0m \u001b[0;34m**\u001b[0m\u001b[0mkwargs\u001b[0m\u001b[0;34m)\u001b[0m\u001b[0;34m\u001b[0m\u001b[0;34m\u001b[0m\u001b[0m\n\u001b[0m\u001b[1;32m    172\u001b[0m \u001b[0;34m\u001b[0m\u001b[0m\n\u001b[1;32m    173\u001b[0m                 \u001b[0;31m# Update tensor_dict.\u001b[0m\u001b[0;34m\u001b[0m\u001b[0;34m\u001b[0m\u001b[0m\n",
      "\u001b[0;32m/usr/local/lib/python3.11/dist-packages/keras/src/models/functional.py\u001b[0m in \u001b[0;36mcall\u001b[0;34m(*args, **kwargs)\u001b[0m\n\u001b[1;32m    635\u001b[0m         ):\n\u001b[1;32m    636\u001b[0m             \u001b[0mkwargs\u001b[0m\u001b[0;34m[\u001b[0m\u001b[0;34m\"training\"\u001b[0m\u001b[0;34m]\u001b[0m \u001b[0;34m=\u001b[0m \u001b[0mtraining\u001b[0m\u001b[0;34m\u001b[0m\u001b[0;34m\u001b[0m\u001b[0m\n\u001b[0;32m--> 637\u001b[0;31m         \u001b[0;32mreturn\u001b[0m \u001b[0moperation\u001b[0m\u001b[0;34m(\u001b[0m\u001b[0;34m*\u001b[0m\u001b[0margs\u001b[0m\u001b[0;34m,\u001b[0m \u001b[0;34m**\u001b[0m\u001b[0mkwargs\u001b[0m\u001b[0;34m)\u001b[0m\u001b[0;34m\u001b[0m\u001b[0;34m\u001b[0m\u001b[0m\n\u001b[0m\u001b[1;32m    638\u001b[0m \u001b[0;34m\u001b[0m\u001b[0m\n\u001b[1;32m    639\u001b[0m     \u001b[0;32mreturn\u001b[0m \u001b[0mcall\u001b[0m\u001b[0;34m\u001b[0m\u001b[0;34m\u001b[0m\u001b[0m\n",
      "\u001b[0;32m/usr/local/lib/python3.11/dist-packages/keras/src/utils/traceback_utils.py\u001b[0m in \u001b[0;36merror_handler\u001b[0;34m(*args, **kwargs)\u001b[0m\n\u001b[1;32m    115\u001b[0m         \u001b[0mfiltered_tb\u001b[0m \u001b[0;34m=\u001b[0m \u001b[0;32mNone\u001b[0m\u001b[0;34m\u001b[0m\u001b[0;34m\u001b[0m\u001b[0m\n\u001b[1;32m    116\u001b[0m         \u001b[0;32mtry\u001b[0m\u001b[0;34m:\u001b[0m\u001b[0;34m\u001b[0m\u001b[0;34m\u001b[0m\u001b[0m\n\u001b[0;32m--> 117\u001b[0;31m             \u001b[0;32mreturn\u001b[0m \u001b[0mfn\u001b[0m\u001b[0;34m(\u001b[0m\u001b[0;34m*\u001b[0m\u001b[0margs\u001b[0m\u001b[0;34m,\u001b[0m \u001b[0;34m**\u001b[0m\u001b[0mkwargs\u001b[0m\u001b[0;34m)\u001b[0m\u001b[0;34m\u001b[0m\u001b[0;34m\u001b[0m\u001b[0m\n\u001b[0m\u001b[1;32m    118\u001b[0m         \u001b[0;32mexcept\u001b[0m \u001b[0mException\u001b[0m \u001b[0;32mas\u001b[0m \u001b[0me\u001b[0m\u001b[0;34m:\u001b[0m\u001b[0;34m\u001b[0m\u001b[0;34m\u001b[0m\u001b[0m\n\u001b[1;32m    119\u001b[0m             \u001b[0mfiltered_tb\u001b[0m \u001b[0;34m=\u001b[0m \u001b[0m_process_traceback_frames\u001b[0m\u001b[0;34m(\u001b[0m\u001b[0me\u001b[0m\u001b[0;34m.\u001b[0m\u001b[0m__traceback__\u001b[0m\u001b[0;34m)\u001b[0m\u001b[0;34m\u001b[0m\u001b[0;34m\u001b[0m\u001b[0m\n",
      "\u001b[0;32m/usr/local/lib/python3.11/dist-packages/keras/src/layers/layer.py\u001b[0m in \u001b[0;36m__call__\u001b[0;34m(self, *args, **kwargs)\u001b[0m\n\u001b[1;32m    817\u001b[0m \u001b[0;34m\u001b[0m\u001b[0m\n\u001b[1;32m    818\u001b[0m         \u001b[0;31m# Caches info about `call()` signature, args, kwargs.\u001b[0m\u001b[0;34m\u001b[0m\u001b[0;34m\u001b[0m\u001b[0m\n\u001b[0;32m--> 819\u001b[0;31m         \u001b[0mcall_spec\u001b[0m \u001b[0;34m=\u001b[0m \u001b[0mCallSpec\u001b[0m\u001b[0;34m(\u001b[0m\u001b[0mself\u001b[0m\u001b[0;34m.\u001b[0m\u001b[0m_call_signature\u001b[0m\u001b[0;34m,\u001b[0m \u001b[0margs\u001b[0m\u001b[0;34m,\u001b[0m \u001b[0mkwargs\u001b[0m\u001b[0;34m)\u001b[0m\u001b[0;34m\u001b[0m\u001b[0;34m\u001b[0m\u001b[0m\n\u001b[0m\u001b[1;32m    820\u001b[0m \u001b[0;34m\u001b[0m\u001b[0m\n\u001b[1;32m    821\u001b[0m         \u001b[0;31m############################################\u001b[0m\u001b[0;34m\u001b[0m\u001b[0;34m\u001b[0m\u001b[0m\n",
      "\u001b[0;32m/usr/local/lib/python3.11/dist-packages/keras/src/layers/layer.py\u001b[0m in \u001b[0;36m__init__\u001b[0;34m(self, signature, args, kwargs)\u001b[0m\n\u001b[1;32m   1586\u001b[0m             \u001b[0mk\u001b[0m\u001b[0;34m:\u001b[0m \u001b[0mv\u001b[0m \u001b[0;32mfor\u001b[0m \u001b[0mk\u001b[0m\u001b[0;34m,\u001b[0m \u001b[0mv\u001b[0m \u001b[0;32min\u001b[0m \u001b[0mbound_args\u001b[0m\u001b[0;34m.\u001b[0m\u001b[0marguments\u001b[0m\u001b[0;34m.\u001b[0m\u001b[0mitems\u001b[0m\u001b[0;34m(\u001b[0m\u001b[0;34m)\u001b[0m\u001b[0;34m\u001b[0m\u001b[0;34m\u001b[0m\u001b[0m\n\u001b[1;32m   1587\u001b[0m         }\n\u001b[0;32m-> 1588\u001b[0;31m         \u001b[0mbound_args\u001b[0m\u001b[0;34m.\u001b[0m\u001b[0mapply_defaults\u001b[0m\u001b[0;34m(\u001b[0m\u001b[0;34m)\u001b[0m\u001b[0;34m\u001b[0m\u001b[0;34m\u001b[0m\u001b[0m\n\u001b[0m\u001b[1;32m   1589\u001b[0m         \u001b[0marg_dict\u001b[0m \u001b[0;34m=\u001b[0m \u001b[0;34m{\u001b[0m\u001b[0;34m}\u001b[0m\u001b[0;34m\u001b[0m\u001b[0;34m\u001b[0m\u001b[0m\n\u001b[1;32m   1590\u001b[0m         \u001b[0marg_names\u001b[0m \u001b[0;34m=\u001b[0m \u001b[0;34m[\u001b[0m\u001b[0;34m]\u001b[0m\u001b[0;34m\u001b[0m\u001b[0;34m\u001b[0m\u001b[0m\n",
      "\u001b[0;32m/usr/lib/python3.11/inspect.py\u001b[0m in \u001b[0;36mapply_defaults\u001b[0;34m(self)\u001b[0m\n\u001b[1;32m   2873\u001b[0m         \u001b[0;32mreturn\u001b[0m \u001b[0mkwargs\u001b[0m\u001b[0;34m\u001b[0m\u001b[0;34m\u001b[0m\u001b[0m\n\u001b[1;32m   2874\u001b[0m \u001b[0;34m\u001b[0m\u001b[0m\n\u001b[0;32m-> 2875\u001b[0;31m     \u001b[0;32mdef\u001b[0m \u001b[0mapply_defaults\u001b[0m\u001b[0;34m(\u001b[0m\u001b[0mself\u001b[0m\u001b[0;34m)\u001b[0m\u001b[0;34m:\u001b[0m\u001b[0;34m\u001b[0m\u001b[0;34m\u001b[0m\u001b[0m\n\u001b[0m\u001b[1;32m   2876\u001b[0m         \"\"\"Set default values for missing arguments.\n\u001b[1;32m   2877\u001b[0m \u001b[0;34m\u001b[0m\u001b[0m\n",
      "\u001b[0;31mKeyboardInterrupt\u001b[0m: "
     ]
    }
   ],
   "source": [
    "\n",
    "# Run tuner search with custom loss history and early stopping\n",
    "for trial_id in range(tuner.oracle.max_trials):\n",
    "    tuner.search(\n",
    "        X_train_search, y_train_search,\n",
    "        validation_data=(X_val_search, y_val_search),    #Fixed validation set\n",
    "        epochs=50,\n",
    "        batch_size= 64,\n",
    "        callbacks=[early_stopping]\n",
    "    )\n",
    "\n"
   ]
  },
  {
   "cell_type": "code",
   "execution_count": 12,
   "metadata": {
    "colab": {
     "base_uri": "https://localhost:8080/"
    },
    "id": "jzcu-DPrzuv8",
    "outputId": "a025e11a-d124-433d-d2ac-cfda85df82c5"
   },
   "outputs": [
    {
     "name": "stdout",
     "output_type": "stream",
     "text": [
      "Search space summary\n",
      "Default search space size: 8\n",
      "activation_function (Choice)\n",
      "{'default': 'relu', 'conditions': [], 'values': ['relu', 'tanh', 'sigmoid'], 'ordered': False}\n",
      "hidden_layers (Int)\n",
      "{'default': None, 'conditions': [], 'min_value': 2, 'max_value': 5, 'step': 1, 'sampling': 'linear'}\n",
      "units_in_layer0 (Int)\n",
      "{'default': None, 'conditions': [], 'min_value': 18, 'max_value': 128, 'step': 10, 'sampling': 'linear'}\n",
      "units_in_layer1 (Int)\n",
      "{'default': None, 'conditions': [], 'min_value': 18, 'max_value': 128, 'step': 10, 'sampling': 'linear'}\n",
      "learning_rate (Float)\n",
      "{'default': 0.001, 'conditions': [], 'min_value': 0.001, 'max_value': 0.1, 'step': None, 'sampling': 'log'}\n",
      "units_in_layer2 (Int)\n",
      "{'default': None, 'conditions': [], 'min_value': 18, 'max_value': 128, 'step': 10, 'sampling': 'linear'}\n",
      "units_in_layer3 (Int)\n",
      "{'default': None, 'conditions': [], 'min_value': 18, 'max_value': 128, 'step': 10, 'sampling': 'linear'}\n",
      "units_in_layer4 (Int)\n",
      "{'default': None, 'conditions': [], 'min_value': 18, 'max_value': 128, 'step': 10, 'sampling': 'linear'}\n",
      "Results summary\n",
      "Results in /content/optML_mini_project/Hyperparam Search Baseline Model\n",
      "Showing 10 best trials\n",
      "Objective(name=\"val_accuracy\", direction=\"max\")\n",
      "\n",
      "Trial 011 summary\n",
      "Hyperparameters:\n",
      "activation_function: sigmoid\n",
      "hidden_layers: 4\n",
      "units_in_layer0: 58\n",
      "units_in_layer1: 108\n",
      "learning_rate: 0.08223713071187294\n",
      "units_in_layer2: 48\n",
      "units_in_layer3: 98\n",
      "Score: 0.8487562239170074\n",
      "\n",
      "Trial 065 summary\n",
      "Hyperparameters:\n",
      "activation_function: sigmoid\n",
      "hidden_layers: 3\n",
      "units_in_layer0: 48\n",
      "units_in_layer1: 38\n",
      "learning_rate: 0.03278255428714152\n",
      "units_in_layer2: 88\n",
      "units_in_layer3: 88\n",
      "units_in_layer4: 48\n",
      "Score: 0.8484245538711548\n",
      "\n",
      "Trial 017 summary\n",
      "Hyperparameters:\n",
      "activation_function: sigmoid\n",
      "hidden_layers: 3\n",
      "units_in_layer0: 58\n",
      "units_in_layer1: 38\n",
      "learning_rate: 0.07021162329874045\n",
      "units_in_layer2: 28\n",
      "units_in_layer3: 128\n",
      "units_in_layer4: 48\n",
      "Score: 0.8479823172092438\n",
      "\n",
      "Trial 026 summary\n",
      "Hyperparameters:\n",
      "activation_function: sigmoid\n",
      "hidden_layers: 4\n",
      "units_in_layer0: 108\n",
      "units_in_layer1: 78\n",
      "learning_rate: 0.08155670833539604\n",
      "units_in_layer2: 108\n",
      "units_in_layer3: 78\n",
      "units_in_layer4: 98\n",
      "Score: 0.8475400805473328\n",
      "\n",
      "Trial 040 summary\n",
      "Hyperparameters:\n",
      "activation_function: sigmoid\n",
      "hidden_layers: 3\n",
      "units_in_layer0: 58\n",
      "units_in_layer1: 128\n",
      "learning_rate: 0.03574675589063575\n",
      "units_in_layer2: 68\n",
      "units_in_layer3: 58\n",
      "units_in_layer4: 18\n",
      "Score: 0.8471531271934509\n",
      "\n",
      "Trial 037 summary\n",
      "Hyperparameters:\n",
      "activation_function: sigmoid\n",
      "hidden_layers: 2\n",
      "units_in_layer0: 48\n",
      "units_in_layer1: 18\n",
      "learning_rate: 0.025762507755192843\n",
      "units_in_layer2: 128\n",
      "units_in_layer3: 68\n",
      "units_in_layer4: 38\n",
      "Score: 0.8470978438854218\n",
      "\n",
      "Trial 077 summary\n",
      "Hyperparameters:\n",
      "activation_function: sigmoid\n",
      "hidden_layers: 2\n",
      "units_in_layer0: 98\n",
      "units_in_layer1: 48\n",
      "learning_rate: 0.06793126018218033\n",
      "units_in_layer2: 78\n",
      "units_in_layer3: 48\n",
      "units_in_layer4: 28\n",
      "Score: 0.8470425605773926\n",
      "\n",
      "Trial 027 summary\n",
      "Hyperparameters:\n",
      "activation_function: sigmoid\n",
      "hidden_layers: 2\n",
      "units_in_layer0: 28\n",
      "units_in_layer1: 118\n",
      "learning_rate: 0.028309808141425183\n",
      "units_in_layer2: 58\n",
      "units_in_layer3: 128\n",
      "units_in_layer4: 28\n",
      "Score: 0.8468214273452759\n",
      "\n",
      "Trial 009 summary\n",
      "Hyperparameters:\n",
      "activation_function: sigmoid\n",
      "hidden_layers: 2\n",
      "units_in_layer0: 88\n",
      "units_in_layer1: 128\n",
      "learning_rate: 0.07386760578782742\n",
      "units_in_layer2: 108\n",
      "units_in_layer3: 78\n",
      "Score: 0.8466003239154816\n",
      "\n",
      "Trial 006 summary\n",
      "Hyperparameters:\n",
      "activation_function: sigmoid\n",
      "hidden_layers: 2\n",
      "units_in_layer0: 68\n",
      "units_in_layer1: 48\n",
      "learning_rate: 0.012991932609884915\n",
      "units_in_layer2: 48\n",
      "units_in_layer3: 38\n",
      "Score: 0.8457158803939819\n"
     ]
    }
   ],
   "source": [
    "# Print the summary of the search space\n",
    "tuner.search_space_summary()\n",
    "\n",
    "# Print the results of the search\n",
    "tuner.results_summary()                       #WILL RETURN WRONG LAYER SIZES!!!! STARTS OF RIGHT, BUT FILLED WITH ADDITIONAL BS => check amount of layers it says there is"
   ]
  },
  {
   "cell_type": "markdown",
   "metadata": {
    "id": "ild9vXDphgsy"
   },
   "source": [
    "Save results in GIT"
   ]
  },
  {
   "cell_type": "code",
   "execution_count": null,
   "metadata": {
    "colab": {
     "base_uri": "https://localhost:8080/"
    },
    "id": "jh2PGzVIhgP7",
    "outputId": "b7166673-efb0-4ac9-c356-426ac7514d69"
   },
   "outputs": [
    {
     "name": "stdout",
     "output_type": "stream",
     "text": [
      "/content/optML_mini_project\n",
      "On branch setup\n",
      "Your branch is ahead of 'origin/setup' by 1 commit.\n",
      "  (use \"git push\" to publish your local commits)\n",
      "\n",
      "nothing to commit, working tree clean\n",
      "To https://github.com/federicovilla55/optML_mini_project.git\n",
      " \u001b[31m! [rejected]       \u001b[m setup -> setup (fetch first)\n",
      "\u001b[31merror: failed to push some refs to 'https://github.com/federicovilla55/optML_mini_project.git'\n",
      "\u001b[m\u001b[33mhint: Updates were rejected because the remote contains work that you do\u001b[m\n",
      "\u001b[33mhint: not have locally. This is usually caused by another repository pushing\u001b[m\n",
      "\u001b[33mhint: to the same ref. You may want to first integrate the remote changes\u001b[m\n",
      "\u001b[33mhint: (e.g., 'git pull ...') before pushing again.\u001b[m\n",
      "\u001b[33mhint: See the 'Note about fast-forwards' in 'git push --help' for details.\u001b[m\n"
     ]
    }
   ],
   "source": [
    "%cd /content/optML_mini_project\n",
    "!git add --a\n",
    "!git commit -m \"Hyperparameter search for baseline model\"\n",
    "!git push"
   ]
  },
  {
   "cell_type": "code",
   "execution_count": 13,
   "metadata": {
    "colab": {
     "base_uri": "https://localhost:8080/",
     "height": 1000
    },
    "id": "4m-gnvI2gX2e",
    "outputId": "a0954f76-79c2-447a-97d0-ab5fac77483b"
   },
   "outputs": [
    {
     "name": "stdout",
     "output_type": "stream",
     "text": [
      "\n",
      "Model 1 Summary:\n"
     ]
    },
    {
     "data": {
      "text/html": [
       "<pre style=\"white-space:pre;overflow-x:auto;line-height:normal;font-family:Menlo,'DejaVu Sans Mono',consolas,'Courier New',monospace\"><span style=\"font-weight: bold\">Model: \"sequential\"</span>\n",
       "</pre>\n"
      ],
      "text/plain": [
       "\u001b[1mModel: \"sequential\"\u001b[0m\n"
      ]
     },
     "metadata": {},
     "output_type": "display_data"
    },
    {
     "data": {
      "text/html": [
       "<pre style=\"white-space:pre;overflow-x:auto;line-height:normal;font-family:Menlo,'DejaVu Sans Mono',consolas,'Courier New',monospace\">┏━━━━━━━━━━━━━━━━━━━━━━━━━━━━━━━━━━━━━━┳━━━━━━━━━━━━━━━━━━━━━━━━━━━━━┳━━━━━━━━━━━━━━━━━┓\n",
       "┃<span style=\"font-weight: bold\"> Layer (type)                         </span>┃<span style=\"font-weight: bold\"> Output Shape                </span>┃<span style=\"font-weight: bold\">         Param # </span>┃\n",
       "┡━━━━━━━━━━━━━━━━━━━━━━━━━━━━━━━━━━━━━━╇━━━━━━━━━━━━━━━━━━━━━━━━━━━━━╇━━━━━━━━━━━━━━━━━┩\n",
       "│ dense (<span style=\"color: #0087ff; text-decoration-color: #0087ff\">Dense</span>)                        │ (<span style=\"color: #00d7ff; text-decoration-color: #00d7ff\">None</span>, <span style=\"color: #00af00; text-decoration-color: #00af00\">58</span>)                  │           <span style=\"color: #00af00; text-decoration-color: #00af00\">6,148</span> │\n",
       "├──────────────────────────────────────┼─────────────────────────────┼─────────────────┤\n",
       "│ dense_1 (<span style=\"color: #0087ff; text-decoration-color: #0087ff\">Dense</span>)                      │ (<span style=\"color: #00d7ff; text-decoration-color: #00d7ff\">None</span>, <span style=\"color: #00af00; text-decoration-color: #00af00\">108</span>)                 │           <span style=\"color: #00af00; text-decoration-color: #00af00\">6,372</span> │\n",
       "├──────────────────────────────────────┼─────────────────────────────┼─────────────────┤\n",
       "│ dense_2 (<span style=\"color: #0087ff; text-decoration-color: #0087ff\">Dense</span>)                      │ (<span style=\"color: #00d7ff; text-decoration-color: #00d7ff\">None</span>, <span style=\"color: #00af00; text-decoration-color: #00af00\">48</span>)                  │           <span style=\"color: #00af00; text-decoration-color: #00af00\">5,232</span> │\n",
       "├──────────────────────────────────────┼─────────────────────────────┼─────────────────┤\n",
       "│ dense_3 (<span style=\"color: #0087ff; text-decoration-color: #0087ff\">Dense</span>)                      │ (<span style=\"color: #00d7ff; text-decoration-color: #00d7ff\">None</span>, <span style=\"color: #00af00; text-decoration-color: #00af00\">98</span>)                  │           <span style=\"color: #00af00; text-decoration-color: #00af00\">4,802</span> │\n",
       "├──────────────────────────────────────┼─────────────────────────────┼─────────────────┤\n",
       "│ dense_4 (<span style=\"color: #0087ff; text-decoration-color: #0087ff\">Dense</span>)                      │ (<span style=\"color: #00d7ff; text-decoration-color: #00d7ff\">None</span>, <span style=\"color: #00af00; text-decoration-color: #00af00\">1</span>)                   │              <span style=\"color: #00af00; text-decoration-color: #00af00\">99</span> │\n",
       "└──────────────────────────────────────┴─────────────────────────────┴─────────────────┘\n",
       "</pre>\n"
      ],
      "text/plain": [
       "┏━━━━━━━━━━━━━━━━━━━━━━━━━━━━━━━━━━━━━━┳━━━━━━━━━━━━━━━━━━━━━━━━━━━━━┳━━━━━━━━━━━━━━━━━┓\n",
       "┃\u001b[1m \u001b[0m\u001b[1mLayer (type)                        \u001b[0m\u001b[1m \u001b[0m┃\u001b[1m \u001b[0m\u001b[1mOutput Shape               \u001b[0m\u001b[1m \u001b[0m┃\u001b[1m \u001b[0m\u001b[1m        Param #\u001b[0m\u001b[1m \u001b[0m┃\n",
       "┡━━━━━━━━━━━━━━━━━━━━━━━━━━━━━━━━━━━━━━╇━━━━━━━━━━━━━━━━━━━━━━━━━━━━━╇━━━━━━━━━━━━━━━━━┩\n",
       "│ dense (\u001b[38;5;33mDense\u001b[0m)                        │ (\u001b[38;5;45mNone\u001b[0m, \u001b[38;5;34m58\u001b[0m)                  │           \u001b[38;5;34m6,148\u001b[0m │\n",
       "├──────────────────────────────────────┼─────────────────────────────┼─────────────────┤\n",
       "│ dense_1 (\u001b[38;5;33mDense\u001b[0m)                      │ (\u001b[38;5;45mNone\u001b[0m, \u001b[38;5;34m108\u001b[0m)                 │           \u001b[38;5;34m6,372\u001b[0m │\n",
       "├──────────────────────────────────────┼─────────────────────────────┼─────────────────┤\n",
       "│ dense_2 (\u001b[38;5;33mDense\u001b[0m)                      │ (\u001b[38;5;45mNone\u001b[0m, \u001b[38;5;34m48\u001b[0m)                  │           \u001b[38;5;34m5,232\u001b[0m │\n",
       "├──────────────────────────────────────┼─────────────────────────────┼─────────────────┤\n",
       "│ dense_3 (\u001b[38;5;33mDense\u001b[0m)                      │ (\u001b[38;5;45mNone\u001b[0m, \u001b[38;5;34m98\u001b[0m)                  │           \u001b[38;5;34m4,802\u001b[0m │\n",
       "├──────────────────────────────────────┼─────────────────────────────┼─────────────────┤\n",
       "│ dense_4 (\u001b[38;5;33mDense\u001b[0m)                      │ (\u001b[38;5;45mNone\u001b[0m, \u001b[38;5;34m1\u001b[0m)                   │              \u001b[38;5;34m99\u001b[0m │\n",
       "└──────────────────────────────────────┴─────────────────────────────┴─────────────────┘\n"
      ]
     },
     "metadata": {},
     "output_type": "display_data"
    },
    {
     "data": {
      "text/html": [
       "<pre style=\"white-space:pre;overflow-x:auto;line-height:normal;font-family:Menlo,'DejaVu Sans Mono',consolas,'Courier New',monospace\"><span style=\"font-weight: bold\"> Total params: </span><span style=\"color: #00af00; text-decoration-color: #00af00\">22,653</span> (88.49 KB)\n",
       "</pre>\n"
      ],
      "text/plain": [
       "\u001b[1m Total params: \u001b[0m\u001b[38;5;34m22,653\u001b[0m (88.49 KB)\n"
      ]
     },
     "metadata": {},
     "output_type": "display_data"
    },
    {
     "data": {
      "text/html": [
       "<pre style=\"white-space:pre;overflow-x:auto;line-height:normal;font-family:Menlo,'DejaVu Sans Mono',consolas,'Courier New',monospace\"><span style=\"font-weight: bold\"> Trainable params: </span><span style=\"color: #00af00; text-decoration-color: #00af00\">22,653</span> (88.49 KB)\n",
       "</pre>\n"
      ],
      "text/plain": [
       "\u001b[1m Trainable params: \u001b[0m\u001b[38;5;34m22,653\u001b[0m (88.49 KB)\n"
      ]
     },
     "metadata": {},
     "output_type": "display_data"
    },
    {
     "data": {
      "text/html": [
       "<pre style=\"white-space:pre;overflow-x:auto;line-height:normal;font-family:Menlo,'DejaVu Sans Mono',consolas,'Courier New',monospace\"><span style=\"font-weight: bold\"> Non-trainable params: </span><span style=\"color: #00af00; text-decoration-color: #00af00\">0</span> (0.00 B)\n",
       "</pre>\n"
      ],
      "text/plain": [
       "\u001b[1m Non-trainable params: \u001b[0m\u001b[38;5;34m0\u001b[0m (0.00 B)\n"
      ]
     },
     "metadata": {},
     "output_type": "display_data"
    },
    {
     "name": "stdout",
     "output_type": "stream",
     "text": [
      "\n",
      "Model 2 Summary:\n"
     ]
    },
    {
     "data": {
      "text/html": [
       "<pre style=\"white-space:pre;overflow-x:auto;line-height:normal;font-family:Menlo,'DejaVu Sans Mono',consolas,'Courier New',monospace\"><span style=\"font-weight: bold\">Model: \"sequential\"</span>\n",
       "</pre>\n"
      ],
      "text/plain": [
       "\u001b[1mModel: \"sequential\"\u001b[0m\n"
      ]
     },
     "metadata": {},
     "output_type": "display_data"
    },
    {
     "data": {
      "text/html": [
       "<pre style=\"white-space:pre;overflow-x:auto;line-height:normal;font-family:Menlo,'DejaVu Sans Mono',consolas,'Courier New',monospace\">┏━━━━━━━━━━━━━━━━━━━━━━━━━━━━━━━━━━━━━━┳━━━━━━━━━━━━━━━━━━━━━━━━━━━━━┳━━━━━━━━━━━━━━━━━┓\n",
       "┃<span style=\"font-weight: bold\"> Layer (type)                         </span>┃<span style=\"font-weight: bold\"> Output Shape                </span>┃<span style=\"font-weight: bold\">         Param # </span>┃\n",
       "┡━━━━━━━━━━━━━━━━━━━━━━━━━━━━━━━━━━━━━━╇━━━━━━━━━━━━━━━━━━━━━━━━━━━━━╇━━━━━━━━━━━━━━━━━┩\n",
       "│ dense (<span style=\"color: #0087ff; text-decoration-color: #0087ff\">Dense</span>)                        │ (<span style=\"color: #00d7ff; text-decoration-color: #00d7ff\">None</span>, <span style=\"color: #00af00; text-decoration-color: #00af00\">48</span>)                  │           <span style=\"color: #00af00; text-decoration-color: #00af00\">5,088</span> │\n",
       "├──────────────────────────────────────┼─────────────────────────────┼─────────────────┤\n",
       "│ dense_1 (<span style=\"color: #0087ff; text-decoration-color: #0087ff\">Dense</span>)                      │ (<span style=\"color: #00d7ff; text-decoration-color: #00d7ff\">None</span>, <span style=\"color: #00af00; text-decoration-color: #00af00\">38</span>)                  │           <span style=\"color: #00af00; text-decoration-color: #00af00\">1,862</span> │\n",
       "├──────────────────────────────────────┼─────────────────────────────┼─────────────────┤\n",
       "│ dense_2 (<span style=\"color: #0087ff; text-decoration-color: #0087ff\">Dense</span>)                      │ (<span style=\"color: #00d7ff; text-decoration-color: #00d7ff\">None</span>, <span style=\"color: #00af00; text-decoration-color: #00af00\">88</span>)                  │           <span style=\"color: #00af00; text-decoration-color: #00af00\">3,432</span> │\n",
       "├──────────────────────────────────────┼─────────────────────────────┼─────────────────┤\n",
       "│ dense_3 (<span style=\"color: #0087ff; text-decoration-color: #0087ff\">Dense</span>)                      │ (<span style=\"color: #00d7ff; text-decoration-color: #00d7ff\">None</span>, <span style=\"color: #00af00; text-decoration-color: #00af00\">1</span>)                   │              <span style=\"color: #00af00; text-decoration-color: #00af00\">89</span> │\n",
       "└──────────────────────────────────────┴─────────────────────────────┴─────────────────┘\n",
       "</pre>\n"
      ],
      "text/plain": [
       "┏━━━━━━━━━━━━━━━━━━━━━━━━━━━━━━━━━━━━━━┳━━━━━━━━━━━━━━━━━━━━━━━━━━━━━┳━━━━━━━━━━━━━━━━━┓\n",
       "┃\u001b[1m \u001b[0m\u001b[1mLayer (type)                        \u001b[0m\u001b[1m \u001b[0m┃\u001b[1m \u001b[0m\u001b[1mOutput Shape               \u001b[0m\u001b[1m \u001b[0m┃\u001b[1m \u001b[0m\u001b[1m        Param #\u001b[0m\u001b[1m \u001b[0m┃\n",
       "┡━━━━━━━━━━━━━━━━━━━━━━━━━━━━━━━━━━━━━━╇━━━━━━━━━━━━━━━━━━━━━━━━━━━━━╇━━━━━━━━━━━━━━━━━┩\n",
       "│ dense (\u001b[38;5;33mDense\u001b[0m)                        │ (\u001b[38;5;45mNone\u001b[0m, \u001b[38;5;34m48\u001b[0m)                  │           \u001b[38;5;34m5,088\u001b[0m │\n",
       "├──────────────────────────────────────┼─────────────────────────────┼─────────────────┤\n",
       "│ dense_1 (\u001b[38;5;33mDense\u001b[0m)                      │ (\u001b[38;5;45mNone\u001b[0m, \u001b[38;5;34m38\u001b[0m)                  │           \u001b[38;5;34m1,862\u001b[0m │\n",
       "├──────────────────────────────────────┼─────────────────────────────┼─────────────────┤\n",
       "│ dense_2 (\u001b[38;5;33mDense\u001b[0m)                      │ (\u001b[38;5;45mNone\u001b[0m, \u001b[38;5;34m88\u001b[0m)                  │           \u001b[38;5;34m3,432\u001b[0m │\n",
       "├──────────────────────────────────────┼─────────────────────────────┼─────────────────┤\n",
       "│ dense_3 (\u001b[38;5;33mDense\u001b[0m)                      │ (\u001b[38;5;45mNone\u001b[0m, \u001b[38;5;34m1\u001b[0m)                   │              \u001b[38;5;34m89\u001b[0m │\n",
       "└──────────────────────────────────────┴─────────────────────────────┴─────────────────┘\n"
      ]
     },
     "metadata": {},
     "output_type": "display_data"
    },
    {
     "data": {
      "text/html": [
       "<pre style=\"white-space:pre;overflow-x:auto;line-height:normal;font-family:Menlo,'DejaVu Sans Mono',consolas,'Courier New',monospace\"><span style=\"font-weight: bold\"> Total params: </span><span style=\"color: #00af00; text-decoration-color: #00af00\">10,471</span> (40.90 KB)\n",
       "</pre>\n"
      ],
      "text/plain": [
       "\u001b[1m Total params: \u001b[0m\u001b[38;5;34m10,471\u001b[0m (40.90 KB)\n"
      ]
     },
     "metadata": {},
     "output_type": "display_data"
    },
    {
     "data": {
      "text/html": [
       "<pre style=\"white-space:pre;overflow-x:auto;line-height:normal;font-family:Menlo,'DejaVu Sans Mono',consolas,'Courier New',monospace\"><span style=\"font-weight: bold\"> Trainable params: </span><span style=\"color: #00af00; text-decoration-color: #00af00\">10,471</span> (40.90 KB)\n",
       "</pre>\n"
      ],
      "text/plain": [
       "\u001b[1m Trainable params: \u001b[0m\u001b[38;5;34m10,471\u001b[0m (40.90 KB)\n"
      ]
     },
     "metadata": {},
     "output_type": "display_data"
    },
    {
     "data": {
      "text/html": [
       "<pre style=\"white-space:pre;overflow-x:auto;line-height:normal;font-family:Menlo,'DejaVu Sans Mono',consolas,'Courier New',monospace\"><span style=\"font-weight: bold\"> Non-trainable params: </span><span style=\"color: #00af00; text-decoration-color: #00af00\">0</span> (0.00 B)\n",
       "</pre>\n"
      ],
      "text/plain": [
       "\u001b[1m Non-trainable params: \u001b[0m\u001b[38;5;34m0\u001b[0m (0.00 B)\n"
      ]
     },
     "metadata": {},
     "output_type": "display_data"
    },
    {
     "name": "stdout",
     "output_type": "stream",
     "text": [
      "\n",
      "Model 3 Summary:\n"
     ]
    },
    {
     "data": {
      "text/html": [
       "<pre style=\"white-space:pre;overflow-x:auto;line-height:normal;font-family:Menlo,'DejaVu Sans Mono',consolas,'Courier New',monospace\"><span style=\"font-weight: bold\">Model: \"sequential\"</span>\n",
       "</pre>\n"
      ],
      "text/plain": [
       "\u001b[1mModel: \"sequential\"\u001b[0m\n"
      ]
     },
     "metadata": {},
     "output_type": "display_data"
    },
    {
     "data": {
      "text/html": [
       "<pre style=\"white-space:pre;overflow-x:auto;line-height:normal;font-family:Menlo,'DejaVu Sans Mono',consolas,'Courier New',monospace\">┏━━━━━━━━━━━━━━━━━━━━━━━━━━━━━━━━━━━━━━┳━━━━━━━━━━━━━━━━━━━━━━━━━━━━━┳━━━━━━━━━━━━━━━━━┓\n",
       "┃<span style=\"font-weight: bold\"> Layer (type)                         </span>┃<span style=\"font-weight: bold\"> Output Shape                </span>┃<span style=\"font-weight: bold\">         Param # </span>┃\n",
       "┡━━━━━━━━━━━━━━━━━━━━━━━━━━━━━━━━━━━━━━╇━━━━━━━━━━━━━━━━━━━━━━━━━━━━━╇━━━━━━━━━━━━━━━━━┩\n",
       "│ dense (<span style=\"color: #0087ff; text-decoration-color: #0087ff\">Dense</span>)                        │ (<span style=\"color: #00d7ff; text-decoration-color: #00d7ff\">None</span>, <span style=\"color: #00af00; text-decoration-color: #00af00\">58</span>)                  │           <span style=\"color: #00af00; text-decoration-color: #00af00\">6,148</span> │\n",
       "├──────────────────────────────────────┼─────────────────────────────┼─────────────────┤\n",
       "│ dense_1 (<span style=\"color: #0087ff; text-decoration-color: #0087ff\">Dense</span>)                      │ (<span style=\"color: #00d7ff; text-decoration-color: #00d7ff\">None</span>, <span style=\"color: #00af00; text-decoration-color: #00af00\">38</span>)                  │           <span style=\"color: #00af00; text-decoration-color: #00af00\">2,242</span> │\n",
       "├──────────────────────────────────────┼─────────────────────────────┼─────────────────┤\n",
       "│ dense_2 (<span style=\"color: #0087ff; text-decoration-color: #0087ff\">Dense</span>)                      │ (<span style=\"color: #00d7ff; text-decoration-color: #00d7ff\">None</span>, <span style=\"color: #00af00; text-decoration-color: #00af00\">28</span>)                  │           <span style=\"color: #00af00; text-decoration-color: #00af00\">1,092</span> │\n",
       "├──────────────────────────────────────┼─────────────────────────────┼─────────────────┤\n",
       "│ dense_3 (<span style=\"color: #0087ff; text-decoration-color: #0087ff\">Dense</span>)                      │ (<span style=\"color: #00d7ff; text-decoration-color: #00d7ff\">None</span>, <span style=\"color: #00af00; text-decoration-color: #00af00\">1</span>)                   │              <span style=\"color: #00af00; text-decoration-color: #00af00\">29</span> │\n",
       "└──────────────────────────────────────┴─────────────────────────────┴─────────────────┘\n",
       "</pre>\n"
      ],
      "text/plain": [
       "┏━━━━━━━━━━━━━━━━━━━━━━━━━━━━━━━━━━━━━━┳━━━━━━━━━━━━━━━━━━━━━━━━━━━━━┳━━━━━━━━━━━━━━━━━┓\n",
       "┃\u001b[1m \u001b[0m\u001b[1mLayer (type)                        \u001b[0m\u001b[1m \u001b[0m┃\u001b[1m \u001b[0m\u001b[1mOutput Shape               \u001b[0m\u001b[1m \u001b[0m┃\u001b[1m \u001b[0m\u001b[1m        Param #\u001b[0m\u001b[1m \u001b[0m┃\n",
       "┡━━━━━━━━━━━━━━━━━━━━━━━━━━━━━━━━━━━━━━╇━━━━━━━━━━━━━━━━━━━━━━━━━━━━━╇━━━━━━━━━━━━━━━━━┩\n",
       "│ dense (\u001b[38;5;33mDense\u001b[0m)                        │ (\u001b[38;5;45mNone\u001b[0m, \u001b[38;5;34m58\u001b[0m)                  │           \u001b[38;5;34m6,148\u001b[0m │\n",
       "├──────────────────────────────────────┼─────────────────────────────┼─────────────────┤\n",
       "│ dense_1 (\u001b[38;5;33mDense\u001b[0m)                      │ (\u001b[38;5;45mNone\u001b[0m, \u001b[38;5;34m38\u001b[0m)                  │           \u001b[38;5;34m2,242\u001b[0m │\n",
       "├──────────────────────────────────────┼─────────────────────────────┼─────────────────┤\n",
       "│ dense_2 (\u001b[38;5;33mDense\u001b[0m)                      │ (\u001b[38;5;45mNone\u001b[0m, \u001b[38;5;34m28\u001b[0m)                  │           \u001b[38;5;34m1,092\u001b[0m │\n",
       "├──────────────────────────────────────┼─────────────────────────────┼─────────────────┤\n",
       "│ dense_3 (\u001b[38;5;33mDense\u001b[0m)                      │ (\u001b[38;5;45mNone\u001b[0m, \u001b[38;5;34m1\u001b[0m)                   │              \u001b[38;5;34m29\u001b[0m │\n",
       "└──────────────────────────────────────┴─────────────────────────────┴─────────────────┘\n"
      ]
     },
     "metadata": {},
     "output_type": "display_data"
    },
    {
     "data": {
      "text/html": [
       "<pre style=\"white-space:pre;overflow-x:auto;line-height:normal;font-family:Menlo,'DejaVu Sans Mono',consolas,'Courier New',monospace\"><span style=\"font-weight: bold\"> Total params: </span><span style=\"color: #00af00; text-decoration-color: #00af00\">9,511</span> (37.15 KB)\n",
       "</pre>\n"
      ],
      "text/plain": [
       "\u001b[1m Total params: \u001b[0m\u001b[38;5;34m9,511\u001b[0m (37.15 KB)\n"
      ]
     },
     "metadata": {},
     "output_type": "display_data"
    },
    {
     "data": {
      "text/html": [
       "<pre style=\"white-space:pre;overflow-x:auto;line-height:normal;font-family:Menlo,'DejaVu Sans Mono',consolas,'Courier New',monospace\"><span style=\"font-weight: bold\"> Trainable params: </span><span style=\"color: #00af00; text-decoration-color: #00af00\">9,511</span> (37.15 KB)\n",
       "</pre>\n"
      ],
      "text/plain": [
       "\u001b[1m Trainable params: \u001b[0m\u001b[38;5;34m9,511\u001b[0m (37.15 KB)\n"
      ]
     },
     "metadata": {},
     "output_type": "display_data"
    },
    {
     "data": {
      "text/html": [
       "<pre style=\"white-space:pre;overflow-x:auto;line-height:normal;font-family:Menlo,'DejaVu Sans Mono',consolas,'Courier New',monospace\"><span style=\"font-weight: bold\"> Non-trainable params: </span><span style=\"color: #00af00; text-decoration-color: #00af00\">0</span> (0.00 B)\n",
       "</pre>\n"
      ],
      "text/plain": [
       "\u001b[1m Non-trainable params: \u001b[0m\u001b[38;5;34m0\u001b[0m (0.00 B)\n"
      ]
     },
     "metadata": {},
     "output_type": "display_data"
    },
    {
     "name": "stdout",
     "output_type": "stream",
     "text": [
      "\n",
      "Model 4 Summary:\n"
     ]
    },
    {
     "data": {
      "text/html": [
       "<pre style=\"white-space:pre;overflow-x:auto;line-height:normal;font-family:Menlo,'DejaVu Sans Mono',consolas,'Courier New',monospace\"><span style=\"font-weight: bold\">Model: \"sequential\"</span>\n",
       "</pre>\n"
      ],
      "text/plain": [
       "\u001b[1mModel: \"sequential\"\u001b[0m\n"
      ]
     },
     "metadata": {},
     "output_type": "display_data"
    },
    {
     "data": {
      "text/html": [
       "<pre style=\"white-space:pre;overflow-x:auto;line-height:normal;font-family:Menlo,'DejaVu Sans Mono',consolas,'Courier New',monospace\">┏━━━━━━━━━━━━━━━━━━━━━━━━━━━━━━━━━━━━━━┳━━━━━━━━━━━━━━━━━━━━━━━━━━━━━┳━━━━━━━━━━━━━━━━━┓\n",
       "┃<span style=\"font-weight: bold\"> Layer (type)                         </span>┃<span style=\"font-weight: bold\"> Output Shape                </span>┃<span style=\"font-weight: bold\">         Param # </span>┃\n",
       "┡━━━━━━━━━━━━━━━━━━━━━━━━━━━━━━━━━━━━━━╇━━━━━━━━━━━━━━━━━━━━━━━━━━━━━╇━━━━━━━━━━━━━━━━━┩\n",
       "│ dense (<span style=\"color: #0087ff; text-decoration-color: #0087ff\">Dense</span>)                        │ (<span style=\"color: #00d7ff; text-decoration-color: #00d7ff\">None</span>, <span style=\"color: #00af00; text-decoration-color: #00af00\">108</span>)                 │          <span style=\"color: #00af00; text-decoration-color: #00af00\">11,448</span> │\n",
       "├──────────────────────────────────────┼─────────────────────────────┼─────────────────┤\n",
       "│ dense_1 (<span style=\"color: #0087ff; text-decoration-color: #0087ff\">Dense</span>)                      │ (<span style=\"color: #00d7ff; text-decoration-color: #00d7ff\">None</span>, <span style=\"color: #00af00; text-decoration-color: #00af00\">78</span>)                  │           <span style=\"color: #00af00; text-decoration-color: #00af00\">8,502</span> │\n",
       "├──────────────────────────────────────┼─────────────────────────────┼─────────────────┤\n",
       "│ dense_2 (<span style=\"color: #0087ff; text-decoration-color: #0087ff\">Dense</span>)                      │ (<span style=\"color: #00d7ff; text-decoration-color: #00d7ff\">None</span>, <span style=\"color: #00af00; text-decoration-color: #00af00\">108</span>)                 │           <span style=\"color: #00af00; text-decoration-color: #00af00\">8,532</span> │\n",
       "├──────────────────────────────────────┼─────────────────────────────┼─────────────────┤\n",
       "│ dense_3 (<span style=\"color: #0087ff; text-decoration-color: #0087ff\">Dense</span>)                      │ (<span style=\"color: #00d7ff; text-decoration-color: #00d7ff\">None</span>, <span style=\"color: #00af00; text-decoration-color: #00af00\">78</span>)                  │           <span style=\"color: #00af00; text-decoration-color: #00af00\">8,502</span> │\n",
       "├──────────────────────────────────────┼─────────────────────────────┼─────────────────┤\n",
       "│ dense_4 (<span style=\"color: #0087ff; text-decoration-color: #0087ff\">Dense</span>)                      │ (<span style=\"color: #00d7ff; text-decoration-color: #00d7ff\">None</span>, <span style=\"color: #00af00; text-decoration-color: #00af00\">1</span>)                   │              <span style=\"color: #00af00; text-decoration-color: #00af00\">79</span> │\n",
       "└──────────────────────────────────────┴─────────────────────────────┴─────────────────┘\n",
       "</pre>\n"
      ],
      "text/plain": [
       "┏━━━━━━━━━━━━━━━━━━━━━━━━━━━━━━━━━━━━━━┳━━━━━━━━━━━━━━━━━━━━━━━━━━━━━┳━━━━━━━━━━━━━━━━━┓\n",
       "┃\u001b[1m \u001b[0m\u001b[1mLayer (type)                        \u001b[0m\u001b[1m \u001b[0m┃\u001b[1m \u001b[0m\u001b[1mOutput Shape               \u001b[0m\u001b[1m \u001b[0m┃\u001b[1m \u001b[0m\u001b[1m        Param #\u001b[0m\u001b[1m \u001b[0m┃\n",
       "┡━━━━━━━━━━━━━━━━━━━━━━━━━━━━━━━━━━━━━━╇━━━━━━━━━━━━━━━━━━━━━━━━━━━━━╇━━━━━━━━━━━━━━━━━┩\n",
       "│ dense (\u001b[38;5;33mDense\u001b[0m)                        │ (\u001b[38;5;45mNone\u001b[0m, \u001b[38;5;34m108\u001b[0m)                 │          \u001b[38;5;34m11,448\u001b[0m │\n",
       "├──────────────────────────────────────┼─────────────────────────────┼─────────────────┤\n",
       "│ dense_1 (\u001b[38;5;33mDense\u001b[0m)                      │ (\u001b[38;5;45mNone\u001b[0m, \u001b[38;5;34m78\u001b[0m)                  │           \u001b[38;5;34m8,502\u001b[0m │\n",
       "├──────────────────────────────────────┼─────────────────────────────┼─────────────────┤\n",
       "│ dense_2 (\u001b[38;5;33mDense\u001b[0m)                      │ (\u001b[38;5;45mNone\u001b[0m, \u001b[38;5;34m108\u001b[0m)                 │           \u001b[38;5;34m8,532\u001b[0m │\n",
       "├──────────────────────────────────────┼─────────────────────────────┼─────────────────┤\n",
       "│ dense_3 (\u001b[38;5;33mDense\u001b[0m)                      │ (\u001b[38;5;45mNone\u001b[0m, \u001b[38;5;34m78\u001b[0m)                  │           \u001b[38;5;34m8,502\u001b[0m │\n",
       "├──────────────────────────────────────┼─────────────────────────────┼─────────────────┤\n",
       "│ dense_4 (\u001b[38;5;33mDense\u001b[0m)                      │ (\u001b[38;5;45mNone\u001b[0m, \u001b[38;5;34m1\u001b[0m)                   │              \u001b[38;5;34m79\u001b[0m │\n",
       "└──────────────────────────────────────┴─────────────────────────────┴─────────────────┘\n"
      ]
     },
     "metadata": {},
     "output_type": "display_data"
    },
    {
     "data": {
      "text/html": [
       "<pre style=\"white-space:pre;overflow-x:auto;line-height:normal;font-family:Menlo,'DejaVu Sans Mono',consolas,'Courier New',monospace\"><span style=\"font-weight: bold\"> Total params: </span><span style=\"color: #00af00; text-decoration-color: #00af00\">37,063</span> (144.78 KB)\n",
       "</pre>\n"
      ],
      "text/plain": [
       "\u001b[1m Total params: \u001b[0m\u001b[38;5;34m37,063\u001b[0m (144.78 KB)\n"
      ]
     },
     "metadata": {},
     "output_type": "display_data"
    },
    {
     "data": {
      "text/html": [
       "<pre style=\"white-space:pre;overflow-x:auto;line-height:normal;font-family:Menlo,'DejaVu Sans Mono',consolas,'Courier New',monospace\"><span style=\"font-weight: bold\"> Trainable params: </span><span style=\"color: #00af00; text-decoration-color: #00af00\">37,063</span> (144.78 KB)\n",
       "</pre>\n"
      ],
      "text/plain": [
       "\u001b[1m Trainable params: \u001b[0m\u001b[38;5;34m37,063\u001b[0m (144.78 KB)\n"
      ]
     },
     "metadata": {},
     "output_type": "display_data"
    },
    {
     "data": {
      "text/html": [
       "<pre style=\"white-space:pre;overflow-x:auto;line-height:normal;font-family:Menlo,'DejaVu Sans Mono',consolas,'Courier New',monospace\"><span style=\"font-weight: bold\"> Non-trainable params: </span><span style=\"color: #00af00; text-decoration-color: #00af00\">0</span> (0.00 B)\n",
       "</pre>\n"
      ],
      "text/plain": [
       "\u001b[1m Non-trainable params: \u001b[0m\u001b[38;5;34m0\u001b[0m (0.00 B)\n"
      ]
     },
     "metadata": {},
     "output_type": "display_data"
    },
    {
     "name": "stdout",
     "output_type": "stream",
     "text": [
      "\n",
      "Model 5 Summary:\n"
     ]
    },
    {
     "data": {
      "text/html": [
       "<pre style=\"white-space:pre;overflow-x:auto;line-height:normal;font-family:Menlo,'DejaVu Sans Mono',consolas,'Courier New',monospace\"><span style=\"font-weight: bold\">Model: \"sequential\"</span>\n",
       "</pre>\n"
      ],
      "text/plain": [
       "\u001b[1mModel: \"sequential\"\u001b[0m\n"
      ]
     },
     "metadata": {},
     "output_type": "display_data"
    },
    {
     "data": {
      "text/html": [
       "<pre style=\"white-space:pre;overflow-x:auto;line-height:normal;font-family:Menlo,'DejaVu Sans Mono',consolas,'Courier New',monospace\">┏━━━━━━━━━━━━━━━━━━━━━━━━━━━━━━━━━━━━━━┳━━━━━━━━━━━━━━━━━━━━━━━━━━━━━┳━━━━━━━━━━━━━━━━━┓\n",
       "┃<span style=\"font-weight: bold\"> Layer (type)                         </span>┃<span style=\"font-weight: bold\"> Output Shape                </span>┃<span style=\"font-weight: bold\">         Param # </span>┃\n",
       "┡━━━━━━━━━━━━━━━━━━━━━━━━━━━━━━━━━━━━━━╇━━━━━━━━━━━━━━━━━━━━━━━━━━━━━╇━━━━━━━━━━━━━━━━━┩\n",
       "│ dense (<span style=\"color: #0087ff; text-decoration-color: #0087ff\">Dense</span>)                        │ (<span style=\"color: #00d7ff; text-decoration-color: #00d7ff\">None</span>, <span style=\"color: #00af00; text-decoration-color: #00af00\">58</span>)                  │           <span style=\"color: #00af00; text-decoration-color: #00af00\">6,148</span> │\n",
       "├──────────────────────────────────────┼─────────────────────────────┼─────────────────┤\n",
       "│ dense_1 (<span style=\"color: #0087ff; text-decoration-color: #0087ff\">Dense</span>)                      │ (<span style=\"color: #00d7ff; text-decoration-color: #00d7ff\">None</span>, <span style=\"color: #00af00; text-decoration-color: #00af00\">128</span>)                 │           <span style=\"color: #00af00; text-decoration-color: #00af00\">7,552</span> │\n",
       "├──────────────────────────────────────┼─────────────────────────────┼─────────────────┤\n",
       "│ dense_2 (<span style=\"color: #0087ff; text-decoration-color: #0087ff\">Dense</span>)                      │ (<span style=\"color: #00d7ff; text-decoration-color: #00d7ff\">None</span>, <span style=\"color: #00af00; text-decoration-color: #00af00\">68</span>)                  │           <span style=\"color: #00af00; text-decoration-color: #00af00\">8,772</span> │\n",
       "├──────────────────────────────────────┼─────────────────────────────┼─────────────────┤\n",
       "│ dense_3 (<span style=\"color: #0087ff; text-decoration-color: #0087ff\">Dense</span>)                      │ (<span style=\"color: #00d7ff; text-decoration-color: #00d7ff\">None</span>, <span style=\"color: #00af00; text-decoration-color: #00af00\">1</span>)                   │              <span style=\"color: #00af00; text-decoration-color: #00af00\">69</span> │\n",
       "└──────────────────────────────────────┴─────────────────────────────┴─────────────────┘\n",
       "</pre>\n"
      ],
      "text/plain": [
       "┏━━━━━━━━━━━━━━━━━━━━━━━━━━━━━━━━━━━━━━┳━━━━━━━━━━━━━━━━━━━━━━━━━━━━━┳━━━━━━━━━━━━━━━━━┓\n",
       "┃\u001b[1m \u001b[0m\u001b[1mLayer (type)                        \u001b[0m\u001b[1m \u001b[0m┃\u001b[1m \u001b[0m\u001b[1mOutput Shape               \u001b[0m\u001b[1m \u001b[0m┃\u001b[1m \u001b[0m\u001b[1m        Param #\u001b[0m\u001b[1m \u001b[0m┃\n",
       "┡━━━━━━━━━━━━━━━━━━━━━━━━━━━━━━━━━━━━━━╇━━━━━━━━━━━━━━━━━━━━━━━━━━━━━╇━━━━━━━━━━━━━━━━━┩\n",
       "│ dense (\u001b[38;5;33mDense\u001b[0m)                        │ (\u001b[38;5;45mNone\u001b[0m, \u001b[38;5;34m58\u001b[0m)                  │           \u001b[38;5;34m6,148\u001b[0m │\n",
       "├──────────────────────────────────────┼─────────────────────────────┼─────────────────┤\n",
       "│ dense_1 (\u001b[38;5;33mDense\u001b[0m)                      │ (\u001b[38;5;45mNone\u001b[0m, \u001b[38;5;34m128\u001b[0m)                 │           \u001b[38;5;34m7,552\u001b[0m │\n",
       "├──────────────────────────────────────┼─────────────────────────────┼─────────────────┤\n",
       "│ dense_2 (\u001b[38;5;33mDense\u001b[0m)                      │ (\u001b[38;5;45mNone\u001b[0m, \u001b[38;5;34m68\u001b[0m)                  │           \u001b[38;5;34m8,772\u001b[0m │\n",
       "├──────────────────────────────────────┼─────────────────────────────┼─────────────────┤\n",
       "│ dense_3 (\u001b[38;5;33mDense\u001b[0m)                      │ (\u001b[38;5;45mNone\u001b[0m, \u001b[38;5;34m1\u001b[0m)                   │              \u001b[38;5;34m69\u001b[0m │\n",
       "└──────────────────────────────────────┴─────────────────────────────┴─────────────────┘\n"
      ]
     },
     "metadata": {},
     "output_type": "display_data"
    },
    {
     "data": {
      "text/html": [
       "<pre style=\"white-space:pre;overflow-x:auto;line-height:normal;font-family:Menlo,'DejaVu Sans Mono',consolas,'Courier New',monospace\"><span style=\"font-weight: bold\"> Total params: </span><span style=\"color: #00af00; text-decoration-color: #00af00\">22,541</span> (88.05 KB)\n",
       "</pre>\n"
      ],
      "text/plain": [
       "\u001b[1m Total params: \u001b[0m\u001b[38;5;34m22,541\u001b[0m (88.05 KB)\n"
      ]
     },
     "metadata": {},
     "output_type": "display_data"
    },
    {
     "data": {
      "text/html": [
       "<pre style=\"white-space:pre;overflow-x:auto;line-height:normal;font-family:Menlo,'DejaVu Sans Mono',consolas,'Courier New',monospace\"><span style=\"font-weight: bold\"> Trainable params: </span><span style=\"color: #00af00; text-decoration-color: #00af00\">22,541</span> (88.05 KB)\n",
       "</pre>\n"
      ],
      "text/plain": [
       "\u001b[1m Trainable params: \u001b[0m\u001b[38;5;34m22,541\u001b[0m (88.05 KB)\n"
      ]
     },
     "metadata": {},
     "output_type": "display_data"
    },
    {
     "data": {
      "text/html": [
       "<pre style=\"white-space:pre;overflow-x:auto;line-height:normal;font-family:Menlo,'DejaVu Sans Mono',consolas,'Courier New',monospace\"><span style=\"font-weight: bold\"> Non-trainable params: </span><span style=\"color: #00af00; text-decoration-color: #00af00\">0</span> (0.00 B)\n",
       "</pre>\n"
      ],
      "text/plain": [
       "\u001b[1m Non-trainable params: \u001b[0m\u001b[38;5;34m0\u001b[0m (0.00 B)\n"
      ]
     },
     "metadata": {},
     "output_type": "display_data"
    },
    {
     "name": "stdout",
     "output_type": "stream",
     "text": [
      "\n",
      "Model 6 Summary:\n"
     ]
    },
    {
     "data": {
      "text/html": [
       "<pre style=\"white-space:pre;overflow-x:auto;line-height:normal;font-family:Menlo,'DejaVu Sans Mono',consolas,'Courier New',monospace\"><span style=\"font-weight: bold\">Model: \"sequential\"</span>\n",
       "</pre>\n"
      ],
      "text/plain": [
       "\u001b[1mModel: \"sequential\"\u001b[0m\n"
      ]
     },
     "metadata": {},
     "output_type": "display_data"
    },
    {
     "data": {
      "text/html": [
       "<pre style=\"white-space:pre;overflow-x:auto;line-height:normal;font-family:Menlo,'DejaVu Sans Mono',consolas,'Courier New',monospace\">┏━━━━━━━━━━━━━━━━━━━━━━━━━━━━━━━━━━━━━━┳━━━━━━━━━━━━━━━━━━━━━━━━━━━━━┳━━━━━━━━━━━━━━━━━┓\n",
       "┃<span style=\"font-weight: bold\"> Layer (type)                         </span>┃<span style=\"font-weight: bold\"> Output Shape                </span>┃<span style=\"font-weight: bold\">         Param # </span>┃\n",
       "┡━━━━━━━━━━━━━━━━━━━━━━━━━━━━━━━━━━━━━━╇━━━━━━━━━━━━━━━━━━━━━━━━━━━━━╇━━━━━━━━━━━━━━━━━┩\n",
       "│ dense (<span style=\"color: #0087ff; text-decoration-color: #0087ff\">Dense</span>)                        │ (<span style=\"color: #00d7ff; text-decoration-color: #00d7ff\">None</span>, <span style=\"color: #00af00; text-decoration-color: #00af00\">48</span>)                  │           <span style=\"color: #00af00; text-decoration-color: #00af00\">5,088</span> │\n",
       "├──────────────────────────────────────┼─────────────────────────────┼─────────────────┤\n",
       "│ dense_1 (<span style=\"color: #0087ff; text-decoration-color: #0087ff\">Dense</span>)                      │ (<span style=\"color: #00d7ff; text-decoration-color: #00d7ff\">None</span>, <span style=\"color: #00af00; text-decoration-color: #00af00\">18</span>)                  │             <span style=\"color: #00af00; text-decoration-color: #00af00\">882</span> │\n",
       "├──────────────────────────────────────┼─────────────────────────────┼─────────────────┤\n",
       "│ dense_2 (<span style=\"color: #0087ff; text-decoration-color: #0087ff\">Dense</span>)                      │ (<span style=\"color: #00d7ff; text-decoration-color: #00d7ff\">None</span>, <span style=\"color: #00af00; text-decoration-color: #00af00\">1</span>)                   │              <span style=\"color: #00af00; text-decoration-color: #00af00\">19</span> │\n",
       "└──────────────────────────────────────┴─────────────────────────────┴─────────────────┘\n",
       "</pre>\n"
      ],
      "text/plain": [
       "┏━━━━━━━━━━━━━━━━━━━━━━━━━━━━━━━━━━━━━━┳━━━━━━━━━━━━━━━━━━━━━━━━━━━━━┳━━━━━━━━━━━━━━━━━┓\n",
       "┃\u001b[1m \u001b[0m\u001b[1mLayer (type)                        \u001b[0m\u001b[1m \u001b[0m┃\u001b[1m \u001b[0m\u001b[1mOutput Shape               \u001b[0m\u001b[1m \u001b[0m┃\u001b[1m \u001b[0m\u001b[1m        Param #\u001b[0m\u001b[1m \u001b[0m┃\n",
       "┡━━━━━━━━━━━━━━━━━━━━━━━━━━━━━━━━━━━━━━╇━━━━━━━━━━━━━━━━━━━━━━━━━━━━━╇━━━━━━━━━━━━━━━━━┩\n",
       "│ dense (\u001b[38;5;33mDense\u001b[0m)                        │ (\u001b[38;5;45mNone\u001b[0m, \u001b[38;5;34m48\u001b[0m)                  │           \u001b[38;5;34m5,088\u001b[0m │\n",
       "├──────────────────────────────────────┼─────────────────────────────┼─────────────────┤\n",
       "│ dense_1 (\u001b[38;5;33mDense\u001b[0m)                      │ (\u001b[38;5;45mNone\u001b[0m, \u001b[38;5;34m18\u001b[0m)                  │             \u001b[38;5;34m882\u001b[0m │\n",
       "├──────────────────────────────────────┼─────────────────────────────┼─────────────────┤\n",
       "│ dense_2 (\u001b[38;5;33mDense\u001b[0m)                      │ (\u001b[38;5;45mNone\u001b[0m, \u001b[38;5;34m1\u001b[0m)                   │              \u001b[38;5;34m19\u001b[0m │\n",
       "└──────────────────────────────────────┴─────────────────────────────┴─────────────────┘\n"
      ]
     },
     "metadata": {},
     "output_type": "display_data"
    },
    {
     "data": {
      "text/html": [
       "<pre style=\"white-space:pre;overflow-x:auto;line-height:normal;font-family:Menlo,'DejaVu Sans Mono',consolas,'Courier New',monospace\"><span style=\"font-weight: bold\"> Total params: </span><span style=\"color: #00af00; text-decoration-color: #00af00\">5,989</span> (23.39 KB)\n",
       "</pre>\n"
      ],
      "text/plain": [
       "\u001b[1m Total params: \u001b[0m\u001b[38;5;34m5,989\u001b[0m (23.39 KB)\n"
      ]
     },
     "metadata": {},
     "output_type": "display_data"
    },
    {
     "data": {
      "text/html": [
       "<pre style=\"white-space:pre;overflow-x:auto;line-height:normal;font-family:Menlo,'DejaVu Sans Mono',consolas,'Courier New',monospace\"><span style=\"font-weight: bold\"> Trainable params: </span><span style=\"color: #00af00; text-decoration-color: #00af00\">5,989</span> (23.39 KB)\n",
       "</pre>\n"
      ],
      "text/plain": [
       "\u001b[1m Trainable params: \u001b[0m\u001b[38;5;34m5,989\u001b[0m (23.39 KB)\n"
      ]
     },
     "metadata": {},
     "output_type": "display_data"
    },
    {
     "data": {
      "text/html": [
       "<pre style=\"white-space:pre;overflow-x:auto;line-height:normal;font-family:Menlo,'DejaVu Sans Mono',consolas,'Courier New',monospace\"><span style=\"font-weight: bold\"> Non-trainable params: </span><span style=\"color: #00af00; text-decoration-color: #00af00\">0</span> (0.00 B)\n",
       "</pre>\n"
      ],
      "text/plain": [
       "\u001b[1m Non-trainable params: \u001b[0m\u001b[38;5;34m0\u001b[0m (0.00 B)\n"
      ]
     },
     "metadata": {},
     "output_type": "display_data"
    },
    {
     "name": "stdout",
     "output_type": "stream",
     "text": [
      "\n",
      "Model 7 Summary:\n"
     ]
    },
    {
     "data": {
      "text/html": [
       "<pre style=\"white-space:pre;overflow-x:auto;line-height:normal;font-family:Menlo,'DejaVu Sans Mono',consolas,'Courier New',monospace\"><span style=\"font-weight: bold\">Model: \"sequential\"</span>\n",
       "</pre>\n"
      ],
      "text/plain": [
       "\u001b[1mModel: \"sequential\"\u001b[0m\n"
      ]
     },
     "metadata": {},
     "output_type": "display_data"
    },
    {
     "data": {
      "text/html": [
       "<pre style=\"white-space:pre;overflow-x:auto;line-height:normal;font-family:Menlo,'DejaVu Sans Mono',consolas,'Courier New',monospace\">┏━━━━━━━━━━━━━━━━━━━━━━━━━━━━━━━━━━━━━━┳━━━━━━━━━━━━━━━━━━━━━━━━━━━━━┳━━━━━━━━━━━━━━━━━┓\n",
       "┃<span style=\"font-weight: bold\"> Layer (type)                         </span>┃<span style=\"font-weight: bold\"> Output Shape                </span>┃<span style=\"font-weight: bold\">         Param # </span>┃\n",
       "┡━━━━━━━━━━━━━━━━━━━━━━━━━━━━━━━━━━━━━━╇━━━━━━━━━━━━━━━━━━━━━━━━━━━━━╇━━━━━━━━━━━━━━━━━┩\n",
       "│ dense (<span style=\"color: #0087ff; text-decoration-color: #0087ff\">Dense</span>)                        │ (<span style=\"color: #00d7ff; text-decoration-color: #00d7ff\">None</span>, <span style=\"color: #00af00; text-decoration-color: #00af00\">98</span>)                  │          <span style=\"color: #00af00; text-decoration-color: #00af00\">10,388</span> │\n",
       "├──────────────────────────────────────┼─────────────────────────────┼─────────────────┤\n",
       "│ dense_1 (<span style=\"color: #0087ff; text-decoration-color: #0087ff\">Dense</span>)                      │ (<span style=\"color: #00d7ff; text-decoration-color: #00d7ff\">None</span>, <span style=\"color: #00af00; text-decoration-color: #00af00\">48</span>)                  │           <span style=\"color: #00af00; text-decoration-color: #00af00\">4,752</span> │\n",
       "├──────────────────────────────────────┼─────────────────────────────┼─────────────────┤\n",
       "│ dense_2 (<span style=\"color: #0087ff; text-decoration-color: #0087ff\">Dense</span>)                      │ (<span style=\"color: #00d7ff; text-decoration-color: #00d7ff\">None</span>, <span style=\"color: #00af00; text-decoration-color: #00af00\">1</span>)                   │              <span style=\"color: #00af00; text-decoration-color: #00af00\">49</span> │\n",
       "└──────────────────────────────────────┴─────────────────────────────┴─────────────────┘\n",
       "</pre>\n"
      ],
      "text/plain": [
       "┏━━━━━━━━━━━━━━━━━━━━━━━━━━━━━━━━━━━━━━┳━━━━━━━━━━━━━━━━━━━━━━━━━━━━━┳━━━━━━━━━━━━━━━━━┓\n",
       "┃\u001b[1m \u001b[0m\u001b[1mLayer (type)                        \u001b[0m\u001b[1m \u001b[0m┃\u001b[1m \u001b[0m\u001b[1mOutput Shape               \u001b[0m\u001b[1m \u001b[0m┃\u001b[1m \u001b[0m\u001b[1m        Param #\u001b[0m\u001b[1m \u001b[0m┃\n",
       "┡━━━━━━━━━━━━━━━━━━━━━━━━━━━━━━━━━━━━━━╇━━━━━━━━━━━━━━━━━━━━━━━━━━━━━╇━━━━━━━━━━━━━━━━━┩\n",
       "│ dense (\u001b[38;5;33mDense\u001b[0m)                        │ (\u001b[38;5;45mNone\u001b[0m, \u001b[38;5;34m98\u001b[0m)                  │          \u001b[38;5;34m10,388\u001b[0m │\n",
       "├──────────────────────────────────────┼─────────────────────────────┼─────────────────┤\n",
       "│ dense_1 (\u001b[38;5;33mDense\u001b[0m)                      │ (\u001b[38;5;45mNone\u001b[0m, \u001b[38;5;34m48\u001b[0m)                  │           \u001b[38;5;34m4,752\u001b[0m │\n",
       "├──────────────────────────────────────┼─────────────────────────────┼─────────────────┤\n",
       "│ dense_2 (\u001b[38;5;33mDense\u001b[0m)                      │ (\u001b[38;5;45mNone\u001b[0m, \u001b[38;5;34m1\u001b[0m)                   │              \u001b[38;5;34m49\u001b[0m │\n",
       "└──────────────────────────────────────┴─────────────────────────────┴─────────────────┘\n"
      ]
     },
     "metadata": {},
     "output_type": "display_data"
    },
    {
     "data": {
      "text/html": [
       "<pre style=\"white-space:pre;overflow-x:auto;line-height:normal;font-family:Menlo,'DejaVu Sans Mono',consolas,'Courier New',monospace\"><span style=\"font-weight: bold\"> Total params: </span><span style=\"color: #00af00; text-decoration-color: #00af00\">15,189</span> (59.33 KB)\n",
       "</pre>\n"
      ],
      "text/plain": [
       "\u001b[1m Total params: \u001b[0m\u001b[38;5;34m15,189\u001b[0m (59.33 KB)\n"
      ]
     },
     "metadata": {},
     "output_type": "display_data"
    },
    {
     "data": {
      "text/html": [
       "<pre style=\"white-space:pre;overflow-x:auto;line-height:normal;font-family:Menlo,'DejaVu Sans Mono',consolas,'Courier New',monospace\"><span style=\"font-weight: bold\"> Trainable params: </span><span style=\"color: #00af00; text-decoration-color: #00af00\">15,189</span> (59.33 KB)\n",
       "</pre>\n"
      ],
      "text/plain": [
       "\u001b[1m Trainable params: \u001b[0m\u001b[38;5;34m15,189\u001b[0m (59.33 KB)\n"
      ]
     },
     "metadata": {},
     "output_type": "display_data"
    },
    {
     "data": {
      "text/html": [
       "<pre style=\"white-space:pre;overflow-x:auto;line-height:normal;font-family:Menlo,'DejaVu Sans Mono',consolas,'Courier New',monospace\"><span style=\"font-weight: bold\"> Non-trainable params: </span><span style=\"color: #00af00; text-decoration-color: #00af00\">0</span> (0.00 B)\n",
       "</pre>\n"
      ],
      "text/plain": [
       "\u001b[1m Non-trainable params: \u001b[0m\u001b[38;5;34m0\u001b[0m (0.00 B)\n"
      ]
     },
     "metadata": {},
     "output_type": "display_data"
    },
    {
     "name": "stdout",
     "output_type": "stream",
     "text": [
      "\n",
      "Model 8 Summary:\n"
     ]
    },
    {
     "data": {
      "text/html": [
       "<pre style=\"white-space:pre;overflow-x:auto;line-height:normal;font-family:Menlo,'DejaVu Sans Mono',consolas,'Courier New',monospace\"><span style=\"font-weight: bold\">Model: \"sequential\"</span>\n",
       "</pre>\n"
      ],
      "text/plain": [
       "\u001b[1mModel: \"sequential\"\u001b[0m\n"
      ]
     },
     "metadata": {},
     "output_type": "display_data"
    },
    {
     "data": {
      "text/html": [
       "<pre style=\"white-space:pre;overflow-x:auto;line-height:normal;font-family:Menlo,'DejaVu Sans Mono',consolas,'Courier New',monospace\">┏━━━━━━━━━━━━━━━━━━━━━━━━━━━━━━━━━━━━━━┳━━━━━━━━━━━━━━━━━━━━━━━━━━━━━┳━━━━━━━━━━━━━━━━━┓\n",
       "┃<span style=\"font-weight: bold\"> Layer (type)                         </span>┃<span style=\"font-weight: bold\"> Output Shape                </span>┃<span style=\"font-weight: bold\">         Param # </span>┃\n",
       "┡━━━━━━━━━━━━━━━━━━━━━━━━━━━━━━━━━━━━━━╇━━━━━━━━━━━━━━━━━━━━━━━━━━━━━╇━━━━━━━━━━━━━━━━━┩\n",
       "│ dense (<span style=\"color: #0087ff; text-decoration-color: #0087ff\">Dense</span>)                        │ (<span style=\"color: #00d7ff; text-decoration-color: #00d7ff\">None</span>, <span style=\"color: #00af00; text-decoration-color: #00af00\">28</span>)                  │           <span style=\"color: #00af00; text-decoration-color: #00af00\">2,968</span> │\n",
       "├──────────────────────────────────────┼─────────────────────────────┼─────────────────┤\n",
       "│ dense_1 (<span style=\"color: #0087ff; text-decoration-color: #0087ff\">Dense</span>)                      │ (<span style=\"color: #00d7ff; text-decoration-color: #00d7ff\">None</span>, <span style=\"color: #00af00; text-decoration-color: #00af00\">118</span>)                 │           <span style=\"color: #00af00; text-decoration-color: #00af00\">3,422</span> │\n",
       "├──────────────────────────────────────┼─────────────────────────────┼─────────────────┤\n",
       "│ dense_2 (<span style=\"color: #0087ff; text-decoration-color: #0087ff\">Dense</span>)                      │ (<span style=\"color: #00d7ff; text-decoration-color: #00d7ff\">None</span>, <span style=\"color: #00af00; text-decoration-color: #00af00\">1</span>)                   │             <span style=\"color: #00af00; text-decoration-color: #00af00\">119</span> │\n",
       "└──────────────────────────────────────┴─────────────────────────────┴─────────────────┘\n",
       "</pre>\n"
      ],
      "text/plain": [
       "┏━━━━━━━━━━━━━━━━━━━━━━━━━━━━━━━━━━━━━━┳━━━━━━━━━━━━━━━━━━━━━━━━━━━━━┳━━━━━━━━━━━━━━━━━┓\n",
       "┃\u001b[1m \u001b[0m\u001b[1mLayer (type)                        \u001b[0m\u001b[1m \u001b[0m┃\u001b[1m \u001b[0m\u001b[1mOutput Shape               \u001b[0m\u001b[1m \u001b[0m┃\u001b[1m \u001b[0m\u001b[1m        Param #\u001b[0m\u001b[1m \u001b[0m┃\n",
       "┡━━━━━━━━━━━━━━━━━━━━━━━━━━━━━━━━━━━━━━╇━━━━━━━━━━━━━━━━━━━━━━━━━━━━━╇━━━━━━━━━━━━━━━━━┩\n",
       "│ dense (\u001b[38;5;33mDense\u001b[0m)                        │ (\u001b[38;5;45mNone\u001b[0m, \u001b[38;5;34m28\u001b[0m)                  │           \u001b[38;5;34m2,968\u001b[0m │\n",
       "├──────────────────────────────────────┼─────────────────────────────┼─────────────────┤\n",
       "│ dense_1 (\u001b[38;5;33mDense\u001b[0m)                      │ (\u001b[38;5;45mNone\u001b[0m, \u001b[38;5;34m118\u001b[0m)                 │           \u001b[38;5;34m3,422\u001b[0m │\n",
       "├──────────────────────────────────────┼─────────────────────────────┼─────────────────┤\n",
       "│ dense_2 (\u001b[38;5;33mDense\u001b[0m)                      │ (\u001b[38;5;45mNone\u001b[0m, \u001b[38;5;34m1\u001b[0m)                   │             \u001b[38;5;34m119\u001b[0m │\n",
       "└──────────────────────────────────────┴─────────────────────────────┴─────────────────┘\n"
      ]
     },
     "metadata": {},
     "output_type": "display_data"
    },
    {
     "data": {
      "text/html": [
       "<pre style=\"white-space:pre;overflow-x:auto;line-height:normal;font-family:Menlo,'DejaVu Sans Mono',consolas,'Courier New',monospace\"><span style=\"font-weight: bold\"> Total params: </span><span style=\"color: #00af00; text-decoration-color: #00af00\">6,509</span> (25.43 KB)\n",
       "</pre>\n"
      ],
      "text/plain": [
       "\u001b[1m Total params: \u001b[0m\u001b[38;5;34m6,509\u001b[0m (25.43 KB)\n"
      ]
     },
     "metadata": {},
     "output_type": "display_data"
    },
    {
     "data": {
      "text/html": [
       "<pre style=\"white-space:pre;overflow-x:auto;line-height:normal;font-family:Menlo,'DejaVu Sans Mono',consolas,'Courier New',monospace\"><span style=\"font-weight: bold\"> Trainable params: </span><span style=\"color: #00af00; text-decoration-color: #00af00\">6,509</span> (25.43 KB)\n",
       "</pre>\n"
      ],
      "text/plain": [
       "\u001b[1m Trainable params: \u001b[0m\u001b[38;5;34m6,509\u001b[0m (25.43 KB)\n"
      ]
     },
     "metadata": {},
     "output_type": "display_data"
    },
    {
     "data": {
      "text/html": [
       "<pre style=\"white-space:pre;overflow-x:auto;line-height:normal;font-family:Menlo,'DejaVu Sans Mono',consolas,'Courier New',monospace\"><span style=\"font-weight: bold\"> Non-trainable params: </span><span style=\"color: #00af00; text-decoration-color: #00af00\">0</span> (0.00 B)\n",
       "</pre>\n"
      ],
      "text/plain": [
       "\u001b[1m Non-trainable params: \u001b[0m\u001b[38;5;34m0\u001b[0m (0.00 B)\n"
      ]
     },
     "metadata": {},
     "output_type": "display_data"
    },
    {
     "name": "stdout",
     "output_type": "stream",
     "text": [
      "\n",
      "Model 9 Summary:\n"
     ]
    },
    {
     "data": {
      "text/html": [
       "<pre style=\"white-space:pre;overflow-x:auto;line-height:normal;font-family:Menlo,'DejaVu Sans Mono',consolas,'Courier New',monospace\"><span style=\"font-weight: bold\">Model: \"sequential\"</span>\n",
       "</pre>\n"
      ],
      "text/plain": [
       "\u001b[1mModel: \"sequential\"\u001b[0m\n"
      ]
     },
     "metadata": {},
     "output_type": "display_data"
    },
    {
     "data": {
      "text/html": [
       "<pre style=\"white-space:pre;overflow-x:auto;line-height:normal;font-family:Menlo,'DejaVu Sans Mono',consolas,'Courier New',monospace\">┏━━━━━━━━━━━━━━━━━━━━━━━━━━━━━━━━━━━━━━┳━━━━━━━━━━━━━━━━━━━━━━━━━━━━━┳━━━━━━━━━━━━━━━━━┓\n",
       "┃<span style=\"font-weight: bold\"> Layer (type)                         </span>┃<span style=\"font-weight: bold\"> Output Shape                </span>┃<span style=\"font-weight: bold\">         Param # </span>┃\n",
       "┡━━━━━━━━━━━━━━━━━━━━━━━━━━━━━━━━━━━━━━╇━━━━━━━━━━━━━━━━━━━━━━━━━━━━━╇━━━━━━━━━━━━━━━━━┩\n",
       "│ dense (<span style=\"color: #0087ff; text-decoration-color: #0087ff\">Dense</span>)                        │ (<span style=\"color: #00d7ff; text-decoration-color: #00d7ff\">None</span>, <span style=\"color: #00af00; text-decoration-color: #00af00\">88</span>)                  │           <span style=\"color: #00af00; text-decoration-color: #00af00\">9,328</span> │\n",
       "├──────────────────────────────────────┼─────────────────────────────┼─────────────────┤\n",
       "│ dense_1 (<span style=\"color: #0087ff; text-decoration-color: #0087ff\">Dense</span>)                      │ (<span style=\"color: #00d7ff; text-decoration-color: #00d7ff\">None</span>, <span style=\"color: #00af00; text-decoration-color: #00af00\">128</span>)                 │          <span style=\"color: #00af00; text-decoration-color: #00af00\">11,392</span> │\n",
       "├──────────────────────────────────────┼─────────────────────────────┼─────────────────┤\n",
       "│ dense_2 (<span style=\"color: #0087ff; text-decoration-color: #0087ff\">Dense</span>)                      │ (<span style=\"color: #00d7ff; text-decoration-color: #00d7ff\">None</span>, <span style=\"color: #00af00; text-decoration-color: #00af00\">1</span>)                   │             <span style=\"color: #00af00; text-decoration-color: #00af00\">129</span> │\n",
       "└──────────────────────────────────────┴─────────────────────────────┴─────────────────┘\n",
       "</pre>\n"
      ],
      "text/plain": [
       "┏━━━━━━━━━━━━━━━━━━━━━━━━━━━━━━━━━━━━━━┳━━━━━━━━━━━━━━━━━━━━━━━━━━━━━┳━━━━━━━━━━━━━━━━━┓\n",
       "┃\u001b[1m \u001b[0m\u001b[1mLayer (type)                        \u001b[0m\u001b[1m \u001b[0m┃\u001b[1m \u001b[0m\u001b[1mOutput Shape               \u001b[0m\u001b[1m \u001b[0m┃\u001b[1m \u001b[0m\u001b[1m        Param #\u001b[0m\u001b[1m \u001b[0m┃\n",
       "┡━━━━━━━━━━━━━━━━━━━━━━━━━━━━━━━━━━━━━━╇━━━━━━━━━━━━━━━━━━━━━━━━━━━━━╇━━━━━━━━━━━━━━━━━┩\n",
       "│ dense (\u001b[38;5;33mDense\u001b[0m)                        │ (\u001b[38;5;45mNone\u001b[0m, \u001b[38;5;34m88\u001b[0m)                  │           \u001b[38;5;34m9,328\u001b[0m │\n",
       "├──────────────────────────────────────┼─────────────────────────────┼─────────────────┤\n",
       "│ dense_1 (\u001b[38;5;33mDense\u001b[0m)                      │ (\u001b[38;5;45mNone\u001b[0m, \u001b[38;5;34m128\u001b[0m)                 │          \u001b[38;5;34m11,392\u001b[0m │\n",
       "├──────────────────────────────────────┼─────────────────────────────┼─────────────────┤\n",
       "│ dense_2 (\u001b[38;5;33mDense\u001b[0m)                      │ (\u001b[38;5;45mNone\u001b[0m, \u001b[38;5;34m1\u001b[0m)                   │             \u001b[38;5;34m129\u001b[0m │\n",
       "└──────────────────────────────────────┴─────────────────────────────┴─────────────────┘\n"
      ]
     },
     "metadata": {},
     "output_type": "display_data"
    },
    {
     "data": {
      "text/html": [
       "<pre style=\"white-space:pre;overflow-x:auto;line-height:normal;font-family:Menlo,'DejaVu Sans Mono',consolas,'Courier New',monospace\"><span style=\"font-weight: bold\"> Total params: </span><span style=\"color: #00af00; text-decoration-color: #00af00\">20,849</span> (81.44 KB)\n",
       "</pre>\n"
      ],
      "text/plain": [
       "\u001b[1m Total params: \u001b[0m\u001b[38;5;34m20,849\u001b[0m (81.44 KB)\n"
      ]
     },
     "metadata": {},
     "output_type": "display_data"
    },
    {
     "data": {
      "text/html": [
       "<pre style=\"white-space:pre;overflow-x:auto;line-height:normal;font-family:Menlo,'DejaVu Sans Mono',consolas,'Courier New',monospace\"><span style=\"font-weight: bold\"> Trainable params: </span><span style=\"color: #00af00; text-decoration-color: #00af00\">20,849</span> (81.44 KB)\n",
       "</pre>\n"
      ],
      "text/plain": [
       "\u001b[1m Trainable params: \u001b[0m\u001b[38;5;34m20,849\u001b[0m (81.44 KB)\n"
      ]
     },
     "metadata": {},
     "output_type": "display_data"
    },
    {
     "data": {
      "text/html": [
       "<pre style=\"white-space:pre;overflow-x:auto;line-height:normal;font-family:Menlo,'DejaVu Sans Mono',consolas,'Courier New',monospace\"><span style=\"font-weight: bold\"> Non-trainable params: </span><span style=\"color: #00af00; text-decoration-color: #00af00\">0</span> (0.00 B)\n",
       "</pre>\n"
      ],
      "text/plain": [
       "\u001b[1m Non-trainable params: \u001b[0m\u001b[38;5;34m0\u001b[0m (0.00 B)\n"
      ]
     },
     "metadata": {},
     "output_type": "display_data"
    },
    {
     "name": "stdout",
     "output_type": "stream",
     "text": [
      "\n",
      "Model 10 Summary:\n"
     ]
    },
    {
     "data": {
      "text/html": [
       "<pre style=\"white-space:pre;overflow-x:auto;line-height:normal;font-family:Menlo,'DejaVu Sans Mono',consolas,'Courier New',monospace\"><span style=\"font-weight: bold\">Model: \"sequential\"</span>\n",
       "</pre>\n"
      ],
      "text/plain": [
       "\u001b[1mModel: \"sequential\"\u001b[0m\n"
      ]
     },
     "metadata": {},
     "output_type": "display_data"
    },
    {
     "data": {
      "text/html": [
       "<pre style=\"white-space:pre;overflow-x:auto;line-height:normal;font-family:Menlo,'DejaVu Sans Mono',consolas,'Courier New',monospace\">┏━━━━━━━━━━━━━━━━━━━━━━━━━━━━━━━━━━━━━━┳━━━━━━━━━━━━━━━━━━━━━━━━━━━━━┳━━━━━━━━━━━━━━━━━┓\n",
       "┃<span style=\"font-weight: bold\"> Layer (type)                         </span>┃<span style=\"font-weight: bold\"> Output Shape                </span>┃<span style=\"font-weight: bold\">         Param # </span>┃\n",
       "┡━━━━━━━━━━━━━━━━━━━━━━━━━━━━━━━━━━━━━━╇━━━━━━━━━━━━━━━━━━━━━━━━━━━━━╇━━━━━━━━━━━━━━━━━┩\n",
       "│ dense (<span style=\"color: #0087ff; text-decoration-color: #0087ff\">Dense</span>)                        │ (<span style=\"color: #00d7ff; text-decoration-color: #00d7ff\">None</span>, <span style=\"color: #00af00; text-decoration-color: #00af00\">68</span>)                  │           <span style=\"color: #00af00; text-decoration-color: #00af00\">7,208</span> │\n",
       "├──────────────────────────────────────┼─────────────────────────────┼─────────────────┤\n",
       "│ dense_1 (<span style=\"color: #0087ff; text-decoration-color: #0087ff\">Dense</span>)                      │ (<span style=\"color: #00d7ff; text-decoration-color: #00d7ff\">None</span>, <span style=\"color: #00af00; text-decoration-color: #00af00\">48</span>)                  │           <span style=\"color: #00af00; text-decoration-color: #00af00\">3,312</span> │\n",
       "├──────────────────────────────────────┼─────────────────────────────┼─────────────────┤\n",
       "│ dense_2 (<span style=\"color: #0087ff; text-decoration-color: #0087ff\">Dense</span>)                      │ (<span style=\"color: #00d7ff; text-decoration-color: #00d7ff\">None</span>, <span style=\"color: #00af00; text-decoration-color: #00af00\">1</span>)                   │              <span style=\"color: #00af00; text-decoration-color: #00af00\">49</span> │\n",
       "└──────────────────────────────────────┴─────────────────────────────┴─────────────────┘\n",
       "</pre>\n"
      ],
      "text/plain": [
       "┏━━━━━━━━━━━━━━━━━━━━━━━━━━━━━━━━━━━━━━┳━━━━━━━━━━━━━━━━━━━━━━━━━━━━━┳━━━━━━━━━━━━━━━━━┓\n",
       "┃\u001b[1m \u001b[0m\u001b[1mLayer (type)                        \u001b[0m\u001b[1m \u001b[0m┃\u001b[1m \u001b[0m\u001b[1mOutput Shape               \u001b[0m\u001b[1m \u001b[0m┃\u001b[1m \u001b[0m\u001b[1m        Param #\u001b[0m\u001b[1m \u001b[0m┃\n",
       "┡━━━━━━━━━━━━━━━━━━━━━━━━━━━━━━━━━━━━━━╇━━━━━━━━━━━━━━━━━━━━━━━━━━━━━╇━━━━━━━━━━━━━━━━━┩\n",
       "│ dense (\u001b[38;5;33mDense\u001b[0m)                        │ (\u001b[38;5;45mNone\u001b[0m, \u001b[38;5;34m68\u001b[0m)                  │           \u001b[38;5;34m7,208\u001b[0m │\n",
       "├──────────────────────────────────────┼─────────────────────────────┼─────────────────┤\n",
       "│ dense_1 (\u001b[38;5;33mDense\u001b[0m)                      │ (\u001b[38;5;45mNone\u001b[0m, \u001b[38;5;34m48\u001b[0m)                  │           \u001b[38;5;34m3,312\u001b[0m │\n",
       "├──────────────────────────────────────┼─────────────────────────────┼─────────────────┤\n",
       "│ dense_2 (\u001b[38;5;33mDense\u001b[0m)                      │ (\u001b[38;5;45mNone\u001b[0m, \u001b[38;5;34m1\u001b[0m)                   │              \u001b[38;5;34m49\u001b[0m │\n",
       "└──────────────────────────────────────┴─────────────────────────────┴─────────────────┘\n"
      ]
     },
     "metadata": {},
     "output_type": "display_data"
    },
    {
     "data": {
      "text/html": [
       "<pre style=\"white-space:pre;overflow-x:auto;line-height:normal;font-family:Menlo,'DejaVu Sans Mono',consolas,'Courier New',monospace\"><span style=\"font-weight: bold\"> Total params: </span><span style=\"color: #00af00; text-decoration-color: #00af00\">10,569</span> (41.29 KB)\n",
       "</pre>\n"
      ],
      "text/plain": [
       "\u001b[1m Total params: \u001b[0m\u001b[38;5;34m10,569\u001b[0m (41.29 KB)\n"
      ]
     },
     "metadata": {},
     "output_type": "display_data"
    },
    {
     "data": {
      "text/html": [
       "<pre style=\"white-space:pre;overflow-x:auto;line-height:normal;font-family:Menlo,'DejaVu Sans Mono',consolas,'Courier New',monospace\"><span style=\"font-weight: bold\"> Trainable params: </span><span style=\"color: #00af00; text-decoration-color: #00af00\">10,569</span> (41.29 KB)\n",
       "</pre>\n"
      ],
      "text/plain": [
       "\u001b[1m Trainable params: \u001b[0m\u001b[38;5;34m10,569\u001b[0m (41.29 KB)\n"
      ]
     },
     "metadata": {},
     "output_type": "display_data"
    },
    {
     "data": {
      "text/html": [
       "<pre style=\"white-space:pre;overflow-x:auto;line-height:normal;font-family:Menlo,'DejaVu Sans Mono',consolas,'Courier New',monospace\"><span style=\"font-weight: bold\"> Non-trainable params: </span><span style=\"color: #00af00; text-decoration-color: #00af00\">0</span> (0.00 B)\n",
       "</pre>\n"
      ],
      "text/plain": [
       "\u001b[1m Non-trainable params: \u001b[0m\u001b[38;5;34m0\u001b[0m (0.00 B)\n"
      ]
     },
     "metadata": {},
     "output_type": "display_data"
    },
    {
     "name": "stdout",
     "output_type": "stream",
     "text": [
      "\n",
      "Model 1 Optimizer:\n",
      "  name: SGD\n",
      "  learning_rate: 0.0822371318936348\n",
      "  weight_decay: None\n",
      "  clipnorm: None\n",
      "  global_clipnorm: None\n",
      "  clipvalue: None\n",
      "  use_ema: False\n",
      "  ema_momentum: 0.99\n",
      "  ema_overwrite_frequency: None\n",
      "  loss_scale_factor: None\n",
      "  gradient_accumulation_steps: None\n",
      "  momentum: 0.0\n",
      "  nesterov: False\n",
      "\n",
      "Model 2 Optimizer:\n",
      "  name: SGD\n",
      "  learning_rate: 0.032782554626464844\n",
      "  weight_decay: None\n",
      "  clipnorm: None\n",
      "  global_clipnorm: None\n",
      "  clipvalue: None\n",
      "  use_ema: False\n",
      "  ema_momentum: 0.99\n",
      "  ema_overwrite_frequency: None\n",
      "  loss_scale_factor: None\n",
      "  gradient_accumulation_steps: None\n",
      "  momentum: 0.0\n",
      "  nesterov: False\n",
      "\n",
      "Model 3 Optimizer:\n",
      "  name: SGD\n",
      "  learning_rate: 0.07021162658929825\n",
      "  weight_decay: None\n",
      "  clipnorm: None\n",
      "  global_clipnorm: None\n",
      "  clipvalue: None\n",
      "  use_ema: False\n",
      "  ema_momentum: 0.99\n",
      "  ema_overwrite_frequency: None\n",
      "  loss_scale_factor: None\n",
      "  gradient_accumulation_steps: None\n",
      "  momentum: 0.0\n",
      "  nesterov: False\n",
      "\n",
      "Model 4 Optimizer:\n",
      "  name: SGD\n",
      "  learning_rate: 0.08155670762062073\n",
      "  weight_decay: None\n",
      "  clipnorm: None\n",
      "  global_clipnorm: None\n",
      "  clipvalue: None\n",
      "  use_ema: False\n",
      "  ema_momentum: 0.99\n",
      "  ema_overwrite_frequency: None\n",
      "  loss_scale_factor: None\n",
      "  gradient_accumulation_steps: None\n",
      "  momentum: 0.0\n",
      "  nesterov: False\n",
      "\n",
      "Model 5 Optimizer:\n",
      "  name: SGD\n",
      "  learning_rate: 0.03574675694108009\n",
      "  weight_decay: None\n",
      "  clipnorm: None\n",
      "  global_clipnorm: None\n",
      "  clipvalue: None\n",
      "  use_ema: False\n",
      "  ema_momentum: 0.99\n",
      "  ema_overwrite_frequency: None\n",
      "  loss_scale_factor: None\n",
      "  gradient_accumulation_steps: None\n",
      "  momentum: 0.0\n",
      "  nesterov: False\n",
      "\n",
      "Model 6 Optimizer:\n",
      "  name: SGD\n",
      "  learning_rate: 0.025762507691979408\n",
      "  weight_decay: None\n",
      "  clipnorm: None\n",
      "  global_clipnorm: None\n",
      "  clipvalue: None\n",
      "  use_ema: False\n",
      "  ema_momentum: 0.99\n",
      "  ema_overwrite_frequency: None\n",
      "  loss_scale_factor: None\n",
      "  gradient_accumulation_steps: None\n",
      "  momentum: 0.0\n",
      "  nesterov: False\n",
      "\n",
      "Model 7 Optimizer:\n",
      "  name: SGD\n",
      "  learning_rate: 0.06793125718832016\n",
      "  weight_decay: None\n",
      "  clipnorm: None\n",
      "  global_clipnorm: None\n",
      "  clipvalue: None\n",
      "  use_ema: False\n",
      "  ema_momentum: 0.99\n",
      "  ema_overwrite_frequency: None\n",
      "  loss_scale_factor: None\n",
      "  gradient_accumulation_steps: None\n",
      "  momentum: 0.0\n",
      "  nesterov: False\n",
      "\n",
      "Model 8 Optimizer:\n",
      "  name: SGD\n",
      "  learning_rate: 0.028309809044003487\n",
      "  weight_decay: None\n",
      "  clipnorm: None\n",
      "  global_clipnorm: None\n",
      "  clipvalue: None\n",
      "  use_ema: False\n",
      "  ema_momentum: 0.99\n",
      "  ema_overwrite_frequency: None\n",
      "  loss_scale_factor: None\n",
      "  gradient_accumulation_steps: None\n",
      "  momentum: 0.0\n",
      "  nesterov: False\n",
      "\n",
      "Model 9 Optimizer:\n",
      "  name: SGD\n",
      "  learning_rate: 0.07386760413646698\n",
      "  weight_decay: None\n",
      "  clipnorm: None\n",
      "  global_clipnorm: None\n",
      "  clipvalue: None\n",
      "  use_ema: False\n",
      "  ema_momentum: 0.99\n",
      "  ema_overwrite_frequency: None\n",
      "  loss_scale_factor: None\n",
      "  gradient_accumulation_steps: None\n",
      "  momentum: 0.0\n",
      "  nesterov: False\n",
      "\n",
      "Model 10 Optimizer:\n",
      "  name: SGD\n",
      "  learning_rate: 0.012991932220757008\n",
      "  weight_decay: None\n",
      "  clipnorm: None\n",
      "  global_clipnorm: None\n",
      "  clipvalue: None\n",
      "  use_ema: False\n",
      "  ema_momentum: 0.99\n",
      "  ema_overwrite_frequency: None\n",
      "  loss_scale_factor: None\n",
      "  gradient_accumulation_steps: None\n",
      "  momentum: 0.0\n",
      "  nesterov: False\n"
     ]
    }
   ],
   "source": [
    "# Retrieve the best model from the tuner\n",
    "top_models = tuner.get_best_models(num_models=10)\n",
    "best_model = tuner.get_best_models(num_models=1)[0]\n",
    "\n",
    "# Display summaries of the top models\n",
    "for i, model in enumerate(top_models, start=1):\n",
    "    print(f\"\\nModel {i} Summary:\")\n",
    "    model.summary()\n",
    "# Display the optimizer for each model\n",
    "for i, model in enumerate(top_models, start=1):\n",
    "    optimizer_config = model.optimizer.get_config()  # Get optimizer configuration\n",
    "    print(f\"\\nModel {i} Optimizer:\")\n",
    "    for key, value in optimizer_config.items():\n",
    "        print(f\"  {key}: {value}\")\n"
   ]
  },
  {
   "cell_type": "markdown",
   "metadata": {
    "id": "OW2flH7WKkfz"
   },
   "source": [
    "Best model performance"
   ]
  },
  {
   "cell_type": "code",
   "execution_count": 14,
   "metadata": {
    "colab": {
     "base_uri": "https://localhost:8080/",
     "height": 907
    },
    "id": "um1xObIVKml9",
    "outputId": "649ab787-4801-4fde-e512-d939641dad91"
   },
   "outputs": [
    {
     "name": "stdout",
     "output_type": "stream",
     "text": [
      "Validation Accuracy of best model: 0.851\n",
      "\u001b[1m283/283\u001b[0m \u001b[32m━━━━━━━━━━━━━━━━━━━━\u001b[0m\u001b[37m\u001b[0m \u001b[1m2s\u001b[0m 6ms/step\n",
      "Confusion Matrix:\n",
      "[[6369  434]\n",
      " [ 910 1332]]\n"
     ]
    },
    {
     "data": {
      "image/png": "[encoded data removed]",
      "text/plain": [
       "<Figure size 600x400 with 2 Axes>"
      ]
     },
     "metadata": {},
     "output_type": "display_data"
    },
    {
     "name": "stdout",
     "output_type": "stream",
     "text": [
      "ROC AUC: 0.906\n"
     ]
    },
    {
     "data": {
      "image/png": "[encoded data removed]",
      "text/plain": [
       "<Figure size 600x400 with 1 Axes>"
      ]
     },
     "metadata": {},
     "output_type": "display_data"
    }
   ],
   "source": [
    "# Evaluate on the validation set\n",
    "val_loss, val_accuracy = best_model.evaluate(X_val_search, y_val_search, verbose=0)\n",
    "print(f\"Validation Accuracy of best model: {val_accuracy:.3f}\")\n",
    "\n",
    "# Get predicted probabilities and convert them to binary class predictions\n",
    "y_pred_prob = best_model.predict(X_val_search)\n",
    "y_pred_prob = y_pred_prob.ravel()  # flatten in case it's shaped as (n,1)\n",
    "y_pred = (y_pred_prob >= 0.5).astype(int)\n",
    "\n",
    "import seaborn as sns\n",
    "import matplotlib.pyplot as plt\n",
    "from sklearn.metrics import confusion_matrix\n",
    "\n",
    "# Assuming y_val_search are the true labels and y_pred are your predicted labels:\n",
    "cm = confusion_matrix(y_val_search, y_pred)\n",
    "print(\"Confusion Matrix:\")\n",
    "print(cm)\n",
    "\n",
    "# Plot the confusion matrix with seaborn heatmap\n",
    "plt.figure(figsize=(6, 4))\n",
    "sns.heatmap(cm, annot=True, fmt=\"d\", cmap=\"Blues\",\n",
    "            xticklabels=['<=50K', '>50K'], yticklabels=['<=50K', '>50K'])\n",
    "plt.xlabel('Predicted Label')\n",
    "plt.ylabel('True Label')\n",
    "plt.title('Confusion Matrix')\n",
    "plt.show()\n",
    "\n",
    "# Compute ROC curve and AUC\n",
    "from sklearn.metrics import roc_curve, auc\n",
    "fpr, tpr, thresholds = roc_curve(y_val_search, y_pred_prob)\n",
    "roc_auc = auc(fpr, tpr)\n",
    "print(f\"ROC AUC: {roc_auc:.3f}\")\n",
    "\n",
    "# Plot ROC curve (if you want to visualize it)\n",
    "plt.figure(figsize=(6,4))\n",
    "plt.plot(fpr, tpr, color='blue', lw=2, label=f'ROC curve (AUC = {roc_auc:.3f})')\n",
    "plt.plot([0, 1], [0, 1], color='red', lw=2, linestyle='--')\n",
    "plt.xlabel('False Positive Rate')\n",
    "plt.ylabel('True Positive Rate')\n",
    "plt.title('Receiver Operating Characteristic (ROC) Curve')\n",
    "plt.legend(loc='lower right')\n",
    "plt.show()\n"
   ]
  },
  {
   "cell_type": "markdown",
   "metadata": {
    "id": "I68lgot7JnBM"
   },
   "source": [
    "If need to save the best model"
   ]
  },
  {
   "cell_type": "code",
   "execution_count": null,
   "metadata": {
    "id": "zgjc-V-jJo8Q"
   },
   "outputs": [],
   "source": [
    "# Define the path to save the model in Google Drive\n",
    "gdrive_path = '/content/optML_mini_project/best_model_base_line.keras'\n",
    "# Save the model\n",
    "best_model.save(gdrive_path)\n",
    "\n",
    "%cd /content/optML_mini_project\n",
    "!git add --a\n",
    "!git commit -m \"Best base line model saved\"\n",
    "!git push"
   ]
  },
  {
   "cell_type": "markdown",
   "metadata": {
    "id": "qGtfWTnpcYzJ"
   },
   "source": [
    "# **Experiments:**\n",
    "  Training + evaluating all the different kind of regularization\n",
    "\n",
    "  - Baseline\n",
    "  - Dropout\n",
    "  - Weight Decay/L2\n",
    "  - Gradient Noise Injection\n",
    "  - ...."
   ]
  },
  {
   "cell_type": "markdown",
   "metadata": {
    "id": "4eqw5jNh84p6"
   },
   "source": [
    "##**Functions**"
   ]
  },
  {
   "cell_type": "code",
   "execution_count": 15,
   "metadata": {
    "id": "Bx8BU5J92lkp"
   },
   "outputs": [],
   "source": [
    "# Define a helper function to get the activation function\n",
    "def get_activation_fn(name):\n",
    "    if name.lower() == 'relu':\n",
    "        return nn.ReLU()\n",
    "    elif name.lower() == 'sigmoid':\n",
    "        return nn.Sigmoid()\n",
    "    elif name.lower() == 'tanh':\n",
    "        return nn.Tanh()\n",
    "    else:\n",
    "        raise ValueError(\"Unsupported activation function. Choose from 'relu', 'sigmoid', or 'tanh'.\")\n",
    "\n",
    "# Customizable MLP Model\n",
    "class MLP(nn.Module):\n",
    "    def __init__(self, input_dim, num_classes, amount_layers=2, neurons_per_layer=256,\n",
    "                 activation='relu', dropout_rate=0.0):\n",
    "        \"\"\"\n",
    "        input_dim: Number of input features.\n",
    "        num_classes: Number of classes in the output.\n",
    "        amount_layers: Number of hidden layers.\n",
    "        neurons_per_layer: Number of neurons in each hidden layer.\n",
    "        activation: Activation function to use ('relu', 'sigmoid', or 'tanh').\n",
    "        dropout_rate: Dropout rate to apply after each hidden layer.\n",
    "        \"\"\"\n",
    "        super(MLP, self).__init__()\n",
    "        self.hidden_layers = nn.ModuleList()\n",
    "        self.activation = get_activation_fn(activation)\n",
    "\n",
    "        # First hidden layer: from input_dim to neurons_per_layer.\n",
    "        self.hidden_layers.append(nn.Linear(input_dim, neurons_per_layer))\n",
    "\n",
    "        # Additional hidden layers.\n",
    "        for _ in range(amount_layers - 1):\n",
    "            self.hidden_layers.append(nn.Linear(neurons_per_layer, neurons_per_layer))\n",
    "\n",
    "        # Output layer.\n",
    "        self.output_layer = nn.Linear(neurons_per_layer, num_classes)\n",
    "\n",
    "        # Optional dropout layer.\n",
    "        self.use_dropout = dropout_rate > 0\n",
    "        if self.use_dropout:\n",
    "            self.dropout = nn.Dropout(dropout_rate)\n",
    "\n",
    "    def forward(self, x):\n",
    "        # Pass input through each hidden layer with activation and optional dropout.\n",
    "        for layer in self.hidden_layers:\n",
    "            x = self.activation(layer(x))\n",
    "            if self.use_dropout:\n",
    "                x = self.dropout(x)\n",
    "        # Output layer (no activation applied; use appropriate loss later).\n",
    "        x = self.output_layer(x)\n",
    "        return x"
   ]
  },
  {
   "cell_type": "code",
   "execution_count": 16,
   "metadata": {
    "id": "_C9n4I_L2pGa"
   },
   "outputs": [],
   "source": [
    "# 3. Define the training function.\n",
    "def train_model(model, optimizer, train_loader, epoch, num_epochs, grad_noise_std=0.0):\n",
    "    model.train()\n",
    "    criterion = nn.CrossEntropyLoss()   #Loss function\n",
    "    running_loss = 0.0\n",
    "    for data, target in tqdm(train_loader, desc=f\"Epoch {epoch+1}/{num_epochs}\"):\n",
    "        data, target = data.to(device), target.to(device)\n",
    "        optimizer.zero_grad()\n",
    "        output = model(data)\n",
    "        loss = criterion(output, target)\n",
    "        loss.backward()\n",
    "\n",
    "        # Optionally inject gradient noise\n",
    "        if grad_noise_std > 0.0:\n",
    "            with torch.no_grad():\n",
    "                for param in model.parameters():\n",
    "                    if param.grad is not None:\n",
    "                        noise = torch.randn_like(param.grad) * grad_noise_std\n",
    "                        param.grad.add_(noise)\n",
    "\n",
    "        optimizer.step()\n",
    "        running_loss += loss.item() * data.size(0)\n",
    "    avg_loss = running_loss / len(train_loader.dataset)\n",
    "    return avg_loss"
   ]
  },
  {
   "cell_type": "code",
   "execution_count": 17,
   "metadata": {
    "id": "Ho-1m_Dn3DE3"
   },
   "outputs": [],
   "source": [
    "# 5. Evaluate the model on the test data.\n",
    "def evaluate_model(model, data_loader):\n",
    "    model.eval()\n",
    "    correct = 0\n",
    "    total = 0\n",
    "    with torch.no_grad():\n",
    "        for data, target in data_loader:\n",
    "            data, target = data.to(device), target.to(device)\n",
    "            output = model(data)\n",
    "            pred = output.argmax(dim=1)\n",
    "            correct += (pred == target).sum().item()\n",
    "            total += target.size(0)\n",
    "    return correct / total"
   ]
  },
  {
   "cell_type": "code",
   "execution_count": 18,
   "metadata": {
    "id": "vdp4YPtu3Iqn"
   },
   "outputs": [],
   "source": [
    "# 5. Run cross-validation experiment.\n",
    "def run_experiment(name, test_loader, train_loader, neurons_per_layer, amount_layers, activation, learning_rate, epochs, dropout_rate=0.0, weight_decay=0.0, grad_noise_std=0.0):\n",
    "    print(f\"\\nStarting experiment: {name}\")\n",
    "    model = MLP(input_dim, num_classes, amount_layers, neurons_per_layer, activation, dropout_rate).to(device)\n",
    "    train_losses = []\n",
    "\n",
    "    start_time = time.time()\n",
    "    optimizer = optim.SGD(model.parameters(), lr=learning_rate, weight_decay=weight_decay)\n",
    "\n",
    "    for epoch in range(1, epochs+1):\n",
    "        train_loss = train_model(model, optimizer, train_loader, epoch, epochs+1, grad_noise_std=grad_noise_std)\n",
    "        train_losses.append(train_loss)\n",
    "        print(f\"Epoch {epoch}: Train Loss={train_loss:.4f}\")\n",
    "\n",
    "    elapsed_time = time.time() - start_time\n",
    "    print(f\"\\nTraining completed in {elapsed_time:.2f} seconds.\")\n",
    "\n",
    "    # 4. Plot the training loss after each epoch.\n",
    "    plt.figure()\n",
    "    plt.plot(range(1, epochs + 1), train_losses, marker='o')\n",
    "    plt.xlabel(\"Epoch\")\n",
    "    plt.ylabel(\"Training Loss\")\n",
    "    plt.title(\"Training Loss vs. Epoch\")\n",
    "    plt.grid(True)\n",
    "    plt.show()\n",
    "    acc = evaluate_model(model, test_loader)\n",
    "    print(f\"Test Accuracy: {acc:.4f}\")\n",
    "    return model, acc"
   ]
  },
  {
   "cell_type": "code",
   "execution_count": 19,
   "metadata": {
    "id": "_IaDpsAV8YKa"
   },
   "outputs": [],
   "source": [
    "# Hyperparameters for architecture\n",
    "amount_layers = 4\n",
    "neurons_per_layer = 64\n",
    "activation = 'sigmoid'       # choose 'relu', 'sigmoid', or 'tanh'\n"
   ]
  },
  {
   "cell_type": "code",
   "execution_count": 20,
   "metadata": {
    "id": "B-j-sTII7s8T"
   },
   "outputs": [],
   "source": [
    "# General Hyperparameters for training\n",
    "batch_size = 64\n",
    "epochs = 75\n",
    "learning_rate = 0.065\n",
    "\n",
    "train_loader = DataLoader(train_dataset, batch_size=batch_size, shuffle=True)\n",
    "test_loader = DataLoader(test_dataset, batch_size=batch_size, shuffle=False)"
   ]
  },
  {
   "cell_type": "markdown",
   "metadata": {
    "id": "OB657BuSRMcQ"
   },
   "source": [
    "##**Experiment 1: Baseline (no explicit regularization)**"
   ]
  },
  {
   "cell_type": "code",
   "execution_count": 22,
   "metadata": {
    "colab": {
     "base_uri": "https://localhost:8080/",
     "height": 1000,
     "referenced_widgets": [
      "d255b0c288c645d5b765e8269b88e440",
      "3d6ac3c20b824918aef6b2795569afbd",
      "ba805f121ef34a0db723d1a24f2a7fd0",
      "9d06f9a1454140c3b9f893bda741fdee",
      "e0335e24484a49fe904659195db46b67",
      "4f9f32e354594a07b21a8dab20ae4f2d",
      "fc42bcf304084544b7922fba792353d0",
      "4d9b8271beff4e78a45a256ac397505c",
      "bf7e0f48104249cd967ffe3bddd3b26a",
      "5936c5b5769f483694166658da0eadf1",
      "bf535f4ae9b446018e6330e5286b910b",
      "fc35fe8d481f4e3ebed2b5d3d7c025a2",
      "c5b2e1a43dff455fa5f341ce289b390d",
      "a1bdaee00cf846b4948edabbc9e00fe2",
      "b139a79bd8624f69a101dfd0f1bdd83d",
      "764f5dcc71d540fabe1c8c84fe29103a",
      "954d6bb9166e4b17bf72e1b93c7883fa",
      "923f7831a724467babc29779a330a761",
      "372d72c746dc4cd39e1c8e1d83da66e6",
      "c65590f1220a47d3b88ed69019a9322f",
      "d009a8919b1a486ba24eff03377c0621",
      "e93f3e9b0b114574833ad9da0f8c8df9",
      "9dc51b6a5e6b4161aa45e876b64b64d9",
      "6223cc9b45fc4751972a6a3b390c15d2",
      "9dbac800a0cd40a6ab4d01bc6d5afa86",
      "f057fc31bd6a4f4a9dcddb623da1300e",
      "5caf4a7950284c9989c146a3ca15334d",
      "0433856a15f4435dbedb7af050c13f8d",
      "d14cf9413f964655824a29d8c3a8d94d",
      "d2e1d4093e7944c386f4ae74cab81afd",
      "a5cf7a101ea2481f8bdd90a5e1adc76f",
      "14c2f01d5c2d45d38d51dab94b7209b6",
      "93e9b56bb0ee4906a782cc7c182417e0",
      "c092d5a06b4c4d8f94e105027c952ecf",
      "b40c2b0ecf014bab8832136345123876",
      "9b6de341a2b64d5babf21b11b18413ba",
      "9bb4d525d8e14a34ba8137cf998d9b6e",
      "2312dcf74763463cb2897dc53fbff079",
      "f5270f79c2ae4c9990d20f9c6956e100",
      "e0cf66e53c9745dba504f3551cd03ffb",
      "e1272dac988242acb7fc342b42975e03",
      "c14ffb35be154cb593364fdd6006d5ac",
      "a90b3b52375d45ac8eb74b98b3290108",
      "3b307fc9835b4ce1a0d34d873a787c79",
      "6809795a6d6643e6afb9aa6775e6607b",
      "e18fda43879c4da388b467470932080d",
      "050a31f636bb405fa65f691b272b2f65",
      "0ec4b78f1384496f9ab633b35116b2d2",
      "0177e5dabff34076be39433a07a4df11",
      "8f7978c6f8814308a3e8b252bc3f8708",
      "ace62e1158b84685afdbaa0b0afefaf6",
      "a563d1bbd9984722bc580c718e757439",
      "db037dda05a44beca191bba07e76217b",
      "d3138618cfca41959bd547d8951bbd1b",
      "2c2effe25a5c468f84a22d78e718646b",
      "9bbf64be97d94bdc8fe70f03a056fd30",
      "bca1149fa5fc41e280dad5880fd36e9d",
      "ba8784b30d4a458f9cb1316720e44f0e",
      "48f4fb136aab4e7cbba64ee67efa7260",
      "06b0559df03c4618a45cae5e17b0f054",
      "68d677862484409580e9245011f0c195",
      "aa525c7b1fdc4150beb1db4eddbac827",
      "f4b0d4721bee42758ab4cd01f6e7aace",
      "f5ffd7de873243a7b56dbb25209cb391",
      "6101417b02cf467fbaafbf12f07a4855",
      "3f46dc8165ce4ffa92b1cd55562f418d",
      "2cfc4ae14d524bbcb3f1c50cad0e9249",
      "ef88a3734f0346ecac3740e3bff7fb19",
      "14713a034511440985a81ef090ef9231",
      "896f330fa0eb43f5ae7de419feccff75",
      "30d772b6715243fdaf5834cc4fedf84a",
      "61cbd4db08ff445eb8749a5e627fd6d2",
      "ecbec9ee4bfc457f8c07dc1b795bf5ca",
      "aeb9d9cefb6f4f84b4632b6399e9359a",
      "669d8f67924a47888665fffd461da14a",
      "7a1e15b13c3640e2a678eef22937ca0a",
      "45ff0deb8e00483e9bd2e10403a67b9f",
      "3f2b7f511b964cb7bdb32b09c7596f31",
      "8ef980a2774b4507aab43d4f68558ac0",
      "88c01aa6a2494e358d7b214214a40422",
      "d774d3e541ad467d861ef6f9b1271c1a",
      "18402be5b503470e9bb6d2aba8246245",
      "c567dcf7882f4eceb4a2c0363989731f",
      "e22a4df502314af8828dad977907e956",
      "48c323759c2d4235b6b7ac81bf3fad6f",
      "fafd7b31e8bf43a5a2560c1d5f53212e",
      "287c7a9cd9ca462bbca669410c42be19",
      "39f909cebea24eea8f577a097afc0921",
      "c2b8e17c987845d3be7e8e5f1cb498e3",
      "37a17fd0cb93403f87fb4632ee94380a",
      "5472082754fc40beb5ba40479ca856e4",
      "a5a22e57bbbb446c88d458d17630bddf",
      "a5f2614cb1874d46b22768f2eadefd57",
      "9dae7a7d22e84d2f80b5422fb112ad53",
      "169147fd18f54f718e72900bf184968b",
      "e5f7544fc9854337ac0d527baec1acb3",
      "b4abd8b11c0b48d6bcb8bd16c7bacfde",
      "9ee194f2cdfb47e3a7408841176d5257",
      "0c1117f01642422db037cf0c02e28728",
      "49662d9a1d7b476eae4f49ad958692a9",
      "4f8081fe405e403994729d1882e35cb3",
      "07539b2757ea4214a484309fd62cd284",
      "279414261ebd432ab3289cb9b80fd1a2",
      "c80570c4aeb04a96a1bc7dc3cccd98d7",
      "0713945a750b4b9d99ba9138b5daa523",
      "47057817c9bf469484e705fc1f3960c0",
      "3e2a295dcc354b6daea080b781406737",
      "ef6dc47dfd974a4a9a52e75a35235030",
      "72bbc47488654e5798981e1ca6dc851c",
      "da8c4294c58142ad8c8329fc16cba58e",
      "be8c36cbcb2d45458c018ff86895e98b",
      "d1907bc61f5f4bd6bb3a3ad4ce112813",
      "91de852f19b0457f9d7a48d1d3b56228",
      "1dfc8d25613942ecb6345273f3627daa",
      "5578eda9307646d2b0b9a7ede916b9df",
      "3c667ddbf63c479094ddf32872c94009",
      "dbda6d67d7fd478197ea1345d9df6237",
      "8fcc70b7b82748a980106ac419fe5fcd",
      "e9bcbea0bdbe41b7af9b8eb1d4d57fdd",
      "caa03ac3c54a4a9090cfae1954afe22c",
      "653e951743704790b9065bdea2a73191",
      "5970df558332454fa2a2d428851ca29c",
      "a06acc1dcbcf4603a9c5092c090f1109",
      "743d03f2142c4b88af8496c62e14165d",
      "711685ad43404963b0af0a10a2ae1282",
      "4f943be5f8234d8495ef69bb5a814206",
      "5b8d53756ad341afa86e41fdd2f26149",
      "372850c9c2554a85877de6c8b789ba2d",
      "e13edce0696f41cc899ac35ff3aadbb6",
      "6f3773d590ed4ecba3e1b0469f354b6e",
      "084e16676e374829a3c89169211c07d5",
      "f32a0f76ed44424b8c8e838da9e71f68",
      "7aaca5113c1b455db4051dbfdf9e8a2a",
      "dea68801c3a8416881b1c8f553dad4cf",
      "e707b545d2574c8cb2ebb72c8aa3dff8",
      "61508a6d7bfb4fdf9aa9992c3cd3243b",
      "4c69ef4aadd64fc6b773127f66cfcdcf",
      "da14d895a5ae4ab2a1c772f793071b95",
      "c935b15b9dd44cd49bbb6f41329e3c6a",
      "2550a7ba87ce402a8dea5e75cd990266",
      "4e6ea0b412a5481daad385c80c2330d6",
      "726e81e71abb42cbbc5f170871c59942",
      "9331c23be5dc4f60b9092289ca9caaf0",
      "1cd0732a3074491790058480c0a0d868",
      "691e8105457849c09e0cb9d966a8539a",
      "20fbae3066844188980f06bb9cdd121c",
      "e0ad774f94f44cc1b267133e4084bd89",
      "a6b224119a2b4b75a34832081ef71c8d",
      "4224ba4a309e48e2a53f303687e1b4ba",
      "23d7983c65574456940049b26cf444e4",
      "acd8e8badc2f469e8f6560319a8b7373",
      "64d09c0d84de49adaa8293d92882d29f",
      "9cbc530826d34ecc897dc7da65449c52",
      "dddb9ab5b2264908b99ebb0178632a45",
      "e8b25f8f6f974937a6dc1be5ade8b224",
      "19ff641526194e33b0bdf80492d88567",
      "c3b1800d4cdd4ddda5836d662f369791",
      "e494db262579465bbd1d3774a76eb821",
      "25711710414947618617b5619ead64ff",
      "b53f7ffe580840a7bfc03c7098cccbb8",
      "e546147748164527a1d7b2ea8578dedd",
      "2809b74234ed4985be8b7b411e3505fc",
      "6d522ec3b1cf426e99ec2003fc428c02",
      "f4a2861508584cad8216702a1a528dff",
      "73fb2fee74c54eaf9b6b88bd888f0b30",
      "2e6707db4a2e496e97022b2e8c091108",
      "953ffbf038fc428581bbf0c1e3e73701",
      "41c75bda7d804ecdaee5c68b64bacb5c",
      "6dc2b75d1ac44600bfa1f9890c15c13a",
      "1f2d8c1937ee4384b918f9286bc7f99e",
      "37d2f48613fc4e13a902ba684d0fba24",
      "19e4778e420a4f2da5f7af5cec628fc9",
      "c2d23af7456e406290076e247c62fb19",
      "89e558f27c6c481c8dfdc1ec70722afe",
      "dce9f08559694d35b5438d5a015a3311",
      "4c78783e80764371b4ef6d31bc7353f1",
      "e5c20803027548139c6f194272ddb372",
      "3be483ed42a245149a7ef827b0476f9a",
      "20fa35ce18394da990ca542878f11e45",
      "0fc8ef6cd89544d2aaf99429b2222c2a",
      "c1b6d28b25394556b4f65e53bd897c5f",
      "96795679106941869dd165b1b8bbd0ca",
      "8ac5d560c8aa46cf8b81283bebc86966",
      "909a2e4e69f74524a5e49532bcb0ff01",
      "ad7e60e501584ffda324cd59a5644957",
      "c28e2b3a1bf04ff18e19035c0233eba8",
      "e441779acb394db98d9ddfd906771460",
      "431529cfca224500a825739d1315742d",
      "6510e4eca17943b299c1d953d0e2892c",
      "13f63447605c4ba0962453fbf3dac366",
      "a0f97403955d4764b6d4c8024b0cbf60",
      "df8b19d5f7e04225940c08eec82387d2",
      "fffeb481dd894066a814bfdf30544f9c",
      "85fe4678d3fb45218d71b12b21c48d32",
      "cbdf72feed18415b8cdc9855ed4fe4c8",
      "2977a101b7e24c7c91569bdc26a68c2c",
      "706d1db0cf734442a804ce4ca2386267",
      "db88464288114cc886764912c2cef8e9",
      "970024ba166d46bb8ad019db2cc4167f",
      "2dcc698aa4394547aff44836d1fa7e7a",
      "079e293d0a094171a10a7eac0d3a7032",
      "3a79323956394932ac3118125fe7e9b0",
      "0f2e5440e820481f968f7a8c378e3ad9",
      "8a94729476054c0c971f4aab364ec398",
      "20c1ed41d5b14f9cbfa816c087357349",
      "64e459c27c54412ebd15292cdc3e7fd0",
      "916789b7c16846eaab599216a6e2f635",
      "b767dcf3dad447cb93bc9f898bd95663",
      "fa9912bb50b745baadab4a5c25cb5e58",
      "cb6896b954004024ae28dc8230b1116e",
      "1f99a529bda34371a9089b7fc168b672",
      "ee13f7572af14ddca4dae483c7f02ab7",
      "03c7645fc55245638d654d308c682d2c",
      "30cc9f43e1fd463dbdc283bf8e5123e3",
      "8e13340d12c84c3bad4e500a8bffa15b",
      "d12b999f275a406ca0460e2b2e534d54",
      "e35e9f65153a4d58b21a52b416fef607",
      "30d09cee6d4a4fb0b986f8196908e239",
      "10d0e7179d824bb5ba54be6c3e5e1819",
      "6c71ef673b4a439083cd6ac5e891906f",
      "1596dbcbe0d940739593271fdb846e18",
      "110b97aebcbc49ee9ba0566a202eaf3a",
      "63f2bf3929154314ac08a2374959c949",
      "d08f1536685949dc9901804c93230b0f",
      "a6a55e68ebaf41f2876896fcabd23268",
      "e6f182d7138c4b11be6c11758ca8ec63",
      "18a9537f9370450a950dddb5db967bdc",
      "03d9f88acafa42ea8b9aa961a8f8ba01",
      "f0ee5829e0d94580a01ea228f9824cbb",
      "96a6000df1674c7dbf125274bc3c9714",
      "0eba1962d7874c039537d9638b13cacd",
      "fbe8cba4a9e147808ff87b69db86e389",
      "1bc85ff478144237b9458139fd176081",
      "b370c9df5e654a0cbd91a23e23c61f8f",
      "40239ececcd046cf87bc75d86fa3113e",
      "acfd1f712d2f43c1b52e82e324bed66f",
      "fb18fb532b2d4a22bd573dfb4d5e0839",
      "10635706373b4d319d423e4775799d0c",
      "6de3159e66314481b31115c67cf7bfba",
      "7ccae0f2963d4e6b9d79059546d8e197",
      "3192c53b19304810809dffb1535b4d8e",
      "2364215fd176489eb822e3cace7b179d",
      "31dc577a99534ebbad84703ba47e067e",
      "4314fcf11a74407688590e6b5e15ac2f",
      "26de7700be59467f9677dfefa871b42b",
      "dbfba1099b55442290fc6888cd9a9fad",
      "153f98439d284f4e9b7a752c48c1c2f9",
      "19d6d50ab5de4aa3ab96e7a4c746bbee",
      "d9d60f8aec4144439845c6a41ec17cc2",
      "77ad96cd27cf4caa8f86fa0e9c59619f",
      "e799d65800034c80afa7c79fd4e16b1d",
      "814bf013f6e143059596809b50f24003",
      "8f8254e18e7f4eea9dd85625b9e1813e",
      "5a9f50a264184980a94f8fd53b6ba643",
      "6d4d873ef866473fbd74c06a01b0fb8d",
      "427a257b6c344f8bbe89d6daa42cfe2b",
      "e0d0b9b53b1149b6ab07635c736f1f66",
      "39ad02169ecf4f7aa28387422c3b7acb",
      "24eaed8ff5a44a7d92ae749b686f7efb",
      "75b99c59b16342feaf21971a22165416",
      "8fda2d6cdd6a41739bc6a245fe311514",
      "5b0ce0936e344cfcb329a9e827c0525d",
      "af9cbcc1de294894932e00a2cbbc5fdc",
      "45a81ced59564343a164516705ad6c02",
      "2e2a8d679bfe43df96129d1008ff4587",
      "9bc00e246f8c4f25b897ffe1aa828b29",
      "89c6bc69030d467b83de71cc3dd5b90d",
      "1914b1668ba94d639d5c3c51105e8197",
      "a75f255b885b44309fc9aa57e40c0fa7",
      "7b34990d45e74586934ccae90c3f439e",
      "6bcaab128d044b14ab9dc43bfb9c0a16",
      "ccfdd159849c4dd8898df3ff26695cd6",
      "7786046b26de417498f5c067dae65dc7",
      "2028530f70d042cea396fa6b354c5ebe",
      "8d45cf26af5e40bf9e5aed9951bde00b",
      "03db31abd27b410e853e634e4ba6f444",
      "c499b9b80b6a403fa7489dde59eb9fc7",
      "ac24c5674a554f18834edba6de5444f5",
      "3145c8bd8a404e2ba0b4fb50a19a25e5",
      "412e4de94609429d8a07d9ad97146866",
      "7952ece663dd474aaf8b2aeb41d32534",
      "217571eecbed4810b91f8e5cd39f5a89",
      "4f6b89e148504592ae83712851d31229",
      "39ca89b4a0d04e3592763e3dd8bb8056",
      "37c25e3f891f40dda50eb8129851a817",
      "61603ec324b74fddbca940ad9722e365",
      "21d6160293064266b45f8772b014732d",
      "3cb56d76102a4be8afb3817bb99510be",
      "98af8e52f9f6467aa6dcbe6f3f2c3197",
      "91cd7d44770049f2ae8fe0141336d1cc",
      "4ed5694fe4a94ce5912015b1d8488e83",
      "5b43cda2174e4915a2e04873787a71e4",
      "b7ab2432caad4ee285df3e32d74c8310",
      "d52015cf0ca44d24a2627b86ae2ca0e2",
      "a1db251e21eb41eeac82b9cc5c942dd6",
      "ac14593481054ab5a3fe43d9444170d0",
      "24bb4f3adaeb4b08aad9007608f6b930",
      "423e48759da24bfb8c3125a9b30f07ea",
      "506ef4c3800c45608e538c7dab0dc411",
      "fc6bf0c74e0a4486b6d83cc9a5dd0e6f",
      "8d311e7f08714040b153d80506999bf1",
      "63ba241a29d14e38b3c8e83f8d6ed9c4",
      "eb71101f6fa54f6691ba3792d813ab8a",
      "c0c027456acb460397ca67fcd4640107",
      "6d7453fd32244143b0bd32be71b3a15e",
      "3a36bcce46d44b5d940e25b98c13f210",
      "3f609e7b2d794e1b8446dcec76526680",
      "91ba103c5d88451aafbd1eb573ae0d7c",
      "2713016ac3a04f0eaf752b8838d5d3a5",
      "95e2cde37fa3418ab98f6d50f1be7b1f",
      "d40ea63f667a46db92bf8ee7ebc5c776",
      "3e7b8962aef54e5b924614fe5dc888c4",
      "49da46372c7949beb2c27fc013083c7d",
      "d05210ed8d3f45f7989eb55462805709",
      "207d816b04084df991aed861613cc751",
      "e1394691ef294a1b9e6ca7a1af974a99",
      "a1b973e6aefc4b6d90c9899247ef790a",
      "e89b518f5fd746a19805cde04b69303a",
      "3ac1901b9cc94e24acb9dbcfde2ee1e5",
      "c996a9ea048d4ab8beeae8b6210e95a1",
      "a0491c99220e42f8af94764594754c4f",
      "6eff3bff14cf4ce49a4fe5f6d15dc608",
      "4829e591befc47348c157a20dbb2d259",
      "e93ff1bc383c4fb388cc52b223ee6391",
      "6d159a94e2b84f8bbce6de836229abfd",
      "1863035e950f4722919f4b3997589a5f",
      "4276b5da85fa4774a9c572f7e0b572dc",
      "bab9fb092f61478fa8fa3f03712a231a",
      "5a8b50b0acf3487380168ad4f4e1261d",
      "8f5c665ede514e8aba36b79ff15ee728",
      "c390ffbc6fd1468faa24720eb7f101e5",
      "9f9f3998451b4f798a167968fa5e5a97",
      "aa6da3fb8139452e8295f75fb008743e",
      "30e1c201f923435fa501f9c88f2d2c7a",
      "13a8b06244734aa797658c8c9aaf3333",
      "dfa38f10c6ac49228962cd85c318434c",
      "d669c3f8d4c34ca6acd7c1e530a2d58c",
      "72b3dce15e0a45b18872914c07a9edcd",
      "667c4d4b27ab4a1785eef8cb90e3e68d",
      "77f95a3af39b48e289acadf0b65e8cf0",
      "8cd4283345334d7786bdd40ae06b8bfb",
      "f25c11f8c6e0402f9363179111a33c37",
      "b89c98e178fa468785d10f4a07b5d8eb",
      "e13b3460066e4c1796124c302a74d84b",
      "cac878238f4348f389971ff787fb9f04",
      "631621592f804623b0a2c87b40ac74cb",
      "aec5e62e859a4dedb6a41cfc1f1dcd97",
      "815b032469c64c1e8c73c0966d169d37",
      "6c0eef9a64444d55affba6cdf62f64df",
      "525ef97966244633899b05a931efb1a4",
      "9eb9d29809774ab2b0ee200c93151577",
      "79460871890b4e98abc5beba1b0835e3",
      "42d30769ff3545a4a7e58fcb1da24716",
      "11a394b4be9949e2b9099397313caef6",
      "821e8927f53547509f9dd1dbc2dcb139",
      "64f49455b3d942a3930a8d483ba56d9c",
      "24b510c22dde449fa3134575b38a90fe",
      "30b5e19e14124123bb2da44a6d2fbecf",
      "43a9c755c96744b5802fc57ada85d001",
      "2048049dc4804fd18af68eba5b7ed0e5",
      "1a62ce7db67a4e348967b2d44effe513",
      "a71cf380f5984d4bb075947c6015b9a1",
      "6b7cb6edfefc465db77e49229132bf98",
      "34f6e52c116e4fc889ed44ebf5fe334d",
      "b6ed7553316c4f7287c2a46bc5ce2e4e",
      "b7bd29b9503a4c81978a61d1a1bcf36a",
      "0db1fe52ee334cf1a3c95a3727068e45",
      "9a067676d2ba4c0c9a9eb978ab8413cd",
      "6afe41cc34824df98006f1a28c5b10d7",
      "1122c4e381ae4fcba3f0dec11cf967d2",
      "f87445ea56fe43319c151b804d7072a0",
      "c28590b7bccb477e835f69a805eaca3f",
      "4690761879dc42fe89f2d78baf45a568",
      "05c74c2d155b4423a5e0df65af590836",
      "a4b382f005964cd79000e5e01ea84cd1",
      "c1330a10f0c346bc9434ec245725d679",
      "0d3aae4a731a4f65823e52bd2cef61ca",
      "6a0159b2edcb414a9a2861f9e1efb288",
      "5ffc8b3eca544ed79af153f44bce643a",
      "9c135e2689c244c19753a98546abd2d5",
      "28b63cda2c8c49f8a9aec2aed10b9b00",
      "50f2347a5b6b419fa65932f20a230e05",
      "d19fab3cd426416c8c8e029c28762076",
      "aaf6193ebcc54dc69b95b10f35cc8d9a",
      "cbaf3b449a5f4af9ab3c917086227258",
      "1d423b3a78b2423fbde347b6693b74ea",
      "62840ca1da7b4077884e266f91ec1d14",
      "45f72971b11d43d6b429591a9cb69294",
      "b7c24c555c4e43e4850cea7b02257db2",
      "e3b1d961269243feaca5f58f6cb068aa",
      "ef17eaa16d924fdc957b2d9301d98fae",
      "d830a6bdeb82449099d0ddfc0f901ae5",
      "fd81f5abd4b741f28f8f22ec3619c12b",
      "6e066f83acb64c2c9d07b284d4a5ef0c",
      "2a51813255754652bc032bd528ac0dbb",
      "247b75fa34464577b1cda3bdde2d7412",
      "8f0070895de4458fabb5d9870ccfe52c",
      "87afcc65f30949d9b7630e00c3d6e76f",
      "1fa58037b4b0459a9d794f5f71e39db2",
      "fbd67441bc7b4e1e9fa6e7e30f587d0b",
      "f32a7002cf914666acf9bc9a9977f1a5",
      "98c9efb4c951414f93437ffbeb46c74e",
      "68483ff9934f47f49cfad5413a5d6288",
      "b9b93d73a69549e9829220f7c24b2028",
      "499d99c502124bb3b119a2b42bc83609",
      "c16cebbe26c04938864bac86fc2e78f7",
      "8c7265914d9540e5b7db95531cfe0e01",
      "b11da7860a9640b887715a64e4a8f666",
      "ec0760fa7a92420993175bbfaa2ac423",
      "f613a2db6eb94d95ba8ea090725cd2cf",
      "74832e9365b741b782c31396df8681cc",
      "45f80b836b2c4f8b8ebd98628b010815",
      "a7765199d59e4382b5febf5f54903901",
      "c13a958cfade4eb5b36abb03bca7a5e9",
      "d2ae46bfa67a4543b6853103870c8a7f",
      "bb58f54b98b2492da9d5bcf73cd5fced",
      "106e1ed88ad946a0b7ae1782e01e7c32",
      "e5961f4fb2844d44a314583018baa8f2",
      "0e227439f9084c9db02ad09d11466adb",
      "cf6bcdd0e23046d39b205791def2df3a",
      "d29c915397194d2aa9a52b13a6ab3c86",
      "0b906399e44948bbb4bdaca37bad56cf",
      "32ccec2372554b03838cc4c445c20e55",
      "8f041019d1e14467b69e149ff4086897",
      "cdb17fba49e74e10ae8abe718965c794",
      "c173955c382749c09be1993d57aa7c88",
      "84b093cf6edf4f3fa9e399908727c935",
      "0fb488eecf2447d6bb98e6d53947ec6b",
      "64ee017f419d474d8c5a730ecc7a1911",
      "43011381042440dcbb37cce90e0ec570",
      "81602aa0a531479b9ae368613f17ea5e",
      "750c6a58118e43b99b74ba64405854e7",
      "785190360cd94b7889885353e89a1086",
      "51a88f4600cd428d8db53c154dc32443",
      "989c7aecde9e4d2e92dee49e2594d9d2",
      "0a68ed2131ca4a9aa5bdb2c5af896288",
      "00d6f6e3cb6f4af1b170f67e1eae96c0",
      "53fa792091d247deb313af6477758f83",
      "0bee7445a4094888bebbd8d388db68af",
      "36044256eb3b418cb110ad61c2b4f657",
      "5ccf6ab7f4654c209c37415196bb1c63",
      "fff3bdae86bd406f91a9ff7b62b83b65",
      "7d08643e59ed4d369bb37729dba4897d",
      "5dee3e12b60b4d8e986bb63ea1457b19",
      "2a85c3ac16fd4c529cc8bcfa78fe8c46",
      "fd5b3b78b1344e469143727146a8c2a6",
      "9b2b2eb2f8b746bfa17ddcaa24e40824",
      "24acd02475f74d77a1fb59ff98c47173",
      "5e8a9881a23546859814d0cfdb4c1300",
      "ca2b482f9c8947f3ac21f89ef2febe42",
      "2442a7ba296b4904acb5c0f199019982",
      "1d497eb80c3e42299ee8e7ac63f7e99f",
      "42a710692a234225b0a6b9d7d4d71538",
      "dc7d2fd404ec4d4bb570b5110e51f767",
      "a505b1f1e4dd4e5397bea2bef9ee323e",
      "a15ac197061340c89cf7d6052d0b8afd",
      "ebbc0ccd4a37463fb97047d8c8f2f620",
      "d39ccc4004924648937c6f3a75cf310b",
      "7088e9c5cc7f487e9ba612f1813c37ca",
      "389283153bab4578b13a321beabf60ec",
      "b6d85ec7a490471b8fa36e92eeef5990",
      "afc99456369c40aabc074e834f7ae108",
      "6752486a75514ffd904dfe0991c55176",
      "06aa271844ae438e9d7bdf4fac764cec",
      "4d5abcab85ce43a88864a8b94582bbfd",
      "7f500609196c4df78111142305db3d1a",
      "05fb0e50f3f448fe95c7c524b3567934",
      "9b02bcc343ee4604a82c031d7392630f",
      "25f331574d5740dca61cf2d10cfee0cd",
      "f11ad1e3e4f546148b7f8c888600d742",
      "b7d14161a3c548d7a23148ebe5933479",
      "ad1422214feb489289e9b207db8ce718",
      "0882ba4d2c7e4565bfa1d1f330885f57",
      "111d4ae1841e4c178da829385ed7bdcb",
      "61977276ddb34589aac86ed66b45b7e8",
      "7567c9bcbd124fd6941faed4f0a76650",
      "c5ee2e38ac0342af848491497c0dd3f8",
      "f4acd581ebf049949278e176ec6f1e94",
      "32d7c7f6930a492f9a21dc80e0d5d2d5",
      "6dc67e0831964d53baf4a80c680cf7be",
      "dd424f157f3b4da2986bf3fc9acbe6d8",
      "fff97ae7b86a4e519280a993198a56fa",
      "b4f7de7414914a399c1ba81598ca575c",
      "d003eaef5b2848cc98a75add35a37ff1",
      "f1221958fad6447594787888c00b8dec",
      "c8922c350d5441a1824c33380642c1ce",
      "a8d3dd290f6d4acaa8ff135955469025",
      "8e5237fc33194a459e63fd61c9b9810c",
      "fb87480359a54bb9a672b907bd2d6d83",
      "ec2bf67bdfae4b358afaab138a55c2f3",
      "1a2c2ca3b3b541f39a66f42a2cf611ca",
      "c9f62cdef9ab4b59b52286c92da1e1e4",
      "c78f61a25d2948809b9e8203364c900e",
      "d009f13535e04e1593be222626c32ae1",
      "4890f32828394b70b3cc48e05628b725",
      "4bbfbe0f20e84dda862d2ab57f5937e9",
      "4f26d8f9c7d8453299437db0129937bb",
      "44eb2383acd84cf4894467623a86fc70",
      "ed13d0b8c2a140a6b6f173700253c714",
      "dd30e70081514cd493b5f57e4246a0d1",
      "178bddfb46dd403d957636937e9ec186",
      "2c635424bc954323b520150761340f4f",
      "d6a94afbfb374433b9a0dddc9b83f8fa",
      "35213b973f7247a6bd077fcadb396842",
      "352176fe127a4cd7b52eb3c56c6d83fa",
      "45e04079f2634a589d0466b3f8ce8245",
      "bc0ee6be661f4dd4aed25dfc81a0f91b",
      "dc9e13d6909a4b59ba93fb01d54dfaec",
      "d53bb5d06e2b40178a29b86136f27ac8",
      "d134fd63aa0d41788fa5b9631f4d7f3f",
      "faed24a92736451cb8cdccb7b73cf556",
      "916eaf02586e4ee1ba1205fa8d600c11",
      "afb86c285de44966910dd95fa28b1d46",
      "8d3eac450f594f7193f0426f01a7d864",
      "8a6cb4ee4b89418885189a203b42ad64",
      "ea3f8af9aedf40689088b3bdfeb5591a",
      "d153ed2770034d40a293ad4aecd794dc",
      "be43295f8f4841eeb92d81e138791a25",
      "ca4bd4e137c84fad90ffb0acffe5a7a4",
      "db7322daaaaf4764ac98e4743312b1c5",
      "ddfb918a36a24a35956db382a8b77919",
      "36ffa42f279749069e534eab06295142",
      "1dd437c3d5554295b56ce0db5f1df0b7",
      "2ef985f9a42942f58d9bb92ef4612817",
      "3ed51839dd6245cc93760b236a011363",
      "f3c014636d6144fd8a0eecd49fbfc052",
      "bd6bc381601248b2a7817cc1d6926527",
      "f4427b86922c4606b682790151f6dff3",
      "ef597ded4ade49d7b11cac91ae3982d5",
      "6574f51d3e9443808b3c7b9d8618e312",
      "941fd0c6c2fb412588496b1305f27250",
      "7c23a0a8636b4aa29988229be45c267e",
      "9a9addf43634466781613c2276873a95",
      "37d1623ce0b9417c983eebd69ff36a76",
      "56b57c2a3a164c5cbd28b71061c9c943",
      "b0349d76d93c40a5b5a2b3700e7a0c59",
      "57bf29d1a805413c9d4969837f328327",
      "d0ac2d12a24e47e7a5667d513f483c5c",
      "ef78d9ed3d3642d381a3d5e59886b3df",
      "737b5ba3495045d483e6f4d2f60ec32b",
      "1621460dddf941e58438927170539ee3",
      "053330a7edc34711a6ff0034ac8457d7",
      "1a23230219454b5fad8bb67dadf331f3",
      "00ffc28e216a446b81ed50767ef9b584",
      "cc32223bd84840ea81afc730fc95901a",
      "1743c3fb277d46f9b8bf1fafb9b060cb",
      "c83cfb2be253481cbb47a23e1fbeba2f",
      "346c720446ed405c82204d9704c5cb62",
      "952a606f98ed47428e7f80617859f3a0",
      "43d6f280663b4465843bbd9dbee49e6b",
      "c3dd467da6b94fbab59946a40b72d293",
      "d0bed706f4f74829947c06d14953ac07",
      "eda23aa876bb4c60a7b9f12c4b0304c6",
      "6dab1f97a7e44f7fbeecf2d8e02e08d9",
      "3780e3b115d543849518d5969c995ace",
      "808d1b0d5b8c4972add227eb92051519",
      "945461956da64bd1a4f2e842a38274f6",
      "639e5054342a41fa8e9652982e67f9ac",
      "5ed1c32176574c899cbea5a1bcea44d0",
      "7d2c1962f859405e8a63ebc9f1f06806",
      "426dc552889a46a1b4b52435e52f17d9",
      "3b382efef557428bb3853b963cb3c48f",
      "90e1c89000b34d399beff9b0cfa53dc5",
      "7b4d99868cfb4b7e87a317b4b32d9dcf",
      "c1e4111113bd4e65af887fbb0b118fe0",
      "c636da211d2e489e801991a5d835acdd",
      "df4b24db98654dac8504bcd741af55a8",
      "46feced7d9e04806924e23b7d2c7ed57",
      "297fc1666e8c434b80d18455e9686086",
      "f08cbdfba74948c5beb8e5d5235cb75c",
      "04334a20d5b64ddf9e1f504839b34a1f",
      "ccca2cdf44c242f6824c3163de477e13",
      "d08f086fd6ff47c199e91b7eed9a4a5b",
      "76409e8cda714ed89dc133e33566288f",
      "c0fe58a0a7a247c3bec22dc626c37220",
      "ed9a2694499b46fe9f6eccc2a1d6620f",
      "15f1db8b2d054d76848554c9d31f08d0",
      "8675187c3b7b41da84360137493735f8",
      "7364eb8550b1462c9fd828ea84d00d2e",
      "5567cb3dee58485085cdaad1e9b2020f",
      "35de33a9b266478e90719ff208bf3ad7",
      "9d26d29c4b304c86902f5b7660e3c5f5",
      "c69bbff3abda4e589cae7ab68de2a7e1",
      "6cc7a311ff8946f4af13b52edd2b465a",
      "85c4d4aaf5fe4f94819f66f163b414d2",
      "b81093ad08e64bab9f1d01d1ed63837b",
      "f1269994b63e40ccb3288fb24ebc6c1f",
      "b9b325feba3d4b11b8bf74e559ec2091",
      "aeda69e964c7444e8769bee7e82a9ff9",
      "a0aceba87c7144bdb4ef0a5ab30bf1bc",
      "05ee379d23904612b26cd8116278cbab",
      "fdc2608591864789b7588691b839904f",
      "45dcb250ad3c490da46531855e2d495e",
      "ae1c89e4527341709ad959755020f595",
      "dc7aaf72f6f749fab939a125addfc263",
      "c45daf67f5b649cab2de58e71fbe4d32",
      "13cefde9b58e42dd878d4944739da764",
      "90b7c3d4efeb480fb2d2c0cb52550534",
      "41197ad94a4e4281a5d4fc8c0945d4c2",
      "2cb5376a1d554f2aa3b096f856455548",
      "ec053fa42c92495380661c1683e600cf",
      "2c13ea3066e0471da9c700ead8aa57d3",
      "236522e0ba8c4958a96d2e952b583465",
      "64f13cf40d7b4dbab45aa06ee6508320",
      "9197357c39be4a4a9ea098f6250c0b38",
      "f99d285b92304330840a2030eda2715d",
      "6d2f8202dfcf4ba6bf5fc6955975ac33",
      "b8b44e4b0be945279bd5ff4eceb68a62",
      "379a544536e741169cb329848e02ab82",
      "69154c634e054b77b3b15a6f1dec92f5",
      "29733b2cd16547a79292be8d1e0df5cb",
      "222664b387cf4f89af793905a3ded18e",
      "b9d7b6e2b2464d3fa307ecfa6dd4b4f2",
      "5d9719b00eff49d5a6b3ee2c658d4521",
      "732c2ea4fdf546e5881605daa29345cf",
      "9ffc60af24864e20863aa7051a0c84ae",
      "b24ac6e56af447028a5ce757d81f4ec6",
      "5ec0b5ba7c144ab9afd67c195c833661",
      "18f59608d9514659aeee27d54fe90dfd",
      "c9444215a57a4e40afb77b80842e87bb",
      "f80b2cefe57c4f4b8f34a4ef34e9981e",
      "43c52c03f1f746d9aa52292e4bab77ce",
      "1e78b9d567cf44c1b05087c31920df66",
      "2ef9c69731dd48f690cd421865ab4dfc",
      "b92d4e2464964da79c6b15f732a0e274",
      "e9656c95fd1540848046f8ddc0a3c6b2",
      "9448e2122bdd41cd89f139ebf800b4ee",
      "c3f78078ea9e4ea0bf6adcc009b8ac98",
      "b67d72733f7645b0940a5819220f727b",
      "efe6b707eee946fb94338b4d297ad121",
      "0109c1300fa44e77a9396bdf9fa6b142",
      "eec78a1ef8764e0081ce3e3c27b4bfc6",
      "503041b232674e0080b0cf984676706d",
      "ac613125b68b49f5a47f38b16282a3ff",
      "b3553ae700054c5a827d6e7726508a02",
      "58dd21ad83c94fa1b3957630a1888bc9",
      "63e574a1758a41a1936c9f07afd2e48d",
      "5125fed939b34dee81f765f4a6c4ab77",
      "32f4226f04ea43b3a4b9fd5f81a4c5e0",
      "2f918915b22a4f089286d3b068837c70",
      "a58a3f2d84104b769ffbb56f9bebcbd4",
      "52218948e3cc400fb6c401a1721e3615",
      "e60f1900542b47418da2288b2bd90069",
      "9f69023217d445f0837aa4cb5a0c69d0",
      "cb1a375031694265a703d87e8bd3165d",
      "ce99e045c4a8449e8f0a0d7ba292462c",
      "2f39718006fd4641937d7de355b9768a",
      "9a1b9e6e59da43d7be3dd4d54bc21897",
      "6ec24480bf634a6a9aea2d44eb0f6362",
      "da2b2f8cc12740f7b667912366cf38e6",
      "433b47cb49f04746b10058d57632de43",
      "b21b5aedd53d46329802218b186349e1",
      "d148accb2f7947e2866eb3d5c7373bc3",
      "ce952cc8ead5427395c9aeec91bed1a7",
      "8d1734be0b88440588780d1d99f4f862",
      "7180a622404c4b4f8fdf9140bad0e626",
      "ba7e27b6fdb146468557ec98df115add",
      "a9f4a5a6706c41639e135bafcc415cfe",
      "b2b73ff625dc4c7eaa016a50a7469883",
      "37f37ecbec1048449d9d408b79fd4b42",
      "d8085366a2174665b45e97647d5da8c0",
      "43b1248e19f04cdea9d4098ad978bd8c",
      "0ee65148c3654f79be28793379114d3b",
      "23e331c1ce7446589b50c4c2aaa17e8b",
      "b321deec00c3472c889ee9911d2e9b92",
      "f181cfa06839474286c307e5da6f5c35",
      "bb464c2bf9d748248acfa1494b64d4e8",
      "7ebf4144dab2436eb9da18969bf4513e",
      "5fec32d7c19049a58d0b9d6080a7f9a8",
      "dd97fd9acc474fa9a86a43cde6fa8c7a",
      "de6f45d2fd70489da9aa6387e42d9b22",
      "20db4c15d091445889e8e676261e9299",
      "c945c8f4d0ce4953b37597242a30b151",
      "96dd3e4440984f3cb6758d5de0b1aeb7",
      "8987d734f4e64d2bb25efed411a135c8",
      "ce8f46c83bf141cab7759096e9841a5b",
      "1e50b7246d4848ca848eec46a77bbb2c",
      "506d8818771a4e4b9843735928b43fb6",
      "5149dcae63374a098154789a4d0980d6",
      "af4a82a11f344747bcfe4b4c8f48d734",
      "13265de132e645bdbfce23b345a4ce93",
      "135902142c60482fac7d8435dfa49c1c",
      "5626e2e4baef4f708dc6a2fb0124eceb",
      "2e32dc64f6e843f0a1baa84bb61b6962",
      "c34dfbdfe934480eb1213fea1a3ef3e3",
      "cd2f6de86a0648338802568645a875da",
      "679d0de52e284acb843da6485611e71c",
      "cc512845f8e44f2db23b6f8375cb09d6",
      "620ba2e6020e412a85c21cf9a54c8c5b",
      "6318e45e353b4181b44c66e439478ce6",
      "2f96a364bbcd43d9b37ad3516cec9801",
      "2add61ef6dff480ca42d33d2b9245686",
      "0787583a634c430e966a95801d312218",
      "6dead306d3ee4641aea1ab74c19757fc",
      "cf5ce4c257b149d48bfbe9b03b0ce22e",
      "c3ff9ce63a02451a9a3cf104d6064941",
      "2a506d71dec8400ea677068f4c0b5743",
      "accaed0045c04a86bca00f617209f5a2",
      "a150aa44f02d471892a6eeb9975d8b1f",
      "3a3f6f3b9cc941409c769f086ae37e75",
      "133ed1ec0ae643b8bba800c2935e67c5",
      "60c2345145fa4c48a70c88618337d328",
      "3afdb7a01a89493f8ba0aa241ca732b2",
      "fad954f3d112414fb644123bbe288c71",
      "ed2c688610674c0e812a765d52ec09ee",
      "0cdaa59ea45044ffb6a38458cf39d236",
      "d532be1f3f4f474cb66eb396a646da56",
      "8e063ee00b2a4ac39f0886478ab6a31a",
      "b2abe6c1c3f74842a409ea5b56bff466",
      "8e805be9a83a4d64be3e581070a4180b",
      "5a9be98d5dd043f09ad76c2e8c160a49",
      "0e035fa59546424bba6871b3bb8a9e68",
      "e8a52f6bf39f4e888b9dcfb1753efe94",
      "c3562e3ad8e64e98b0209f77d18af053",
      "dd381898512a4787ad21470ee79a6139",
      "d8ea3243d81942f2b48d715b9d73aefe",
      "a83e77ca535c44b5a84f6bb14e2f6833",
      "01efe848676740ab99b9b4a46ce3bc40",
      "9afaf048bd2e44fa883d7d13d9e1c069",
      "bc7f16baeab0442c8acbd097563e9a37",
      "aa23774186cd40f2a06d333953fe0229",
      "a0cced5193fe4d378377c5f330af390e",
      "350f6c245e394d7a9042f9b35ecc8a97",
      "1618b208233d4711bf90f4baf644558e",
      "0c920e6b6aa64a7a8490edc370a1a618",
      "daea07262a8c4d7982268c9f68badb9b",
      "109b8597a38448fe8ff6a419df448c1f",
      "cd4e0a3ac767403d8e620fc0dcb16f38",
      "1f42cecb15774cdb97d48757cd1d1055",
      "4aa6a5d9200a4210b8f702b5d52d3a27",
      "389328c73bf948228f5531b413c806a0",
      "42c1f82f6d824915810072372b330da5",
      "34e49b3042a748f2ade8c6eddcf9218e",
      "581184aff5914e4b90a24e5a6cbdd976",
      "2dfe37f86e204da6a768a7ef62b814ed",
      "51165eb80a97425a8ea37a6703fa0bb1",
      "5aaf4519b45f4b9683475dd969a7265c",
      "07fe48d608c34c40969cbe99beb40278",
      "c0287fae083f4a2f8bffb3b78214b1e6",
      "85595351c329495e9e0a2b9c7b6a0a2b",
      "4433ffd3a9514505a16dee224daed40c",
      "82a26e5a128d494aa02d88944d504337",
      "99873adc9719424d956a14093131f326",
      "96dbbb05a9254fc5a2343abba0c891c2",
      "6d5f5e28cd0b4e449a47dbacb4c5c051",
      "5f956e4c11404b55824681715ad237b3",
      "d70c3d494d48477989c8501ea6e7ee2f",
      "092f0c45ce5a4ae58c6babedb42c6255",
      "78152dd3bbdf42d0b4f4cbe89b35ef53",
      "11a94698567b4611961fb9e071b59a09",
      "a3a25c70f75640499ea0c542790705bb",
      "0ed8a5b633fb434da840e4cc5a156f47",
      "f25dae1adfaa416282aeb607567b12b3",
      "ae1cfc1ce8e04e009383367d2d735de8",
      "0fa5e8ae24ee4f36b32e05c28f686c57",
      "7c13c312560540668b0017924edfad88",
      "c62606f2648a4d4a91320008c351b2f5",
      "496b8a58bd9347afb4a7d69e9c31ebf2",
      "9776093e1bc44bc5bfb6ed3319d1659b",
      "905a4865bb154d57a4145f0d045a24ef",
      "9fe161cfe06047ddb3daf9118489d27c",
      "0b304fd9fcb446ceae64b0b7a6bd359a",
      "7b4e5f2546cb4f118d6120ff75a4679a",
      "48424559417a4c51a55641bdd13bee09",
      "20e16b4efa78492394b2e47d3a58f5c6",
      "e71012039f654b35bb404ec399df1096",
      "1853e2c1af124d5894f231851b67c367",
      "8da5254c55de4e099c6e20d5999a131f",
      "21bb5691e52a4885a219c1bb61f5494a",
      "e24bcdec1aa3414687dfe2e9a5da6688",
      "cb6fc02de8ac43ecbe9694f827e55ce1",
      "34d6e1bf03064757b5c1bf158e9ea021",
      "41364850ed174f4793b8d25c8c94a00f",
      "55c6b72984234438b546cceda4328d98",
      "dc795ab80f784e44b101083dccecdfaa",
      "26f6936d2caa464bacd15674f50accb7",
      "49ddee230b1845beb561c8041f69091b",
      "b6f47b1fd1f241038b3fdbafcbf43474",
      "4f158f7c883b42b38984bcf21a4a3a1a",
      "f56becd459064a9c85fbc46756ab9318",
      "b70d2bb036df4072a5fe23d12b443730",
      "15ce0744b182492dbf8fefd080c6a4e5",
      "c9b41d80eab9417e8126328d4a0bc6bb",
      "e987140c84774ae8b5a1304063b4cced",
      "ac0ee8ba56ba435aa322f9bf9108a291",
      "24c4465710ab4795ab00b0b152bf6bc6",
      "1953efcaff5c4768a177fd89d3a91315",
      "da0c95b1f84a40dba2408e2a74b9cd58",
      "854add4319b449b3942aee751dc75f31",
      "2f120ff969ba4e9ba2b4354c187b0910",
      "36903ebefe654591992c22d03842da00",
      "e9fa0e80e0f447149814995c952f6f7d",
      "ae6b164e619f4cfd8aecce85017195d6",
      "e1873c6a4ae6474f958ecf32d015b90c",
      "5d0dd049be79461497736c70fe1e0543",
      "a75db9b26e704951aa67ebe60e34426f",
      "8a77ef4c85624f8e9c5c62971730ba18",
      "a2c62b5e216843e7b0480d210f137ed8",
      "6c01d09432e949c1a9624a5053ab3e03",
      "586721d1e45e4e6d857e85d58387b662",
      "e045a290d99947748c807636c963d550",
      "44af73d5f8484c14b01267a3797f7d79",
      "71ae2c41393446f0a089f86317a46890",
      "d7d388238cce4f46b91a453606ed6340",
      "e941f6768b3c4e89ba807498577d51e9",
      "adc90af285984eca9faef8bea89a1552",
      "d5e2f01ff23b4eafbd93ff9b3134c610",
      "e3a14d6cd3724e2f8309373a7787bb3c",
      "8ff229bbf7b64330ab5ea7a87c17cec3",
      "cfae7539803e46a6a51ba4988d49f21e",
      "65a8928855074fd1be530730df1255f0",
      "96aca16c91bd48ba9afb502868414432",
      "f911360a6e844fe19c290a5fe2375592",
      "01f5f22a90c24540916d904c3c2ab1a1",
      "a145b2d5921f489fbdbb0cbd40be883b",
      "a63f2c10c6cf43bf97d21461d21dcd14",
      "a3206c59019f47bbaa4ac316d9053a48",
      "ca9a47f8c92b407ab2bf54a9bce31560",
      "93079f72755b45d798e598974c605146",
      "8ca69f4d3bab493cbf7ead57bba5b21d",
      "002f7d643a854993a612f6ccb00352f4",
      "eb0696b266df47d7b9a3a919e2ca6870",
      "e5c6ba7540444925aea008fc4ead4761",
      "8f69850a0827419e804ee1ebc4cb1c15",
      "fcfa725a972541c998f362f2cecb5085"
     ]
    },
    "collapsed": true,
    "id": "wyLpzpEv3SwO",
    "outputId": "212170d7-44b7-4ae7-d232-7935d2449e09"
   },
   "outputs": [
    {
     "name": "stdout",
     "output_type": "stream",
     "text": [
      "\n",
      "Starting experiment: Baseline\n"
     ]
    },
    {
     "data": {
      "application/vnd.jupyter.widget-view+json": {
       "model_id": "d255b0c288c645d5b765e8269b88e440",
       "version_major": 2,
       "version_minor": 0
      },
      "text/plain": [
       "Epoch 2/76:   0%|          | 0/566 [00:00<?, ?it/s]"
      ]
     },
     "metadata": {},
     "output_type": "display_data"
    },
    {
     "name": "stdout",
     "output_type": "stream",
     "text": [
      "Epoch 1: Train Loss=0.5622\n"
     ]
    },
    {
     "data": {
      "application/vnd.jupyter.widget-view+json": {
       "model_id": "fc35fe8d481f4e3ebed2b5d3d7c025a2",
       "version_major": 2,
       "version_minor": 0
      },
      "text/plain": [
       "Epoch 3/76:   0%|          | 0/566 [00:00<?, ?it/s]"
      ]
     },
     "metadata": {},
     "output_type": "display_data"
    },
    {
     "name": "stdout",
     "output_type": "stream",
     "text": [
      "Epoch 2: Train Loss=0.5617\n"
     ]
    },
    {
     "data": {
      "application/vnd.jupyter.widget-view+json": {
       "model_id": "9dc51b6a5e6b4161aa45e876b64b64d9",
       "version_major": 2,
       "version_minor": 0
      },
      "text/plain": [
       "Epoch 4/76:   0%|          | 0/566 [00:00<?, ?it/s]"
      ]
     },
     "metadata": {},
     "output_type": "display_data"
    },
    {
     "name": "stdout",
     "output_type": "stream",
     "text": [
      "Epoch 3: Train Loss=0.5619\n"
     ]
    },
    {
     "data": {
      "application/vnd.jupyter.widget-view+json": {
       "model_id": "c092d5a06b4c4d8f94e105027c952ecf",
       "version_major": 2,
       "version_minor": 0
      },
      "text/plain": [
       "Epoch 5/76:   0%|          | 0/566 [00:00<?, ?it/s]"
      ]
     },
     "metadata": {},
     "output_type": "display_data"
    },
    {
     "name": "stdout",
     "output_type": "stream",
     "text": [
      "Epoch 4: Train Loss=0.5618\n"
     ]
    },
    {
     "data": {
      "application/vnd.jupyter.widget-view+json": {
       "model_id": "6809795a6d6643e6afb9aa6775e6607b",
       "version_major": 2,
       "version_minor": 0
      },
      "text/plain": [
       "Epoch 6/76:   0%|          | 0/566 [00:00<?, ?it/s]"
      ]
     },
     "metadata": {},
     "output_type": "display_data"
    },
    {
     "name": "stdout",
     "output_type": "stream",
     "text": [
      "Epoch 5: Train Loss=0.5618\n"
     ]
    },
    {
     "data": {
      "application/vnd.jupyter.widget-view+json": {
       "model_id": "9bbf64be97d94bdc8fe70f03a056fd30",
       "version_major": 2,
       "version_minor": 0
      },
      "text/plain": [
       "Epoch 7/76:   0%|          | 0/566 [00:00<?, ?it/s]"
      ]
     },
     "metadata": {},
     "output_type": "display_data"
    },
    {
     "name": "stdout",
     "output_type": "stream",
     "text": [
      "Epoch 6: Train Loss=0.5619\n"
     ]
    },
    {
     "data": {
      "application/vnd.jupyter.widget-view+json": {
       "model_id": "2cfc4ae14d524bbcb3f1c50cad0e9249",
       "version_major": 2,
       "version_minor": 0
      },
      "text/plain": [
       "Epoch 8/76:   0%|          | 0/566 [00:00<?, ?it/s]"
      ]
     },
     "metadata": {},
     "output_type": "display_data"
    },
    {
     "name": "stdout",
     "output_type": "stream",
     "text": [
      "Epoch 7: Train Loss=0.5617\n"
     ]
    },
    {
     "data": {
      "application/vnd.jupyter.widget-view+json": {
       "model_id": "3f2b7f511b964cb7bdb32b09c7596f31",
       "version_major": 2,
       "version_minor": 0
      },
      "text/plain": [
       "Epoch 9/76:   0%|          | 0/566 [00:00<?, ?it/s]"
      ]
     },
     "metadata": {},
     "output_type": "display_data"
    },
    {
     "name": "stdout",
     "output_type": "stream",
     "text": [
      "Epoch 8: Train Loss=0.5616\n"
     ]
    },
    {
     "data": {
      "application/vnd.jupyter.widget-view+json": {
       "model_id": "c2b8e17c987845d3be7e8e5f1cb498e3",
       "version_major": 2,
       "version_minor": 0
      },
      "text/plain": [
       "Epoch 10/76:   0%|          | 0/566 [00:00<?, ?it/s]"
      ]
     },
     "metadata": {},
     "output_type": "display_data"
    },
    {
     "name": "stdout",
     "output_type": "stream",
     "text": [
      "Epoch 9: Train Loss=0.5612\n"
     ]
    },
    {
     "data": {
      "application/vnd.jupyter.widget-view+json": {
       "model_id": "49662d9a1d7b476eae4f49ad958692a9",
       "version_major": 2,
       "version_minor": 0
      },
      "text/plain": [
       "Epoch 11/76:   0%|          | 0/566 [00:00<?, ?it/s]"
      ]
     },
     "metadata": {},
     "output_type": "display_data"
    },
    {
     "name": "stdout",
     "output_type": "stream",
     "text": [
      "Epoch 10: Train Loss=0.5615\n"
     ]
    },
    {
     "data": {
      "application/vnd.jupyter.widget-view+json": {
       "model_id": "be8c36cbcb2d45458c018ff86895e98b",
       "version_major": 2,
       "version_minor": 0
      },
      "text/plain": [
       "Epoch 12/76:   0%|          | 0/566 [00:00<?, ?it/s]"
      ]
     },
     "metadata": {},
     "output_type": "display_data"
    },
    {
     "name": "stdout",
     "output_type": "stream",
     "text": [
      "Epoch 11: Train Loss=0.5613\n"
     ]
    },
    {
     "data": {
      "application/vnd.jupyter.widget-view+json": {
       "model_id": "5970df558332454fa2a2d428851ca29c",
       "version_major": 2,
       "version_minor": 0
      },
      "text/plain": [
       "Epoch 13/76:   0%|          | 0/566 [00:00<?, ?it/s]"
      ]
     },
     "metadata": {},
     "output_type": "display_data"
    },
    {
     "name": "stdout",
     "output_type": "stream",
     "text": [
      "Epoch 12: Train Loss=0.5611\n"
     ]
    },
    {
     "data": {
      "application/vnd.jupyter.widget-view+json": {
       "model_id": "7aaca5113c1b455db4051dbfdf9e8a2a",
       "version_major": 2,
       "version_minor": 0
      },
      "text/plain": [
       "Epoch 14/76:   0%|          | 0/566 [00:00<?, ?it/s]"
      ]
     },
     "metadata": {},
     "output_type": "display_data"
    },
    {
     "name": "stdout",
     "output_type": "stream",
     "text": [
      "Epoch 13: Train Loss=0.5613\n"
     ]
    },
    {
     "data": {
      "application/vnd.jupyter.widget-view+json": {
       "model_id": "1cd0732a3074491790058480c0a0d868",
       "version_major": 2,
       "version_minor": 0
      },
      "text/plain": [
       "Epoch 15/76:   0%|          | 0/566 [00:00<?, ?it/s]"
      ]
     },
     "metadata": {},
     "output_type": "display_data"
    },
    {
     "name": "stdout",
     "output_type": "stream",
     "text": [
      "Epoch 14: Train Loss=0.5614\n"
     ]
    },
    {
     "data": {
      "application/vnd.jupyter.widget-view+json": {
       "model_id": "e8b25f8f6f974937a6dc1be5ade8b224",
       "version_major": 2,
       "version_minor": 0
      },
      "text/plain": [
       "Epoch 16/76:   0%|          | 0/566 [00:00<?, ?it/s]"
      ]
     },
     "metadata": {},
     "output_type": "display_data"
    },
    {
     "name": "stdout",
     "output_type": "stream",
     "text": [
      "Epoch 15: Train Loss=0.5614\n"
     ]
    },
    {
     "data": {
      "application/vnd.jupyter.widget-view+json": {
       "model_id": "2e6707db4a2e496e97022b2e8c091108",
       "version_major": 2,
       "version_minor": 0
      },
      "text/plain": [
       "Epoch 17/76:   0%|          | 0/566 [00:00<?, ?it/s]"
      ]
     },
     "metadata": {},
     "output_type": "display_data"
    },
    {
     "name": "stdout",
     "output_type": "stream",
     "text": [
      "Epoch 16: Train Loss=0.5607\n"
     ]
    },
    {
     "data": {
      "application/vnd.jupyter.widget-view+json": {
       "model_id": "e5c20803027548139c6f194272ddb372",
       "version_major": 2,
       "version_minor": 0
      },
      "text/plain": [
       "Epoch 18/76:   0%|          | 0/566 [00:00<?, ?it/s]"
      ]
     },
     "metadata": {},
     "output_type": "display_data"
    },
    {
     "name": "stdout",
     "output_type": "stream",
     "text": [
      "Epoch 17: Train Loss=0.5607\n"
     ]
    },
    {
     "data": {
      "application/vnd.jupyter.widget-view+json": {
       "model_id": "431529cfca224500a825739d1315742d",
       "version_major": 2,
       "version_minor": 0
      },
      "text/plain": [
       "Epoch 19/76:   0%|          | 0/566 [00:00<?, ?it/s]"
      ]
     },
     "metadata": {},
     "output_type": "display_data"
    },
    {
     "name": "stdout",
     "output_type": "stream",
     "text": [
      "Epoch 18: Train Loss=0.5606\n"
     ]
    },
    {
     "data": {
      "application/vnd.jupyter.widget-view+json": {
       "model_id": "970024ba166d46bb8ad019db2cc4167f",
       "version_major": 2,
       "version_minor": 0
      },
      "text/plain": [
       "Epoch 20/76:   0%|          | 0/566 [00:00<?, ?it/s]"
      ]
     },
     "metadata": {},
     "output_type": "display_data"
    },
    {
     "name": "stdout",
     "output_type": "stream",
     "text": [
      "Epoch 19: Train Loss=0.5604\n"
     ]
    },
    {
     "data": {
      "application/vnd.jupyter.widget-view+json": {
       "model_id": "cb6896b954004024ae28dc8230b1116e",
       "version_major": 2,
       "version_minor": 0
      },
      "text/plain": [
       "Epoch 21/76:   0%|          | 0/566 [00:00<?, ?it/s]"
      ]
     },
     "metadata": {},
     "output_type": "display_data"
    },
    {
     "name": "stdout",
     "output_type": "stream",
     "text": [
      "Epoch 20: Train Loss=0.5603\n"
     ]
    },
    {
     "data": {
      "application/vnd.jupyter.widget-view+json": {
       "model_id": "1596dbcbe0d940739593271fdb846e18",
       "version_major": 2,
       "version_minor": 0
      },
      "text/plain": [
       "Epoch 22/76:   0%|          | 0/566 [00:00<?, ?it/s]"
      ]
     },
     "metadata": {},
     "output_type": "display_data"
    },
    {
     "name": "stdout",
     "output_type": "stream",
     "text": [
      "Epoch 21: Train Loss=0.5591\n"
     ]
    },
    {
     "data": {
      "application/vnd.jupyter.widget-view+json": {
       "model_id": "fbe8cba4a9e147808ff87b69db86e389",
       "version_major": 2,
       "version_minor": 0
      },
      "text/plain": [
       "Epoch 23/76:   0%|          | 0/566 [00:00<?, ?it/s]"
      ]
     },
     "metadata": {},
     "output_type": "display_data"
    },
    {
     "name": "stdout",
     "output_type": "stream",
     "text": [
      "Epoch 22: Train Loss=0.5578\n"
     ]
    },
    {
     "data": {
      "application/vnd.jupyter.widget-view+json": {
       "model_id": "31dc577a99534ebbad84703ba47e067e",
       "version_major": 2,
       "version_minor": 0
      },
      "text/plain": [
       "Epoch 24/76:   0%|          | 0/566 [00:00<?, ?it/s]"
      ]
     },
     "metadata": {},
     "output_type": "display_data"
    },
    {
     "name": "stdout",
     "output_type": "stream",
     "text": [
      "Epoch 23: Train Loss=0.5538\n"
     ]
    },
    {
     "data": {
      "application/vnd.jupyter.widget-view+json": {
       "model_id": "5a9f50a264184980a94f8fd53b6ba643",
       "version_major": 2,
       "version_minor": 0
      },
      "text/plain": [
       "Epoch 25/76:   0%|          | 0/566 [00:00<?, ?it/s]"
      ]
     },
     "metadata": {},
     "output_type": "display_data"
    },
    {
     "name": "stdout",
     "output_type": "stream",
     "text": [
      "Epoch 24: Train Loss=0.5379\n"
     ]
    },
    {
     "data": {
      "application/vnd.jupyter.widget-view+json": {
       "model_id": "2e2a8d679bfe43df96129d1008ff4587",
       "version_major": 2,
       "version_minor": 0
      },
      "text/plain": [
       "Epoch 26/76:   0%|          | 0/566 [00:00<?, ?it/s]"
      ]
     },
     "metadata": {},
     "output_type": "display_data"
    },
    {
     "name": "stdout",
     "output_type": "stream",
     "text": [
      "Epoch 25: Train Loss=0.4378\n"
     ]
    },
    {
     "data": {
      "application/vnd.jupyter.widget-view+json": {
       "model_id": "03db31abd27b410e853e634e4ba6f444",
       "version_major": 2,
       "version_minor": 0
      },
      "text/plain": [
       "Epoch 27/76:   0%|          | 0/566 [00:00<?, ?it/s]"
      ]
     },
     "metadata": {},
     "output_type": "display_data"
    },
    {
     "name": "stdout",
     "output_type": "stream",
     "text": [
      "Epoch 26: Train Loss=0.3536\n"
     ]
    },
    {
     "data": {
      "application/vnd.jupyter.widget-view+json": {
       "model_id": "21d6160293064266b45f8772b014732d",
       "version_major": 2,
       "version_minor": 0
      },
      "text/plain": [
       "Epoch 28/76:   0%|          | 0/566 [00:00<?, ?it/s]"
      ]
     },
     "metadata": {},
     "output_type": "display_data"
    },
    {
     "name": "stdout",
     "output_type": "stream",
     "text": [
      "Epoch 27: Train Loss=0.3435\n"
     ]
    },
    {
     "data": {
      "application/vnd.jupyter.widget-view+json": {
       "model_id": "423e48759da24bfb8c3125a9b30f07ea",
       "version_major": 2,
       "version_minor": 0
      },
      "text/plain": [
       "Epoch 29/76:   0%|          | 0/566 [00:00<?, ?it/s]"
      ]
     },
     "metadata": {},
     "output_type": "display_data"
    },
    {
     "name": "stdout",
     "output_type": "stream",
     "text": [
      "Epoch 28: Train Loss=0.3392\n"
     ]
    },
    {
     "data": {
      "application/vnd.jupyter.widget-view+json": {
       "model_id": "2713016ac3a04f0eaf752b8838d5d3a5",
       "version_major": 2,
       "version_minor": 0
      },
      "text/plain": [
       "Epoch 30/76:   0%|          | 0/566 [00:00<?, ?it/s]"
      ]
     },
     "metadata": {},
     "output_type": "display_data"
    },
    {
     "name": "stdout",
     "output_type": "stream",
     "text": [
      "Epoch 29: Train Loss=0.3367\n"
     ]
    },
    {
     "data": {
      "application/vnd.jupyter.widget-view+json": {
       "model_id": "c996a9ea048d4ab8beeae8b6210e95a1",
       "version_major": 2,
       "version_minor": 0
      },
      "text/plain": [
       "Epoch 31/76:   0%|          | 0/566 [00:00<?, ?it/s]"
      ]
     },
     "metadata": {},
     "output_type": "display_data"
    },
    {
     "name": "stdout",
     "output_type": "stream",
     "text": [
      "Epoch 30: Train Loss=0.3340\n"
     ]
    },
    {
     "data": {
      "application/vnd.jupyter.widget-view+json": {
       "model_id": "c390ffbc6fd1468faa24720eb7f101e5",
       "version_major": 2,
       "version_minor": 0
      },
      "text/plain": [
       "Epoch 32/76:   0%|          | 0/566 [00:00<?, ?it/s]"
      ]
     },
     "metadata": {},
     "output_type": "display_data"
    },
    {
     "name": "stdout",
     "output_type": "stream",
     "text": [
      "Epoch 31: Train Loss=0.3320\n"
     ]
    },
    {
     "data": {
      "application/vnd.jupyter.widget-view+json": {
       "model_id": "f25c11f8c6e0402f9363179111a33c37",
       "version_major": 2,
       "version_minor": 0
      },
      "text/plain": [
       "Epoch 33/76:   0%|          | 0/566 [00:00<?, ?it/s]"
      ]
     },
     "metadata": {},
     "output_type": "display_data"
    },
    {
     "name": "stdout",
     "output_type": "stream",
     "text": [
      "Epoch 32: Train Loss=0.3303\n"
     ]
    },
    {
     "data": {
      "application/vnd.jupyter.widget-view+json": {
       "model_id": "42d30769ff3545a4a7e58fcb1da24716",
       "version_major": 2,
       "version_minor": 0
      },
      "text/plain": [
       "Epoch 34/76:   0%|          | 0/566 [00:00<?, ?it/s]"
      ]
     },
     "metadata": {},
     "output_type": "display_data"
    },
    {
     "name": "stdout",
     "output_type": "stream",
     "text": [
      "Epoch 33: Train Loss=0.3291\n"
     ]
    },
    {
     "data": {
      "application/vnd.jupyter.widget-view+json": {
       "model_id": "34f6e52c116e4fc889ed44ebf5fe334d",
       "version_major": 2,
       "version_minor": 0
      },
      "text/plain": [
       "Epoch 35/76:   0%|          | 0/566 [00:00<?, ?it/s]"
      ]
     },
     "metadata": {},
     "output_type": "display_data"
    },
    {
     "name": "stdout",
     "output_type": "stream",
     "text": [
      "Epoch 34: Train Loss=0.3281\n"
     ]
    },
    {
     "data": {
      "application/vnd.jupyter.widget-view+json": {
       "model_id": "a4b382f005964cd79000e5e01ea84cd1",
       "version_major": 2,
       "version_minor": 0
      },
      "text/plain": [
       "Epoch 36/76:   0%|          | 0/566 [00:00<?, ?it/s]"
      ]
     },
     "metadata": {},
     "output_type": "display_data"
    },
    {
     "name": "stdout",
     "output_type": "stream",
     "text": [
      "Epoch 35: Train Loss=0.3278\n"
     ]
    },
    {
     "data": {
      "application/vnd.jupyter.widget-view+json": {
       "model_id": "1d423b3a78b2423fbde347b6693b74ea",
       "version_major": 2,
       "version_minor": 0
      },
      "text/plain": [
       "Epoch 37/76:   0%|          | 0/566 [00:00<?, ?it/s]"
      ]
     },
     "metadata": {},
     "output_type": "display_data"
    },
    {
     "name": "stdout",
     "output_type": "stream",
     "text": [
      "Epoch 36: Train Loss=0.3272\n"
     ]
    },
    {
     "data": {
      "application/vnd.jupyter.widget-view+json": {
       "model_id": "8f0070895de4458fabb5d9870ccfe52c",
       "version_major": 2,
       "version_minor": 0
      },
      "text/plain": [
       "Epoch 38/76:   0%|          | 0/566 [00:00<?, ?it/s]"
      ]
     },
     "metadata": {},
     "output_type": "display_data"
    },
    {
     "name": "stdout",
     "output_type": "stream",
     "text": [
      "Epoch 37: Train Loss=0.3261\n"
     ]
    },
    {
     "data": {
      "application/vnd.jupyter.widget-view+json": {
       "model_id": "b11da7860a9640b887715a64e4a8f666",
       "version_major": 2,
       "version_minor": 0
      },
      "text/plain": [
       "Epoch 39/76:   0%|          | 0/566 [00:00<?, ?it/s]"
      ]
     },
     "metadata": {},
     "output_type": "display_data"
    },
    {
     "name": "stdout",
     "output_type": "stream",
     "text": [
      "Epoch 38: Train Loss=0.3257\n"
     ]
    },
    {
     "data": {
      "application/vnd.jupyter.widget-view+json": {
       "model_id": "0e227439f9084c9db02ad09d11466adb",
       "version_major": 2,
       "version_minor": 0
      },
      "text/plain": [
       "Epoch 40/76:   0%|          | 0/566 [00:00<?, ?it/s]"
      ]
     },
     "metadata": {},
     "output_type": "display_data"
    },
    {
     "name": "stdout",
     "output_type": "stream",
     "text": [
      "Epoch 39: Train Loss=0.3256\n"
     ]
    },
    {
     "data": {
      "application/vnd.jupyter.widget-view+json": {
       "model_id": "43011381042440dcbb37cce90e0ec570",
       "version_major": 2,
       "version_minor": 0
      },
      "text/plain": [
       "Epoch 41/76:   0%|          | 0/566 [00:00<?, ?it/s]"
      ]
     },
     "metadata": {},
     "output_type": "display_data"
    },
    {
     "name": "stdout",
     "output_type": "stream",
     "text": [
      "Epoch 40: Train Loss=0.3255\n"
     ]
    },
    {
     "data": {
      "application/vnd.jupyter.widget-view+json": {
       "model_id": "5ccf6ab7f4654c209c37415196bb1c63",
       "version_major": 2,
       "version_minor": 0
      },
      "text/plain": [
       "Epoch 42/76:   0%|          | 0/566 [00:00<?, ?it/s]"
      ]
     },
     "metadata": {},
     "output_type": "display_data"
    },
    {
     "name": "stdout",
     "output_type": "stream",
     "text": [
      "Epoch 41: Train Loss=0.3246\n"
     ]
    },
    {
     "data": {
      "application/vnd.jupyter.widget-view+json": {
       "model_id": "1d497eb80c3e42299ee8e7ac63f7e99f",
       "version_major": 2,
       "version_minor": 0
      },
      "text/plain": [
       "Epoch 43/76:   0%|          | 0/566 [00:00<?, ?it/s]"
      ]
     },
     "metadata": {},
     "output_type": "display_data"
    },
    {
     "name": "stdout",
     "output_type": "stream",
     "text": [
      "Epoch 42: Train Loss=0.3241\n"
     ]
    },
    {
     "data": {
      "application/vnd.jupyter.widget-view+json": {
       "model_id": "6752486a75514ffd904dfe0991c55176",
       "version_major": 2,
       "version_minor": 0
      },
      "text/plain": [
       "Epoch 44/76:   0%|          | 0/566 [00:00<?, ?it/s]"
      ]
     },
     "metadata": {},
     "output_type": "display_data"
    },
    {
     "name": "stdout",
     "output_type": "stream",
     "text": [
      "Epoch 43: Train Loss=0.3245\n"
     ]
    },
    {
     "data": {
      "application/vnd.jupyter.widget-view+json": {
       "model_id": "111d4ae1841e4c178da829385ed7bdcb",
       "version_major": 2,
       "version_minor": 0
      },
      "text/plain": [
       "Epoch 45/76:   0%|          | 0/566 [00:00<?, ?it/s]"
      ]
     },
     "metadata": {},
     "output_type": "display_data"
    },
    {
     "name": "stdout",
     "output_type": "stream",
     "text": [
      "Epoch 44: Train Loss=0.3242\n"
     ]
    },
    {
     "data": {
      "application/vnd.jupyter.widget-view+json": {
       "model_id": "f1221958fad6447594787888c00b8dec",
       "version_major": 2,
       "version_minor": 0
      },
      "text/plain": [
       "Epoch 46/76:   0%|          | 0/566 [00:00<?, ?it/s]"
      ]
     },
     "metadata": {},
     "output_type": "display_data"
    },
    {
     "name": "stdout",
     "output_type": "stream",
     "text": [
      "Epoch 45: Train Loss=0.3241\n"
     ]
    },
    {
     "data": {
      "application/vnd.jupyter.widget-view+json": {
       "model_id": "4bbfbe0f20e84dda862d2ab57f5937e9",
       "version_major": 2,
       "version_minor": 0
      },
      "text/plain": [
       "Epoch 47/76:   0%|          | 0/566 [00:00<?, ?it/s]"
      ]
     },
     "metadata": {},
     "output_type": "display_data"
    },
    {
     "name": "stdout",
     "output_type": "stream",
     "text": [
      "Epoch 46: Train Loss=0.3231\n"
     ]
    },
    {
     "data": {
      "application/vnd.jupyter.widget-view+json": {
       "model_id": "bc0ee6be661f4dd4aed25dfc81a0f91b",
       "version_major": 2,
       "version_minor": 0
      },
      "text/plain": [
       "Epoch 48/76:   0%|          | 0/566 [00:00<?, ?it/s]"
      ]
     },
     "metadata": {},
     "output_type": "display_data"
    },
    {
     "name": "stdout",
     "output_type": "stream",
     "text": [
      "Epoch 47: Train Loss=0.3222\n"
     ]
    },
    {
     "data": {
      "application/vnd.jupyter.widget-view+json": {
       "model_id": "be43295f8f4841eeb92d81e138791a25",
       "version_major": 2,
       "version_minor": 0
      },
      "text/plain": [
       "Epoch 49/76:   0%|          | 0/566 [00:00<?, ?it/s]"
      ]
     },
     "metadata": {},
     "output_type": "display_data"
    },
    {
     "name": "stdout",
     "output_type": "stream",
     "text": [
      "Epoch 48: Train Loss=0.3225\n"
     ]
    },
    {
     "data": {
      "application/vnd.jupyter.widget-view+json": {
       "model_id": "ef597ded4ade49d7b11cac91ae3982d5",
       "version_major": 2,
       "version_minor": 0
      },
      "text/plain": [
       "Epoch 50/76:   0%|          | 0/566 [00:00<?, ?it/s]"
      ]
     },
     "metadata": {},
     "output_type": "display_data"
    },
    {
     "name": "stdout",
     "output_type": "stream",
     "text": [
      "Epoch 49: Train Loss=0.3221\n"
     ]
    },
    {
     "data": {
      "application/vnd.jupyter.widget-view+json": {
       "model_id": "737b5ba3495045d483e6f4d2f60ec32b",
       "version_major": 2,
       "version_minor": 0
      },
      "text/plain": [
       "Epoch 51/76:   0%|          | 0/566 [00:00<?, ?it/s]"
      ]
     },
     "metadata": {},
     "output_type": "display_data"
    },
    {
     "name": "stdout",
     "output_type": "stream",
     "text": [
      "Epoch 50: Train Loss=0.3209\n"
     ]
    },
    {
     "data": {
      "application/vnd.jupyter.widget-view+json": {
       "model_id": "c3dd467da6b94fbab59946a40b72d293",
       "version_major": 2,
       "version_minor": 0
      },
      "text/plain": [
       "Epoch 52/76:   0%|          | 0/566 [00:00<?, ?it/s]"
      ]
     },
     "metadata": {},
     "output_type": "display_data"
    },
    {
     "name": "stdout",
     "output_type": "stream",
     "text": [
      "Epoch 51: Train Loss=0.3208\n"
     ]
    },
    {
     "data": {
      "application/vnd.jupyter.widget-view+json": {
       "model_id": "3b382efef557428bb3853b963cb3c48f",
       "version_major": 2,
       "version_minor": 0
      },
      "text/plain": [
       "Epoch 53/76:   0%|          | 0/566 [00:00<?, ?it/s]"
      ]
     },
     "metadata": {},
     "output_type": "display_data"
    },
    {
     "name": "stdout",
     "output_type": "stream",
     "text": [
      "Epoch 52: Train Loss=0.3212\n"
     ]
    },
    {
     "data": {
      "application/vnd.jupyter.widget-view+json": {
       "model_id": "d08f086fd6ff47c199e91b7eed9a4a5b",
       "version_major": 2,
       "version_minor": 0
      },
      "text/plain": [
       "Epoch 54/76:   0%|          | 0/566 [00:00<?, ?it/s]"
      ]
     },
     "metadata": {},
     "output_type": "display_data"
    },
    {
     "name": "stdout",
     "output_type": "stream",
     "text": [
      "Epoch 53: Train Loss=0.3200\n"
     ]
    },
    {
     "data": {
      "application/vnd.jupyter.widget-view+json": {
       "model_id": "6cc7a311ff8946f4af13b52edd2b465a",
       "version_major": 2,
       "version_minor": 0
      },
      "text/plain": [
       "Epoch 55/76:   0%|          | 0/566 [00:00<?, ?it/s]"
      ]
     },
     "metadata": {},
     "output_type": "display_data"
    },
    {
     "name": "stdout",
     "output_type": "stream",
     "text": [
      "Epoch 54: Train Loss=0.3200\n"
     ]
    },
    {
     "data": {
      "application/vnd.jupyter.widget-view+json": {
       "model_id": "dc7aaf72f6f749fab939a125addfc263",
       "version_major": 2,
       "version_minor": 0
      },
      "text/plain": [
       "Epoch 56/76:   0%|          | 0/566 [00:00<?, ?it/s]"
      ]
     },
     "metadata": {},
     "output_type": "display_data"
    },
    {
     "name": "stdout",
     "output_type": "stream",
     "text": [
      "Epoch 55: Train Loss=0.3196\n"
     ]
    },
    {
     "data": {
      "application/vnd.jupyter.widget-view+json": {
       "model_id": "f99d285b92304330840a2030eda2715d",
       "version_major": 2,
       "version_minor": 0
      },
      "text/plain": [
       "Epoch 57/76:   0%|          | 0/566 [00:00<?, ?it/s]"
      ]
     },
     "metadata": {},
     "output_type": "display_data"
    },
    {
     "name": "stdout",
     "output_type": "stream",
     "text": [
      "Epoch 56: Train Loss=0.3193\n"
     ]
    },
    {
     "data": {
      "application/vnd.jupyter.widget-view+json": {
       "model_id": "b24ac6e56af447028a5ce757d81f4ec6",
       "version_major": 2,
       "version_minor": 0
      },
      "text/plain": [
       "Epoch 58/76:   0%|          | 0/566 [00:00<?, ?it/s]"
      ]
     },
     "metadata": {},
     "output_type": "display_data"
    },
    {
     "name": "stdout",
     "output_type": "stream",
     "text": [
      "Epoch 57: Train Loss=0.3188\n"
     ]
    },
    {
     "data": {
      "application/vnd.jupyter.widget-view+json": {
       "model_id": "c3f78078ea9e4ea0bf6adcc009b8ac98",
       "version_major": 2,
       "version_minor": 0
      },
      "text/plain": [
       "Epoch 59/76:   0%|          | 0/566 [00:00<?, ?it/s]"
      ]
     },
     "metadata": {},
     "output_type": "display_data"
    },
    {
     "name": "stdout",
     "output_type": "stream",
     "text": [
      "Epoch 58: Train Loss=0.3188\n"
     ]
    },
    {
     "data": {
      "application/vnd.jupyter.widget-view+json": {
       "model_id": "32f4226f04ea43b3a4b9fd5f81a4c5e0",
       "version_major": 2,
       "version_minor": 0
      },
      "text/plain": [
       "Epoch 60/76:   0%|          | 0/566 [00:00<?, ?it/s]"
      ]
     },
     "metadata": {},
     "output_type": "display_data"
    },
    {
     "name": "stdout",
     "output_type": "stream",
     "text": [
      "Epoch 59: Train Loss=0.3178\n"
     ]
    },
    {
     "data": {
      "application/vnd.jupyter.widget-view+json": {
       "model_id": "da2b2f8cc12740f7b667912366cf38e6",
       "version_major": 2,
       "version_minor": 0
      },
      "text/plain": [
       "Epoch 61/76:   0%|          | 0/566 [00:00<?, ?it/s]"
      ]
     },
     "metadata": {},
     "output_type": "display_data"
    },
    {
     "name": "stdout",
     "output_type": "stream",
     "text": [
      "Epoch 60: Train Loss=0.3179\n"
     ]
    },
    {
     "data": {
      "application/vnd.jupyter.widget-view+json": {
       "model_id": "d8085366a2174665b45e97647d5da8c0",
       "version_major": 2,
       "version_minor": 0
      },
      "text/plain": [
       "Epoch 62/76:   0%|          | 0/566 [00:00<?, ?it/s]"
      ]
     },
     "metadata": {},
     "output_type": "display_data"
    },
    {
     "name": "stdout",
     "output_type": "stream",
     "text": [
      "Epoch 61: Train Loss=0.3169\n"
     ]
    },
    {
     "data": {
      "application/vnd.jupyter.widget-view+json": {
       "model_id": "20db4c15d091445889e8e676261e9299",
       "version_major": 2,
       "version_minor": 0
      },
      "text/plain": [
       "Epoch 63/76:   0%|          | 0/566 [00:00<?, ?it/s]"
      ]
     },
     "metadata": {},
     "output_type": "display_data"
    },
    {
     "name": "stdout",
     "output_type": "stream",
     "text": [
      "Epoch 62: Train Loss=0.3168\n"
     ]
    },
    {
     "data": {
      "application/vnd.jupyter.widget-view+json": {
       "model_id": "5626e2e4baef4f708dc6a2fb0124eceb",
       "version_major": 2,
       "version_minor": 0
      },
      "text/plain": [
       "Epoch 64/76:   0%|          | 0/566 [00:00<?, ?it/s]"
      ]
     },
     "metadata": {},
     "output_type": "display_data"
    },
    {
     "name": "stdout",
     "output_type": "stream",
     "text": [
      "Epoch 63: Train Loss=0.3161\n"
     ]
    },
    {
     "data": {
      "application/vnd.jupyter.widget-view+json": {
       "model_id": "6dead306d3ee4641aea1ab74c19757fc",
       "version_major": 2,
       "version_minor": 0
      },
      "text/plain": [
       "Epoch 65/76:   0%|          | 0/566 [00:00<?, ?it/s]"
      ]
     },
     "metadata": {},
     "output_type": "display_data"
    },
    {
     "name": "stdout",
     "output_type": "stream",
     "text": [
      "Epoch 64: Train Loss=0.3165\n"
     ]
    },
    {
     "data": {
      "application/vnd.jupyter.widget-view+json": {
       "model_id": "ed2c688610674c0e812a765d52ec09ee",
       "version_major": 2,
       "version_minor": 0
      },
      "text/plain": [
       "Epoch 66/76:   0%|          | 0/566 [00:00<?, ?it/s]"
      ]
     },
     "metadata": {},
     "output_type": "display_data"
    },
    {
     "name": "stdout",
     "output_type": "stream",
     "text": [
      "Epoch 65: Train Loss=0.3159\n"
     ]
    },
    {
     "data": {
      "application/vnd.jupyter.widget-view+json": {
       "model_id": "d8ea3243d81942f2b48d715b9d73aefe",
       "version_major": 2,
       "version_minor": 0
      },
      "text/plain": [
       "Epoch 67/76:   0%|          | 0/566 [00:00<?, ?it/s]"
      ]
     },
     "metadata": {},
     "output_type": "display_data"
    },
    {
     "name": "stdout",
     "output_type": "stream",
     "text": [
      "Epoch 66: Train Loss=0.3143\n"
     ]
    },
    {
     "data": {
      "application/vnd.jupyter.widget-view+json": {
       "model_id": "109b8597a38448fe8ff6a419df448c1f",
       "version_major": 2,
       "version_minor": 0
      },
      "text/plain": [
       "Epoch 68/76:   0%|          | 0/566 [00:00<?, ?it/s]"
      ]
     },
     "metadata": {},
     "output_type": "display_data"
    },
    {
     "name": "stdout",
     "output_type": "stream",
     "text": [
      "Epoch 67: Train Loss=0.3149\n"
     ]
    },
    {
     "data": {
      "application/vnd.jupyter.widget-view+json": {
       "model_id": "07fe48d608c34c40969cbe99beb40278",
       "version_major": 2,
       "version_minor": 0
      },
      "text/plain": [
       "Epoch 69/76:   0%|          | 0/566 [00:00<?, ?it/s]"
      ]
     },
     "metadata": {},
     "output_type": "display_data"
    },
    {
     "name": "stdout",
     "output_type": "stream",
     "text": [
      "Epoch 68: Train Loss=0.3138\n"
     ]
    },
    {
     "data": {
      "application/vnd.jupyter.widget-view+json": {
       "model_id": "78152dd3bbdf42d0b4f4cbe89b35ef53",
       "version_major": 2,
       "version_minor": 0
      },
      "text/plain": [
       "Epoch 70/76:   0%|          | 0/566 [00:00<?, ?it/s]"
      ]
     },
     "metadata": {},
     "output_type": "display_data"
    },
    {
     "name": "stdout",
     "output_type": "stream",
     "text": [
      "Epoch 69: Train Loss=0.3135\n"
     ]
    },
    {
     "data": {
      "application/vnd.jupyter.widget-view+json": {
       "model_id": "905a4865bb154d57a4145f0d045a24ef",
       "version_major": 2,
       "version_minor": 0
      },
      "text/plain": [
       "Epoch 71/76:   0%|          | 0/566 [00:00<?, ?it/s]"
      ]
     },
     "metadata": {},
     "output_type": "display_data"
    },
    {
     "name": "stdout",
     "output_type": "stream",
     "text": [
      "Epoch 70: Train Loss=0.3131\n"
     ]
    },
    {
     "data": {
      "application/vnd.jupyter.widget-view+json": {
       "model_id": "cb6fc02de8ac43ecbe9694f827e55ce1",
       "version_major": 2,
       "version_minor": 0
      },
      "text/plain": [
       "Epoch 72/76:   0%|          | 0/566 [00:00<?, ?it/s]"
      ]
     },
     "metadata": {},
     "output_type": "display_data"
    },
    {
     "name": "stdout",
     "output_type": "stream",
     "text": [
      "Epoch 71: Train Loss=0.3132\n"
     ]
    },
    {
     "data": {
      "application/vnd.jupyter.widget-view+json": {
       "model_id": "15ce0744b182492dbf8fefd080c6a4e5",
       "version_major": 2,
       "version_minor": 0
      },
      "text/plain": [
       "Epoch 73/76:   0%|          | 0/566 [00:00<?, ?it/s]"
      ]
     },
     "metadata": {},
     "output_type": "display_data"
    },
    {
     "name": "stdout",
     "output_type": "stream",
     "text": [
      "Epoch 72: Train Loss=0.3124\n"
     ]
    },
    {
     "data": {
      "application/vnd.jupyter.widget-view+json": {
       "model_id": "ae6b164e619f4cfd8aecce85017195d6",
       "version_major": 2,
       "version_minor": 0
      },
      "text/plain": [
       "Epoch 74/76:   0%|          | 0/566 [00:00<?, ?it/s]"
      ]
     },
     "metadata": {},
     "output_type": "display_data"
    },
    {
     "name": "stdout",
     "output_type": "stream",
     "text": [
      "Epoch 73: Train Loss=0.3120\n"
     ]
    },
    {
     "data": {
      "application/vnd.jupyter.widget-view+json": {
       "model_id": "d7d388238cce4f46b91a453606ed6340",
       "version_major": 2,
       "version_minor": 0
      },
      "text/plain": [
       "Epoch 75/76:   0%|          | 0/566 [00:00<?, ?it/s]"
      ]
     },
     "metadata": {},
     "output_type": "display_data"
    },
    {
     "name": "stdout",
     "output_type": "stream",
     "text": [
      "Epoch 74: Train Loss=0.3116\n"
     ]
    },
    {
     "data": {
      "application/vnd.jupyter.widget-view+json": {
       "model_id": "a145b2d5921f489fbdbb0cbd40be883b",
       "version_major": 2,
       "version_minor": 0
      },
      "text/plain": [
       "Epoch 76/76:   0%|          | 0/566 [00:00<?, ?it/s]"
      ]
     },
     "metadata": {},
     "output_type": "display_data"
    },
    {
     "name": "stdout",
     "output_type": "stream",
     "text": [
      "Epoch 75: Train Loss=0.3113\n",
      "\n",
      "Training completed in 110.44 seconds.\n"
     ]
    },
    {
     "data": {
      "image/png": "[encoded data removed]",
      "text/plain": [
       "<Figure size 640x480 with 1 Axes>"
      ]
     },
     "metadata": {},
     "output_type": "display_data"
    },
    {
     "name": "stdout",
     "output_type": "stream",
     "text": [
      "Test Accuracy: 0.8364\n"
     ]
    }
   ],
   "source": [
    "# Training (only needed if not saved from a previous run)\n",
    "\n",
    "baseline_trained_model, baseline_trained_acc = run_experiment(\"Baseline\", test_loader, train_loader, neurons_per_layer, amount_layers, activation, learning_rate, epochs, dropout_rate=0.0, weight_decay=0.0, grad_noise_std=0.0)\n"
   ]
  },
  {
   "cell_type": "code",
   "execution_count": 32,
   "metadata": {
    "colab": {
     "base_uri": "https://localhost:8080/"
    },
    "id": "b02FCDcWRI62",
    "outputId": "fec5a228-ab48-478c-a1c6-335430e6c2fc"
   },
   "outputs": [
    {
     "name": "stdout",
     "output_type": "stream",
     "text": [
      "/content/optML_mini_project\n",
      "[setup 0374c5d] Add baseline trained model\n",
      " 1 file changed, 0 insertions(+), 0 deletions(-)\n",
      " create mode 100644 baseline_model.pth\n",
      "Enumerating objects: 4, done.\n",
      "Counting objects: 100% (4/4), done.\n",
      "Delta compression using up to 2 threads\n",
      "Compressing objects: 100% (3/3), done.\n",
      "Writing objects: 100% (3/3), 71.93 KiB | 14.39 MiB/s, done.\n",
      "Total 3 (delta 1), reused 0 (delta 0), pack-reused 0\n",
      "remote: Resolving deltas: 100% (1/1), completed with 1 local object.\u001b[K\n",
      "To https://github.com/federicovilla55/optML_mini_project.git\n",
      "   ad7bb0f..0374c5d  setup -> setup\n"
     ]
    }
   ],
   "source": [
    "# Saving model in git (this does not save the optimizer states)\n",
    "\n",
    "torch.save(baseline_trained_model.state_dict(), '/content/optML_mini_project/baseline_model.pth')\n",
    "%cd /content/optML_mini_project\n",
    "!git add baseline_model.pth\n",
    "!git commit -m \"Add baseline trained model\"\n",
    "!git push\n"
   ]
  },
  {
   "cell_type": "code",
   "execution_count": 33,
   "metadata": {
    "colab": {
     "base_uri": "https://localhost:8080/"
    },
    "id": "NTnfrB5iRY8y",
    "outputId": "e9e71cef-2381-4503-d8a9-049d8a1aec1d"
   },
   "outputs": [
    {
     "data": {
      "text/plain": [
       "MLP(\n",
       "  (hidden_layers): ModuleList(\n",
       "    (0): Linear(in_features=105, out_features=64, bias=True)\n",
       "    (1-3): 3 x Linear(in_features=64, out_features=64, bias=True)\n",
       "  )\n",
       "  (activation): Sigmoid()\n",
       "  (output_layer): Linear(in_features=64, out_features=2, bias=True)\n",
       ")"
      ]
     },
     "execution_count": 33,
     "metadata": {},
     "output_type": "execute_result"
    }
   ],
   "source": [
    "# Retrieving model from git\n",
    "\n",
    "model = MLP(input_dim, num_classes, amount_layers, neurons_per_layer, activation, dropout_rate=0.0).to(device)\n",
    "\n",
    "# Load the state dictionary.\n",
    "model.load_state_dict(torch.load('/content/optML_mini_project/baseline_model.pth'))\n",
    "\n",
    "# Set the model to evaluation mode.\n",
    "model.eval()"
   ]
  },
  {
   "cell_type": "markdown",
   "metadata": {
    "id": "1OpYarbFRkiL"
   },
   "source": [
    "##**Experiment 2: Dropout Regularization**"
   ]
  },
  {
   "cell_type": "code",
   "execution_count": 26,
   "metadata": {
    "colab": {
     "base_uri": "https://localhost:8080/",
     "height": 1000,
     "referenced_widgets": [
      "37db3c30e79045f587c5314b086a5cb4",
      "3f8b67fb5e1e4f0992465502baaecd0b",
      "c908bea561d145c6a32d8473b691a84a",
      "d8a38a6632eb4388b740c36ea3962c19",
      "dabd17b7371a4c01a0a9c60e6a82d70b",
      "27208dbcbd7744999f9a6d6ecbe780dc",
      "4a3a913f97d44251a89ce85a2cc02936",
      "95058b3ea0ea47238523102ac49082cd",
      "84186f1df4a6431da9095e6149fcb658",
      "ff0bb25164644ee69cc5ec723c012a57",
      "769c1880c4a044249bc54bb42bb89f4b",
      "409480d1c4af497dba8282f76746bdf0",
      "3883c1336b534e878c99140a9b355fec",
      "7298cb0930854dff8205e412f024b8e1",
      "01e55fd1ac6646458e5b553d8f49a757",
      "4f8a6b36db674e92bd6ca1ec7534a094",
      "a2eb380034204157ba58dba63a8ce873",
      "0c1447f7e4fa47a4a3e2dcd27a5c3324",
      "f7d4820e11d44f2cb63895db7e7be3c8",
      "506a803ecc27485b9d986f07d2f8f1d8",
      "fb5a6358f1c446b6ae46b1bab89f96a8",
      "9b1834bd182a4d509ecbcec0fcdcba64",
      "e15d26eb3a754b38a82a188244a94998",
      "ba3225201b444850a6f3ebb47b5fe370",
      "caf685a08f984814af23ecf7c235f001",
      "f2c0edf366db411cb08bd103e9f78b82",
      "dc31005bff8b4f5abefd5399f7175f21",
      "fd6bfd883a064b9b9d5fb93f16b4c7d4",
      "126a9227b852458faff29dfa8dcb2f0f",
      "aef92ef2040048f6bb35400d1d41b3f2",
      "d686920c1a3a444c8ce92c40ca0f3637",
      "775bf7faf4ad4785a50917cc972c7272",
      "fa7617f68ec64afe8ed6c885080b321b",
      "279fa8d94cf146b688de1077d675c0f2",
      "2d121093ab01411284bd3c44d1c44a8f",
      "371953df33094886aaadc0199dfa9a2b",
      "f517ff262cc84ae4bc2ab1868ef7d546",
      "554fcf11d07646bfabceeb7beb020757",
      "1f18aaecefa844efaa6727b3e27ec38c",
      "f043a048266b4034b486f83abf8068c0",
      "ad31114473fb4f81b1685b9cbe530dee",
      "c53694181899425ba6b62fdc7c8d70e0",
      "4345014f1c7345bdb5121f03ea83b65d",
      "1627c0e3ef20488494b733d577b91aeb",
      "5e6743f8478f4cad8e777985b8a29a92",
      "cb8cda904f6940f8bdf186188028b0f6",
      "d62cac1944b54ae8a95537e2c8b5776f",
      "a6db31bdf0ed4d8488eb10121b7551e9",
      "ea0b9527781447119ca5ea35405938cd",
      "76d8b01833844efe979a85e23b310bda",
      "8966b192809e4e3c995d4678be123339",
      "a87ac2c800d541f79ca7c16abbc9ecf4",
      "e080cb94d51d4d2a9e7d5cc33c8332c6",
      "b4220691c42b41048fac4cf4bd91aca9",
      "83582f2ca18249b4959d24eb583045d2",
      "5ced9171365744d6a163ee7a2a5e5309",
      "bb74a55d7fee4a74ba8b11b3dca7f14f",
      "3f3d1ca30121438db760a2635e3621a9",
      "eca1abc313c94da7861b10d35e40f833",
      "15a36df2e5ee4860b8e67c2641b0c83a",
      "b4bcbe6b27f446deb2780e2cb129c276",
      "75aad92ac8244dc49ff1d02149ff1ad8",
      "029df90ae93f420599bf9206ad112af6",
      "e96fc769135b4ed198c371dbbcad3e9e",
      "f7c7cec4ad4146dfbcc08dee9b38baa6",
      "9b1f6e1fa1ac47d7bfe60bebb5c0ad9c",
      "96286a53c5064a288cbec7b7c36425e3",
      "72f69e4917bc4df78ca9352d6a7c3952",
      "1ced5543efef4de89015f94a7c4f1acb",
      "34d112c3a87d4e62b13b7671982ace10",
      "03ce57f5f16046909c583eddbd3f0584",
      "76519bd728f14271a009fae9c90aa3fc",
      "c7c8d85429a241d7a9d2bf15d9079ba7",
      "c6db0cbd24894da0a83f2e5eb5694cc4",
      "e0ac6dca0ddf4f6a951c51b9e02879e5",
      "e0730dbd39cb4c7fb1cb74952b7051b3",
      "c6c92e7a89ef4b698493c726c1347764",
      "eb2ecc3e481647848de68b5321f9d792",
      "e689167c99fa484a932e9848bf3252e4",
      "68d260397a764d5dbafae1c585ac359a",
      "8e22da9581ac4379b7a7d0f63c010159",
      "6aac6833ee454f1999a147787df12e62",
      "e928014f3f104010a196728e8c63b4c7",
      "ef3822a5c4aa43c7adcaf12410294496",
      "96535bdc92f14c46aa841715662f7f4c",
      "2aa440890a8f483d98c147dd3cd4d72c",
      "c814710f18854346ad599483875cf85c",
      "d827840aa0d348e888fd6924a8e39dda",
      "bf177816a531494e9007e73b496d7f9c",
      "559034a0404048be89b10f2e8bce3596",
      "423ca5f3ffd340aabd90bbe997e29489",
      "4b31632da76b41d79a235660752a6380",
      "1d4c657f33bc4d378ec24c13e6e8c5f5",
      "93387318954d4c3f9d9c05c43e6a39af",
      "4d92cd4605fd4cdb9dbc176e0ead16f3",
      "afa1558c0e7d4177948a5ee0dc7c587d",
      "6387a5c535714d1a91e5130f27379a92",
      "75811ae0077d4da99775f3cbe8d3b1a2",
      "a499faa5111041fea4e276caa3b9858d",
      "1ccfc5cf077443ec93e355344a7ae65d",
      "72def2f5f1274fe19b3a45478757f8ad",
      "3d945ba3a6a34a86ac3bbe6a19f3878d",
      "29ec196a5e1244c4ba438c3314a7e897",
      "bfdcabc39140452a96d6e93cf74a9592",
      "8105706ac49549b3a736be62f89aa87c",
      "ae002488e5bb40038f70663c07dcafd5",
      "e68367276355474684fbcf24b46dec09",
      "228d3f9083454ca190bd7264638f3cba",
      "df21d2655f5746fcb0c7b3a81bedad46",
      "492a541357c54ba189cef3563009126b",
      "eb19009bbd5142a5aa8cbdcbf4d46bcc",
      "ec079e4290a44283b6ef12f075b10e91",
      "d147a2551d714d27bd72b22a81b3d42f",
      "b63e8c10c06a4c02932b3dc85dcb6b95",
      "287cf12a9c2345f9ab41e52423081dba",
      "a30e358b340b483fb73c5ccb828daff3",
      "492f3ef9a98c4f288eaa6fa144be62e6",
      "04be101467674aeda720ab761762a01b",
      "c7359581cf644da4b3dc62e3cc1f4873",
      "c25d2939e4f6458896bed628ca05450f",
      "7d0fa87d55cd4477aea69797e1df85c1",
      "3ed08e59b2b743dba74624bf178f2186",
      "131f62530a5d4ec8bc64db3588f354b1",
      "7f34867d216c4316b1f8a482e0584428",
      "b32136b1c3894bf990efd10e87f73fb6",
      "6ff7080582e1467988c056a492a06432",
      "b9ceceb93e7a4e71a97ad7a7ea12fabd",
      "a89059865fca4281bb97bcc8146bc4ee",
      "534e173197bd4b3986f0bc3c24c6d493",
      "a5650c44091f498c91e1bce2ac038ebc",
      "a1063a73ff064025b1738521a5a37896",
      "115ff868ebde42c6bf7b4ab9f276bdfe",
      "95b33f18611448b6a10f508d4a2dcc14",
      "9343b94fd6e949f6998f857483ce0f24",
      "6e2fdfdb3e71427383441597a2b092de",
      "e88fe13c6ac5446a9f37a8d1d5c5471d",
      "cdea22ebcf16459fb0073865a6a66749",
      "e5e191bf662b42fb870b69d77279dd2d",
      "4ca85e07c93f4396acd70feca4f277ee",
      "69473c6ced4247e7b144c1d220c49ad4",
      "7de2328e09484ee9b7538d549050392a",
      "0d928d491f0a4f63bcc85a0b9b656963",
      "a458c4e0c93748e3b08e3cf452cd4e01",
      "0d556158e29c4db082e296a7d49b43ec",
      "9945b117b570471ebefe803d447df990",
      "b8d4100962ba440a88d18210d9b825e3",
      "a9f05f5e79814579b3d15c4e2f65b6f9",
      "96f955e0f3a94314b82b64f7c64b1c67",
      "d35a6318651347518dff26c19339e2d0",
      "b1a4e30ca9ca4fdfa3d6c1c03bb2d76f",
      "f451faaac91f4697886b8bd1c5ea33db",
      "dd7a79d4a4524627906d515c4010d32f",
      "ca3ada43a1ee4060987f61eca176ba75",
      "6f8587a684234f73878290745b8b3d2d",
      "b4053becccf9419a8587490afd004588",
      "ca889c5bb24b4961be965c9ffaf08426",
      "f771c21cfd184a349b0bd09bb699474a",
      "dc81482dbba34b169f613a0291772a73",
      "2fe8d9392358429c9767f372366d1b36",
      "278a8aa1b8ea42fab83491a9289ea3f5",
      "44cfbcd53b42425a941e241f39175651",
      "2749e940897448d8ade4a544b20497b8",
      "c85db64f7f3f4ea69528ae93521c0354",
      "e86c8f1be8044f76afd7f9d2b4ea008b",
      "c6cfad9fadf24f5092dc7720a1672d1b",
      "f206049157ea44b6937b828cca19ea11",
      "7739d2388e584da895e7c16a2302abdd",
      "6871aa570b8948f087eb149c3a499078",
      "147b58263e2d4c40bd24590b99d82c3d",
      "fa1b193cd99a42dcbe5a1f6235f5d175",
      "569f6b44ecc743eeb27e17e7abc48bd6",
      "d45cddeafa394d02b39d2e6876013d67",
      "08b5dbd93db34844bdf4e0bb20539a25",
      "22048fa7c7be4a73ad0c3d7dbf51e487",
      "d7f43df8f8c44f22a8f191a262d6ee07",
      "683c43a06e9e42fab155ea0711001697",
      "eaf28dc168ef43df805292a7cca3efdd",
      "c0d58bbacb3c4d9d8d423fb7d8aeff5b",
      "0338f89abcb541e985d18e942f05c25b",
      "40cf62c5116344338d408c8a94307f35",
      "5a1b253760194e8aa43b287a78cf5f0f",
      "4c061a7efe624420aef6ea24691918f6",
      "68e62fc2bc3744bf99e88c880cbf6fd9",
      "6dae65489fff4f8c9461dff289ad8607",
      "0cbb874f71d4433ab7d018f097a2cd55",
      "7c57481a586e470d866d4ab3408bfc4d",
      "61be4869d6ba46e5887fd966b80ac340",
      "31986d8de8bf4328ab1adc3fc6001fc6",
      "741612f6f2c149d3a15cd5b188312df9",
      "9e0acd88bf8b4bc3b4b3c84700bb6641",
      "b90527af9c7748dcbe154030581fb840",
      "212601d938894fb188c9c7e017c565cd",
      "799296c030b74eed8316fe4f996be26b",
      "a6e03669c1b6424bacc2540ffaa78def",
      "4c08cd8b5a754413bdca9858415aecf7",
      "7cc03328e02043319d67c460be98a253",
      "bba08611198e47c8a0c951cb2b9d51ee",
      "2e4583a2a79f4fb89a95e429df87744a",
      "b12367fd03cd48898469c5ebe9402c57",
      "593eec966888457ab8f0cd381eaddcb2",
      "aec29f30733f4cb1b62a91d826379e53",
      "1faea4b8e51b4a0c9c35ab8cbd0a9057",
      "2ef08c5ecef743d4b6df210f51976c84",
      "2854d3a2470144b78efdf402a35e837f",
      "7ff3d81eeb3740448af0bf128ac4902b",
      "95b26d8405a540208beea95c1e08bf08",
      "debd5cd038ff4d818eb6e1ee7159b858",
      "491913ea88ed4e5d9a354c83c32c040c",
      "5380504397954379b136e5d5d690b815",
      "398e5679889f44eeb906ea2eacd35a48",
      "191b1ce861584b15a13ce7e73fa3ef28",
      "d7e87870f46b4a0a8acc275e3c5125ca",
      "37445fc979064bababd6b6945873c37d",
      "426e102e59e54d4fb48e25bfb8c7791d",
      "443d5c7143204a79a10e928a600e6619",
      "9cd8fe6af75c4fe5b3f2b6b9e2a6b7c2",
      "9a2aa37a217e4be0ac2c2c499f924ee9",
      "e49f344ebfc942ccb2f085b788daf951",
      "ab48a70e86cb4c02a1fe31f5e23943f5",
      "994f3f0097594fa696391f3c2be83913",
      "2986df8b10b2498fa65a711a2fc571f0",
      "1bff2bac0dc84f179cf920f5785cbf23",
      "35d5432a18274c59b5415dabf04da0b9",
      "457ed92e9506498681590db308293c90",
      "708027a9eada42d2966f1881f8b6450b",
      "bf87dfaa8f134d249ebfb28ce4a51fbd",
      "319b796148494044af5a1f85120f038d",
      "73cefb8d3d044eec8e10b88537aed533",
      "fdd5b10c957a494092985d94b9a5bd50",
      "f02ece932fd449ab9213437b8edeaa3e",
      "22c47fda481a4f87a28605f8e1b828dc",
      "dad5e87191b3465398b038ffcac2e414",
      "129dc0e6567143b39d490919b507d3db",
      "d3161eebedc941158cecb7f5d2a71861",
      "bf43818b73fc4e72aa5750c099d6ba89",
      "5c455ac968fb4d65b4e57537d58693b6",
      "e7f8e13908b94512998796d0c9edbe9c",
      "1e9cec17027942b2a2e03c8dc7459af0",
      "64af1c21147841d3849a686c653dea7c",
      "a95450422d854c6e9b3b39c979943468",
      "7c1d008c62b148c3aabf390d6ebf2d2f",
      "30fa073afe5743f38301aa603a0b14cb",
      "20efa10c6a0343d89cdbfe53ed88dbad",
      "adf2820b2e374dbe9dd15d06f02fac85",
      "1e59dbfd7dd5473f865786011ad4d70c",
      "7232b27b3cba4065916cf1f322d1b2ba",
      "bcfa4d5d92ea43f395119d6ad91a832f",
      "4ef32e338118402fa481fba7b78dbbd8",
      "e97a034d481a4cc881462f2975414521",
      "65e99431a53a4862904713d5bb033bba",
      "a46a8a00ef9a43829bc8a6fe11aad642",
      "92fc1b683147446fa7947fea09a65700",
      "2a901406c242489d8725fde076410c8c",
      "445e04dbf57f4e0f95bd4c8bd9924412",
      "c04456d6e6ee495bb5af0334063578e7",
      "f049c0efbb9f485bb6c7e6af7188aae2",
      "639be862d8874026934099320f0e769d",
      "ded56b0a34d3419b9cabad93f3cfe4b8",
      "cd96d0b64c3a4bfdb3accfe6598f8436",
      "f2a700dd12df48f28f7d81aea14619e9",
      "9f24908b4b5e408b9cb19deda2e58a76",
      "ac0913abd03843f790cd9b0d82d5f692",
      "a3f9e431517441789b2f09a7bbc3456e",
      "093165163c9040c6bd27ade221254a0c",
      "6d7cc60edcf446f09e71eb3c8bab3a4d",
      "0bd3f6e93a4f42c9a1a0feb082e2ce30",
      "f2fe90fa3b9e4c2caa3692d3d0ad658d",
      "6c0c564014d14d7fa761ded7da530de4",
      "292373ead65d4abdb576cea38775aafa",
      "1b28ebf88da044c289aba2afa3b2b5eb",
      "6a3fca4172884a3786434a175b5e1d88",
      "188be6647cd24eef9d51cdaba937641b",
      "f0a6e51aa52c4f0c802c3e56823730e0",
      "61f34dfe7b9f45ae9f1f464a55d5eab6",
      "3af618faa3d448d7a014ea081df2245b",
      "633cb21cb0ea435a8c20e7013a792463",
      "62db8af1bff74a7499d6fe03352b4051",
      "4b656adc53584e8c8729e9d1a4d4e841",
      "3f6dc1dad02a4b3585275fdc82c545c5",
      "982e305ba6d04efba0dda1f34b06cccb",
      "51d22fb381cc474885b9f9e9f70a5ad1",
      "8ae278bbf08d4c58ab9a202fdc3d52f2",
      "c74fad3c2bde4113a3acc4c5b2b620b7",
      "cb132bb15acc459abfcdfbaea042dbb1",
      "f4da3179b74842b7b1b966344fee44bf",
      "3ee05427500b4f749bcfaef2124f7852",
      "c421ae77b8f143a09550cd05a3448b4d",
      "40f88540cac545c5853aa10940522484",
      "f8ca2c3586ce4abb8e17fb851186e3f6",
      "fe6caf08b0a64ca49daf62d99455479b",
      "94da42f0ad1a407cb7f4d5388873dc33",
      "e78a86cc2aa140218ac66afce567868f",
      "b644950e57944e1e8a62451800ef3319",
      "6c356efdd5d4462db2fae2030be59dd3",
      "2ff92436fc4d4bb097a8ac0f6a48eae9",
      "39d5d55ab7034a7da0c1cb72ddd40f69",
      "98eac53a041744d482c99d164ebcecc3",
      "21d92d437cd64b78b6041ada440728db",
      "98de0c10c9ab47faa98a96422513a498",
      "cf0c990cfe3e430db1c8154fde69bc45",
      "3bcd3e087030421aae87e94c11386727",
      "ab061b2efab648f08acad6221b4c7f25",
      "4982b141a50e4baf9b54866081aa01b7",
      "5baf0af8db134f95b11975d5506467ed",
      "856c9569011541be98c77a4668d709cd",
      "a2d37aad5f3d42558dc788316cd98810",
      "c6a6968e05ba45bb948428a6108b3887",
      "aa1ab8e8f89a49d3b3ac29a116e6a4ae",
      "673c00d0a8274c60903c25537f0822c8",
      "d3277a2f9b964deba57ea653c5aa82a7",
      "12c5024a2ee6454da3237dc92d3610bf",
      "c4a49d69aa3b480abdcd318c47ba6767",
      "a84a54da28444fa7806bf0bbef117b67",
      "41f6a5cc0121453fb0103fe40201d410",
      "21817010ea5745ccb860c0c63f0a6df9",
      "3ccf0772f62247118a2fef1bf3dcabe5",
      "cc6f7d651be04b0eb2e242833fbf4d58",
      "9d913393fa714d6b878b09c1f3f229ce",
      "ae79453869b843ea8cf8195331a3444b",
      "5ceb07815b0144beb7bf8d35b7bc8113",
      "067a1a292bde4dcca0cdbc39689e36f3",
      "ca1e797ffd2348cca8606fca59081dda",
      "6abcd3bbaa194f629d74da2ec825615f",
      "95df0570d29d4ab4bdd6f6dc66e6e1d8",
      "da01b849a7174069a745343fddb0804e",
      "ec087b87750b42938c1fbd8093413275",
      "27afef6982c04877b5ecc130f125055f",
      "d017b26328024b68b7d30a24076103ac",
      "b66f1a54561c4c4fbdd7f43f3fcef3e0",
      "56a2ffbefd2f4062b8625fa38cdf20f2",
      "0d9110f5970d4a9ebc48e4456c4e9cdd",
      "a08c7a2e67aa4acd9d0f783bcf696872",
      "7b7202ef583442109a5c2a57a2426290",
      "db6ecc83809c40cb8048f88cd6af5a7c",
      "860bb5617eca46359b745bf19031b8f0",
      "7001701265074c2aacb656d985bf7397",
      "707a168acca74f09af48ff0b933fde02",
      "8acc537fa6d8409588c2f48926d3bad6",
      "1c100cf0036a41b29c941840decfd41d",
      "644e11cc66364907af3deec59f2930b7",
      "18ce6c7aa07f46eda90a5a219c74f98f",
      "63e2e6468e494412b16047cd342d51ac",
      "925b2cbe184c42cc9e5e8222a69f168e",
      "807ed24fe546498a8001e033f149e66a",
      "ef71abf972a7421b8073de2bba06397d",
      "cc285067298942c29a01fa6a0b19a1aa",
      "55128213f29e4dcc9061870adaa2c54a",
      "2ec4c09a774545c68dbf9ffd40c70468",
      "8d26fe570c0d45878a56e4d97f100dd7",
      "94faeddc49444a91ad84df5c049e1c95",
      "b2924dcd03924335bfb41333308c3b8a",
      "256bcaf82a9c422d8bbf3a20aaaca539",
      "e3ba0b462fc641f88d2a4ce25bd5f4db",
      "7da49cec67cd49d8acc6b55ae6ddce53",
      "08bd4ceae766473abf24b4d86fdf52bd",
      "1682ce83a8a9402e8ce50436a1a23390",
      "d618b18888b04add95d356445d354cd7",
      "1d591b0ee323401ab72c8d2b77084346",
      "c75b2ee647434fcb8d3f690650fce2ab",
      "41bebfa788fb493ba8e1722799af882a",
      "07acb89da0b24eaa98360e1092a5509f",
      "7667aa232ad44461811cf7bc356cbed1",
      "4071ecde8f2a42d4ab31da2c368a5b0c",
      "02f6e9b2e7724259b39f4b785898a8b3",
      "865bbe7aa5064c69822e595e235f5085",
      "29c846ee5a4b465aac9d9e7e73737375",
      "7e65842e83f94c08a9bcf8c769bfd443",
      "9225820ed5fe4c7fa53c2a2108faa671",
      "32428e2b62a94f4da796ec8ee334c69b",
      "d84d3ac30f7d4994aef586d01d6d1531",
      "6a519c156dd44a9d9229076197618eb5",
      "e61d054206334fe0956f758fc698b9b1",
      "5be8acd01fd0473b8a0ad506fbac23ad",
      "a4901deab01c43fdb824163e10943c39",
      "d12a7e6cf6d64de6a38987c6e6e8e8dc",
      "8676dc27a32a414b897657aca67784f0",
      "75d1b1376f33490ba92257ad0d28b2b0",
      "a42fed31a2ff452b87af6a6b023ffbd6",
      "8980ff0f420f4dd4851743f2882a8d89",
      "f831c3f5e67e469a8f157b5c58274f54",
      "3db19f43b684453aa52a7423ea1da2de",
      "a5382dac05cd42e18df0ac36e6475841",
      "7735b1776e684773ad25b2cb021036b2",
      "4334ddc06dc74cb2815c12d065126284",
      "1c871a5037974f93b62db833ca52ebbc",
      "703e4b170bf74e63b1684830c0223148",
      "f4b13d6d45954fed845105799cb8e180",
      "48e6115ff5994891931c21aa3a741ce0",
      "8a01c456924e4bb99b2a10ee8d60b714",
      "593998a7d9df42db91f63c8dcc3113cc",
      "c0bb8b4e48d24bbd876614af32b9427a",
      "3b9baf7b3ab04b34ab5d1104a57cfe16",
      "917ffcb362024d3296bf02c3dd1ecdd3",
      "c4b6a519812a4b6eb54b432a73cd26a0",
      "e22317bce48443178d635abceb52cd20",
      "e93fc500ef0446da85ae8664556c5c16",
      "d44da4fd9c574b069527cf48f7facf81",
      "ff550ff9bc8149498ae531adae42bfb2",
      "123a783879614254aa63ab7c91b20c09",
      "80f629ed34944b9a832e60e527bd5bbd",
      "0337298199f64407a57128e5ec40c1dc",
      "1ea862d932dc487685806e04cb68c08d",
      "7c523a227c9a4e6d9fab1245b29cbc6f",
      "0f1621a4be2b47fda1aa1c1fc6edfda5",
      "1559b06850f8476aae024807764a17bf",
      "6ca8ab91fdd74031b970ceacc5a79377",
      "edab4c05c4de47d181b40166fd0adda0",
      "e2f6cc69c82b4655a379ee49d3fec9dc",
      "6c556e2e75d446a5b0bad9a28bd97140",
      "c086adbc0a99424f832fa71f34d262b8",
      "6a1335a5477541b48184977872de4df2",
      "c32520d244444ca789d70a69ee9a6b8c",
      "d0ba1d8c230e4528ab2e784a37b9167b",
      "09cb7a3a3eb74d1bb57cbae78b6ce1e4",
      "c8e3df581a084a668fe7cde45519668c",
      "b04afa0124b34209a1261b2bb79dc676",
      "cfb1c3e7ae86437d9b1f33cd7ce65e42",
      "beafa6ae00e24beca2b1057a42a01378",
      "ea43baee314c4ece92b0a6d42501db65",
      "bb7dfc8c3ae04ceeb91e70add73c5d2b",
      "babad6ed80ab40ca965fd8ed96d37042",
      "dd78131e35d54a63a7e540ce4849aabf",
      "ff2fdc7ddce344468a3bf7ef42cb676d",
      "eba14abc56924836a8428f21dc57bee9",
      "2acfcb09cf4b4278abda1af2fb70dd23",
      "27cc61947ea6465993ca3c11fd0b4376",
      "e6bd578d224a4a6fa62dbdf306a91efc",
      "faf44730a6874f489eb0242195f4e2cd",
      "b6e3ac9dd1bb43ffa8d0f2cbb4c9a76e",
      "45be377457d8475eb67e9a1441d1e985",
      "966a3a9ca6c345eca09218d6e2714804",
      "9794b3eb74ed4d75a3319a5a1152231f",
      "1da0d1640d9b47968cc9eb6f6b0dc3ce",
      "77f69d7f6439411f9ef643b5533724fc",
      "205a2203154b4e429eac54f8c4432d43",
      "f0f41adaed484ef0ab117b0ee2a5b0bb",
      "188d24d6c506408da326aa5aaf4cb2a3",
      "70f6e45d55284bfabb7a2836ad3b85e2",
      "c2af3165958c4edabfb501f00f025860",
      "c87317db089b42c18981736190dd9dc6",
      "6c45caa47bfe42d598bca2493b0270b9",
      "f14ae8765ebf4269ad8a305fe551e9e4",
      "5872a6c25d244a928fd8f7d1b63f1542",
      "e4d31a51235a428591cc7c0e1488cd0e",
      "005b29f19b5840118905a8017abdc299",
      "1a89f6cf49ce4c7c868909686f6a8d4c",
      "657cf792dc914b9a9c3b31f11b144488",
      "70e597118ce447b8a67d04fd5868cd0e",
      "e61251cca1ce4d8e94069e54285701d1",
      "6ef12b0c35884cfebb051f1b1aecff55",
      "db9eeffc43bc4ee385384355dfbff20c",
      "48c0953bdfb341768fee6571a4503168",
      "7d8e68bb66fd4410819031b4e21b6e0d",
      "d687ca2d63934a629aed3f717f203f46",
      "2d214d4f93044ffd9fad0d86cbb2706f",
      "72fb757f927d4b17a35e99a10efe917d",
      "136c89f0416948f6afdb811c539e1161",
      "2fcdd314176342ff9dbf14030c1d659c",
      "d7fb95432bc7401c88eae7d2cc4b771e",
      "2a5e71a4b3b34c0a9de55eec2f453064",
      "9ac57e7f3aad4938862c724a117e6c30",
      "c75bd2855c2246cc85682514ecf2d971",
      "d56e00acdc7643138750152a94ef2820",
      "cd78705d769e47ee8a56b756bb874a9b",
      "e7590202687e406c9de46c286e83058b",
      "816090cb4f92495f9ec34820687d0a9c",
      "6b00a02b99354b38a2a519e1b779aa49",
      "4245a310c57746fb854650809a3fa7c1",
      "3d52ee97f6ad449c950b2432b4d14423",
      "4f613f68f69c45eb8e61ac1e53762de4",
      "09c359df57e44a56aa340dfc908e1990",
      "dd095d51b5004f3c9d338c7b8017cee1",
      "09e7871bbfbc4bf4ae2a5f583234ed8e",
      "f7af484dfadb4dd6b6abae352b757e6e",
      "d1d7eda9baa045d39a1c2fd97723e6d2",
      "3fab2d7133e94d899fe853d8415324c8",
      "075c437f2d284b33bef9a7c66a3caf63",
      "e9ed99b9ebfb47a2afdf43024963651d",
      "ed7e4461bff64928bcc8027b060ab37f",
      "c24a2f20df984eaeba18407dc3c36f87",
      "ce7dd7423e854f8f96baa60e4e72b7ac",
      "a6d6131df3324436a9928ce823dabc90",
      "450b95f8630d40cd854c25b59e8d4e9a",
      "da00cdc2f8b246fabaa2c211e671a01f",
      "394c2a7071b946378335d09789cd07ba",
      "928453846f474af183128389a313c6aa",
      "793d07c42b764abf8b45dfaa04781aef",
      "cb2c532f7e3e463386c8b66273dda292",
      "273ded7158ac466ba72a0211c8dcfd81",
      "501256d8ba074e12bb94b8b7e76eace2",
      "81a5a1b362fc4a32ac34e89edd4edbfc",
      "72676afea2104f6fb47bbb6ae14b6f94",
      "eeb4e8bfb376437bb6d17a361f053baa",
      "b8fdb2979d514d90978b825ed7fc9b95",
      "0755d31ac80a48dea44cb604fad205b6",
      "a14da732f97e4da5938d843678dd0dd8",
      "3a3a973c57374a788af14a59316900d9",
      "3b68c3266bc64e5897498ab6207afde1",
      "fa105d22293d4308ba97d268d58e230a",
      "f0d8af65c2ca43bdb1c5a4b442baedb4",
      "0a5345ac33d3423db1f220b302a3a5e5",
      "f84b8b3dd2ce4a47ae149ba51fde8e0f",
      "a5d506bcf46b40efae4d699e48f5e86b",
      "fa64617d238940dda70e99fe78cc1b0f",
      "6854e3ce2dee40b1a4e2f3a2ad233c1a",
      "a59105a6693d4a8098cc396c3a5b7ee4",
      "94ea5242161a42ef9027e35a12aca8b0",
      "8571583ff10b486ba1b542a08462e82f",
      "4e3408676d83457a877dd2151ea9cbef",
      "437a87c15afb4ddba551a9f2d9c5252e",
      "08452d20360a4d14974987ef3c2a37e5",
      "adf38182c4b24bc5ac6a15d88020ce02",
      "ae9780e1e9c44723a6f65df2c26d9ea5",
      "84cbee616f27444bb5d899e0a100ee1d",
      "8bcd6ef38ccc4c09844f5cca08ff2f50",
      "0f4d667710f04b4b986c795ec3fc254a",
      "05bcefa610c24cc088e014c048c75bd7",
      "3763bd41b3e14135a59de35b07237ce3",
      "33f8b34d015742d0b309704534ef1cb2",
      "73023a4d9f99436db62c596463d76341",
      "eb29c1d022444ea3b0570b71b60eac69",
      "5985ebe4ace3459384af54b749103e56",
      "b731b9ca31cb4ebdbe7e4d46978dc69e",
      "1275701174fc4269817541688d7b0f34",
      "10fd74973e2840d5b04f56da19aa40f0",
      "e722063d14b24f97a2e13cf361eb8c7e",
      "23a0dce2ee28415cae378389d95b11fe",
      "b1fc60453c764f2790388ed9216e2161",
      "2cad499537dd48c68898c043c179068b",
      "edfd803a4a3a42fd821ddee037954ddf",
      "a473e267d1df4ef4970ae8f0e3194784",
      "410cff9c49a04fa38e38d54af7dea60d",
      "765344e68e38461f826d8db29f476952",
      "4416c244e9884decade807ff99947c0c",
      "d4ec66db3629406584c1cd2779d912a3",
      "69b4e822e0064466bd3df065d570805e",
      "01f724fbf41b4023a8054d666a5e21f3",
      "51ac0c04427c4fe8a1b215bb5e7a1620",
      "5b6110499a2846b39921d2df4f0f33a4",
      "f5cd94429b7f4ab7849f353f09924db6",
      "a511359547a84839b93489fa3743a46f",
      "f8380a6d2f104fc2b6ee5c29aedc8a13",
      "8ddca092a48441bda9edfa30bbf5a405",
      "062ec249b0e2472a808d8903275384fe",
      "5922e32c9ae94738b5ceabdcf50bb9b6",
      "288b6e3378d140a3a6a94e527be8d04a",
      "796a2e3edef64fc087d6745d0d8e8e2b",
      "8a9fd31ddf68416ebef5f3b7c709b153",
      "a46b8efb3d7a4ceba9a0f4c86223e351",
      "d3b6820fb10149749d12dd372b0accff",
      "74a7c5ef7ddd45209b5c4e4486d065e9",
      "3e7cb9af1c304b68a6548cadad41ce9b",
      "7874d1351b674c2db4edc2f225d76621",
      "b23fb0c40ebd4552b281873ebaff2afd",
      "f46cae24212d46d19321890aa80d4c06",
      "c391fda864774a3b95e764d314843940",
      "ca01e33f4f694c1f958ce01d45a07693",
      "e86515a345d54af2a9dd31c9223e6fdd",
      "490150a3238d4b1683ca5755710bed86",
      "057744ab6d2c4ed48f4e7d4bba678d24",
      "2784deb6a0424f4892502cb156727286",
      "aa7e2fe7dcc74aa8ad601cfffd1c502f",
      "8df35bd685204586b26dbe5d99934fe6",
      "fd8b6c17b60c4f01b510456043b81f68",
      "2b4419492ab24c87b45ce76c71377360",
      "28fd3d7b5e9344ef814518223ff32edf",
      "c420defaee764cbbac895b3a2149571b",
      "2479492f152441ff8b6a01b9c42473ed",
      "4637a0c7f22d43ad9af9a25da91e5d01",
      "3f18eb5371374cf38cc73cd88d650452",
      "d509681ca29c45bcabdb1f2629bccdfa",
      "3d34439e4d8b49cb9827a6a173a20cce",
      "98a1919397bd4ad38aeacda9b20f4870",
      "a71fc918b8f9418da7c70f3fcfc425c0",
      "9b01758112d64801a402f03f72244b8b",
      "86f2e09204224dfa96ddbe5db5ab87c5",
      "c957577b0f1b4e8d99e879be43a31b26",
      "b6409c394420494ea4627b3cb70209b3",
      "3de556cb7fde4de3b3ea75ebfbfd2fbd",
      "c2aed79445f0445882f4aee5225ede9f",
      "a0590c5cebe347b0bc3c494f89e0ca1b",
      "15e7a81f70b74b65b03f6c0f738615e9",
      "2e97de6658344f3fbba5021544d92a9f",
      "b1efc214ac8a45de86133e02d4004759",
      "e4b12623ecc347efb0a91452f6d2a853",
      "b4a29f92f162438b8deb5096a3eb797a",
      "c5a6a241b2f74373820c98f5f69ac803",
      "a8d80c3656204171a28876ca5647440c",
      "c2a007aa2d94451aaef1d864630c1bef",
      "ebd492abb0274d069b607365eba1670c",
      "b6d6d2b31333407e9b479fb9c28c0c5c",
      "ebef1e6f547b40169d463cf5dfecdd09",
      "6b74612acb5b4b4e8047f1427c042c9a",
      "8e0634aea26d4e0cbd9143f31fb661d7",
      "837deec4663048c3af50d4bd7afb7517",
      "8b95def4b871437a9440a665d3fa6672",
      "cf285827cada4a648e18bd4af7352e82",
      "86dd832efb4541929b3c5d7dea9e6d6d",
      "90e652c8125b4db0b17cc150a5fddbce",
      "b23a86a0694f49129aca007c962a47f9",
      "d04b99b97be046f481f1fde264780c1e",
      "8ded156454174cdf96c003f491d7f289",
      "879f00f3534b40e19b014db5a446f09b",
      "36493e4e09104e0d984bd115f8821183",
      "da41cbdd86fe47c181a9c07ca6e49d7d",
      "d381659f495443cea572a57018be3cae",
      "c5eb32386452492d9e97fc0cd92afa3a",
      "0da54f0d95004ac9920dd2ef32952c69",
      "1dd9c6d0f87d46f38e76da4d4113cdeb",
      "fddba3a6b7634643bf0a56f2f37767f6",
      "c45cd4aa6588455e8e57a77d7c7c6b82",
      "bdc0e073c25d4f878867b9d1985a9e8a",
      "2e9759b2fb684b10b5945d7c75b1774e",
      "675531181382420cb5cad4c2157fd30b",
      "7c16a96a228f4bfca27ecdca31212ca3",
      "4bc434ab90874d4a8900279047819d93",
      "c79ea1eed94140f18a5b103b62d03bf7",
      "a009a7d00a6f4f069dee774174920c24",
      "e17e3cba39744e6eb521f8b874dd24a9",
      "bdb5ba98420c4a56b1981de93a10472e",
      "b0eb765046f54e13aa3e06056714f140",
      "9a6f969cca564085a3f2c675b3fc747c",
      "56b0cb76cd38493cb25847fe162b71fe",
      "f4c2568a815147c3a5fe0d64d4d3baf3",
      "62b49b92d08f4e19a08aee97abe231b7",
      "ed9588cba42041d7ad3cd24c591bff38",
      "6f562213d7ad438a998aad70cc817f38",
      "7075d9ccd5e24ddea3feea7dde1c9b83",
      "4936e0aaeaf34b3892444ca2a8f12b2a",
      "c73b9a74f22b49c6ab67f885ace9320a",
      "d305252d65444bf8bde697d509e3721a",
      "adbab738794d42ddbec31357fdf75b7c",
      "5aeffad0e9ad4a469774d24c8b72b2bf",
      "adb5393dea6b4d2fb6798a80505be5a0",
      "bd0496e48cf24ea7b307d361140d550e",
      "c872f63d1a2242fc97ab26882e615db2",
      "095614fc7132406794b89ad013dfd1b9",
      "473eac57116d4ddda8a1288cc3d2cae9",
      "8b12c35876be4d448c2e5b827db44b83",
      "d1a1aed3d6974f1cb683a345773f103e",
      "cc5b12a95d42419880c3fc884849e599",
      "9b216d0629c74d4999b6d21861c21930",
      "98d197afd49947cc9ef7bcb08d5a7184",
      "1bcf471b5fe24390974de37c1c38770a",
      "67be44015dc949baa0c572f71bce201e",
      "c32b443cf19c4b2b9534fd51cbba5eec",
      "0fb105278c124dfaa61972623cb44849",
      "f20da7768fda4003b445652cdc370b88",
      "d7b6806f7b7145d987faa5063437af4f",
      "0bb843b92d7e4c94a87211df56e3834b",
      "f0af8025ef8443ffb69bfadbe87cf2f6",
      "eb5e4067af1b43c38df7ecae6fe3d780",
      "9e437a2822ee493b8ae13577c1544ddf",
      "080988d1718e4217a6fb4c250241240e",
      "fe29fdd5248b4760b5e6113f8528ef8c",
      "7e3f4be277874d80bb5f7a9b7af0b967",
      "c9474e97ab2d401996db4449cd87244a",
      "b6f870e8fcd64e33b91fd2c04b45da93",
      "37bd1982e8ac4983b52d1f63c9c91d2c",
      "fffd2800c9f74264adc4772b512b5dc8",
      "df7d7fcd85714daa8dcb6552535af0e7",
      "7fdb50f8a42446a6aa66d1ef4dced66a",
      "690a40844c7f4f49aeb6a98ee7613273",
      "fc509e16ba06499dae2a139bf5a2e33c",
      "7bc65740beee492594717fbeec018f28",
      "1227800728dc4c2db7ba3887aba5425c",
      "2cf1f26403d646a1a7ba0dedb0aaad02",
      "68afea2324194bd0ba0a62edeaecb97c",
      "b0de9b2ce1fb4cdf93644e71a700fe9e",
      "ccfe15a8447e47a58dc2b631e9db742c",
      "3e9d05a0629d403897e4648438b9800d",
      "e9ca17bd94054ebd8fd0f9958e5b92dc",
      "d5c1f3fe701d49b0927cf0ca0653d3dc",
      "b9d77351ab8246e1baccfb6f2d81c39a",
      "d62c5de944984b3698e6cb14fa83a947",
      "b8a60e588b2d426fa69e2a88169123fc",
      "d537a7742c7b433e891ba08503a6bc4b",
      "972c7ca48fa5412ab1b8e5e963f03b07",
      "a46849c52c844dd9b7be2c11a3e67333",
      "c31d88c4681d4d5aa39953c8710d9940",
      "af5aead956ef4cd89362bd6b1b3f2f6d",
      "bba42ebd3f9443e7b2e761759dfe5baa",
      "ad3f4020cbfe43049e91cfa752fa379b",
      "8fb2ac1f43dd4d5ea4ad71415c022e6a",
      "f958abc779ce460fa3e99407018cc5a6",
      "341c0413ecae4fc4a9222c610c8a0641",
      "5de109f0d4c549d79f4bf19336a8381f",
      "c941787180a34affa1e55518ced2af0d",
      "74947bf1083c45aa8b16b314316fac39",
      "bb1971ea0130456685053d194ca5320d",
      "36302b875e4d4f6f997afa08f5f77555",
      "3406822551814e4aa5e453afe8163678",
      "df4f774fa6eb425aab55f7ad30bf50e4",
      "173c9689b98445c19cc828eb9755729f",
      "dae7bd6519844bf686925dab3002795b",
      "e854cc2d071342d8b7cff39c5fb0b736",
      "1fb6d2c9543a4987a47c8c34ab56efe2",
      "436b1df0490e417ca3aad41700c4caa1",
      "e4f1c78d322d46a18c2b2121a7e82967",
      "17ff1bacde944a6a92dc75d90feb1b8e",
      "4ca5eeda17b64a9fa9762eab131cf24d",
      "cef3b42d359843c7958740f41ec7daf1",
      "2fba1e90f9f346dab92f64fa9b5960f8",
      "e586a5c09de5400881a3ba0e0a14448d",
      "cf3b4ee3edbb42ada9499df54dfabdc5",
      "e9eb824d74c145ce8b1c3e88296aa7cb",
      "7b4849573d9e4a7c8a3c2c8a23224652",
      "83eefdbb9f934decb338aa6d7b0fb2cb",
      "23a287c251e24e6581f0a128ff3d5aaa",
      "d224cf7848a6469cb6cfd7514a7b263a",
      "bc9abc813de74717bb18112b7e9de886",
      "f7426dcd18564608b759a34509fac0ee",
      "b528fcebdd16474e831a028eea34833c",
      "623e935353bc4accaf63a9d935edd683",
      "c2ab8e5850294ca095a24a62605c97a0",
      "b3a9b714a6694ca48713a75c1bc91212",
      "c30915cd3093475a9609c657393c642c",
      "897c809573704dbba40e566ce3c632ea",
      "e2107a9e49e64e57b8ebbbffc8e1bb2b",
      "751fbebd9644463c8453bd1f1e817e3d",
      "77b46391fbd54926b0ff6c7298a61897",
      "a0b18d0ca296419a8968951bb7b9aa92",
      "73cd00a847b34bb29f4a4e7da136b126",
      "c689313e9286468881f56dd68465a3c2",
      "e192ef1fc8ec43f38ee4d12b5a226736",
      "ee6f2661bb1e4a008abdb07e742a0cf0",
      "9f247d2ffe7d49318c5306ac21367b62",
      "4ac2b479c3584a4ea1f290418f10f302",
      "0f0c81ce3dd443ab8686ee40e08c9a1e",
      "be090a7409ff44ddb0e96d5109f80ea0",
      "d822068beceb46fbafebf7f3b63d11b9",
      "9c48e460bbd54436948f623da3327d6e",
      "5b7d5b755c474ceb89d07c027ed3fb56",
      "d36d7bdb8aeb44b08120c44deaff7b1d",
      "f49deaab88d344d3812b51357cf84489",
      "4a2de31d93e24b4d9e897b7a49633b55",
      "ce89826bff8b446087844046eca75aa2",
      "c3fe27642815455ca7803b33e8522e60",
      "a9d441a4a9564859947c7397e126d340",
      "0300b35154d541a0a47faedbfe840006",
      "7a274357de3643d1a4473205de0e6e87",
      "3428828ab7dd4fe09d13dfd73f4f4bea",
      "e95c7eb8e22a4c16b55cba824fe77f16",
      "a412c4b5f19742f7b39e1694be86f52d",
      "bb3d140d414c4c78a8b325640908ace8",
      "5595a1ad13f94bc9bf94994014371f75",
      "ba1304a0b4b8405b83d962d18d85fea6",
      "244bd3b6d3944c4dab1b2ade6dde5009",
      "bc89d4bf7b834e04be3f959bbd52af74",
      "9767155fad534ddbaad54186b3f62b76",
      "b61ee2dcdb7c42dc941763b85398402b",
      "323debe469e644cf98a569770fcb5858",
      "e7ba3cdea445428cba5b12fc0f6176d8",
      "163181872269449ca7061b0aaa7655bf",
      "f95f2f27658f4889905833a6eabfddf2",
      "b4d4c7ec5f9b4ab9bdc8c5d3c9a26eea",
      "d3a36e09e706497491e26f5fd607b389",
      "acf6d56b62374b6f8bc0a1dd5991e945",
      "5bf56d212af14d26a6f4e80f6215f048",
      "7882067aba2846acb1a7061f96a9ae60",
      "c178c954052f4b4c86334e992c3bb3ca",
      "b67bfc0c783943d0970332cf6c686e00",
      "58a80552e2174bbe9e450d72cb57b02e",
      "d7d6327b126849e9af15e97ff98e219f",
      "b95496500ef44fb282645b632e288876",
      "f9804816f952424680f136c1067f62a7",
      "096e1cbc31c64a7b9ded7f42f323894c",
      "c0a1317fed224e59ae6fbfff93840b89",
      "81221587a5d341fa93263a1d7f0b47b5",
      "3bfb2b65c86e4f01b90503fac80ceb1b",
      "73d43b8f20d643998ada4c032aff9575",
      "c232ef7fb3f541698d7d29a8d2e53b39",
      "4f92d9e269fd4e699fbf6aa9ad092be3",
      "03507a72094c48e7b573ef2d74bd851b",
      "f50d1e15c4cf4a138a76e648fcbd1d3b",
      "f25593cce0bb49c9acae8733e15af438",
      "7399818db3ed428fb1d2799cbe5363a8",
      "bdc4f58423ac49079a396c20d2377879",
      "950f401e70d843bd94a5013910b96ba7",
      "837cc67315b84f8d9befe4895559b8ad",
      "f2eaf5e9922d4dab9ab96e188b420862",
      "0104487d00ba49bfa7e5b798afb59814",
      "a7b714d2f63b428a9517c0650e0142eb",
      "ecd9b42b255d404b890392bb7d6529db",
      "c3bc02be5f5e4e4dbbae0563a49e9d68",
      "cc4fa3a902fa41b897d927dc841a93ec",
      "28480fe0a5594f779317ff78b4725c80",
      "e35e62f5f2714de0ac009788be7e1fe6",
      "5b524e8868a54c22baf794e31c8f2c5f",
      "87e10c2255d241cb9dd15e39edabde11",
      "bb4706b27e314786979be2b630f07f1a",
      "66bfffa6dd4e436ab3fa934c4df62ba9",
      "c3ccdcfee9014205b4aeb267064c659b",
      "50949a4983794ee3b49b44320670ba92",
      "8d0ded44d54648d0b5d45cb63c5ced80",
      "4b43e0bc23a14d379fb3c2235079e84b",
      "1c20ed37a1864de7aacf4f893d9e69a7",
      "78bee4dbc0284f99b11dfa985c116d36",
      "3bed82ac44214405bcdc9fdfe460d020",
      "0a67e6a1c6534c62a26f11254b4c8de9",
      "25a74904b2ed49358229d2adb1a542eb",
      "57d6daaffa674e41a8a6fcf38d8e3543",
      "b6e4e6f35879421fbffdf16655ab004c",
      "570cdbed23564c0781a067ae9497d5c8",
      "51a66c7dc3d14ac29893e7aaacf63c0d",
      "e78f8cc96dbe45b98e20f6a548f97a13",
      "0d9eac4230a440eaaf3f0e9192f27415",
      "dc4aaa31a93940d7ae8ef277e8d2624e",
      "c4d1327ccbdb439aa08cb3ad514ec891",
      "54a85a300c2c4ebdaefd6d3b231b4012",
      "49ade0981c9d42fc95bd7dda75f76f6b",
      "23c0fc2314e64847ad1e8017208d90dd",
      "d486cb95fe7247c1b3a8be5f3d3db1b4",
      "db01ebe1cfd14f8ebfde37e04d6622c5",
      "14bcc22e30dd4e718cdc9ce89f2e0303",
      "0f35177225b44af3a608c337e5772929",
      "7fe5c7bf88c043e8b3f9363bbb809aad",
      "e54d1d39b9244570a10089fe8f54048d",
      "76043de0f2344efa940e78c6e5a0ef92",
      "833d895f67b94421bf7d7062677282c0",
      "b4d37e163f7a4370904f3c2283d12ce4",
      "fd18a68a50124465897599df6683236e",
      "54327eeb469641d997536914f37ca5f9",
      "a3ae3b1eda3e461ba992af01039b887d",
      "2bb0917ef195434dae2e3a340b552ea4"
     ]
    },
    "collapsed": true,
    "id": "c_A67csL3aE8",
    "outputId": "15410f25-844a-48c7-80ed-6d1e879b01ee"
   },
   "outputs": [
    {
     "name": "stdout",
     "output_type": "stream",
     "text": [
      "\n",
      "Starting experiment: Dropout\n"
     ]
    },
    {
     "data": {
      "application/vnd.jupyter.widget-view+json": {
       "model_id": "37db3c30e79045f587c5314b086a5cb4",
       "version_major": 2,
       "version_minor": 0
      },
      "text/plain": [
       "Epoch 2/76:   0%|          | 0/566 [00:00<?, ?it/s]"
      ]
     },
     "metadata": {},
     "output_type": "display_data"
    },
    {
     "name": "stdout",
     "output_type": "stream",
     "text": [
      "Epoch 1: Train Loss=0.5674\n"
     ]
    },
    {
     "data": {
      "application/vnd.jupyter.widget-view+json": {
       "model_id": "409480d1c4af497dba8282f76746bdf0",
       "version_major": 2,
       "version_minor": 0
      },
      "text/plain": [
       "Epoch 3/76:   0%|          | 0/566 [00:00<?, ?it/s]"
      ]
     },
     "metadata": {},
     "output_type": "display_data"
    },
    {
     "name": "stdout",
     "output_type": "stream",
     "text": [
      "Epoch 2: Train Loss=0.5644\n"
     ]
    },
    {
     "data": {
      "application/vnd.jupyter.widget-view+json": {
       "model_id": "e15d26eb3a754b38a82a188244a94998",
       "version_major": 2,
       "version_minor": 0
      },
      "text/plain": [
       "Epoch 4/76:   0%|          | 0/566 [00:00<?, ?it/s]"
      ]
     },
     "metadata": {},
     "output_type": "display_data"
    },
    {
     "name": "stdout",
     "output_type": "stream",
     "text": [
      "Epoch 3: Train Loss=0.5627\n"
     ]
    },
    {
     "data": {
      "application/vnd.jupyter.widget-view+json": {
       "model_id": "279fa8d94cf146b688de1077d675c0f2",
       "version_major": 2,
       "version_minor": 0
      },
      "text/plain": [
       "Epoch 5/76:   0%|          | 0/566 [00:00<?, ?it/s]"
      ]
     },
     "metadata": {},
     "output_type": "display_data"
    },
    {
     "name": "stdout",
     "output_type": "stream",
     "text": [
      "Epoch 4: Train Loss=0.5640\n"
     ]
    },
    {
     "data": {
      "application/vnd.jupyter.widget-view+json": {
       "model_id": "5e6743f8478f4cad8e777985b8a29a92",
       "version_major": 2,
       "version_minor": 0
      },
      "text/plain": [
       "Epoch 6/76:   0%|          | 0/566 [00:00<?, ?it/s]"
      ]
     },
     "metadata": {},
     "output_type": "display_data"
    },
    {
     "name": "stdout",
     "output_type": "stream",
     "text": [
      "Epoch 5: Train Loss=0.5640\n"
     ]
    },
    {
     "data": {
      "application/vnd.jupyter.widget-view+json": {
       "model_id": "5ced9171365744d6a163ee7a2a5e5309",
       "version_major": 2,
       "version_minor": 0
      },
      "text/plain": [
       "Epoch 7/76:   0%|          | 0/566 [00:00<?, ?it/s]"
      ]
     },
     "metadata": {},
     "output_type": "display_data"
    },
    {
     "name": "stdout",
     "output_type": "stream",
     "text": [
      "Epoch 6: Train Loss=0.5632\n"
     ]
    },
    {
     "data": {
      "application/vnd.jupyter.widget-view+json": {
       "model_id": "96286a53c5064a288cbec7b7c36425e3",
       "version_major": 2,
       "version_minor": 0
      },
      "text/plain": [
       "Epoch 8/76:   0%|          | 0/566 [00:00<?, ?it/s]"
      ]
     },
     "metadata": {},
     "output_type": "display_data"
    },
    {
     "name": "stdout",
     "output_type": "stream",
     "text": [
      "Epoch 7: Train Loss=0.5631\n"
     ]
    },
    {
     "data": {
      "application/vnd.jupyter.widget-view+json": {
       "model_id": "eb2ecc3e481647848de68b5321f9d792",
       "version_major": 2,
       "version_minor": 0
      },
      "text/plain": [
       "Epoch 9/76:   0%|          | 0/566 [00:00<?, ?it/s]"
      ]
     },
     "metadata": {},
     "output_type": "display_data"
    },
    {
     "name": "stdout",
     "output_type": "stream",
     "text": [
      "Epoch 8: Train Loss=0.5631\n"
     ]
    },
    {
     "data": {
      "application/vnd.jupyter.widget-view+json": {
       "model_id": "bf177816a531494e9007e73b496d7f9c",
       "version_major": 2,
       "version_minor": 0
      },
      "text/plain": [
       "Epoch 10/76:   0%|          | 0/566 [00:00<?, ?it/s]"
      ]
     },
     "metadata": {},
     "output_type": "display_data"
    },
    {
     "name": "stdout",
     "output_type": "stream",
     "text": [
      "Epoch 9: Train Loss=0.5626\n"
     ]
    },
    {
     "data": {
      "application/vnd.jupyter.widget-view+json": {
       "model_id": "1ccfc5cf077443ec93e355344a7ae65d",
       "version_major": 2,
       "version_minor": 0
      },
      "text/plain": [
       "Epoch 11/76:   0%|          | 0/566 [00:00<?, ?it/s]"
      ]
     },
     "metadata": {},
     "output_type": "display_data"
    },
    {
     "name": "stdout",
     "output_type": "stream",
     "text": [
      "Epoch 10: Train Loss=0.5632\n"
     ]
    },
    {
     "data": {
      "application/vnd.jupyter.widget-view+json": {
       "model_id": "eb19009bbd5142a5aa8cbdcbf4d46bcc",
       "version_major": 2,
       "version_minor": 0
      },
      "text/plain": [
       "Epoch 12/76:   0%|          | 0/566 [00:00<?, ?it/s]"
      ]
     },
     "metadata": {},
     "output_type": "display_data"
    },
    {
     "name": "stdout",
     "output_type": "stream",
     "text": [
      "Epoch 11: Train Loss=0.5630\n"
     ]
    },
    {
     "data": {
      "application/vnd.jupyter.widget-view+json": {
       "model_id": "3ed08e59b2b743dba74624bf178f2186",
       "version_major": 2,
       "version_minor": 0
      },
      "text/plain": [
       "Epoch 13/76:   0%|          | 0/566 [00:00<?, ?it/s]"
      ]
     },
     "metadata": {},
     "output_type": "display_data"
    },
    {
     "name": "stdout",
     "output_type": "stream",
     "text": [
      "Epoch 12: Train Loss=0.5627\n"
     ]
    },
    {
     "data": {
      "application/vnd.jupyter.widget-view+json": {
       "model_id": "95b33f18611448b6a10f508d4a2dcc14",
       "version_major": 2,
       "version_minor": 0
      },
      "text/plain": [
       "Epoch 14/76:   0%|          | 0/566 [00:00<?, ?it/s]"
      ]
     },
     "metadata": {},
     "output_type": "display_data"
    },
    {
     "name": "stdout",
     "output_type": "stream",
     "text": [
      "Epoch 13: Train Loss=0.5623\n"
     ]
    },
    {
     "data": {
      "application/vnd.jupyter.widget-view+json": {
       "model_id": "0d556158e29c4db082e296a7d49b43ec",
       "version_major": 2,
       "version_minor": 0
      },
      "text/plain": [
       "Epoch 15/76:   0%|          | 0/566 [00:00<?, ?it/s]"
      ]
     },
     "metadata": {},
     "output_type": "display_data"
    },
    {
     "name": "stdout",
     "output_type": "stream",
     "text": [
      "Epoch 14: Train Loss=0.5622\n"
     ]
    },
    {
     "data": {
      "application/vnd.jupyter.widget-view+json": {
       "model_id": "b4053becccf9419a8587490afd004588",
       "version_major": 2,
       "version_minor": 0
      },
      "text/plain": [
       "Epoch 16/76:   0%|          | 0/566 [00:00<?, ?it/s]"
      ]
     },
     "metadata": {},
     "output_type": "display_data"
    },
    {
     "name": "stdout",
     "output_type": "stream",
     "text": [
      "Epoch 15: Train Loss=0.5625\n"
     ]
    },
    {
     "data": {
      "application/vnd.jupyter.widget-view+json": {
       "model_id": "f206049157ea44b6937b828cca19ea11",
       "version_major": 2,
       "version_minor": 0
      },
      "text/plain": [
       "Epoch 17/76:   0%|          | 0/566 [00:00<?, ?it/s]"
      ]
     },
     "metadata": {},
     "output_type": "display_data"
    },
    {
     "name": "stdout",
     "output_type": "stream",
     "text": [
      "Epoch 16: Train Loss=0.5622\n"
     ]
    },
    {
     "data": {
      "application/vnd.jupyter.widget-view+json": {
       "model_id": "eaf28dc168ef43df805292a7cca3efdd",
       "version_major": 2,
       "version_minor": 0
      },
      "text/plain": [
       "Epoch 18/76:   0%|          | 0/566 [00:00<?, ?it/s]"
      ]
     },
     "metadata": {},
     "output_type": "display_data"
    },
    {
     "name": "stdout",
     "output_type": "stream",
     "text": [
      "Epoch 17: Train Loss=0.5620\n"
     ]
    },
    {
     "data": {
      "application/vnd.jupyter.widget-view+json": {
       "model_id": "31986d8de8bf4328ab1adc3fc6001fc6",
       "version_major": 2,
       "version_minor": 0
      },
      "text/plain": [
       "Epoch 19/76:   0%|          | 0/566 [00:00<?, ?it/s]"
      ]
     },
     "metadata": {},
     "output_type": "display_data"
    },
    {
     "name": "stdout",
     "output_type": "stream",
     "text": [
      "Epoch 18: Train Loss=0.5619\n"
     ]
    },
    {
     "data": {
      "application/vnd.jupyter.widget-view+json": {
       "model_id": "b12367fd03cd48898469c5ebe9402c57",
       "version_major": 2,
       "version_minor": 0
      },
      "text/plain": [
       "Epoch 20/76:   0%|          | 0/566 [00:00<?, ?it/s]"
      ]
     },
     "metadata": {},
     "output_type": "display_data"
    },
    {
     "name": "stdout",
     "output_type": "stream",
     "text": [
      "Epoch 19: Train Loss=0.5622\n"
     ]
    },
    {
     "data": {
      "application/vnd.jupyter.widget-view+json": {
       "model_id": "398e5679889f44eeb906ea2eacd35a48",
       "version_major": 2,
       "version_minor": 0
      },
      "text/plain": [
       "Epoch 21/76:   0%|          | 0/566 [00:00<?, ?it/s]"
      ]
     },
     "metadata": {},
     "output_type": "display_data"
    },
    {
     "name": "stdout",
     "output_type": "stream",
     "text": [
      "Epoch 20: Train Loss=0.5618\n"
     ]
    },
    {
     "data": {
      "application/vnd.jupyter.widget-view+json": {
       "model_id": "2986df8b10b2498fa65a711a2fc571f0",
       "version_major": 2,
       "version_minor": 0
      },
      "text/plain": [
       "Epoch 22/76:   0%|          | 0/566 [00:00<?, ?it/s]"
      ]
     },
     "metadata": {},
     "output_type": "display_data"
    },
    {
     "name": "stdout",
     "output_type": "stream",
     "text": [
      "Epoch 21: Train Loss=0.5622\n"
     ]
    },
    {
     "data": {
      "application/vnd.jupyter.widget-view+json": {
       "model_id": "dad5e87191b3465398b038ffcac2e414",
       "version_major": 2,
       "version_minor": 0
      },
      "text/plain": [
       "Epoch 23/76:   0%|          | 0/566 [00:00<?, ?it/s]"
      ]
     },
     "metadata": {},
     "output_type": "display_data"
    },
    {
     "name": "stdout",
     "output_type": "stream",
     "text": [
      "Epoch 22: Train Loss=0.5619\n"
     ]
    },
    {
     "data": {
      "application/vnd.jupyter.widget-view+json": {
       "model_id": "20efa10c6a0343d89cdbfe53ed88dbad",
       "version_major": 2,
       "version_minor": 0
      },
      "text/plain": [
       "Epoch 24/76:   0%|          | 0/566 [00:00<?, ?it/s]"
      ]
     },
     "metadata": {},
     "output_type": "display_data"
    },
    {
     "name": "stdout",
     "output_type": "stream",
     "text": [
      "Epoch 23: Train Loss=0.5616\n"
     ]
    },
    {
     "data": {
      "application/vnd.jupyter.widget-view+json": {
       "model_id": "445e04dbf57f4e0f95bd4c8bd9924412",
       "version_major": 2,
       "version_minor": 0
      },
      "text/plain": [
       "Epoch 25/76:   0%|          | 0/566 [00:00<?, ?it/s]"
      ]
     },
     "metadata": {},
     "output_type": "display_data"
    },
    {
     "name": "stdout",
     "output_type": "stream",
     "text": [
      "Epoch 24: Train Loss=0.5616\n"
     ]
    },
    {
     "data": {
      "application/vnd.jupyter.widget-view+json": {
       "model_id": "6d7cc60edcf446f09e71eb3c8bab3a4d",
       "version_major": 2,
       "version_minor": 0
      },
      "text/plain": [
       "Epoch 26/76:   0%|          | 0/566 [00:00<?, ?it/s]"
      ]
     },
     "metadata": {},
     "output_type": "display_data"
    },
    {
     "name": "stdout",
     "output_type": "stream",
     "text": [
      "Epoch 25: Train Loss=0.5619\n"
     ]
    },
    {
     "data": {
      "application/vnd.jupyter.widget-view+json": {
       "model_id": "633cb21cb0ea435a8c20e7013a792463",
       "version_major": 2,
       "version_minor": 0
      },
      "text/plain": [
       "Epoch 27/76:   0%|          | 0/566 [00:00<?, ?it/s]"
      ]
     },
     "metadata": {},
     "output_type": "display_data"
    },
    {
     "name": "stdout",
     "output_type": "stream",
     "text": [
      "Epoch 26: Train Loss=0.5619\n"
     ]
    },
    {
     "data": {
      "application/vnd.jupyter.widget-view+json": {
       "model_id": "c421ae77b8f143a09550cd05a3448b4d",
       "version_major": 2,
       "version_minor": 0
      },
      "text/plain": [
       "Epoch 28/76:   0%|          | 0/566 [00:00<?, ?it/s]"
      ]
     },
     "metadata": {},
     "output_type": "display_data"
    },
    {
     "name": "stdout",
     "output_type": "stream",
     "text": [
      "Epoch 27: Train Loss=0.5615\n"
     ]
    },
    {
     "data": {
      "application/vnd.jupyter.widget-view+json": {
       "model_id": "21d92d437cd64b78b6041ada440728db",
       "version_major": 2,
       "version_minor": 0
      },
      "text/plain": [
       "Epoch 29/76:   0%|          | 0/566 [00:00<?, ?it/s]"
      ]
     },
     "metadata": {},
     "output_type": "display_data"
    },
    {
     "name": "stdout",
     "output_type": "stream",
     "text": [
      "Epoch 28: Train Loss=0.5618\n"
     ]
    },
    {
     "data": {
      "application/vnd.jupyter.widget-view+json": {
       "model_id": "673c00d0a8274c60903c25537f0822c8",
       "version_major": 2,
       "version_minor": 0
      },
      "text/plain": [
       "Epoch 30/76:   0%|          | 0/566 [00:00<?, ?it/s]"
      ]
     },
     "metadata": {},
     "output_type": "display_data"
    },
    {
     "name": "stdout",
     "output_type": "stream",
     "text": [
      "Epoch 29: Train Loss=0.5615\n"
     ]
    },
    {
     "data": {
      "application/vnd.jupyter.widget-view+json": {
       "model_id": "5ceb07815b0144beb7bf8d35b7bc8113",
       "version_major": 2,
       "version_minor": 0
      },
      "text/plain": [
       "Epoch 31/76:   0%|          | 0/566 [00:00<?, ?it/s]"
      ]
     },
     "metadata": {},
     "output_type": "display_data"
    },
    {
     "name": "stdout",
     "output_type": "stream",
     "text": [
      "Epoch 30: Train Loss=0.5617\n"
     ]
    },
    {
     "data": {
      "application/vnd.jupyter.widget-view+json": {
       "model_id": "0d9110f5970d4a9ebc48e4456c4e9cdd",
       "version_major": 2,
       "version_minor": 0
      },
      "text/plain": [
       "Epoch 32/76:   0%|          | 0/566 [00:00<?, ?it/s]"
      ]
     },
     "metadata": {},
     "output_type": "display_data"
    },
    {
     "name": "stdout",
     "output_type": "stream",
     "text": [
      "Epoch 31: Train Loss=0.5612\n"
     ]
    },
    {
     "data": {
      "application/vnd.jupyter.widget-view+json": {
       "model_id": "63e2e6468e494412b16047cd342d51ac",
       "version_major": 2,
       "version_minor": 0
      },
      "text/plain": [
       "Epoch 33/76:   0%|          | 0/566 [00:00<?, ?it/s]"
      ]
     },
     "metadata": {},
     "output_type": "display_data"
    },
    {
     "name": "stdout",
     "output_type": "stream",
     "text": [
      "Epoch 32: Train Loss=0.5616\n"
     ]
    },
    {
     "data": {
      "application/vnd.jupyter.widget-view+json": {
       "model_id": "e3ba0b462fc641f88d2a4ce25bd5f4db",
       "version_major": 2,
       "version_minor": 0
      },
      "text/plain": [
       "Epoch 34/76:   0%|          | 0/566 [00:00<?, ?it/s]"
      ]
     },
     "metadata": {},
     "output_type": "display_data"
    },
    {
     "name": "stdout",
     "output_type": "stream",
     "text": [
      "Epoch 33: Train Loss=0.5613\n"
     ]
    },
    {
     "data": {
      "application/vnd.jupyter.widget-view+json": {
       "model_id": "02f6e9b2e7724259b39f4b785898a8b3",
       "version_major": 2,
       "version_minor": 0
      },
      "text/plain": [
       "Epoch 35/76:   0%|          | 0/566 [00:00<?, ?it/s]"
      ]
     },
     "metadata": {},
     "output_type": "display_data"
    },
    {
     "name": "stdout",
     "output_type": "stream",
     "text": [
      "Epoch 34: Train Loss=0.5614\n"
     ]
    },
    {
     "data": {
      "application/vnd.jupyter.widget-view+json": {
       "model_id": "d12a7e6cf6d64de6a38987c6e6e8e8dc",
       "version_major": 2,
       "version_minor": 0
      },
      "text/plain": [
       "Epoch 36/76:   0%|          | 0/566 [00:00<?, ?it/s]"
      ]
     },
     "metadata": {},
     "output_type": "display_data"
    },
    {
     "name": "stdout",
     "output_type": "stream",
     "text": [
      "Epoch 35: Train Loss=0.5613\n"
     ]
    },
    {
     "data": {
      "application/vnd.jupyter.widget-view+json": {
       "model_id": "703e4b170bf74e63b1684830c0223148",
       "version_major": 2,
       "version_minor": 0
      },
      "text/plain": [
       "Epoch 37/76:   0%|          | 0/566 [00:00<?, ?it/s]"
      ]
     },
     "metadata": {},
     "output_type": "display_data"
    },
    {
     "name": "stdout",
     "output_type": "stream",
     "text": [
      "Epoch 36: Train Loss=0.5612\n"
     ]
    },
    {
     "data": {
      "application/vnd.jupyter.widget-view+json": {
       "model_id": "d44da4fd9c574b069527cf48f7facf81",
       "version_major": 2,
       "version_minor": 0
      },
      "text/plain": [
       "Epoch 38/76:   0%|          | 0/566 [00:00<?, ?it/s]"
      ]
     },
     "metadata": {},
     "output_type": "display_data"
    },
    {
     "name": "stdout",
     "output_type": "stream",
     "text": [
      "Epoch 37: Train Loss=0.5612\n"
     ]
    },
    {
     "data": {
      "application/vnd.jupyter.widget-view+json": {
       "model_id": "e2f6cc69c82b4655a379ee49d3fec9dc",
       "version_major": 2,
       "version_minor": 0
      },
      "text/plain": [
       "Epoch 39/76:   0%|          | 0/566 [00:00<?, ?it/s]"
      ]
     },
     "metadata": {},
     "output_type": "display_data"
    },
    {
     "name": "stdout",
     "output_type": "stream",
     "text": [
      "Epoch 38: Train Loss=0.5610\n"
     ]
    },
    {
     "data": {
      "application/vnd.jupyter.widget-view+json": {
       "model_id": "ea43baee314c4ece92b0a6d42501db65",
       "version_major": 2,
       "version_minor": 0
      },
      "text/plain": [
       "Epoch 40/76:   0%|          | 0/566 [00:00<?, ?it/s]"
      ]
     },
     "metadata": {},
     "output_type": "display_data"
    },
    {
     "name": "stdout",
     "output_type": "stream",
     "text": [
      "Epoch 39: Train Loss=0.5611\n"
     ]
    },
    {
     "data": {
      "application/vnd.jupyter.widget-view+json": {
       "model_id": "45be377457d8475eb67e9a1441d1e985",
       "version_major": 2,
       "version_minor": 0
      },
      "text/plain": [
       "Epoch 41/76:   0%|          | 0/566 [00:00<?, ?it/s]"
      ]
     },
     "metadata": {},
     "output_type": "display_data"
    },
    {
     "name": "stdout",
     "output_type": "stream",
     "text": [
      "Epoch 40: Train Loss=0.5610\n"
     ]
    },
    {
     "data": {
      "application/vnd.jupyter.widget-view+json": {
       "model_id": "6c45caa47bfe42d598bca2493b0270b9",
       "version_major": 2,
       "version_minor": 0
      },
      "text/plain": [
       "Epoch 42/76:   0%|          | 0/566 [00:00<?, ?it/s]"
      ]
     },
     "metadata": {},
     "output_type": "display_data"
    },
    {
     "name": "stdout",
     "output_type": "stream",
     "text": [
      "Epoch 41: Train Loss=0.5614\n"
     ]
    },
    {
     "data": {
      "application/vnd.jupyter.widget-view+json": {
       "model_id": "48c0953bdfb341768fee6571a4503168",
       "version_major": 2,
       "version_minor": 0
      },
      "text/plain": [
       "Epoch 43/76:   0%|          | 0/566 [00:00<?, ?it/s]"
      ]
     },
     "metadata": {},
     "output_type": "display_data"
    },
    {
     "name": "stdout",
     "output_type": "stream",
     "text": [
      "Epoch 42: Train Loss=0.5611\n"
     ]
    },
    {
     "data": {
      "application/vnd.jupyter.widget-view+json": {
       "model_id": "d56e00acdc7643138750152a94ef2820",
       "version_major": 2,
       "version_minor": 0
      },
      "text/plain": [
       "Epoch 44/76:   0%|          | 0/566 [00:00<?, ?it/s]"
      ]
     },
     "metadata": {},
     "output_type": "display_data"
    },
    {
     "name": "stdout",
     "output_type": "stream",
     "text": [
      "Epoch 43: Train Loss=0.5608\n"
     ]
    },
    {
     "data": {
      "application/vnd.jupyter.widget-view+json": {
       "model_id": "f7af484dfadb4dd6b6abae352b757e6e",
       "version_major": 2,
       "version_minor": 0
      },
      "text/plain": [
       "Epoch 45/76:   0%|          | 0/566 [00:00<?, ?it/s]"
      ]
     },
     "metadata": {},
     "output_type": "display_data"
    },
    {
     "name": "stdout",
     "output_type": "stream",
     "text": [
      "Epoch 44: Train Loss=0.5611\n"
     ]
    },
    {
     "data": {
      "application/vnd.jupyter.widget-view+json": {
       "model_id": "394c2a7071b946378335d09789cd07ba",
       "version_major": 2,
       "version_minor": 0
      },
      "text/plain": [
       "Epoch 46/76:   0%|          | 0/566 [00:00<?, ?it/s]"
      ]
     },
     "metadata": {},
     "output_type": "display_data"
    },
    {
     "name": "stdout",
     "output_type": "stream",
     "text": [
      "Epoch 45: Train Loss=0.5612\n"
     ]
    },
    {
     "data": {
      "application/vnd.jupyter.widget-view+json": {
       "model_id": "a14da732f97e4da5938d843678dd0dd8",
       "version_major": 2,
       "version_minor": 0
      },
      "text/plain": [
       "Epoch 47/76:   0%|          | 0/566 [00:00<?, ?it/s]"
      ]
     },
     "metadata": {},
     "output_type": "display_data"
    },
    {
     "name": "stdout",
     "output_type": "stream",
     "text": [
      "Epoch 46: Train Loss=0.5610\n"
     ]
    },
    {
     "data": {
      "application/vnd.jupyter.widget-view+json": {
       "model_id": "94ea5242161a42ef9027e35a12aca8b0",
       "version_major": 2,
       "version_minor": 0
      },
      "text/plain": [
       "Epoch 48/76:   0%|          | 0/566 [00:00<?, ?it/s]"
      ]
     },
     "metadata": {},
     "output_type": "display_data"
    },
    {
     "name": "stdout",
     "output_type": "stream",
     "text": [
      "Epoch 47: Train Loss=0.5611\n"
     ]
    },
    {
     "data": {
      "application/vnd.jupyter.widget-view+json": {
       "model_id": "3763bd41b3e14135a59de35b07237ce3",
       "version_major": 2,
       "version_minor": 0
      },
      "text/plain": [
       "Epoch 49/76:   0%|          | 0/566 [00:00<?, ?it/s]"
      ]
     },
     "metadata": {},
     "output_type": "display_data"
    },
    {
     "name": "stdout",
     "output_type": "stream",
     "text": [
      "Epoch 48: Train Loss=0.5607\n"
     ]
    },
    {
     "data": {
      "application/vnd.jupyter.widget-view+json": {
       "model_id": "2cad499537dd48c68898c043c179068b",
       "version_major": 2,
       "version_minor": 0
      },
      "text/plain": [
       "Epoch 50/76:   0%|          | 0/566 [00:00<?, ?it/s]"
      ]
     },
     "metadata": {},
     "output_type": "display_data"
    },
    {
     "name": "stdout",
     "output_type": "stream",
     "text": [
      "Epoch 49: Train Loss=0.5611\n"
     ]
    },
    {
     "data": {
      "application/vnd.jupyter.widget-view+json": {
       "model_id": "f5cd94429b7f4ab7849f353f09924db6",
       "version_major": 2,
       "version_minor": 0
      },
      "text/plain": [
       "Epoch 51/76:   0%|          | 0/566 [00:00<?, ?it/s]"
      ]
     },
     "metadata": {},
     "output_type": "display_data"
    },
    {
     "name": "stdout",
     "output_type": "stream",
     "text": [
      "Epoch 50: Train Loss=0.5608\n"
     ]
    },
    {
     "data": {
      "application/vnd.jupyter.widget-view+json": {
       "model_id": "74a7c5ef7ddd45209b5c4e4486d065e9",
       "version_major": 2,
       "version_minor": 0
      },
      "text/plain": [
       "Epoch 52/76:   0%|          | 0/566 [00:00<?, ?it/s]"
      ]
     },
     "metadata": {},
     "output_type": "display_data"
    },
    {
     "name": "stdout",
     "output_type": "stream",
     "text": [
      "Epoch 51: Train Loss=0.5610\n"
     ]
    },
    {
     "data": {
      "application/vnd.jupyter.widget-view+json": {
       "model_id": "aa7e2fe7dcc74aa8ad601cfffd1c502f",
       "version_major": 2,
       "version_minor": 0
      },
      "text/plain": [
       "Epoch 53/76:   0%|          | 0/566 [00:00<?, ?it/s]"
      ]
     },
     "metadata": {},
     "output_type": "display_data"
    },
    {
     "name": "stdout",
     "output_type": "stream",
     "text": [
      "Epoch 52: Train Loss=0.5609\n"
     ]
    },
    {
     "data": {
      "application/vnd.jupyter.widget-view+json": {
       "model_id": "98a1919397bd4ad38aeacda9b20f4870",
       "version_major": 2,
       "version_minor": 0
      },
      "text/plain": [
       "Epoch 54/76:   0%|          | 0/566 [00:00<?, ?it/s]"
      ]
     },
     "metadata": {},
     "output_type": "display_data"
    },
    {
     "name": "stdout",
     "output_type": "stream",
     "text": [
      "Epoch 53: Train Loss=0.5608\n"
     ]
    },
    {
     "data": {
      "application/vnd.jupyter.widget-view+json": {
       "model_id": "b1efc214ac8a45de86133e02d4004759",
       "version_major": 2,
       "version_minor": 0
      },
      "text/plain": [
       "Epoch 55/76:   0%|          | 0/566 [00:00<?, ?it/s]"
      ]
     },
     "metadata": {},
     "output_type": "display_data"
    },
    {
     "name": "stdout",
     "output_type": "stream",
     "text": [
      "Epoch 54: Train Loss=0.5608\n"
     ]
    },
    {
     "data": {
      "application/vnd.jupyter.widget-view+json": {
       "model_id": "837deec4663048c3af50d4bd7afb7517",
       "version_major": 2,
       "version_minor": 0
      },
      "text/plain": [
       "Epoch 56/76:   0%|          | 0/566 [00:00<?, ?it/s]"
      ]
     },
     "metadata": {},
     "output_type": "display_data"
    },
    {
     "name": "stdout",
     "output_type": "stream",
     "text": [
      "Epoch 55: Train Loss=0.5607\n"
     ]
    },
    {
     "data": {
      "application/vnd.jupyter.widget-view+json": {
       "model_id": "d381659f495443cea572a57018be3cae",
       "version_major": 2,
       "version_minor": 0
      },
      "text/plain": [
       "Epoch 57/76:   0%|          | 0/566 [00:00<?, ?it/s]"
      ]
     },
     "metadata": {},
     "output_type": "display_data"
    },
    {
     "name": "stdout",
     "output_type": "stream",
     "text": [
      "Epoch 56: Train Loss=0.5606\n"
     ]
    },
    {
     "data": {
      "application/vnd.jupyter.widget-view+json": {
       "model_id": "c79ea1eed94140f18a5b103b62d03bf7",
       "version_major": 2,
       "version_minor": 0
      },
      "text/plain": [
       "Epoch 58/76:   0%|          | 0/566 [00:00<?, ?it/s]"
      ]
     },
     "metadata": {},
     "output_type": "display_data"
    },
    {
     "name": "stdout",
     "output_type": "stream",
     "text": [
      "Epoch 57: Train Loss=0.5607\n"
     ]
    },
    {
     "data": {
      "application/vnd.jupyter.widget-view+json": {
       "model_id": "7075d9ccd5e24ddea3feea7dde1c9b83",
       "version_major": 2,
       "version_minor": 0
      },
      "text/plain": [
       "Epoch 59/76:   0%|          | 0/566 [00:00<?, ?it/s]"
      ]
     },
     "metadata": {},
     "output_type": "display_data"
    },
    {
     "name": "stdout",
     "output_type": "stream",
     "text": [
      "Epoch 58: Train Loss=0.5608\n"
     ]
    },
    {
     "data": {
      "application/vnd.jupyter.widget-view+json": {
       "model_id": "8b12c35876be4d448c2e5b827db44b83",
       "version_major": 2,
       "version_minor": 0
      },
      "text/plain": [
       "Epoch 60/76:   0%|          | 0/566 [00:00<?, ?it/s]"
      ]
     },
     "metadata": {},
     "output_type": "display_data"
    },
    {
     "name": "stdout",
     "output_type": "stream",
     "text": [
      "Epoch 59: Train Loss=0.5607\n"
     ]
    },
    {
     "data": {
      "application/vnd.jupyter.widget-view+json": {
       "model_id": "0bb843b92d7e4c94a87211df56e3834b",
       "version_major": 2,
       "version_minor": 0
      },
      "text/plain": [
       "Epoch 61/76:   0%|          | 0/566 [00:00<?, ?it/s]"
      ]
     },
     "metadata": {},
     "output_type": "display_data"
    },
    {
     "name": "stdout",
     "output_type": "stream",
     "text": [
      "Epoch 60: Train Loss=0.5604\n"
     ]
    },
    {
     "data": {
      "application/vnd.jupyter.widget-view+json": {
       "model_id": "df7d7fcd85714daa8dcb6552535af0e7",
       "version_major": 2,
       "version_minor": 0
      },
      "text/plain": [
       "Epoch 62/76:   0%|          | 0/566 [00:00<?, ?it/s]"
      ]
     },
     "metadata": {},
     "output_type": "display_data"
    },
    {
     "name": "stdout",
     "output_type": "stream",
     "text": [
      "Epoch 61: Train Loss=0.5609\n"
     ]
    },
    {
     "data": {
      "application/vnd.jupyter.widget-view+json": {
       "model_id": "e9ca17bd94054ebd8fd0f9958e5b92dc",
       "version_major": 2,
       "version_minor": 0
      },
      "text/plain": [
       "Epoch 63/76:   0%|          | 0/566 [00:00<?, ?it/s]"
      ]
     },
     "metadata": {},
     "output_type": "display_data"
    },
    {
     "name": "stdout",
     "output_type": "stream",
     "text": [
      "Epoch 62: Train Loss=0.5607\n"
     ]
    },
    {
     "data": {
      "application/vnd.jupyter.widget-view+json": {
       "model_id": "ad3f4020cbfe43049e91cfa752fa379b",
       "version_major": 2,
       "version_minor": 0
      },
      "text/plain": [
       "Epoch 64/76:   0%|          | 0/566 [00:00<?, ?it/s]"
      ]
     },
     "metadata": {},
     "output_type": "display_data"
    },
    {
     "name": "stdout",
     "output_type": "stream",
     "text": [
      "Epoch 63: Train Loss=0.5607\n"
     ]
    },
    {
     "data": {
      "application/vnd.jupyter.widget-view+json": {
       "model_id": "173c9689b98445c19cc828eb9755729f",
       "version_major": 2,
       "version_minor": 0
      },
      "text/plain": [
       "Epoch 65/76:   0%|          | 0/566 [00:00<?, ?it/s]"
      ]
     },
     "metadata": {},
     "output_type": "display_data"
    },
    {
     "name": "stdout",
     "output_type": "stream",
     "text": [
      "Epoch 64: Train Loss=0.5604\n"
     ]
    },
    {
     "data": {
      "application/vnd.jupyter.widget-view+json": {
       "model_id": "cf3b4ee3edbb42ada9499df54dfabdc5",
       "version_major": 2,
       "version_minor": 0
      },
      "text/plain": [
       "Epoch 66/76:   0%|          | 0/566 [00:00<?, ?it/s]"
      ]
     },
     "metadata": {},
     "output_type": "display_data"
    },
    {
     "name": "stdout",
     "output_type": "stream",
     "text": [
      "Epoch 65: Train Loss=0.5608\n"
     ]
    },
    {
     "data": {
      "application/vnd.jupyter.widget-view+json": {
       "model_id": "b3a9b714a6694ca48713a75c1bc91212",
       "version_major": 2,
       "version_minor": 0
      },
      "text/plain": [
       "Epoch 67/76:   0%|          | 0/566 [00:00<?, ?it/s]"
      ]
     },
     "metadata": {},
     "output_type": "display_data"
    },
    {
     "name": "stdout",
     "output_type": "stream",
     "text": [
      "Epoch 66: Train Loss=0.5609\n"
     ]
    },
    {
     "data": {
      "application/vnd.jupyter.widget-view+json": {
       "model_id": "9f247d2ffe7d49318c5306ac21367b62",
       "version_major": 2,
       "version_minor": 0
      },
      "text/plain": [
       "Epoch 68/76:   0%|          | 0/566 [00:00<?, ?it/s]"
      ]
     },
     "metadata": {},
     "output_type": "display_data"
    },
    {
     "name": "stdout",
     "output_type": "stream",
     "text": [
      "Epoch 67: Train Loss=0.5607\n"
     ]
    },
    {
     "data": {
      "application/vnd.jupyter.widget-view+json": {
       "model_id": "c3fe27642815455ca7803b33e8522e60",
       "version_major": 2,
       "version_minor": 0
      },
      "text/plain": [
       "Epoch 69/76:   0%|          | 0/566 [00:00<?, ?it/s]"
      ]
     },
     "metadata": {},
     "output_type": "display_data"
    },
    {
     "name": "stdout",
     "output_type": "stream",
     "text": [
      "Epoch 68: Train Loss=0.5607\n"
     ]
    },
    {
     "data": {
      "application/vnd.jupyter.widget-view+json": {
       "model_id": "bc89d4bf7b834e04be3f959bbd52af74",
       "version_major": 2,
       "version_minor": 0
      },
      "text/plain": [
       "Epoch 70/76:   0%|          | 0/566 [00:00<?, ?it/s]"
      ]
     },
     "metadata": {},
     "output_type": "display_data"
    },
    {
     "name": "stdout",
     "output_type": "stream",
     "text": [
      "Epoch 69: Train Loss=0.5607\n"
     ]
    },
    {
     "data": {
      "application/vnd.jupyter.widget-view+json": {
       "model_id": "7882067aba2846acb1a7061f96a9ae60",
       "version_major": 2,
       "version_minor": 0
      },
      "text/plain": [
       "Epoch 71/76:   0%|          | 0/566 [00:00<?, ?it/s]"
      ]
     },
     "metadata": {},
     "output_type": "display_data"
    },
    {
     "name": "stdout",
     "output_type": "stream",
     "text": [
      "Epoch 70: Train Loss=0.5608\n"
     ]
    },
    {
     "data": {
      "application/vnd.jupyter.widget-view+json": {
       "model_id": "73d43b8f20d643998ada4c032aff9575",
       "version_major": 2,
       "version_minor": 0
      },
      "text/plain": [
       "Epoch 72/76:   0%|          | 0/566 [00:00<?, ?it/s]"
      ]
     },
     "metadata": {},
     "output_type": "display_data"
    },
    {
     "name": "stdout",
     "output_type": "stream",
     "text": [
      "Epoch 71: Train Loss=0.5605\n"
     ]
    },
    {
     "data": {
      "application/vnd.jupyter.widget-view+json": {
       "model_id": "0104487d00ba49bfa7e5b798afb59814",
       "version_major": 2,
       "version_minor": 0
      },
      "text/plain": [
       "Epoch 73/76:   0%|          | 0/566 [00:00<?, ?it/s]"
      ]
     },
     "metadata": {},
     "output_type": "display_data"
    },
    {
     "name": "stdout",
     "output_type": "stream",
     "text": [
      "Epoch 72: Train Loss=0.5604\n"
     ]
    },
    {
     "data": {
      "application/vnd.jupyter.widget-view+json": {
       "model_id": "c3ccdcfee9014205b4aeb267064c659b",
       "version_major": 2,
       "version_minor": 0
      },
      "text/plain": [
       "Epoch 74/76:   0%|          | 0/566 [00:00<?, ?it/s]"
      ]
     },
     "metadata": {},
     "output_type": "display_data"
    },
    {
     "name": "stdout",
     "output_type": "stream",
     "text": [
      "Epoch 73: Train Loss=0.5607\n"
     ]
    },
    {
     "data": {
      "application/vnd.jupyter.widget-view+json": {
       "model_id": "570cdbed23564c0781a067ae9497d5c8",
       "version_major": 2,
       "version_minor": 0
      },
      "text/plain": [
       "Epoch 75/76:   0%|          | 0/566 [00:00<?, ?it/s]"
      ]
     },
     "metadata": {},
     "output_type": "display_data"
    },
    {
     "name": "stdout",
     "output_type": "stream",
     "text": [
      "Epoch 74: Train Loss=0.5607\n"
     ]
    },
    {
     "data": {
      "application/vnd.jupyter.widget-view+json": {
       "model_id": "14bcc22e30dd4e718cdc9ce89f2e0303",
       "version_major": 2,
       "version_minor": 0
      },
      "text/plain": [
       "Epoch 76/76:   0%|          | 0/566 [00:00<?, ?it/s]"
      ]
     },
     "metadata": {},
     "output_type": "display_data"
    },
    {
     "name": "stdout",
     "output_type": "stream",
     "text": [
      "Epoch 75: Train Loss=0.5605\n",
      "\n",
      "Training completed in 130.55 seconds.\n"
     ]
    },
    {
     "data": {
      "image/png": "[encoded data removed]",
      "text/plain": [
       "<Figure size 640x480 with 1 Axes>"
      ]
     },
     "metadata": {},
     "output_type": "display_data"
    },
    {
     "name": "stdout",
     "output_type": "stream",
     "text": [
      "Test Accuracy: 0.7521\n"
     ]
    }
   ],
   "source": [
    "# Training\n",
    "drop_rate = 0.5\n",
    "dropout_trained_model = run_experiment(\"Dropout\", test_loader, train_loader, neurons_per_layer, amount_layers, activation, learning_rate, epochs, dropout_rate=drop_rate, weight_decay=0.0, grad_noise_std=0.0)\n"
   ]
  },
  {
   "cell_type": "code",
   "execution_count": 34,
   "metadata": {
    "colab": {
     "base_uri": "https://localhost:8080/"
    },
    "id": "zjqU_WfoJS4Q",
    "outputId": "02dd7e53-4f23-4c62-bf54-89c65062a6f3"
   },
   "outputs": [
    {
     "name": "stdout",
     "output_type": "stream",
     "text": [
      "/content/optML_mini_project\n",
      "[setup dab634b] Add dropout trained model\n",
      " 1 file changed, 0 insertions(+), 0 deletions(-)\n",
      " create mode 100644 dropout_model.pth\n",
      "Enumerating objects: 4, done.\n",
      "Counting objects: 100% (4/4), done.\n",
      "Delta compression using up to 2 threads\n",
      "Compressing objects: 100% (3/3), done.\n",
      "Writing objects: 100% (3/3), 71.93 KiB | 10.28 MiB/s, done.\n",
      "Total 3 (delta 1), reused 0 (delta 0), pack-reused 0\n",
      "remote: Resolving deltas: 100% (1/1), completed with 1 local object.\u001b[K\n",
      "To https://github.com/federicovilla55/optML_mini_project.git\n",
      "   0374c5d..dab634b  setup -> setup\n"
     ]
    }
   ],
   "source": [
    "# Saving model in git (this does not save the optimizer states)\n",
    "\n",
    "torch.save(baseline_trained_model.state_dict(), '/content/optML_mini_project/dropout_model.pth')\n",
    "%cd /content/optML_mini_project\n",
    "!git add dropout_model.pth\n",
    "!git commit -m \"Add dropout trained model\"\n",
    "!git push"
   ]
  },
  {
   "cell_type": "code",
   "execution_count": 36,
   "metadata": {
    "colab": {
     "base_uri": "https://localhost:8080/"
    },
    "id": "KsuPRa03Jg6V",
    "outputId": "419bd8d5-f64b-4aab-a4ed-da6e3d28afa8"
   },
   "outputs": [
    {
     "data": {
      "text/plain": [
       "MLP(\n",
       "  (hidden_layers): ModuleList(\n",
       "    (0): Linear(in_features=105, out_features=64, bias=True)\n",
       "    (1-3): 3 x Linear(in_features=64, out_features=64, bias=True)\n",
       "  )\n",
       "  (activation): Sigmoid()\n",
       "  (output_layer): Linear(in_features=64, out_features=2, bias=True)\n",
       "  (dropout): Dropout(p=0.5, inplace=False)\n",
       ")"
      ]
     },
     "execution_count": 36,
     "metadata": {},
     "output_type": "execute_result"
    }
   ],
   "source": [
    "# Retrieving model from git\n",
    "drop_rate = 0.5\n",
    "model = MLP(input_dim, num_classes, amount_layers, neurons_per_layer, activation, drop_rate).to(device)\n",
    "\n",
    "# Load the state dictionary.\n",
    "model.load_state_dict(torch.load('/content/optML_mini_project/dropout_model.pth'))\n",
    "\n",
    "# Set the model to evaluation mode.\n",
    "model.eval()"
   ]
  },
  {
   "cell_type": "markdown",
   "metadata": {
    "id": "QM6XVabRRqug"
   },
   "source": [
    "##**Experiment 3: Weight Decay (L2 Regularization)**"
   ]
  },
  {
   "cell_type": "code",
   "execution_count": 27,
   "metadata": {
    "colab": {
     "base_uri": "https://localhost:8080/",
     "height": 1000,
     "referenced_widgets": [
      "9d83dbdd3fd8499a9f5b66858a2330ab",
      "ab8e0c311e584c97b3f9fc6f643cc5c8",
      "1e027bc54506405793ee9b8dc0861151",
      "5af802cb57854897ac8eaa7a5ba848bb",
      "6721f3255f734c50aa09e87b074a97de",
      "809dcd3b6c474c56b99e55f1e9fec93c",
      "652ec76357d84e4080143876e3633fdd",
      "f05f0f03d5c74895bb8d6e32fdff025f",
      "aade7bde7ac3450d80dd3fb52e455ad6",
      "9e9a2843832946898c13faac1f344667",
      "088808b437a74ccca6c1776ec8e57560",
      "0d70ee2175014a2095acf9d007a644d9",
      "29b29e2f9184483d9e5e667012831212",
      "d45b9d342f754c53ae5fa8b9959cef5f",
      "166a06fcfe5c45b79f72e2b66e48a80c",
      "12120abe8b384cb9b70f627916ea03eb",
      "92a1dc8ab41a4327a0cd12ac29dc4c7b",
      "2981c13b772f4ea8bf288fc3ea8ef05e",
      "63c4625d27234d18b92983be1b432c57",
      "7a3bcc1969cd44d9a166308aec919635",
      "8025f13d2c084fd3bd4450e0945adbc2",
      "c963e474a9f44965aa2b1026cc3d621f",
      "25ca1146699441e493d9202faa4b0d48",
      "6fd96d24f2fa41e0aba13a8e35de00bb",
      "b91c0b3b014746d8a4610d629a655e40",
      "d691f6df51394c068ff6cfc7919e56cc",
      "b868be8b7ee244b2a042b82259d3e9d3",
      "17b52da3629a45a8a4b3942946e5c215",
      "87495f2e9f424dfeab24f791433e932f",
      "a6d39ac31b364cbaab92d6eb44171577",
      "3bd862ed5da64aab8ac80bd87f278ead",
      "617d6cdce0a14e0688d2ef98943ca532",
      "a6c708caa1e04e01bcdd9f17091776e8",
      "ae1416cc29004149be7f58618829dd10",
      "ea07ec043f524695933ad4485a26c05f",
      "aeeb7cdc79d540a8b4f96066cca0e75a",
      "10d36b5edb28484db13c6ac7e5e45807",
      "2737d2b27efe41949afa058bde18e81e",
      "21f856da5f284532836c0f6bc94291bf",
      "a161191e7cda42e08dc0a8be8ef9c619",
      "31d9bab876f743b0a002b4c96c109dc6",
      "63973f09d9014d8bb1138303c4443afa",
      "39bcedbd73a549269edd90c6ed848cba",
      "ae77f5abb59644359acc60183703bdc1",
      "4e118d0f81fd40bc9f2d9e58052bb5bb",
      "a1cf3c90f1c243f6b7f0c444c9bd2eea",
      "e4c241140ca241c4989ee88ff71ca955",
      "f6841f7c84ac49eab7c07bad455f0e18",
      "ef806608c7194f879fae31063c50794b",
      "1cad08ca0fdf4bfeaf6ccbaa29d03e60",
      "dd8e48dc17634063a6de584a6ae28e5f",
      "ac91fffc531e432f90f0b412fe262b31",
      "8ce4438cb72d44c29e7c0c724ff2df45",
      "c9b7f033a1944fa4a48c461f185dba96",
      "b0cd06e8a0284790bdf15375f3dfdc6f",
      "f0b7ce5efa61444e95d7a996ff35ae49",
      "9f25c1e654104461ab089e4d775fd450",
      "de184bb1ff904255a4ea9126b17dd9c6",
      "05561c1a3f97431cb6a229527a979ea4",
      "c842e1bd0be040b1845a2800484d6f57",
      "0d178e7835cb43ce9e5f09d744ab7fbd",
      "6d6382dc64164e309d495710a0e0d4e3",
      "6f9358a4a1ba4571836001c0b2a051d7",
      "bffe14a69e9a428fa209431cfde559ba",
      "0acb6c025da64f239fe60f8f2b9d53e4",
      "032182c590bf4659b9d800229083b593",
      "453071d24cc248709ae5e5185eacba2b",
      "8ed28c98c9c5473f8c4c94a5c30be4d2",
      "b500b14a061041a0aac5043db3af28c8",
      "404d493805aa45429ab432f92ed1b87b",
      "060d5e95215b440f86ebac7c7af50663",
      "79e08f8b91c943f5ac1a444562ed23f9",
      "06de8100cd7741f285ac9d13165e92f0",
      "a83c4e5ec21b4830b8c7fe764567c5c1",
      "b7587c8c30eb4ea68ae121b5332086fe",
      "b6b4e8ddbf6645f6903ac803fd90221f",
      "c40dfedd1e1d42bc87e6026175cd6d96",
      "786f6d4d08c7404c84d5bc55205761bf",
      "1e67c960071a4666a0cbe36910bd4a98",
      "74abdb152fe84de08dcd4c1cb6a458bb",
      "ff70d337610444bdb762993b39131599",
      "7fcce8f69a0a47d5bc3c82d43d8f39ad",
      "9aeb1ab033ce441cb6a9293d317215e6",
      "28d52aa80b2f4c4e831cfd822e0a6aba",
      "0ae14e177e4f441daf155423629f5b6f",
      "dcbbf164913c4a76a02067243cf78c32",
      "2147345734ab4647abd4aabbc173312b",
      "b9fba36ad2ee4fbda6f5f3a6fb7f8612",
      "33153c4104c1483c9b4a5ca3be464b29",
      "f46ecf15af554cd19185dab8162e1e19",
      "7cfe15345add432c8c2884c7c7bf9475",
      "c5b3a0c9b77f491d89e878b17034e291",
      "3b32a973642f4dc9a478108bc6c0ad69",
      "9ef361355a984c3f8d64350cdecc9ae1",
      "36b12583a34d4ed9b5ca17429bc1bc38",
      "a8f8eef2873b45e39847248ec2ba4926",
      "e22b8533e2a34dd585d34a1ea7c151d2",
      "b88e150dc48c4af6bc4b0291e0562e61",
      "d47ef16c8a7b4a388f60d531d569fc1a",
      "4863f39c2394444eafe40f911f47eae9",
      "efbdd19fed804010bcbdc9fa5f25c7ba",
      "949e2138d2024c68ad7238b9cdd78bea",
      "3ed0c6270cdc4660a7955773b6c25ed9",
      "b6bdc6b87413432483dd9c855508cc05",
      "1921abfed8b1488a9e3ad58a945994fa",
      "ce28416adae94d8bb77f97c0b91990c2",
      "48c227be561541b1ada2c3b44c25a5ca",
      "d29591b6cd624b97893a90abc53d79c4",
      "7ef1132e6b6b423a8a3e18de55ca3bfd",
      "241e946a09fb4d62ac3e96c6fe7f508f",
      "df6bff214f1d467bb8fbe827b912b29f",
      "3fdcd5c88824406a945c054712200223",
      "3891aa0e9e554afd9f3031e791f21ca1",
      "895d955296cb4b0db2e969c95f9e070e",
      "1401527dfee946638e4eb9e239370337",
      "749c2490f9984093bed05364f7c1b784",
      "59d51dc003c24595876765721e9a5457",
      "771d2b9f57e24402aee5eae1cf79b79c",
      "c819c3890aba49c5b1691d7db3415fde",
      "9f63c59c8d7341cdaa8a9cd0955169a7",
      "c5d349bd0b514aeba357e561a444fe73",
      "28f470990e074e97af5849519a8827ba",
      "9df5a3396f43461ba8f9d784ecf3ee96",
      "87591d1877584b3da5273602abcd64b2",
      "4fcf6cb902804dd99f63ec9d3157a784",
      "779eda18af6246fcb12f9b1338053c50",
      "dc117611e1bd4afda7a672b6945f0208",
      "70a69ceccc9841e1827dd5d97ae103a4",
      "8bbb4ff1de35494cbad7305edd3b99e6",
      "717c7f16454749609a28af78421e8a98",
      "90d01006d5014a28822de723630a3760",
      "1175740c60d34dd9b4bad6c93e3d5e1b",
      "3ccf40b9a9914429a2ce3065f05a5c38",
      "16427c9cc1b247059d8b2b27fa410f0c",
      "f182e45f1ed94280b551bceb1a206386",
      "f6842cf4e66e4c889126ee23663ccf1c",
      "08ed98c5b04e43a8930a2b6005de73b9",
      "b20fda325b324777b7fcc9c91b6d10e4",
      "6e2ff6c99cac4049a978116775448076",
      "797672fce6a54a0ba3ebe59ecdc837c4",
      "d75eeb0e79d948dbacf50848316d2afd",
      "3f914663258e42c39e00daa0d5b73121",
      "e5caec015ee24af7a3b70950d3570ef2",
      "28fc93e213954a0fb1cc9a0f8a604bed",
      "35b189e97f0243c2bee908aed9acc7b8",
      "1d0ca3a8b1df4649ba2a683318918418",
      "91e155d68bb34b86801bc6df9ec2537c",
      "624d6bfd3f5645d7a8602a860cb57d44",
      "47b854b1487b42d29779291f8512fa34",
      "a48385c79eb748358eed31f927b470ca",
      "305a7ccee9784fc7b7c1c2ec3ea0c7ba",
      "034986a5b2da4a5b81abd5672c65baea",
      "ac17adaa86774ef7a0ae7e561bbdf0dc",
      "0769201b9f694a45bb9b1c7ce6cfb1c9",
      "1a23aa60b4634c38a5cc6588c2f4c67f",
      "7201bf9631464ba580da16d8c1c75e06",
      "9bb696dd1baf4e5281dce0a19f4e8aff",
      "bfcff5a85b754e30826d35d9c7c24e37",
      "baebed9776cd43c99335a4c2d3e10463",
      "d9c5f00ab5a7468fae72b69e27c7ced9",
      "7f949a57e7ae4e99aa7acc913cc954fb",
      "ed566fe715f148adba4120aa990c37a1",
      "9820cb04f0ce43c590d65ca5215646f2",
      "1ab30e225b3e489eab6425675dac46b4",
      "4b62c840de5e485b9d966d82a59f0974",
      "55dfe979fa23497f9ffc16299b749bf5",
      "c5252c43b5624e16a5df2e8cc5c38dfa",
      "ba9bcdaf71034865b17e42f9ea83a589",
      "062316fdcc464f219941739fb88d3cb4",
      "3862de4db66b47ae94974f53f4161769",
      "82e8b502d30c4812ac73068bfa37a1d7",
      "8781321fd7a54779b1141269ae47d988",
      "da688ba9169743d5b73655c5b7dcf866",
      "66ea8fb673ff40ddab90767684a72368",
      "7e3b2ab8ec05455b82e38dabae80c444",
      "a2ab60e009084ac48b8b18b4048d9124",
      "a5f5f29f183943599a320bc4f5e6fcfa",
      "fa746b257c0c4dc3bc71c5a1916d7103",
      "7aa6b308b9e94453809113411aeddd61",
      "961fca12ed11479bb2eb8a7212d19e56",
      "de065b8b5c3349f7a3e216e526174b58",
      "d8a8b59b808a47e69d8cbde6ee32cf5f",
      "812d0eaa251d477da26eed2afa561c2a",
      "66fa7e40b8ea47cfa7db665c976c4a32",
      "3501ab26adff4ccd8c06177f669b4b4e",
      "b74d05282bb24aae9d058913907c85bb",
      "f955fd9221914fc1ab199418f4958361",
      "769cda58ba8d467d9139e7a239e85550",
      "c790d30ee3b941d59327d775ae44612f",
      "a1f073bad4724057b11a0fd260a3a23e",
      "8b5473a8b839432f8d3fda272c28c93f",
      "6c44d44447d3432d989f2f241ff6a5dc",
      "ce26c1e177704591b0d96c8297abbeb0",
      "cbeb1ffab45a4f4bad43955d3fc27f58",
      "6922bcfd5df148d091a0c5304e53c1bc",
      "51d7939bf92f4469b6c55ecd6710397a",
      "5d202832e0dd40148ea5fe9acaeda4b7",
      "2f44675e55b543ef947bf35e7b36e3bb",
      "9ea7a4b1e6d541a58c30ee21e196c454",
      "c452b88085d94012913a920312a9b4d0",
      "50081e2ab5414a25afc4231448ba58ab",
      "54f43603ba0f4b849039e37633a46e4f",
      "6906cc91e2604356bbc745abcf608dfa",
      "41079894373d44a49915c7399a35ad05",
      "75ae2e255271490797416b457d7bee06",
      "cb551ae156ab40bba64be608b354c44d",
      "14b0fd202b30400596f9da37efef6be0",
      "aa74b1204a24484989701a8f663761f1",
      "f848a07d3d0f4d6fbb4156461ef03d21",
      "90e540a92e5745ddbfefe4f084e91ac9",
      "f96db6afe5b44385a6ff7b4ec169946d",
      "977d5bbbb9a74358a3dac0a6e1e9273c",
      "5d104e6af5724f49b726cb335bdb090d",
      "bc177cf7b8d340ebad7ddff04a696551",
      "9742e98db31745328ff6ad32eeda8801",
      "49db12c809034246b06e1677942b4945",
      "12d26deb21ed48c686adb79dd93ca370",
      "1b2ce2def9c8407c86246c39516fb7c2",
      "7ab42c5156134909b963433df63758ed",
      "6360369f9cf34f22995faa5cf8b8b864",
      "647bee4c84214d6bb5c34bd0c86adbb4",
      "2ea455bfedf649e48e106bffd5893151",
      "3732758a85ae40d9a2e1b3cde1b52726",
      "dd078adc56c74cb98e322e1a3c234c92",
      "1ed9c8c2c7b14750a7791f8f07ca450e",
      "f865ec5911e14fe391e0f80f72a145a3",
      "ffe9d1780f24463086cd998a22abbcb9",
      "26874594e5114e2b83a0a7dc5220bfe6",
      "ba4a79f9dde74e709891e37a699d6184",
      "563f3af88b524612ab9749453122c229",
      "674d9dd7cb2c49c6bf9c34afcc2de978",
      "c7559dcefab94656b55a50b239a71782",
      "d886e386b9e44d4b809c6673896ba59b",
      "6e286a31eebb43628ac1127692d6dd20",
      "7794be6aeb0c435eba22b2557a2a7db2",
      "98639f103635490782d22fee8d281887",
      "1abbcaf9566c467187d2623c4a9ef00e",
      "c199253b30044afaacb34e10caddf102",
      "4b1f0062dcb3411c83f3c8c37da5a25d",
      "ef34c98ea93b4d91afd704f5f6be6dc4",
      "03d817703f1f498ab461b6f84240f49a",
      "a7019785c1ae4222b6b643f924ac92c9",
      "97e836d13c7b49ba9f73051ea5d62884",
      "df285e68dcc0401e8312bf09c57a3d3b",
      "a47679cb8de84a4f97f8ff8bee2518a0",
      "e584235a7d8c40c784ef192f2fc113c5",
      "43ccd2112d49484aafa9c621201e1fa3",
      "1fbbea980d1e415e80fcf0e6f4f18ab2",
      "dccf94b9edec42b1972092c814a72642",
      "6f6bef7c9079432d9dbf6cdbc8614d76",
      "47c19210177f4afa80b509c6b62a0c4d",
      "ecea3b6d37354b9098a7fc634f489dfd",
      "2fc01be1039f408bab33e95de4637327",
      "05755446930544b5ac94034083362bfb",
      "87d885e9ca1b4265bf13a2b52756a208",
      "bc36ca3c34504c26bb55c0119e9e0f6c",
      "08284c0aa6a942919305dbe3f3737446",
      "21c02f3b46f94819b309c74d1b9eee36",
      "e4fb7ebf89a943409712ae77bcf2db01",
      "986aabafbbdb49e39072de8fefb9405e",
      "86ed401c51e34ae3ab56c536e9d3ad8c",
      "cd95ae15a7524d27ab983b69b2c7a632",
      "d18c5c5d82cc4d24903143ec8db162b0",
      "57535d60a40e47fc8936e7ea84cce58e",
      "17a4331e50364e97a903da2a36edb23d",
      "870099b8964747b2ab8cbb918a511648",
      "235f390b177e4f28a4d2518b30bf2134",
      "2326b3e21a0a4c19b5e419c72162f29d",
      "31947a3e96d844f29a0b8b74c997b0a1",
      "c72a1a28576b4f2bafce31f1543071f0",
      "71735f17d842468d9168bb9efadac2ba",
      "9966f20b03cd4ed0b41eec1f98594d35",
      "66e43a2ee88e4f06a8215765929a06a8",
      "ac66fe754bfd42619d97a72aee06d6ca",
      "6d427f3b2c7745c8ab79179622796d22",
      "f0f8cfdc529544e18ea06010c54f3cce",
      "9b4d2de2c04e4b1f97d4fb4ceeb7c869",
      "8bab98e8f220408fa13e2feba730e51c",
      "b4152c7b10a54d8f8156d6e7b3e07662",
      "de2cbc2c139e4328b0cc55f0e1a3c128",
      "043ab717c95a41518730829227e9f9e5",
      "0e131c6ee9e84ef7ad4a40071ea344ac",
      "8e28cc961d874d68b323852229df13bb",
      "28b4ece3fb9a411fa98f7718086cbb6d",
      "df4bb4f2eed146fca90d8c84ca86c65d",
      "812335571e2147668ba434dc84518261",
      "61272e7954b54ba99280bf094b150922",
      "e3a215cb43d44537bf7e6dc74c230413",
      "7566f3975a574456b42379b9e71891ef",
      "e1793d8364564383a9ccf8c8a3809fd2",
      "9eef54cebcef4a5083a5492ea8b212f4",
      "110890bd52974bb0b8eaecb2f0ddedbc",
      "4d80b9ad5a324241b4337153b944841b",
      "1055900b884d49f3a3c12efd3eef552b",
      "baa5e30b7d724971adf26e391f0cd1ae",
      "fdcdce5679ee453299900e5b73cdcfc5",
      "2dce54bf90f74b07885da175402655d1",
      "e3f6f9dc4b464a9b9319d093f1891233",
      "ce6eb5945c3c479c8c49e104dac7267b",
      "aabdbfe68fc94b54aeab9013da471b22",
      "eacc18cfc4ff4708854605c94c589191",
      "6678ab5b7bab45a792f7316cb1794b52",
      "58efbae2b9f6433b9e7c152e1ea6bccb",
      "2cf93398acc44b0388e0b3421afe9c2e",
      "8003ce6ecddd431282852047f86cc9d3",
      "40e3d723bc8649e48377877bba63ff15",
      "73705e24d81141e6831dad77d5a13b6e",
      "0541aeb167e34d669145c09184a16cee",
      "1854f6e228424cd0872a4d4ce611b32e",
      "7df9d786ed424740aa1b96093c521070",
      "f63ccd5dacba471791cf21f51ba8ab4b",
      "dbdcf3a555db4d90b236a0a71f9be7d3",
      "0e7c55adeff4441ea71c7b28f41bd911",
      "6e12467fb5354c7c920d0df3e26119f2",
      "e7c4dfc62dd14e03863919e83c878938",
      "d5f1c17a40244fc189ebe5fd361d59c2",
      "a0373d4d6496405c976e18d82c5fcd6b",
      "2c1b050c7c724612ba94f657e3db241f",
      "692e1bd20cb543efb0a014f61cca0689",
      "112feb6472324192a5185bc41ca76c31",
      "46dca4db52f44957a59a6f9e2171b803",
      "972ab17a919e45729349f7ec05670dc1",
      "2a78e575a97a4d1f9c361135c8a1143a",
      "49d2dca5901b4dcbb2378ffdac6651e3",
      "906f1aefde6f4a1a9ac5534a2d49cfc4",
      "131a3471744441cfb2801a17e56db99c",
      "df4225292a1d476cb3bb1ac2a17f008d",
      "77d71d4cc4f7447eb1f22ce4aa3c7528",
      "44622bd9bb2546709607698e98ead688",
      "4276f876c4a94975a0332daaf296f88d",
      "5cc84e1bbc7747cc91f39ec33843cb67",
      "8b9fad15c9aa40b9b57303ac23fdee22",
      "3b1cdc59dad349769c0ff67e17166f62",
      "75f76f2f4ba74a3186db148811394e08",
      "1f92ec98827a47aba7cd8c4d33434054",
      "bc54d5e1cc634872bd5cef502800ea46",
      "855d639ef628491eb11e06749baa473c",
      "1ff948c9482e4372823d7ad47fbecd57",
      "95d7624afb154078998d5900e736cb02",
      "edc8c864d5fb429bb1adeb1a3595c206",
      "9b9f9bb960b6466696528ae802fcb548",
      "611c130daa0741b2a1f41de784ea8324",
      "b39d5ed112f242818dd6b4c6951db6cd",
      "d6c766df88574220904d40b7c2b8d39e",
      "af9616aff7e84749b4d995748fe76cf7",
      "c954269d3ddc4dbb86c18ad95f3a4a51",
      "0e2bbb69233140aaa3c5fbf8ce7c2ad4",
      "3588366d3cd944239d83507baa1c7ad6",
      "fcc6277a6b014e6fa29a5eb4855cacd1",
      "a3827a2421524b9ca81bcb82b6865103",
      "9a6433c0cf5945b9a405c480700ec503",
      "e3345a640a754a3e9488018d386fc59d",
      "1db0024c05784a9b865981118ba8967d",
      "444c386a09224e919d62e6b6110b0cae",
      "47fc815fa31b451a8eddc294b8564ebf",
      "f858956af5d647d1a9b5aeb60564a7a2",
      "b70d97ade7634fc8a2e64e9d78962ff8",
      "8d6848b684b04d90bb7542dc7a9cf8b1",
      "1499d20d581740d5b7580ce3285521a6",
      "b5c10b85209a4bba9b3194cf174dee29",
      "c60b165e479e4afa8c972c81b2fba46f",
      "3c5cf1fec61e43dd98caf59c24f9e26b",
      "ef7682293bfc477a82201a1b0ea9f805",
      "3b6560c53e1544ba847f698888bb7ef2",
      "d5525dcea21d483c8514274f1a2fb1e4",
      "a0331374d4d64572b8a8fbe07e2b1763",
      "5c1917ebe8254ca0a2386e405e2517e2",
      "157c2d1f232f43edb91fd2df0ef25639",
      "c49e310201d04395bf3138806046e1f5",
      "b6147a9275d8442b9aba6a51655504f5",
      "c22ca95daebf4227bc9acc88e2f148e0",
      "9735ad84519d4a6f89123bbe715e6a68",
      "84a92979da8940c1ad3cf987fc200d31",
      "c99be5fd454149f98d6c48109d690740",
      "609472c33567415bb22cda0572a372e7",
      "9278d1dc9535403f98b41dad0057a31b",
      "d570a712adc5453a9f389d91a44e1429",
      "8b46cba6f97c4c7b8a28e39fd6bc141d",
      "29f881bfc4104b129c211896183cf705",
      "fea204dcbd2b444f95c7e8150bd123c8",
      "e5310a6e38e8430eaec34dc18adb79d9",
      "3772db6384874fcfaa013e2ef27099a9",
      "1800018c16ee429b86c7a3b228a5378b",
      "580b57fadd784532988d818f44f3b78b",
      "d39e2df8d7a944299a7ab6bcb794f12c",
      "d60726a463d040aca2953bf8431ef298",
      "ab989301e9564573829ff485e5a85914",
      "74d3375e400741f78b93cedae6aa548c",
      "e9976bf94ee74f8186135be4f7e179a5",
      "1420c3161aff4abbbccf6a5fdbac7013",
      "4ed0f0f486204eb3ba4d1061a4425def",
      "e35289d107c14b3fbfeda453ba791ebc",
      "e4c8ace0fae549d798a5491e1ba6f4bb",
      "8322816c552c42fe92257c6184a23fcd",
      "a7636905a3604a58bdfa9cb95d78d76c",
      "694291cc9286443ba1f515978508fd77",
      "8e8fd33c65f943919c91a95b4474d46b",
      "fc207335aad042ff8877f8abbc01e8ef",
      "3182ac82789c42fa882e178e028a9e61",
      "cbca708af57543b6ba8024e8254d67a2",
      "80c46efa759c4464829291d2be43fc72",
      "5f4f816de2e84f7884b88b6c7d92d247",
      "9a19051ab13742588fdda662eeb5f282",
      "988c837f940d4eb59755c6c7cbbbde78",
      "704d658a881f4bcdaf017fd8dd3d69e6",
      "6be9226ae9fb42a8b51f21fb186258d6",
      "615a9b09322f47dab13556ec99927b23",
      "7acb16557c334c2a83ddb87ade92e859",
      "f81ae058c1674128a3c7b18d50586c3b",
      "f098029fe2a344a6b2629b2033752c8e",
      "dbced0c43ce64652b6748455ae4f003d",
      "2ec17abb8b5645f986990f22e60ba81c",
      "6bf66e84441a40c1946d0b8a718267e0",
      "913acbe6dd6e46b4bd9698f84bd609be",
      "8ec35ee5ec304a80b75b5a0d8b0011a0",
      "1a263174d98b419488dcc38da5d92169",
      "56528a0f90b14679ab89231e05f4d9f1",
      "f10009ade6784ab5bb8a36c4b7b6d735",
      "a02030bb9a974ec484a0feda2f5f410f",
      "36f79764c91645cda7544aed169c19b4",
      "fe0cfceb923d40ebb9152d35eab97542",
      "e5aca3d1a3cc405da7086e0afea621ef",
      "00f40af7e2ba4976a527ea0ddfb97cc2",
      "f3bafb8eb7d445788f320b5387e5cef7",
      "79856a53bfc54b71a6ae7b0288dc6511",
      "86badc117a0641fe9fa5c83ff10d0fa1",
      "d489e05a3709401eb88475724b5c0bee",
      "6833b415bc0c4faf99ecec9ebce827a0",
      "9356f9762d73431b915d9addbbd23924",
      "82a87d2b742943eababedb77f93e0438",
      "101d5ac8f3ea41318a7375c9b9ff2080",
      "a39fbc7898304452b6fc9278d5f268d8",
      "7ab13cd158c64077b58ac8cbfa5dc140",
      "8d117616b7da4a3b821f2685b5b297da",
      "fb0430c629ce47c68c4fcdc9dc55bba1",
      "21f3d3dafb754a258ee83aed57889c33",
      "b1288caf58a64737bf3a07211143fef0",
      "da970bd23ce04726bba6e00d2f6360dd",
      "c459e018cf77410c88b5ca93854fa518",
      "de3a886a725b4ae79b857bf14d693b96",
      "8a6458bd47504ca9b9b7e21a14f9bc06",
      "ea6554bd74814bc8babadc3027577112",
      "a2460687659e4f31a89e63248b115149",
      "846610a67ebe49e09f1eecf208fae996",
      "82d35e041157452098d7403823895a46",
      "398ca0a2025844f1874dd016a279ff63",
      "f3daeacca2044a2dad0b8665c894e95e",
      "06bb3df50d2246e4b784e14c93f45ec7",
      "7cea4fb6b0d54fcaac2c232429c70ed4",
      "e28304991a4748fa9b141662ff1c997a",
      "bfdaba265a73459d8334107d8a6300b3",
      "6437cc127826449bb9a4b733f41ccedd",
      "fe626d700a664327ac8a115a1aa18e97",
      "610d955901d0469e860c2a508d20576d",
      "b25f2363094e4cbc880af3c3d6ffd395",
      "9f8683ab1e734de89a0e8c50df8a3fbf",
      "aec6fcac3dbb436487fa83bdd3310fab",
      "246b68b5c716449698fa9be09f2f5064",
      "ee5698753a794a70b20c03ad487f74dc",
      "8d239cb95c7c47dfb429b9378fc76055",
      "9ea0620540e64ab0abecca1080b3d96e",
      "30f6b64490e949f5bdb1eab9d8d51c42",
      "32c7a1b6a78b49b887a6fa087642f444",
      "5a3699f41b0a4d1c918501c35e47b631",
      "5b8ef64c67634b7e81f2433ed87362c7",
      "11f4ae0e37224ab38df0496d0fcc1d4a",
      "115db789219a4c51ae3ab4919b7c3f10",
      "a81c4c5f343a4eacb70d4a1acd83878e",
      "a476b829e0dc494780e1a451337f98cf",
      "66307a89ead3489f94e33faa46541db5",
      "0caa4ec7ff064e508d315a51027f8f93",
      "868532eed42846a48e05f321f0703a87",
      "c4f372c8dd314119b7823935124da35a",
      "52bd32f0c4d64979b8d08eec551becc4",
      "4b9a1f62e61f4ac4af33a853519943ed",
      "444b11d431bb43acbe31cd4d959b9af7",
      "ae4a87dc11bc4dca8cc3d2de1781c67f",
      "2bfb1b2ddb73469ebb0465114e05997f",
      "efc38ef254ea45eda9dc9f09c574c85d",
      "c667042e403c407fb6b1848d1051e48f",
      "0b079e1668c94c78a4c65685ee83b515",
      "72b089b26e53437da8cd10024f50f668",
      "4e43ce9136cf49b5997c2c59721c16bc",
      "74f07834a5a3447aae62e3add7df723a",
      "a0a3a244a4674fc8a9c2f7b899d78647",
      "c1abe06f5a7b4047a1153b37bec3f504",
      "902cffd072bc4c40aca926b5d903b5c6",
      "a4da5733ebf64bf3be3216f517238f3e",
      "26f33f32899341f9a2c702bdc4115181",
      "38685f892e474c43998ab8cd8280e909",
      "5860716799484a27bc5fc61e139dfe73",
      "e3a821eec73f4ab09d47813403ae02c2",
      "348bd7441d774181898188370bd43b10",
      "5961db6fe21149768349ad186fbffc73",
      "44d1d973e11f4e1fb47b869c48ffa587",
      "9ddad2320c99410f8b97cd335f316b72",
      "0b0ff5f6bd244e67a7e6dc2bca038327",
      "66b6326357d54f13a3db73c7a6916ec7",
      "fd898e34e5704fe1bd790956f8af5f7b",
      "4588d7cf442e4703981de8a49aaa8881",
      "8a60aa6900714894b40dadfb950c7dc6",
      "0291e6f657824ab0b2cbe7f93248134a",
      "9ab8b00eba5f4d4abb322715b9cbabe9",
      "2fde77a6b14345d4816829751af9cf73",
      "a7a17902102f43c0be7df369dc0d6653",
      "c2ca8b12d94044a38a068468c60d5898",
      "6750f723ea0247d49b950e7f7fab531e",
      "e9d9eae22e6e466291f01cd9a73e1a2c",
      "ca402d99a2814c41bc7f5c314430d91e",
      "9eed5cc5f7084f7c9773740b140b7ad2",
      "eab4211fe3834372ba959b97bcf1dfb5",
      "5d8c810dd099485a80d04ff9fe0ba2bc",
      "cdc04692495b4489b6388c207348c976",
      "22af1a60de3142ba8a2b2da68c6178d9",
      "c7f2ad925b594728a079d3c612e5c4a6",
      "391b087b050c4b88a6c26d756fa6c879",
      "c5e7e090fa884f72b14384663e6707cd",
      "ce98a485a0d643349e4e4b334a869306",
      "67f99e91129543c19434422d95219f9c",
      "1db1e053b8b54bdc8f36c7a0c548cd23",
      "111ff2d14de14e6f9d64fbf82e842c3c",
      "1912519c377d42f3a52d791f5863b65d",
      "2d2ef035b83c43d68c4f33967772555e",
      "cc24e3732b5a421aaa3ece87341b8ba5",
      "8b0946b746ed4625be23ee5041cb9426",
      "0ac29bee7f274dc999ea34ad01c9be22",
      "a18793aae3bb4e2fbf4afafbf16b6bb3",
      "39ecb28a58b24b9ab04afc6fdacd7be1",
      "71455977c0cc4cde9e5d913b6a57630f",
      "eabba8b2f46e4602b8a6708a2fdcc9ab",
      "dc6574b6911a48fc872d98dd8c5edbfa",
      "e2016bfb7b824cd3a2d71ca4c0d61b57",
      "03b1d98d14bc4686b01aaab806b85042",
      "c8330a839e084e7abc3d5ec519748398",
      "5ac0a21fd643405e888504086c701c63",
      "d7788d17ce3340b9a743b5edef2155a1",
      "988296825daf4ecdb03ab52d7ae382af",
      "02896315a5c047f180924ee461157aed",
      "a1d1c7f728564c5383747bf3757a27f9",
      "1b27aec5a7cc480d83fb8824a4cc7a93",
      "55137386c3cc4873807b41cbca41777c",
      "94d74908465e43b9aa9cdc5a9c60791d",
      "ed16514e8f6c4be6b7e1278a390569ad",
      "d2b0a4f56e9144e5b0c036361ee88b30",
      "da87fc2d861949389a8c3cac20b45422",
      "d66dec24b9aa4aabab69af96aa6b2f1f",
      "ddfc80092bbf472680beab4d1023233b",
      "eaa329e506c64463b66fec62f130242b",
      "55243c43f1fa4745996f5e6535ed0083",
      "021fa3284e884e84bfe783cb1c71fefc",
      "3a6282479b6c4625b30157039dd5e2b2",
      "fc1a6830b9064cb6a5111e74387de3d5",
      "53cb8c95afbb46ba9ae120a61e71f01c",
      "bbd3664bd6df48c68c36663c8f17f123",
      "0325e0594d634543b07412fc7bdfbc98",
      "afd74a6e4b464f17abdabe3da3c9572f",
      "00b19c5b26a847639faaa9405fb6a3fc",
      "9058476958c34272bc5ffd3df5e0791c",
      "c8482e8691724ed096d20191941315e9",
      "9f1d4409afe548d39173bbf2f5ac3e2d",
      "f6e382bc228546a498353c6b5a4a9f23",
      "8d04b663f10948f887bfab61d86e9ad7",
      "eab6bb5801734d9abf626fa6ae542a36",
      "5e8f016267a74d089fc39ddcc724b15d",
      "f40e84b1b7ac4616906823f08100df3a",
      "ae067e4ec941440f89c0b690843c09de",
      "aa4318fc644a4c74821cb0f378693f8b",
      "f0158c4133a047c9aef9e6e94e14e94c",
      "e459e4cba00943cb940d75a2dafc75f1",
      "dda089d2029e4e1481000743daecde9f",
      "52b2ca83799c4d55a4b48b8f572d6cd7",
      "93dc05a887464f08b0576af671d64b13",
      "5d07d41fbb734a17a10818c47475bc6b",
      "f8de0bfa4a4f4409916d9c112dce1a0b",
      "18f31fff5a664629b3a1bd3dc16f3437",
      "3fa2ff43a4ce4eae8db9e2bc1ab1da50",
      "2e882e9d4c334eafaa9e779409bfcdca",
      "953ad66b7ac14075857f8f600254d7b3",
      "e5b03f887b024f8786f2959f0934f685",
      "aeca006b3df94571a90c8466e3939b67",
      "efcf5982e2b44605aed6175947a65a2e",
      "b4c1ec5a622649f5bb99c503e5427350",
      "c49f711e032642fe8e0c1ddeafd4f223",
      "93912e49f4af43c6aff00060f75e3632",
      "259e7f496d1f46e385730352adaabb41",
      "91d43fb4dc4e4681afb7b899b55f5ea6",
      "e791e9c25a86426eaab6b199696dde77",
      "79a35405ba484d5bae2255b1bdeacf90",
      "19120534854842d09d457f8a171a4fcb",
      "f38ce03fe7f248729d4aa508060b7e13",
      "7fd96476d5f44e439b908cb64ff34667",
      "a9511714d13d40c9910bed322efca701",
      "210fcdefca5f46e6b7841dddb97ec41f",
      "0b084bf633244f7587cbc6ff7c32464b",
      "7d050fa813bc40f38a2423d05100fbab",
      "ccab2484489947c195d8770e3d396602",
      "05a8daa9437943c791244fe07039d73f",
      "f7b948189458485e86a8e109d19782be",
      "a4ccc0c59604474ab4b806349897ed54",
      "b803dd92cb4048a9adc63f6ccb253553",
      "e90674e644334983b9b44f9958bad0f6",
      "4e5628ce21bb4144957174b14c994e82",
      "608b0b074412475eb151c5a02a63e552",
      "fda734a0efce4e7b9a3940a6354103b6",
      "cde7025997e642e5a0cf409f5aebd425",
      "60ef3124372b4112b8553006872e0a11",
      "9dfb9ada231d48f1852f33b5f76ef233",
      "7608f71c7b354a7994c7299e1f77c70f",
      "ebee0ec67fda4ac9ab13c3b7302d65bb",
      "ae058af56fc649908a5535ab9c8f890c",
      "aa21ae4bf04f4fe7ac12f001839e2115",
      "d061076330524daa91670535de574dae",
      "08ff3aeadb9d4d3ebdef9df32f37d02b",
      "09add3c9ca80486a92734ec2897eb6ab",
      "148f2cdfd5554c25b6b50254887d5eb7",
      "bf1e8103e3a744bfa68d302d9f57d3aa",
      "bc3d4ea3f17d4aeabbb89985b942de45",
      "7133ac9698c14643b6b302d3627abe3b",
      "fe1dbfcf41d846ee86972c838ef036ed",
      "c5452d9c470248f891f73fdb2f13348d",
      "7a07dd26cd3f4970b663593908ada94a",
      "2d2b792999f94f368df868f20c86a669",
      "76d6f5dc82fe480ab4593f2abde998a4",
      "384f0208d4594a919822c3db4f911044",
      "67ec6e2d573a45debbd06e9e614696ab",
      "e88f1ae62b184383b34de818d313ca26",
      "15809d0fe0c94fd58587f0a8fab06fe7",
      "f47ee5bd66bd4c428545362f1c7571a0",
      "b660035817bf4dcfaccf2d36a4e4544c",
      "355bd70972c947caae13e0c499c5397f",
      "ef8e028b9a6542ffa1b9c5015d7af7b3",
      "8ba77ddf74ed47b681ddc99838258411",
      "713e8c48082748c195cda8a02acae81a",
      "74f0206aa37647e2b98fd5ef3010a0a4",
      "8e9fbd7d2b104588933e4c6b0fca648f",
      "b3c0209c6010400a8f458ff05f388499",
      "baea3b8b3ff84a7dbf52b3d919f29d4f",
      "32132f3b48fe45479c57a763351051e5",
      "861eeb45087841ecb76d866d615ef560",
      "a355feade31b4dfe8c22d0cb4dab8367",
      "dd77ef79414d4ac385e4f4f4031ad595",
      "e05d1923c40e4af4bbd8efcf03abf780",
      "dc35cf4877b34778956e501402731bfc",
      "cd823fba072a4bb1a4d05e0240899f9f",
      "5dc43f8422414fb7838c3cc210a0acff",
      "e8f4ef0dacf140e59d676eb29041feef",
      "0e9faeb67adc462086d6b99d74735c26",
      "d6104e74ca1b4665b7a95cbcb262da08",
      "82bf9dc5a6cb4275861edb1c4e37e165",
      "ffe22908efc3479fa2e1686fc96cc649",
      "9d1943fb44cc4a8c940f28bc2f6a1b15",
      "5e25506d0954438fbb03fba6c38ed467",
      "4003e776de094fe3a96e70d4523ff165",
      "4c7918cfc23c4390825137b08f0e5607",
      "3fb25534faff4c82a5d4339cb7269342",
      "2239d7f2daed430fbcd6f73ad2add913",
      "34f54b10ba4d47e6a9d22b26a4722918",
      "d79c55df46244597b8dba878206c7ac4",
      "c2e11bd71918400185aeef63edfc9801",
      "5d9b5589aad642cea7d1f7f8e1b38b7c",
      "8cd4e9117c0a4958b87d4849fa95b3b4",
      "b9ee71371ffe4f3190ece5e0b454a750",
      "6634caa41dd9436191a3c855afd92fd8",
      "df7a81b395e245889942ca2df074f5d1",
      "074ac3b7b36d4a62acead2f334406990",
      "4cd780fe9d924577b310439384dfb935",
      "f8be98fa246347d8b17922e460cb03b8",
      "b54580dddc4944d594e4e7b479ae88f0",
      "f2141138600043b1b35be3462dd19f5e",
      "45cf7be590a54bc0ac2051503f27f419",
      "2e1e4f66fed546e0a4bd2594bc069bc3",
      "a52246ce04e34993b5ecb538257dec32",
      "e396c1ca6c35438e9bb253fe95d7fa86",
      "01f1155d16284e3686e6242bc1994eb1",
      "adbe962e7085439b83235dc25298a291",
      "4974d55492294da991f22e744dd7a85f",
      "4c40f0b6919f4c2aa3b7596cf40826b8",
      "57a3985f279d4f358b565c8290659c1e",
      "a5a361fb2ff4429387dda307ff7391a6",
      "a10c1cb6d2aa494a9f6b4b2cfc4d7d8d",
      "a3d8f0f5daad47788a21b14d130cb3ad",
      "bb3175990df8400f9b083a744f86e8e9",
      "b0cea9da436048f283d9384baaf4b174",
      "cea0eb7a0eb44173b0a9e56ce702219a",
      "89a4b07d4f9240c9ae51f81082921939",
      "4654b0f562174e3b8e7dd94b0d4b00c5",
      "f465c1653bf848cdb8f400fdff9dfc87",
      "859873730532492195386dfbe6e2bd59",
      "4cfd9281febc4ecd9acd2658d35c7178",
      "031850e10b354bc0b623e8b3896fe743",
      "a04983ef35dc447abc3666b116923002",
      "0196670ca09343799bfd2bcb77cc6eb5",
      "893e09c314fb4f4195245623310ef7ef",
      "c61105d58acb41338e285508d919e2c3",
      "5f7926cfc96f4f968c7ab01991779e8e",
      "3fd2e820ce234eb5bb5c2bd123a872d3",
      "d850b94f49b94b97a449184151948a55",
      "fbe984cc7ee1478da2588e101592d24c",
      "0990b892247b447ead05d208291c6850",
      "5bd7a84b25c349dfa3ffe52a1ddec42e",
      "e066bac54b0f4aba9a7116724a413daf",
      "cc813828095e43c6b7ceafd9a0c5ae5f",
      "c0a6228775034dd4867ffde56e9a06e1",
      "6f81fd35cf2f47e989b53c1b65615129",
      "d9027949bba5495fb1fe647eb91b47d7",
      "d2be1620dbbb4bce84105cb23c49a536",
      "4930656e186d4f688a9688416487c649",
      "0765b238da954708b5ec71b09e361e78",
      "425796adf24e4ec5bc1d97c72839cc90",
      "7081b14ebbbe4b148485f54872826c2a",
      "9ee5e7a508fb4110bb8d79b5fe49b10a",
      "b897cde37d9041b1bd26075154180f7a",
      "b0621fcbf0c44258904454cce7ddfcdf",
      "d9a31289d2c14881948ccd0396f39bc5",
      "8504e52381c547e7b5650b644bb140a7",
      "34ccfadd57364b4b8e1efa0c27a9bd13",
      "6454745f6f1f4420ba4c2f36b0674a39",
      "538829db93c84cdea8134010520a2ab6",
      "a16ad00ef5dd435e98e46e279608fc9a",
      "7f8990572dcf4843a0fa6190be1e6a72",
      "9201e488003a4c47a2160dff71156f6a",
      "2b6375c2f6eb4ae8bae1fd36292dda54",
      "40feb46de8e54ed8914191def0ba6091",
      "7d7c203728694677a6347fd3fbdb7085",
      "66e38c743d13456cb9ae0e1d341fa603",
      "02d17a96481447dba0c7fa0356123373",
      "eec37857e75447ba8a70947c3f63522d",
      "1da1e8c354574fb99abc0cd9a3b01a6b",
      "e58aba18cdb24de88bf2d42dc256e792",
      "0a64ac95b208400088b0f204c42db720",
      "b26874297d4a41c68328091fc4b79c53",
      "40113a903d64488284a7ea2dda1bc252",
      "377b6221594f42a4995f6638b1cd9e26",
      "c70ecedcbe65461ebd37b15c49122364",
      "c8f9ded331984cc39c2af9948d7fd21c",
      "7d3add485c2c4d4cac0fb1ed4d9e5e81",
      "90419f78e7614a1f9b24bc2680c063ce",
      "17b07627d52543d8b0296c4702301092",
      "3043e5582358423daa93ec7fe86e0d62",
      "82819285237d4cb79cea874b5d0c1de1",
      "50d5832de37843c8923ae312ca7afde8",
      "9f43e9eea3a34846b4bed1ae69fc8463",
      "98859c962ff14a019507535377cf9817",
      "9a8f639fb0ba4dedb25631727f7df915",
      "07ba7f6ad9944c2e90ab64be87c0f41e",
      "bc743af2db0148a1845e7dd7cd69f3c0",
      "2f3a7cfe6def4633be0c3d670d7a7807",
      "d2c59d22c6594deaa163a6aeecae4bf8",
      "88caeb5d97bf433abb82fa54ca4abff9",
      "7bc730f63823416098280dcdcbd063f9",
      "2b3f46e1bbd9429cafacadd87777eadb",
      "74cb51b173f34fef919d5194069bce2e",
      "5fa381403169408da4b428f4ffb5e36c",
      "5702852bf5ff4f32a59dbba44040c6fb",
      "82dc9cb2eba74de7b1e83837d789a6ff",
      "e8b819fdad12428a80046e955d4138a1",
      "b1d5baf468934c3c9419114b2b4cedbe",
      "d4ccc5f47acc4bb2a6b3d6976d479430",
      "df9652168e444744815af361038f6e70",
      "97fdb2be39794eca9240429ecbbaf078",
      "861241c522de46cca2805b25f8095d62",
      "3a9f305fa9e74486aa438bc2e5ebb99d",
      "38779222e24444069289fb0aabf823da",
      "07e8f03fd6994bc9b02fb95fdff49688",
      "42bdf5c7eaa04bf5ac35c1c7d801fe4b",
      "ccaf1a510a924838b5e814c8f69ec7da",
      "71c382625b154cf784beaa235c67fea5",
      "45d394ae1f4a4541a6101cdf851d59da",
      "08138996f360406dafc616e4b7623a4d",
      "fc471856fad04f2aa22f4cdef8813353",
      "e3bb6f79474b4dfc914c4d9cff8018fe",
      "28088e02421e41d79e31d4f3adff172e",
      "554d6f2ae5c849969cf56fcbc36069a7",
      "abadca55fa19433eb2b8a9a109342606",
      "58dc38712e394feab2c9804b66f0e28e",
      "e40e88e5e2ca421fbbc32805f4866077",
      "0e8c9aab966c42e3aeb7d369a5d898ed",
      "2833fb0dd4a04e3f8d2aa1d6e05e33f3",
      "65b3e52c946f42efb68deeea6564e26a",
      "d0ec1156522c47ab8cc1ad21a1458667",
      "442f4149d18244dfbed7a919da6c3f28",
      "0887c4de3d3f4ffc840f864d597fa211",
      "6e4984756d0a46a593793c2361d5bb52",
      "1e4d847963924f4d88f3e5f71a6e125c",
      "17fffc1e24174bc2a3bd14eb3f375e41",
      "96c58dfe27d04c3d8c8f263655d1c7b8",
      "2de6761224254b679217ffe982668ab7",
      "9dbaf9e3e4a04830952ad7d03f5367fc",
      "482c5d4e80ff4e8c9224d04f315e0ba7",
      "417c9e8583b146e8b476abead3594c20",
      "df88c28350f24b1da2fd0abdc02400f9",
      "62795536497844f59e0a5762b7caa86c",
      "9528b860fe3441ffb06c13eb183b58d5",
      "0e30ff4dba0847c6866bbe05a3446df3",
      "0f939c98d11b45738a4f4e06c36a8b09",
      "5ea14f688b894eae8b006750dd51159e",
      "e8af8257b3714b3c8543e5a923b21575",
      "c83846fd7beb44048d114ddcf1651df2",
      "40f7334cfe94453386a9830a4a231da1",
      "a0177b2613a446aeb9ffcdcc68128029",
      "8041d243acbf4c4ca3ba3091f0784d57",
      "2c4f20f9efe2440c834a9fed21887f41",
      "0cfb909bd8ec4ad4811c362669908fcb",
      "c28d17ce730943f5a22b0f5d9cd72fca",
      "27bd6582219e4db7b36eebfbbc5d77e9",
      "f1898c6480624562b77d0ead15a6bbc7",
      "c3425609562b4fec81dfa1d979bc881e",
      "1ce3ce5b9b934af4bbbb9048c2e23deb",
      "ca67457448d8421ab3cb2ca278e94089",
      "0933ccd5a8fb4000817c41e0b1b524ed",
      "d4d78647a0a1449998d5b1d1dfc6c51e",
      "677d166aff8049ea9395690f9534fff5",
      "4c0c7074e04a4835b48de6d11e071b46",
      "f4df429466874b3dab0e3fb5be5fc744",
      "a2b4b64e403448be8d8ba012acf9c2ff",
      "e876e624a8194229bc983ebbab3b17b1",
      "aed3d874bc274abb9d83b6098c578a7f",
      "5a01085a880b4917b9a457b8f308298e",
      "3eef730517c5489987ccf5b16e5eb4f1",
      "48bdad7a435a4613beeff0dc4f5c4236",
      "641fbaabe6c140d68919e37459243fa9",
      "40f1926e72704e698fd4e6fc003918ed",
      "0d0eb33e53e44ac1bf3f9ac77bcd9ac1",
      "1c8d4a86afef491d8869c02dd8954d83",
      "51956431f6b04e06bd05bf148b33214b"
     ]
    },
    "collapsed": true,
    "id": "zZm2DPEl3vZL",
    "outputId": "f79c66fa-bfca-4d4d-b829-a4c472d4bd70"
   },
   "outputs": [
    {
     "name": "stdout",
     "output_type": "stream",
     "text": [
      "\n",
      "Starting experiment: Weight Decay\n"
     ]
    },
    {
     "data": {
      "application/vnd.jupyter.widget-view+json": {
       "model_id": "9d83dbdd3fd8499a9f5b66858a2330ab",
       "version_major": 2,
       "version_minor": 0
      },
      "text/plain": [
       "Epoch 2/76:   0%|          | 0/566 [00:00<?, ?it/s]"
      ]
     },
     "metadata": {},
     "output_type": "display_data"
    },
    {
     "name": "stdout",
     "output_type": "stream",
     "text": [
      "Epoch 1: Train Loss=0.5622\n"
     ]
    },
    {
     "data": {
      "application/vnd.jupyter.widget-view+json": {
       "model_id": "0d70ee2175014a2095acf9d007a644d9",
       "version_major": 2,
       "version_minor": 0
      },
      "text/plain": [
       "Epoch 3/76:   0%|          | 0/566 [00:00<?, ?it/s]"
      ]
     },
     "metadata": {},
     "output_type": "display_data"
    },
    {
     "name": "stdout",
     "output_type": "stream",
     "text": [
      "Epoch 2: Train Loss=0.5615\n"
     ]
    },
    {
     "data": {
      "application/vnd.jupyter.widget-view+json": {
       "model_id": "25ca1146699441e493d9202faa4b0d48",
       "version_major": 2,
       "version_minor": 0
      },
      "text/plain": [
       "Epoch 4/76:   0%|          | 0/566 [00:00<?, ?it/s]"
      ]
     },
     "metadata": {},
     "output_type": "display_data"
    },
    {
     "name": "stdout",
     "output_type": "stream",
     "text": [
      "Epoch 3: Train Loss=0.5620\n"
     ]
    },
    {
     "data": {
      "application/vnd.jupyter.widget-view+json": {
       "model_id": "ae1416cc29004149be7f58618829dd10",
       "version_major": 2,
       "version_minor": 0
      },
      "text/plain": [
       "Epoch 5/76:   0%|          | 0/566 [00:00<?, ?it/s]"
      ]
     },
     "metadata": {},
     "output_type": "display_data"
    },
    {
     "name": "stdout",
     "output_type": "stream",
     "text": [
      "Epoch 4: Train Loss=0.5618\n"
     ]
    },
    {
     "data": {
      "application/vnd.jupyter.widget-view+json": {
       "model_id": "4e118d0f81fd40bc9f2d9e58052bb5bb",
       "version_major": 2,
       "version_minor": 0
      },
      "text/plain": [
       "Epoch 6/76:   0%|          | 0/566 [00:00<?, ?it/s]"
      ]
     },
     "metadata": {},
     "output_type": "display_data"
    },
    {
     "name": "stdout",
     "output_type": "stream",
     "text": [
      "Epoch 5: Train Loss=0.5619\n"
     ]
    },
    {
     "data": {
      "application/vnd.jupyter.widget-view+json": {
       "model_id": "f0b7ce5efa61444e95d7a996ff35ae49",
       "version_major": 2,
       "version_minor": 0
      },
      "text/plain": [
       "Epoch 7/76:   0%|          | 0/566 [00:00<?, ?it/s]"
      ]
     },
     "metadata": {},
     "output_type": "display_data"
    },
    {
     "name": "stdout",
     "output_type": "stream",
     "text": [
      "Epoch 6: Train Loss=0.5618\n"
     ]
    },
    {
     "data": {
      "application/vnd.jupyter.widget-view+json": {
       "model_id": "453071d24cc248709ae5e5185eacba2b",
       "version_major": 2,
       "version_minor": 0
      },
      "text/plain": [
       "Epoch 8/76:   0%|          | 0/566 [00:00<?, ?it/s]"
      ]
     },
     "metadata": {},
     "output_type": "display_data"
    },
    {
     "name": "stdout",
     "output_type": "stream",
     "text": [
      "Epoch 7: Train Loss=0.5614\n"
     ]
    },
    {
     "data": {
      "application/vnd.jupyter.widget-view+json": {
       "model_id": "786f6d4d08c7404c84d5bc55205761bf",
       "version_major": 2,
       "version_minor": 0
      },
      "text/plain": [
       "Epoch 9/76:   0%|          | 0/566 [00:00<?, ?it/s]"
      ]
     },
     "metadata": {},
     "output_type": "display_data"
    },
    {
     "name": "stdout",
     "output_type": "stream",
     "text": [
      "Epoch 8: Train Loss=0.5616\n"
     ]
    },
    {
     "data": {
      "application/vnd.jupyter.widget-view+json": {
       "model_id": "33153c4104c1483c9b4a5ca3be464b29",
       "version_major": 2,
       "version_minor": 0
      },
      "text/plain": [
       "Epoch 10/76:   0%|          | 0/566 [00:00<?, ?it/s]"
      ]
     },
     "metadata": {},
     "output_type": "display_data"
    },
    {
     "name": "stdout",
     "output_type": "stream",
     "text": [
      "Epoch 9: Train Loss=0.5615\n"
     ]
    },
    {
     "data": {
      "application/vnd.jupyter.widget-view+json": {
       "model_id": "4863f39c2394444eafe40f911f47eae9",
       "version_major": 2,
       "version_minor": 0
      },
      "text/plain": [
       "Epoch 11/76:   0%|          | 0/566 [00:00<?, ?it/s]"
      ]
     },
     "metadata": {},
     "output_type": "display_data"
    },
    {
     "name": "stdout",
     "output_type": "stream",
     "text": [
      "Epoch 10: Train Loss=0.5614\n"
     ]
    },
    {
     "data": {
      "application/vnd.jupyter.widget-view+json": {
       "model_id": "df6bff214f1d467bb8fbe827b912b29f",
       "version_major": 2,
       "version_minor": 0
      },
      "text/plain": [
       "Epoch 12/76:   0%|          | 0/566 [00:00<?, ?it/s]"
      ]
     },
     "metadata": {},
     "output_type": "display_data"
    },
    {
     "name": "stdout",
     "output_type": "stream",
     "text": [
      "Epoch 11: Train Loss=0.5618\n"
     ]
    },
    {
     "data": {
      "application/vnd.jupyter.widget-view+json": {
       "model_id": "28f470990e074e97af5849519a8827ba",
       "version_major": 2,
       "version_minor": 0
      },
      "text/plain": [
       "Epoch 13/76:   0%|          | 0/566 [00:00<?, ?it/s]"
      ]
     },
     "metadata": {},
     "output_type": "display_data"
    },
    {
     "name": "stdout",
     "output_type": "stream",
     "text": [
      "Epoch 12: Train Loss=0.5613\n"
     ]
    },
    {
     "data": {
      "application/vnd.jupyter.widget-view+json": {
       "model_id": "3ccf40b9a9914429a2ce3065f05a5c38",
       "version_major": 2,
       "version_minor": 0
      },
      "text/plain": [
       "Epoch 14/76:   0%|          | 0/566 [00:00<?, ?it/s]"
      ]
     },
     "metadata": {},
     "output_type": "display_data"
    },
    {
     "name": "stdout",
     "output_type": "stream",
     "text": [
      "Epoch 13: Train Loss=0.5615\n"
     ]
    },
    {
     "data": {
      "application/vnd.jupyter.widget-view+json": {
       "model_id": "28fc93e213954a0fb1cc9a0f8a604bed",
       "version_major": 2,
       "version_minor": 0
      },
      "text/plain": [
       "Epoch 15/76:   0%|          | 0/566 [00:00<?, ?it/s]"
      ]
     },
     "metadata": {},
     "output_type": "display_data"
    },
    {
     "name": "stdout",
     "output_type": "stream",
     "text": [
      "Epoch 14: Train Loss=0.5613\n"
     ]
    },
    {
     "data": {
      "application/vnd.jupyter.widget-view+json": {
       "model_id": "1a23aa60b4634c38a5cc6588c2f4c67f",
       "version_major": 2,
       "version_minor": 0
      },
      "text/plain": [
       "Epoch 16/76:   0%|          | 0/566 [00:00<?, ?it/s]"
      ]
     },
     "metadata": {},
     "output_type": "display_data"
    },
    {
     "name": "stdout",
     "output_type": "stream",
     "text": [
      "Epoch 15: Train Loss=0.5612\n"
     ]
    },
    {
     "data": {
      "application/vnd.jupyter.widget-view+json": {
       "model_id": "55dfe979fa23497f9ffc16299b749bf5",
       "version_major": 2,
       "version_minor": 0
      },
      "text/plain": [
       "Epoch 17/76:   0%|          | 0/566 [00:00<?, ?it/s]"
      ]
     },
     "metadata": {},
     "output_type": "display_data"
    },
    {
     "name": "stdout",
     "output_type": "stream",
     "text": [
      "Epoch 16: Train Loss=0.5613\n"
     ]
    },
    {
     "data": {
      "application/vnd.jupyter.widget-view+json": {
       "model_id": "a5f5f29f183943599a320bc4f5e6fcfa",
       "version_major": 2,
       "version_minor": 0
      },
      "text/plain": [
       "Epoch 18/76:   0%|          | 0/566 [00:00<?, ?it/s]"
      ]
     },
     "metadata": {},
     "output_type": "display_data"
    },
    {
     "name": "stdout",
     "output_type": "stream",
     "text": [
      "Epoch 17: Train Loss=0.5613\n"
     ]
    },
    {
     "data": {
      "application/vnd.jupyter.widget-view+json": {
       "model_id": "769cda58ba8d467d9139e7a239e85550",
       "version_major": 2,
       "version_minor": 0
      },
      "text/plain": [
       "Epoch 19/76:   0%|          | 0/566 [00:00<?, ?it/s]"
      ]
     },
     "metadata": {},
     "output_type": "display_data"
    },
    {
     "name": "stdout",
     "output_type": "stream",
     "text": [
      "Epoch 18: Train Loss=0.5612\n"
     ]
    },
    {
     "data": {
      "application/vnd.jupyter.widget-view+json": {
       "model_id": "9ea7a4b1e6d541a58c30ee21e196c454",
       "version_major": 2,
       "version_minor": 0
      },
      "text/plain": [
       "Epoch 20/76:   0%|          | 0/566 [00:00<?, ?it/s]"
      ]
     },
     "metadata": {},
     "output_type": "display_data"
    },
    {
     "name": "stdout",
     "output_type": "stream",
     "text": [
      "Epoch 19: Train Loss=0.5612\n"
     ]
    },
    {
     "data": {
      "application/vnd.jupyter.widget-view+json": {
       "model_id": "90e540a92e5745ddbfefe4f084e91ac9",
       "version_major": 2,
       "version_minor": 0
      },
      "text/plain": [
       "Epoch 21/76:   0%|          | 0/566 [00:00<?, ?it/s]"
      ]
     },
     "metadata": {},
     "output_type": "display_data"
    },
    {
     "name": "stdout",
     "output_type": "stream",
     "text": [
      "Epoch 20: Train Loss=0.5610\n"
     ]
    },
    {
     "data": {
      "application/vnd.jupyter.widget-view+json": {
       "model_id": "647bee4c84214d6bb5c34bd0c86adbb4",
       "version_major": 2,
       "version_minor": 0
      },
      "text/plain": [
       "Epoch 22/76:   0%|          | 0/566 [00:00<?, ?it/s]"
      ]
     },
     "metadata": {},
     "output_type": "display_data"
    },
    {
     "name": "stdout",
     "output_type": "stream",
     "text": [
      "Epoch 21: Train Loss=0.5611\n"
     ]
    },
    {
     "data": {
      "application/vnd.jupyter.widget-view+json": {
       "model_id": "c7559dcefab94656b55a50b239a71782",
       "version_major": 2,
       "version_minor": 0
      },
      "text/plain": [
       "Epoch 23/76:   0%|          | 0/566 [00:00<?, ?it/s]"
      ]
     },
     "metadata": {},
     "output_type": "display_data"
    },
    {
     "name": "stdout",
     "output_type": "stream",
     "text": [
      "Epoch 22: Train Loss=0.5609\n"
     ]
    },
    {
     "data": {
      "application/vnd.jupyter.widget-view+json": {
       "model_id": "97e836d13c7b49ba9f73051ea5d62884",
       "version_major": 2,
       "version_minor": 0
      },
      "text/plain": [
       "Epoch 24/76:   0%|          | 0/566 [00:00<?, ?it/s]"
      ]
     },
     "metadata": {},
     "output_type": "display_data"
    },
    {
     "name": "stdout",
     "output_type": "stream",
     "text": [
      "Epoch 23: Train Loss=0.5603\n"
     ]
    },
    {
     "data": {
      "application/vnd.jupyter.widget-view+json": {
       "model_id": "05755446930544b5ac94034083362bfb",
       "version_major": 2,
       "version_minor": 0
      },
      "text/plain": [
       "Epoch 25/76:   0%|          | 0/566 [00:00<?, ?it/s]"
      ]
     },
     "metadata": {},
     "output_type": "display_data"
    },
    {
     "name": "stdout",
     "output_type": "stream",
     "text": [
      "Epoch 24: Train Loss=0.5606\n"
     ]
    },
    {
     "data": {
      "application/vnd.jupyter.widget-view+json": {
       "model_id": "17a4331e50364e97a903da2a36edb23d",
       "version_major": 2,
       "version_minor": 0
      },
      "text/plain": [
       "Epoch 26/76:   0%|          | 0/566 [00:00<?, ?it/s]"
      ]
     },
     "metadata": {},
     "output_type": "display_data"
    },
    {
     "name": "stdout",
     "output_type": "stream",
     "text": [
      "Epoch 25: Train Loss=0.5602\n"
     ]
    },
    {
     "data": {
      "application/vnd.jupyter.widget-view+json": {
       "model_id": "f0f8cfdc529544e18ea06010c54f3cce",
       "version_major": 2,
       "version_minor": 0
      },
      "text/plain": [
       "Epoch 27/76:   0%|          | 0/566 [00:00<?, ?it/s]"
      ]
     },
     "metadata": {},
     "output_type": "display_data"
    },
    {
     "name": "stdout",
     "output_type": "stream",
     "text": [
      "Epoch 26: Train Loss=0.5600\n"
     ]
    },
    {
     "data": {
      "application/vnd.jupyter.widget-view+json": {
       "model_id": "61272e7954b54ba99280bf094b150922",
       "version_major": 2,
       "version_minor": 0
      },
      "text/plain": [
       "Epoch 28/76:   0%|          | 0/566 [00:00<?, ?it/s]"
      ]
     },
     "metadata": {},
     "output_type": "display_data"
    },
    {
     "name": "stdout",
     "output_type": "stream",
     "text": [
      "Epoch 27: Train Loss=0.5595\n"
     ]
    },
    {
     "data": {
      "application/vnd.jupyter.widget-view+json": {
       "model_id": "e3f6f9dc4b464a9b9319d093f1891233",
       "version_major": 2,
       "version_minor": 0
      },
      "text/plain": [
       "Epoch 29/76:   0%|          | 0/566 [00:00<?, ?it/s]"
      ]
     },
     "metadata": {},
     "output_type": "display_data"
    },
    {
     "name": "stdout",
     "output_type": "stream",
     "text": [
      "Epoch 28: Train Loss=0.5588\n"
     ]
    },
    {
     "data": {
      "application/vnd.jupyter.widget-view+json": {
       "model_id": "1854f6e228424cd0872a4d4ce611b32e",
       "version_major": 2,
       "version_minor": 0
      },
      "text/plain": [
       "Epoch 30/76:   0%|          | 0/566 [00:00<?, ?it/s]"
      ]
     },
     "metadata": {},
     "output_type": "display_data"
    },
    {
     "name": "stdout",
     "output_type": "stream",
     "text": [
      "Epoch 29: Train Loss=0.5570\n"
     ]
    },
    {
     "data": {
      "application/vnd.jupyter.widget-view+json": {
       "model_id": "112feb6472324192a5185bc41ca76c31",
       "version_major": 2,
       "version_minor": 0
      },
      "text/plain": [
       "Epoch 31/76:   0%|          | 0/566 [00:00<?, ?it/s]"
      ]
     },
     "metadata": {},
     "output_type": "display_data"
    },
    {
     "name": "stdout",
     "output_type": "stream",
     "text": [
      "Epoch 30: Train Loss=0.5529\n"
     ]
    },
    {
     "data": {
      "application/vnd.jupyter.widget-view+json": {
       "model_id": "5cc84e1bbc7747cc91f39ec33843cb67",
       "version_major": 2,
       "version_minor": 0
      },
      "text/plain": [
       "Epoch 32/76:   0%|          | 0/566 [00:00<?, ?it/s]"
      ]
     },
     "metadata": {},
     "output_type": "display_data"
    },
    {
     "name": "stdout",
     "output_type": "stream",
     "text": [
      "Epoch 31: Train Loss=0.5342\n"
     ]
    },
    {
     "data": {
      "application/vnd.jupyter.widget-view+json": {
       "model_id": "611c130daa0741b2a1f41de784ea8324",
       "version_major": 2,
       "version_minor": 0
      },
      "text/plain": [
       "Epoch 33/76:   0%|          | 0/566 [00:00<?, ?it/s]"
      ]
     },
     "metadata": {},
     "output_type": "display_data"
    },
    {
     "name": "stdout",
     "output_type": "stream",
     "text": [
      "Epoch 32: Train Loss=0.4239\n"
     ]
    },
    {
     "data": {
      "application/vnd.jupyter.widget-view+json": {
       "model_id": "1db0024c05784a9b865981118ba8967d",
       "version_major": 2,
       "version_minor": 0
      },
      "text/plain": [
       "Epoch 34/76:   0%|          | 0/566 [00:00<?, ?it/s]"
      ]
     },
     "metadata": {},
     "output_type": "display_data"
    },
    {
     "name": "stdout",
     "output_type": "stream",
     "text": [
      "Epoch 33: Train Loss=0.3526\n"
     ]
    },
    {
     "data": {
      "application/vnd.jupyter.widget-view+json": {
       "model_id": "3b6560c53e1544ba847f698888bb7ef2",
       "version_major": 2,
       "version_minor": 0
      },
      "text/plain": [
       "Epoch 35/76:   0%|          | 0/566 [00:00<?, ?it/s]"
      ]
     },
     "metadata": {},
     "output_type": "display_data"
    },
    {
     "name": "stdout",
     "output_type": "stream",
     "text": [
      "Epoch 34: Train Loss=0.3426\n"
     ]
    },
    {
     "data": {
      "application/vnd.jupyter.widget-view+json": {
       "model_id": "609472c33567415bb22cda0572a372e7",
       "version_major": 2,
       "version_minor": 0
      },
      "text/plain": [
       "Epoch 36/76:   0%|          | 0/566 [00:00<?, ?it/s]"
      ]
     },
     "metadata": {},
     "output_type": "display_data"
    },
    {
     "name": "stdout",
     "output_type": "stream",
     "text": [
      "Epoch 35: Train Loss=0.3386\n"
     ]
    },
    {
     "data": {
      "application/vnd.jupyter.widget-view+json": {
       "model_id": "d60726a463d040aca2953bf8431ef298",
       "version_major": 2,
       "version_minor": 0
      },
      "text/plain": [
       "Epoch 37/76:   0%|          | 0/566 [00:00<?, ?it/s]"
      ]
     },
     "metadata": {},
     "output_type": "display_data"
    },
    {
     "name": "stdout",
     "output_type": "stream",
     "text": [
      "Epoch 36: Train Loss=0.3363\n"
     ]
    },
    {
     "data": {
      "application/vnd.jupyter.widget-view+json": {
       "model_id": "8e8fd33c65f943919c91a95b4474d46b",
       "version_major": 2,
       "version_minor": 0
      },
      "text/plain": [
       "Epoch 38/76:   0%|          | 0/566 [00:00<?, ?it/s]"
      ]
     },
     "metadata": {},
     "output_type": "display_data"
    },
    {
     "name": "stdout",
     "output_type": "stream",
     "text": [
      "Epoch 37: Train Loss=0.3338\n"
     ]
    },
    {
     "data": {
      "application/vnd.jupyter.widget-view+json": {
       "model_id": "7acb16557c334c2a83ddb87ade92e859",
       "version_major": 2,
       "version_minor": 0
      },
      "text/plain": [
       "Epoch 39/76:   0%|          | 0/566 [00:00<?, ?it/s]"
      ]
     },
     "metadata": {},
     "output_type": "display_data"
    },
    {
     "name": "stdout",
     "output_type": "stream",
     "text": [
      "Epoch 38: Train Loss=0.3322\n"
     ]
    },
    {
     "data": {
      "application/vnd.jupyter.widget-view+json": {
       "model_id": "a02030bb9a974ec484a0feda2f5f410f",
       "version_major": 2,
       "version_minor": 0
      },
      "text/plain": [
       "Epoch 40/76:   0%|          | 0/566 [00:00<?, ?it/s]"
      ]
     },
     "metadata": {},
     "output_type": "display_data"
    },
    {
     "name": "stdout",
     "output_type": "stream",
     "text": [
      "Epoch 39: Train Loss=0.3305\n"
     ]
    },
    {
     "data": {
      "application/vnd.jupyter.widget-view+json": {
       "model_id": "82a87d2b742943eababedb77f93e0438",
       "version_major": 2,
       "version_minor": 0
      },
      "text/plain": [
       "Epoch 41/76:   0%|          | 0/566 [00:00<?, ?it/s]"
      ]
     },
     "metadata": {},
     "output_type": "display_data"
    },
    {
     "name": "stdout",
     "output_type": "stream",
     "text": [
      "Epoch 40: Train Loss=0.3297\n"
     ]
    },
    {
     "data": {
      "application/vnd.jupyter.widget-view+json": {
       "model_id": "8a6458bd47504ca9b9b7e21a14f9bc06",
       "version_major": 2,
       "version_minor": 0
      },
      "text/plain": [
       "Epoch 42/76:   0%|          | 0/566 [00:00<?, ?it/s]"
      ]
     },
     "metadata": {},
     "output_type": "display_data"
    },
    {
     "name": "stdout",
     "output_type": "stream",
     "text": [
      "Epoch 41: Train Loss=0.3287\n"
     ]
    },
    {
     "data": {
      "application/vnd.jupyter.widget-view+json": {
       "model_id": "6437cc127826449bb9a4b733f41ccedd",
       "version_major": 2,
       "version_minor": 0
      },
      "text/plain": [
       "Epoch 43/76:   0%|          | 0/566 [00:00<?, ?it/s]"
      ]
     },
     "metadata": {},
     "output_type": "display_data"
    },
    {
     "name": "stdout",
     "output_type": "stream",
     "text": [
      "Epoch 42: Train Loss=0.3289\n"
     ]
    },
    {
     "data": {
      "application/vnd.jupyter.widget-view+json": {
       "model_id": "32c7a1b6a78b49b887a6fa087642f444",
       "version_major": 2,
       "version_minor": 0
      },
      "text/plain": [
       "Epoch 44/76:   0%|          | 0/566 [00:00<?, ?it/s]"
      ]
     },
     "metadata": {},
     "output_type": "display_data"
    },
    {
     "name": "stdout",
     "output_type": "stream",
     "text": [
      "Epoch 43: Train Loss=0.3283\n"
     ]
    },
    {
     "data": {
      "application/vnd.jupyter.widget-view+json": {
       "model_id": "52bd32f0c4d64979b8d08eec551becc4",
       "version_major": 2,
       "version_minor": 0
      },
      "text/plain": [
       "Epoch 45/76:   0%|          | 0/566 [00:00<?, ?it/s]"
      ]
     },
     "metadata": {},
     "output_type": "display_data"
    },
    {
     "name": "stdout",
     "output_type": "stream",
     "text": [
      "Epoch 44: Train Loss=0.3276\n"
     ]
    },
    {
     "data": {
      "application/vnd.jupyter.widget-view+json": {
       "model_id": "a0a3a244a4674fc8a9c2f7b899d78647",
       "version_major": 2,
       "version_minor": 0
      },
      "text/plain": [
       "Epoch 46/76:   0%|          | 0/566 [00:00<?, ?it/s]"
      ]
     },
     "metadata": {},
     "output_type": "display_data"
    },
    {
     "name": "stdout",
     "output_type": "stream",
     "text": [
      "Epoch 45: Train Loss=0.3271\n"
     ]
    },
    {
     "data": {
      "application/vnd.jupyter.widget-view+json": {
       "model_id": "9ddad2320c99410f8b97cd335f316b72",
       "version_major": 2,
       "version_minor": 0
      },
      "text/plain": [
       "Epoch 47/76:   0%|          | 0/566 [00:00<?, ?it/s]"
      ]
     },
     "metadata": {},
     "output_type": "display_data"
    },
    {
     "name": "stdout",
     "output_type": "stream",
     "text": [
      "Epoch 46: Train Loss=0.3273\n"
     ]
    },
    {
     "data": {
      "application/vnd.jupyter.widget-view+json": {
       "model_id": "6750f723ea0247d49b950e7f7fab531e",
       "version_major": 2,
       "version_minor": 0
      },
      "text/plain": [
       "Epoch 48/76:   0%|          | 0/566 [00:00<?, ?it/s]"
      ]
     },
     "metadata": {},
     "output_type": "display_data"
    },
    {
     "name": "stdout",
     "output_type": "stream",
     "text": [
      "Epoch 47: Train Loss=0.3263\n"
     ]
    },
    {
     "data": {
      "application/vnd.jupyter.widget-view+json": {
       "model_id": "ce98a485a0d643349e4e4b334a869306",
       "version_major": 2,
       "version_minor": 0
      },
      "text/plain": [
       "Epoch 49/76:   0%|          | 0/566 [00:00<?, ?it/s]"
      ]
     },
     "metadata": {},
     "output_type": "display_data"
    },
    {
     "name": "stdout",
     "output_type": "stream",
     "text": [
      "Epoch 48: Train Loss=0.3263\n"
     ]
    },
    {
     "data": {
      "application/vnd.jupyter.widget-view+json": {
       "model_id": "71455977c0cc4cde9e5d913b6a57630f",
       "version_major": 2,
       "version_minor": 0
      },
      "text/plain": [
       "Epoch 50/76:   0%|          | 0/566 [00:00<?, ?it/s]"
      ]
     },
     "metadata": {},
     "output_type": "display_data"
    },
    {
     "name": "stdout",
     "output_type": "stream",
     "text": [
      "Epoch 49: Train Loss=0.3262\n"
     ]
    },
    {
     "data": {
      "application/vnd.jupyter.widget-view+json": {
       "model_id": "1b27aec5a7cc480d83fb8824a4cc7a93",
       "version_major": 2,
       "version_minor": 0
      },
      "text/plain": [
       "Epoch 51/76:   0%|          | 0/566 [00:00<?, ?it/s]"
      ]
     },
     "metadata": {},
     "output_type": "display_data"
    },
    {
     "name": "stdout",
     "output_type": "stream",
     "text": [
      "Epoch 50: Train Loss=0.3259\n"
     ]
    },
    {
     "data": {
      "application/vnd.jupyter.widget-view+json": {
       "model_id": "3a6282479b6c4625b30157039dd5e2b2",
       "version_major": 2,
       "version_minor": 0
      },
      "text/plain": [
       "Epoch 52/76:   0%|          | 0/566 [00:00<?, ?it/s]"
      ]
     },
     "metadata": {},
     "output_type": "display_data"
    },
    {
     "name": "stdout",
     "output_type": "stream",
     "text": [
      "Epoch 51: Train Loss=0.3257\n"
     ]
    },
    {
     "data": {
      "application/vnd.jupyter.widget-view+json": {
       "model_id": "8d04b663f10948f887bfab61d86e9ad7",
       "version_major": 2,
       "version_minor": 0
      },
      "text/plain": [
       "Epoch 53/76:   0%|          | 0/566 [00:00<?, ?it/s]"
      ]
     },
     "metadata": {},
     "output_type": "display_data"
    },
    {
     "name": "stdout",
     "output_type": "stream",
     "text": [
      "Epoch 52: Train Loss=0.3248\n"
     ]
    },
    {
     "data": {
      "application/vnd.jupyter.widget-view+json": {
       "model_id": "5d07d41fbb734a17a10818c47475bc6b",
       "version_major": 2,
       "version_minor": 0
      },
      "text/plain": [
       "Epoch 54/76:   0%|          | 0/566 [00:00<?, ?it/s]"
      ]
     },
     "metadata": {},
     "output_type": "display_data"
    },
    {
     "name": "stdout",
     "output_type": "stream",
     "text": [
      "Epoch 53: Train Loss=0.3251\n"
     ]
    },
    {
     "data": {
      "application/vnd.jupyter.widget-view+json": {
       "model_id": "93912e49f4af43c6aff00060f75e3632",
       "version_major": 2,
       "version_minor": 0
      },
      "text/plain": [
       "Epoch 55/76:   0%|          | 0/566 [00:00<?, ?it/s]"
      ]
     },
     "metadata": {},
     "output_type": "display_data"
    },
    {
     "name": "stdout",
     "output_type": "stream",
     "text": [
      "Epoch 54: Train Loss=0.3244\n"
     ]
    },
    {
     "data": {
      "application/vnd.jupyter.widget-view+json": {
       "model_id": "7d050fa813bc40f38a2423d05100fbab",
       "version_major": 2,
       "version_minor": 0
      },
      "text/plain": [
       "Epoch 56/76:   0%|          | 0/566 [00:00<?, ?it/s]"
      ]
     },
     "metadata": {},
     "output_type": "display_data"
    },
    {
     "name": "stdout",
     "output_type": "stream",
     "text": [
      "Epoch 55: Train Loss=0.3245\n"
     ]
    },
    {
     "data": {
      "application/vnd.jupyter.widget-view+json": {
       "model_id": "60ef3124372b4112b8553006872e0a11",
       "version_major": 2,
       "version_minor": 0
      },
      "text/plain": [
       "Epoch 57/76:   0%|          | 0/566 [00:00<?, ?it/s]"
      ]
     },
     "metadata": {},
     "output_type": "display_data"
    },
    {
     "name": "stdout",
     "output_type": "stream",
     "text": [
      "Epoch 56: Train Loss=0.3240\n"
     ]
    },
    {
     "data": {
      "application/vnd.jupyter.widget-view+json": {
       "model_id": "bc3d4ea3f17d4aeabbb89985b942de45",
       "version_major": 2,
       "version_minor": 0
      },
      "text/plain": [
       "Epoch 58/76:   0%|          | 0/566 [00:00<?, ?it/s]"
      ]
     },
     "metadata": {},
     "output_type": "display_data"
    },
    {
     "name": "stdout",
     "output_type": "stream",
     "text": [
      "Epoch 57: Train Loss=0.3236\n"
     ]
    },
    {
     "data": {
      "application/vnd.jupyter.widget-view+json": {
       "model_id": "f47ee5bd66bd4c428545362f1c7571a0",
       "version_major": 2,
       "version_minor": 0
      },
      "text/plain": [
       "Epoch 59/76:   0%|          | 0/566 [00:00<?, ?it/s]"
      ]
     },
     "metadata": {},
     "output_type": "display_data"
    },
    {
     "name": "stdout",
     "output_type": "stream",
     "text": [
      "Epoch 58: Train Loss=0.3237\n"
     ]
    },
    {
     "data": {
      "application/vnd.jupyter.widget-view+json": {
       "model_id": "861eeb45087841ecb76d866d615ef560",
       "version_major": 2,
       "version_minor": 0
      },
      "text/plain": [
       "Epoch 60/76:   0%|          | 0/566 [00:00<?, ?it/s]"
      ]
     },
     "metadata": {},
     "output_type": "display_data"
    },
    {
     "name": "stdout",
     "output_type": "stream",
     "text": [
      "Epoch 59: Train Loss=0.3227\n"
     ]
    },
    {
     "data": {
      "application/vnd.jupyter.widget-view+json": {
       "model_id": "ffe22908efc3479fa2e1686fc96cc649",
       "version_major": 2,
       "version_minor": 0
      },
      "text/plain": [
       "Epoch 61/76:   0%|          | 0/566 [00:00<?, ?it/s]"
      ]
     },
     "metadata": {},
     "output_type": "display_data"
    },
    {
     "name": "stdout",
     "output_type": "stream",
     "text": [
      "Epoch 60: Train Loss=0.3227\n"
     ]
    },
    {
     "data": {
      "application/vnd.jupyter.widget-view+json": {
       "model_id": "8cd4e9117c0a4958b87d4849fa95b3b4",
       "version_major": 2,
       "version_minor": 0
      },
      "text/plain": [
       "Epoch 62/76:   0%|          | 0/566 [00:00<?, ?it/s]"
      ]
     },
     "metadata": {},
     "output_type": "display_data"
    },
    {
     "name": "stdout",
     "output_type": "stream",
     "text": [
      "Epoch 61: Train Loss=0.3222\n"
     ]
    },
    {
     "data": {
      "application/vnd.jupyter.widget-view+json": {
       "model_id": "a52246ce04e34993b5ecb538257dec32",
       "version_major": 2,
       "version_minor": 0
      },
      "text/plain": [
       "Epoch 63/76:   0%|          | 0/566 [00:00<?, ?it/s]"
      ]
     },
     "metadata": {},
     "output_type": "display_data"
    },
    {
     "name": "stdout",
     "output_type": "stream",
     "text": [
      "Epoch 62: Train Loss=0.3223\n"
     ]
    },
    {
     "data": {
      "application/vnd.jupyter.widget-view+json": {
       "model_id": "b0cea9da436048f283d9384baaf4b174",
       "version_major": 2,
       "version_minor": 0
      },
      "text/plain": [
       "Epoch 64/76:   0%|          | 0/566 [00:00<?, ?it/s]"
      ]
     },
     "metadata": {},
     "output_type": "display_data"
    },
    {
     "name": "stdout",
     "output_type": "stream",
     "text": [
      "Epoch 63: Train Loss=0.3212\n"
     ]
    },
    {
     "data": {
      "application/vnd.jupyter.widget-view+json": {
       "model_id": "c61105d58acb41338e285508d919e2c3",
       "version_major": 2,
       "version_minor": 0
      },
      "text/plain": [
       "Epoch 65/76:   0%|          | 0/566 [00:00<?, ?it/s]"
      ]
     },
     "metadata": {},
     "output_type": "display_data"
    },
    {
     "name": "stdout",
     "output_type": "stream",
     "text": [
      "Epoch 64: Train Loss=0.3212\n"
     ]
    },
    {
     "data": {
      "application/vnd.jupyter.widget-view+json": {
       "model_id": "d9027949bba5495fb1fe647eb91b47d7",
       "version_major": 2,
       "version_minor": 0
      },
      "text/plain": [
       "Epoch 66/76:   0%|          | 0/566 [00:00<?, ?it/s]"
      ]
     },
     "metadata": {},
     "output_type": "display_data"
    },
    {
     "name": "stdout",
     "output_type": "stream",
     "text": [
      "Epoch 65: Train Loss=0.3204\n"
     ]
    },
    {
     "data": {
      "application/vnd.jupyter.widget-view+json": {
       "model_id": "34ccfadd57364b4b8e1efa0c27a9bd13",
       "version_major": 2,
       "version_minor": 0
      },
      "text/plain": [
       "Epoch 67/76:   0%|          | 0/566 [00:00<?, ?it/s]"
      ]
     },
     "metadata": {},
     "output_type": "display_data"
    },
    {
     "name": "stdout",
     "output_type": "stream",
     "text": [
      "Epoch 66: Train Loss=0.3202\n"
     ]
    },
    {
     "data": {
      "application/vnd.jupyter.widget-view+json": {
       "model_id": "eec37857e75447ba8a70947c3f63522d",
       "version_major": 2,
       "version_minor": 0
      },
      "text/plain": [
       "Epoch 68/76:   0%|          | 0/566 [00:00<?, ?it/s]"
      ]
     },
     "metadata": {},
     "output_type": "display_data"
    },
    {
     "name": "stdout",
     "output_type": "stream",
     "text": [
      "Epoch 67: Train Loss=0.3196\n"
     ]
    },
    {
     "data": {
      "application/vnd.jupyter.widget-view+json": {
       "model_id": "17b07627d52543d8b0296c4702301092",
       "version_major": 2,
       "version_minor": 0
      },
      "text/plain": [
       "Epoch 69/76:   0%|          | 0/566 [00:00<?, ?it/s]"
      ]
     },
     "metadata": {},
     "output_type": "display_data"
    },
    {
     "name": "stdout",
     "output_type": "stream",
     "text": [
      "Epoch 68: Train Loss=0.3192\n"
     ]
    },
    {
     "data": {
      "application/vnd.jupyter.widget-view+json": {
       "model_id": "88caeb5d97bf433abb82fa54ca4abff9",
       "version_major": 2,
       "version_minor": 0
      },
      "text/plain": [
       "Epoch 70/76:   0%|          | 0/566 [00:00<?, ?it/s]"
      ]
     },
     "metadata": {},
     "output_type": "display_data"
    },
    {
     "name": "stdout",
     "output_type": "stream",
     "text": [
      "Epoch 69: Train Loss=0.3187\n"
     ]
    },
    {
     "data": {
      "application/vnd.jupyter.widget-view+json": {
       "model_id": "97fdb2be39794eca9240429ecbbaf078",
       "version_major": 2,
       "version_minor": 0
      },
      "text/plain": [
       "Epoch 71/76:   0%|          | 0/566 [00:00<?, ?it/s]"
      ]
     },
     "metadata": {},
     "output_type": "display_data"
    },
    {
     "name": "stdout",
     "output_type": "stream",
     "text": [
      "Epoch 70: Train Loss=0.3179\n"
     ]
    },
    {
     "data": {
      "application/vnd.jupyter.widget-view+json": {
       "model_id": "e3bb6f79474b4dfc914c4d9cff8018fe",
       "version_major": 2,
       "version_minor": 0
      },
      "text/plain": [
       "Epoch 72/76:   0%|          | 0/566 [00:00<?, ?it/s]"
      ]
     },
     "metadata": {},
     "output_type": "display_data"
    },
    {
     "name": "stdout",
     "output_type": "stream",
     "text": [
      "Epoch 71: Train Loss=0.3178\n"
     ]
    },
    {
     "data": {
      "application/vnd.jupyter.widget-view+json": {
       "model_id": "0887c4de3d3f4ffc840f864d597fa211",
       "version_major": 2,
       "version_minor": 0
      },
      "text/plain": [
       "Epoch 73/76:   0%|          | 0/566 [00:00<?, ?it/s]"
      ]
     },
     "metadata": {},
     "output_type": "display_data"
    },
    {
     "name": "stdout",
     "output_type": "stream",
     "text": [
      "Epoch 72: Train Loss=0.3169\n"
     ]
    },
    {
     "data": {
      "application/vnd.jupyter.widget-view+json": {
       "model_id": "9528b860fe3441ffb06c13eb183b58d5",
       "version_major": 2,
       "version_minor": 0
      },
      "text/plain": [
       "Epoch 74/76:   0%|          | 0/566 [00:00<?, ?it/s]"
      ]
     },
     "metadata": {},
     "output_type": "display_data"
    },
    {
     "name": "stdout",
     "output_type": "stream",
     "text": [
      "Epoch 73: Train Loss=0.3170\n"
     ]
    },
    {
     "data": {
      "application/vnd.jupyter.widget-view+json": {
       "model_id": "c28d17ce730943f5a22b0f5d9cd72fca",
       "version_major": 2,
       "version_minor": 0
      },
      "text/plain": [
       "Epoch 75/76:   0%|          | 0/566 [00:00<?, ?it/s]"
      ]
     },
     "metadata": {},
     "output_type": "display_data"
    },
    {
     "name": "stdout",
     "output_type": "stream",
     "text": [
      "Epoch 74: Train Loss=0.3169\n"
     ]
    },
    {
     "data": {
      "application/vnd.jupyter.widget-view+json": {
       "model_id": "a2b4b64e403448be8d8ba012acf9c2ff",
       "version_major": 2,
       "version_minor": 0
      },
      "text/plain": [
       "Epoch 76/76:   0%|          | 0/566 [00:00<?, ?it/s]"
      ]
     },
     "metadata": {},
     "output_type": "display_data"
    },
    {
     "name": "stdout",
     "output_type": "stream",
     "text": [
      "Epoch 75: Train Loss=0.3157\n",
      "\n",
      "Training completed in 111.99 seconds.\n"
     ]
    },
    {
     "data": {
      "image/png": "[encoded data removed]",
      "text/plain": [
       "<Figure size 640x480 with 1 Axes>"
      ]
     },
     "metadata": {},
     "output_type": "display_data"
    },
    {
     "name": "stdout",
     "output_type": "stream",
     "text": [
      "Test Accuracy: 0.8506\n"
     ]
    }
   ],
   "source": [
    "# Training\n",
    "\n",
    "weight_decay_trained_model = run_experiment(\"Weight Decay\", test_loader, train_loader, neurons_per_layer, amount_layers, activation, learning_rate, epochs, dropout_rate=0.0, weight_decay=1e-4, grad_noise_std=0.0)\n"
   ]
  },
  {
   "cell_type": "code",
   "execution_count": 37,
   "metadata": {
    "colab": {
     "base_uri": "https://localhost:8080/"
    },
    "id": "UTiCk2DqKNpR",
    "outputId": "b5928e3e-0622-4f63-9ee5-43b78e8ff0d0"
   },
   "outputs": [
    {
     "name": "stdout",
     "output_type": "stream",
     "text": [
      "/content/optML_mini_project\n",
      "[setup c7a1160] Add L2 trained model\n",
      " 1 file changed, 0 insertions(+), 0 deletions(-)\n",
      " create mode 100644 L2_model.pth\n",
      "Enumerating objects: 4, done.\n",
      "Counting objects: 100% (4/4), done.\n",
      "Delta compression using up to 2 threads\n",
      "Compressing objects: 100% (3/3), done.\n",
      "Writing objects: 100% (3/3), 71.91 KiB | 11.98 MiB/s, done.\n",
      "Total 3 (delta 1), reused 0 (delta 0), pack-reused 0\n",
      "remote: Resolving deltas: 100% (1/1), completed with 1 local object.\u001b[K\n",
      "To https://github.com/federicovilla55/optML_mini_project.git\n",
      "   dab634b..c7a1160  setup -> setup\n"
     ]
    }
   ],
   "source": [
    "# Saving model in git (this does not save the optimizer states)\n",
    "\n",
    "torch.save(baseline_trained_model.state_dict(), '/content/optML_mini_project/L2_model.pth')\n",
    "%cd /content/optML_mini_project\n",
    "!git add L2_model.pth\n",
    "!git commit -m \"Add L2 trained model\"\n",
    "!git push"
   ]
  },
  {
   "cell_type": "markdown",
   "metadata": {
    "id": "K4w01JJLRuLT"
   },
   "source": [
    "##**Experiment 4: Gradient Noise Injection**"
   ]
  },
  {
   "cell_type": "code",
   "execution_count": 28,
   "metadata": {
    "colab": {
     "base_uri": "https://localhost:8080/",
     "height": 1000,
     "referenced_widgets": [
      "3a7dee13727147928885c508cc64798b",
      "cb29018faaf546a1be22e0a3a1b5ae05",
      "4523bf4ab6e24a0daa096bdc940b3f50",
      "f2a4957b69d6416f9fed725e61857832",
      "3f601606b4a64ae09f86db8b640b6038",
      "133353ff89914682b514f4cb41000b0d",
      "92242da7d07a45c69b9b2c4117508b04",
      "b4cf673e2afc4ddeafdbe6540bc11a9e",
      "73c93b945c0c409a83041e0ab8ebdcef",
      "b7c3df6b72274caaaa99c8d58b8f18cc",
      "25914ce69ce14b11974eeac8a064e179",
      "5358ab46e32649fb8f69a025770861a9",
      "21d5d5c94d884546a35561c66f17096e",
      "2ccd7aced93145d09d3310c5d13144d3",
      "61e6c621e0ca4311a1799bc0c05c73a6",
      "d04d68a7db614056a1d5ce609298f8fa",
      "2c9c6bd4ab36454da2048a185e3e8f86",
      "a767199121044fbca0d1ddd52be6dc6a",
      "19f22707205a4c2e976cf0de72c0752d",
      "c50122c3cb8a42709fd40cf41e56cd75",
      "81316e2f74e94e3eaf6cf32cef1405d8",
      "799cf0a2fb6e4abd8fb16e7f62476599",
      "a8944444f585485e82bb614c1d3d1c9c",
      "ce78129d15c94a2e8d0768df6aed2806",
      "ef5b0da6066d47c49df6fabceb045ba3",
      "45991192860249c6981a1238176a35c5",
      "f2308dcbe01b4f3b8aa3deab08d60dcc",
      "6cb6921d361645559e670d600d343646",
      "7ca4ac4801764d8da9f23d91efac043c",
      "84a45ae8f1fb4ba99991576c3a3262df",
      "303db36d17b743a894dbe77334b0a0cb",
      "5b882aefc813480fb04b1a31f76f555f",
      "9d10ec5595914ca181529f1ffd2857a6",
      "7f9763b6d4b149d28db24976961267d1",
      "ab42e1b3785c4721a03b4af250e92f14",
      "1e2eebaa7b244f388414466a7f416c44",
      "10d5a74e662043f792875cfbc7b62c22",
      "228e863bbe334c33b46856fc026d37ad",
      "54ab0bd355b544b9b3b06cfd30f73d38",
      "57ffad4617504e66ab1fdb2f4466eeda",
      "0c3d225c27744d43a932b61d94e6695b",
      "7d65573170974cf19d0fba9d0913cb48",
      "28d634336636431799e884669ebc99f5",
      "906163187abd43e19795ee4fa90530f4",
      "78400bb35e2c48fea920aea6e00e4e61",
      "165f58a7e77042598172c23f748ed117",
      "8cd90703677a4a0e885b76c386faa858",
      "f0eeef47c1364e8588e792b6c293f501",
      "6eec2623932a4237a414f69860da35cc",
      "d676965f65d24d1284608592a9a7f9dc",
      "ac0f461c0e6442d3bd06a0a80b6c1dd0",
      "338a4cc02d3641f4bbc16c9f051eb489",
      "cc6775df4d2b4d718f68f94a855bacfd",
      "deb674f24f9844a7a218c2119ea678fc",
      "35fae56d16ba4e80be72d6886a0239ed",
      "353ce551beb743d9baab7aac5d3d7421",
      "035b68ff5ac84574a20f4c4ff2cd6f0e",
      "647c3edb19c3456cb1b20e232db1c261",
      "558c90171d3f4febab537d4bc2d1aca1",
      "7371758a5c074dc19272d71c4eb4c486",
      "0146f75a12484803a4f5fe92c57bd3a7",
      "c9a4c27b5d0f4eecb54256375cf2aa9c",
      "fd20b0031b7949c3a0696f93cd42cc03",
      "c0b2ca9332b84f69b59e32fe0c3a02d2",
      "aadb5d9298ea4b339050f2578d146965",
      "6fbade2c51764243a286ee963e61a3ca",
      "33f78a98814f4647a16bfc3e8682a6cb",
      "c6517c9937f5424383a814404a4035f4",
      "7095603e3d544f848359ad598f02c8df",
      "b3f18169215d4ea8ade1bd767705494c",
      "3934266fb4004ad99b84fc62a496734f",
      "0dd338a9c6dd41b2a39f9f7b07d8c9e3",
      "fe9616960bf843f59bbf5cf5676b5549",
      "773ef640cf174c39bab6fe7e1d9ee8d7",
      "215132d4d6b74bd489a79355e71dc0df",
      "d80c1c26462447fab08402e3d5531f62",
      "bb356da96406413aa89b7b28be54baf1",
      "a186843ddc9c49438c985f293bebaeec",
      "990efd0190174ea383a43c356170f5ac",
      "d4425c658a48407482cba9742749262a",
      "fa4df07d2aac44758fbb6b0cd9ac16c8",
      "8d9ac352a9594da3b08163a336767b07",
      "31ad65e1b12f4598a59ccfb91f3cc933",
      "58cd8255fcbf4beda519408a4c0cd032",
      "18a417b4d4814b6e918b16724350a69d",
      "ab0585722c734b769d4ebc4029a6997d",
      "f4436c5e426d49f4bd93d83b1addaa77",
      "ee5e66af52064e93b589499164fb7c4c",
      "26ca96f299394b8f8b3b663ea3f9c2bb",
      "4469634ebbf84159b225711fa2211626",
      "d004b38dc13d4f9997146162fa4e2ec4",
      "f100378038b446099373b89e7b9bf1be",
      "27abf9e5a48b404fa7e021d1c1a9b49e",
      "1825da32b019476eb017c62e6826a482",
      "baa6f3f274f94ea2869162927d228e41",
      "0158d57f9d55474db58071b95dcc0da7",
      "36b95eef360c4e98922bebb9ac287159",
      "ff1806fdfaa44eb5a4f7430fd8c5ef9c",
      "47f6853800f54258957ee53d1101bf07",
      "e7f4baa8d207434a8bd1e3d77216786a",
      "a64ea0f37854478c815cc74a7dbe6172",
      "6b73c7c06380409882ba885dd38d15e2",
      "44533efae7d84ef6ab97229d0905ca07",
      "e3d63e61c4f346af95682e48e88f14da",
      "8ceaa33de5434f28b2bdf3b05fa503f4",
      "8e55ad3cdde4492d9bd3b9df37d62b7a",
      "bb6af0bdb4b943fca30c468533fff13a",
      "fd7b62b5cd2f4494bab970d7786fafce",
      "6f9450ac381043ccb9d5be2a3908d42a",
      "9086aafbd4a94141b5ff807aae24410a",
      "d313c2e6fcb649f789f0d1cff26d7dba",
      "bd71091253254565bda14a4d7d2f2f4f",
      "5e17bb3a81ea4aa9a15e2b414ea893bc",
      "51046e6c23e04ec98a96fac75d9adde4",
      "50c2274dc35e482d895bed332a32b98b",
      "58753a0e9a464d04b70e0fc169fa96eb",
      "613e86c5ece94dd1b7e5d0112465087b",
      "28665938e20e4dea89b3928c2b3040fc",
      "986539d72217445a8df5726c4c3d921b",
      "cbc729bf302b4587ad5a1191ab90dc69",
      "9704999001e14471a7243031d9309cc3",
      "1570ba7759fc499385735f15aa2fa66d",
      "47b0f54b37b549e4a4f0f7ed2ff1fa78",
      "fc7e7a403df94ebdb02619aa8b188618",
      "6641bab30e91462198e26d238fec805f",
      "665a1eddb1614f48b280aa5a2d134dff",
      "2bb59d8b843e4641b9daab31cd25299a",
      "ca37353428974be9b8c0efe4fa9c7e27",
      "a0b732693b964c68ac9428e99b1ac2e6",
      "176709808d0d49e3bd1510e6f0755d48",
      "a9bcedf7bc1840808c70b061621d8600",
      "72ab5ef2c9fb4c2bb326de8fa2bc217a",
      "9564f53f9e0c4a2c82aac27099ace66f",
      "1728088d8b5e4e27a190d16ca9bb6777",
      "abb4421a0b914e4ea5e5c2f9372ccbd6",
      "ef3856feef7e48798e3d600e96d9608f",
      "713c458149554f1c840060aa07135bc7",
      "d1ea95074e4a43cebe9d5eb80780ad70",
      "f54d5945a3f6496e956d8bd449855f7e",
      "ae1cd85f02d442608a6dc0df9f81d8a8",
      "45ae102289684267a6c658e6ab50e670",
      "fa5ff92a939843e4903d5f58037b12f7",
      "fc10356ef08f4fd6aa7a3dd95e4c272b",
      "58317f4b96f34c0e871c96b9cc3a407d",
      "0b2c709910b74ae7bed121d6a1da58f5",
      "0615fe53541c499c8e52bf95648bd32c",
      "3e80871a4de54ee08aa7f10a2188099e",
      "43af3b12d6a6440c8b3d8c53fa32a849",
      "d58c7dcf4a854208a363728570a0a457",
      "84e750f3f8214342a224329b45e79762",
      "7ac18da03f1643fba6e016ab6b941944",
      "37ec40f180574564a47dbbe6450b1338",
      "03f7cc2d463f4214b3e449b0a29249f5",
      "952c001ec3b9496bbffca11ed25871e4",
      "dd46965f716f4c4983589d93c2486383",
      "97559dfb176545949527f35547d381b8",
      "42b60bf70a8e4fd38d0844d465eb7bfc",
      "623758e8060c4046bd2b44cd92113d02",
      "5a01c506f14246498fb98ea19bbe92a2",
      "81afbb822c0c43a5bfecbef38ef5674d",
      "b00f85215edf43b4b5ece6191157a355",
      "9d7579e733884058bec872bb2bc4e54f",
      "ed378ada9b214cbba4d6dbf2e56b00db",
      "6c98b0735bb744c4aa38140fb14c4593",
      "a7bcbdf139074afc86aac7ccfa7e11e2",
      "6f31e43ddaf149dea7ae359c953f7cb3",
      "2d1347ef4df64d81afa853ed3183a90e",
      "7a81f00b00c94db98751ca5e286334c5",
      "23b1b496b5ed474aac762ad1b6de8103",
      "b66dcade352d4cd28de02bda719fcf1f",
      "b07aa3534c134ee190fcc64dfe2632b0",
      "9a38ca870d2a44f89016b82a222675e6",
      "74b41685ebfb430b817d0b0ac3fad4ad",
      "30b826d9292347eca7e586d6a22e0f14",
      "be98f06c54e04bcc8d6baf9974f4082c",
      "6ede7f5e9a5e4dc4ae3f81a625829f5d",
      "e88b017570d94aaaabe9032ef6632f40",
      "d134d56358e24ae6bbe330ca93ac4bce",
      "1f043f60503a49e4b1a077e0d4052e94",
      "7641f565a35940a9a8d10e47535970c9",
      "af108d3cff2c493093676e29c216e5ed",
      "9d4d718a5b934dbab360bdeb4604fe03",
      "8dc429e4b12a49d7928e8a60d07468ab",
      "11b80ad170074c86822aed569fc11708",
      "483d60b1b4814df18a9ca8e97c2542a3",
      "9fb8617cc1674b869f15271b23da2c11",
      "06a185b9eede4cb2b64e586d54631af3",
      "942ee939b27c4c25a4b24f1a6073787f",
      "0d0a2ba6fc15440d8f835f0c5b9d9813",
      "67a2a6322f1d41e48bb1231ef1852eb6",
      "29d1edcaba334507b63ef17c26cda0f2",
      "0d4477e825db49979544a2089bec30f8",
      "06329a2a43a24c96a986e53ba946cfb7",
      "2d719ba445c94a5291151a63ffd090ea",
      "d2880c2289e54581b20d2e2fcb10d45a",
      "a25947e4e79d4f8baf5f384a91c541ff",
      "6b86d13d5ffa498fb944e3d330f18cda",
      "c690f10bb5b846089d203c898e0d92d4",
      "85b8a3e6168d4bae9cf811a7bea1ecd6",
      "d86875b2fb2343649eba93d920478347",
      "aea98fa4f8934ff2927a18c4428f5b94",
      "065bd23c969e4ac191875e09ce148352",
      "cd0471a9a713442caa2c6dba945f6f5b",
      "ee7e4c2f97ac498a8407570bc3f97727",
      "d40936fc8b6c4f318ab7ce63ba4cf045",
      "c5d7cadd96604451b99f0c7906461ab8",
      "6bfcd4365fd74c439c19a9a126bca786",
      "26fb765ffd4e4dfc87bb35819f1ecb6b",
      "0d48bf5ed62040fc9f2137a9fb7022ed",
      "965e67d3f65844bb9dde09e6119ba85b",
      "c9eb825d774846659d8491212410fb3c",
      "b176d8b71340489785fa7bbb5d0dac8e",
      "6eaaf16e739a4255bef6cecc72d7d789",
      "a839a1d1d7cc4f788513d0d0cc61e23e",
      "1abb2db61b754315b0f717a023bd2ef2",
      "f142574e16c04653b2d4860c2d05c029",
      "9a0cc1195dc34b97acc7bf3ba4a171a5",
      "b0bcaf3c8b594db3821e5181d47fe79b",
      "02c5e39f0ab5437a9f09d879c8d4bf98",
      "922b85ccca324a4eb953aa5f414a74d6",
      "35a1cc8348a64d269a5525f56921e6b8",
      "33392538f38d4515ad83dd297de97df4",
      "144c0347b21c47498099c596c203ee6e",
      "c6330e79b1dd41c18c396c06113e6b9a",
      "2bdcc389595c48b9bd776881763d56cf",
      "c1065e22668c43e68713f403b107558d",
      "924ff06bb4974f9bb19cdc0066dc4215",
      "4cf98b447fd641f8b62892e2fa4b4284",
      "b0f236be869e4df0b75674ccf3bc7cc7",
      "1d2a31abe3a64c02a6c74dafdfb62143",
      "13c5ad85465f43d79b3be77f73936f98",
      "627a62a996c6429dbfee977710abf32e",
      "0e8bd9387bac4fed9f6632b266778342",
      "31390cc3498c430484ad74963d448f1a",
      "57f4ba03545341989737d5d52f287c64",
      "573a015418c845699696188230bc8404",
      "301f01d448c242b38cd512e1aecd7038",
      "6ed6e0d993bf4ddeae14e68ebf8d000b",
      "02d26c41cd3f484285ab369d08368628",
      "1f07d61d55dc43bf9043a9f421dcb23c",
      "cabadd2743fc4b1f8a73d8cd2c312e76",
      "8bfef1f033384096a27f09c39c67c2e8",
      "5b59218894294163a3a3ca778bfbbd01",
      "5cfb19eb78204ef3856c25db325a0a7f",
      "7150e5c5fc8a452f9f8ba9fc01ce471c",
      "99042c0198ef40339489472ce40af8aa",
      "c5c9840f2d21466b908e235dcb2a828b",
      "936a660a0f0b408eadd2c0a8d92605e8",
      "51493f152b5c4996bdc17ebccb4ace62",
      "9effd45b8b6e475287487edefd7de616",
      "e75d2aecf2f146f69b45e2e5456c5817",
      "d07713a9d9b64deaacfb89ed8a905d2c",
      "91da5d939c7b488aa6814d4c0e1ddb9a",
      "a863c8a4a6484c1784493058dd822c36",
      "2bef6b47981146678fde1437d08173d8",
      "8dcd2f8cf92d4b16b182bd9398420005",
      "37ff198eaf124510bb6b130840d2883a",
      "f267da808b1345bc8385bc40e27955bd",
      "00be6b42b99147a2843aa112d0c2a814",
      "44c2b2965fb34c04a42a0dc1b6c69853",
      "3ac54fd4ab794829a74727ede84b1a00",
      "ddc5dfaf4e0347aa88dd0ec004a7ed15",
      "fc992703998b4aa180707bdee7684642",
      "41114378a8624207a68b553bd979deb8",
      "6c0b7c1a77c44d97bac7bea344dbc647",
      "a30b4b4241754ec79144ad201071a14a",
      "8f282f08b3e94d41a67c3fbdb034a9de",
      "73a45d63319344ec88b99e27a24ac147",
      "d124d723304e4d91b9b9d30bc4b80f8e",
      "8c10bbfa672f4e63be9a4704380ae7b4",
      "20aa5b52a54b4689b29ff879da34fb74",
      "eddfafa594904a69877649d744e89ce3",
      "a1fa4e13b4464dc5aebd7eea2823808a",
      "d5031132d04c459facbf1a31cff297ad",
      "e879bdbdf487402daabdd9eda916b4cd",
      "63124548dac54a6da04b9e0468b7a41e",
      "e0f7defaed634c2f8b5794b229d02a72",
      "bb76fab259ad459783b08f5249460d7c",
      "3abbf5a6725d422dbb10c103e4220cd2",
      "49b4b34557f84efaada41371ef9fa9c2",
      "344f0e1c5175432f974e4fc1e7958888",
      "5dc802b5a48e477597c1793c511c6acd",
      "5df209d3e62c46babbc81451aa138a4c",
      "2006aeb533714b438ce2e131a2a3cb68",
      "b787602fb15b470cad631fd7fa5d62e5",
      "2ce3cb4199e1448c96b51c5209be923e",
      "8cf11a619a8e42b78aaf3d7ebb98ede8",
      "a2667e7c49074de087a019fe4957201c",
      "1d3edc24eaa04913b4b901af12588972",
      "4064eae5e4fc409eb4e42d0f218362f7",
      "0bdf80427f9342af9bcfd832040c97d8",
      "d9a2f69a1186436a92d42f9053e03c87",
      "c258cf071bbd497d89362433c03c9029",
      "110e8a530b354cea8b0d36574af86b10",
      "9c5565f13cc84ee496027c54df0ab63a",
      "83fdee7159234dd299f77994cc9e7e67",
      "03e405e2e2464273bebf9557d6539216",
      "56568463cd02446b9509e05c40379ae0",
      "fcde9d9fd7654cecb030160e1e1adcb4",
      "239640212d1542fc83fe9fc77ffb1b51",
      "b2633220ac354c6a80aed26af2b886a9",
      "feae430ba2ae411896ff15c96160d186",
      "bc1c747936c049f6858718816a80a8b4",
      "fa0f37780f2f4fcf8949b73aaa9ce8b8",
      "1890311ea8f24e0ab7d7ccf26ef2b67a",
      "75ca59482aba4b5caea95465bebb2520",
      "fd6064006d2c452e91ef9f4775431a0e",
      "33733359588e4c6eabf62b337f70020a",
      "e75ef36958f64c869effa56046791dc4",
      "e5ac497e6b6f48b793a13cbe7f814215",
      "0a777737a23743e490dc9ea536614f4d",
      "45903c65f1e74f05b76fda5ba1320a92",
      "0d4c6939251348658add717cbdea76f2",
      "a828bfea34f747ce8648aa31613aa188",
      "4242ab5fc7174e9495d491ed97b1ab90",
      "c546473da43443a69e1627c1e673946b",
      "76094063875b4782889d6ccc8148c2c2",
      "1b984267fa744a6c80b4d2f6fc6b5520",
      "e814c38ca944456f8369e6ecf0613159",
      "85b1873b38a64e319bce8b5885c4aa77",
      "5b700c76130a43f79633a7115eda69de",
      "b55d586a8dcd4d86b62eb0d4d385cbdb",
      "1222c6833a7541ccb9065bba33cda4b2",
      "975e319e15a2405bb35530372bd16216",
      "b484fd7c1b4a48838d9d0e97bc634be4",
      "1caa2f91816c4b30b9c3e41964e80e60",
      "a62d9ac1a48b4df69251a39489119c80",
      "d48112a7d7aa4deb89c9eec2eb9aa465",
      "6679f940d4274c4d82ad8025f3b0dafe",
      "4783d0035e304ac8823bcd62f2e591b0",
      "c776a30fad124204b69d490d51527657",
      "6e02efd60d58483188ab71dffc0b7593",
      "3d0859e659f743458d902f289a0114a6",
      "9a5501ec61b9433ab09ec622b6246a3b",
      "c31a3a81581a464ab7b502b55278098c",
      "be2aa4576a1e4454b23cb02544581b61",
      "4d9110e533354037ba8d2ab5b618312e",
      "0aa652bded44464a8dee971c40cc905d",
      "54de226fb1784e6c9cd47a2cce83c985",
      "c55a29b9e254482e8fa2f8fbf57be6d4",
      "af0f9ddbaa8443699ad57200612d6755",
      "3a36ca70c45f4e68a5c4cb0c545ff054",
      "670f542c8be24e5880dd54701ce0fb22",
      "ad816d6c957f408dbe84cb93717ecd04",
      "e5fa6d96bd124d1bbcc41f1c5048095e",
      "720cdbc1d80a43a7af927a598252cd71",
      "46f30434c44b4ec495a005b62545d9ea",
      "10ce6f4845664e4daf7776759db70290",
      "f282c64d554744b395be9e99157fee1a",
      "b1113b73e4ea4b8b9bf5eeebbe237dbb",
      "089f582f53a14bbe9d7db5044e105ab3",
      "d8b915418ccb4f46b64f7708b05f2be2",
      "59bf5e5dc60e419ca276a4590c35d9bf",
      "f499e5043af0427e9cfc6a9bbb97c919",
      "f102045d45434db08c535077d675e3b8",
      "95e5f6e148ee434c8a7e8949b209b681",
      "666ef8376fff43c6923db0dce42db439",
      "b2a174fe1b584b04b9cd27e28d0a0d08",
      "cb05f02537964ef8802dc4f54764b90b",
      "6cd89354469d4a468cb3c9ae1eed5746",
      "6021236d96004424bbf95dc7c018c433",
      "db1a63acf5fd480da778fe1d6138e0f5",
      "d7023797da6e41ec9e883ca6d5650af4",
      "730db3098886400e8b71d497f2978ff2",
      "c800296ef5f1439785568b28922f10a2",
      "bfdde617df2b41229ff58bf27e068eeb",
      "65ea9c979cd749308041f995ccc1eade",
      "e9217cb5d258415eb2b4be28dbe915ff",
      "fa9d9fc371df46218fed141e68df8187",
      "36757821aa30422cbb8dd50829547f1a",
      "420f612975854f4194208f310040adc2",
      "2f2c262ad2914e27a2b9b758c8d39015",
      "136250db332c4b7180785cd38b4e5ef7",
      "27857778cb13499da23fe25435d6c796",
      "44aea03623fc40698bedfa41babd982e",
      "e39d846a3f894c868303704e1f78dc33",
      "39409ba95ed14ab0921944729de9901d",
      "4bbee5b4eca345f2b0f0704a5dc55312",
      "86973ce2fe8e4634a7e1b2841c51f60e",
      "74677ad652f945b8bf5ff95e5c8ad262",
      "97e05925c3594650a725b77e7a9f043e",
      "d9e07ad19ce443d2882ec100e2ba331c",
      "e270106bd81a4c94820bf74404b58eaf",
      "e0c420036bea498896d156936bf5c83d",
      "16195de5f2e34bcaaca8711424aa5e55",
      "71ec7b5ac974407a8911b77c72eb30d1",
      "a0c68d7f6008426396d24d0b30311e19",
      "8775e26920ed4953a9a61daafa42c36c",
      "def2b23494e04a489fcb96f696b3beaf",
      "2ef7c097c5fb44bdb65396307e59e8b2",
      "812f3884658045d7abd847c0aad23e81",
      "615efe5005274b8f8a2f53542af676b5",
      "fe9af4a4d2eb4b06b15afd8af119de73",
      "b43103a0e4af4ff7a5679d96591bf7c7",
      "e32cde9b1e714f2bbdc032b8e476fa90",
      "bb256c5050b8406c873fb0544bc57a3d",
      "43717849dc994f2088c115a56ee65521",
      "120e86ea679744ccacc9b357d9ccd676",
      "a692078551e54988a08917de4de5c1f7",
      "3b5e68dbfc644e159920a47e6fee83b0",
      "68b9e36360564600a296a7acef6ca7bd",
      "cc8f774b91634d69a7968364f1fa9c3e",
      "a9e1eea8d3a04d6f8c55fcd85f4564b5",
      "73be5600ebe54983b7525f45975feaf1",
      "943ea216367a4a0c899b5cfffbf0020e",
      "da0901f53435434ba4ec278b187fbff7",
      "d55d46f806904b059ea30a3758702d83",
      "50ffb4571d3b4276a3472c4d41c64637",
      "b57cbf3566d144dda87841b6c838dfb0",
      "6153378c2fe848219789f9e4e2e97dfe",
      "8813d2a4461d49afa175fa9d71cbd14f",
      "0b72a7d02b3541fbb069df85a2c6b947",
      "d8cf1f1f95ab49658ab338734d01db96",
      "0388d4d4b5ca4596967aee60e48aecd8",
      "63ada034d5994947ab6172a63d0313c3",
      "6d6bea9c508a41fb907655aa62f2ee75",
      "b6b46b40276e4555a35caa5fce345b07",
      "68fb021e951e43c2a1f3fb3036570630",
      "60f126366bc14d2dbebb9f3b48af0b88",
      "1405294efc344211a72a60c2fe7762cd",
      "985dfabcb4d14563893b9c8178014c3e",
      "b3b4e2ea545a4e79bebf96720f511f05",
      "81a3e3339d314029a4d18f575f2acede",
      "e4d693e35a8c458b817e7ac6dea9cd45",
      "389ab788d79649cbb04eb8b3b198611f",
      "f8a10e9405aa4057963114d01718c53f",
      "c90789a6f6fe481b97050d1d770755b1",
      "4109f9f053884b36a04d7d778b200470",
      "6d70a8fb7f10495b9975a101b2081d09",
      "3fe0f34997db4086b0c50776ee0c5f6e",
      "9df99267cdd945069e95e1d06fb744bc",
      "ae684d81ed1140a8962debfe1b41c6e5",
      "165252736aa044f38b8f6b4522b55490",
      "fdd4d25e9ec14b54867de7d4eeb0274a",
      "01a6f5629db34e09b90b08722f1f84ff",
      "3dad59f04e6b416e86b2ae8f9c709cd3",
      "0afe7fa161b24c1ca2577299cf21e3c8",
      "574a5e67101945dd9a8b9a2a53019b3a",
      "b87f3b912c224461b7789937b100a17b",
      "157e89ef2eca4dd8a562bd17e122b438",
      "c5d8d50c68ab4f549b61867953e6c955",
      "fd66606b2e514434838483bc33c2ed39",
      "3c367eda35664244b1c65ef8ec523af4",
      "87dc043de2c647c2afee18be44a5d138",
      "f714a22133e741389f02cff1e7f60256",
      "fe1c898258c4494cbe46b3683688aeb8",
      "efb2ddd83b294d6783df6d1278057fa9",
      "85b33c0b7eb549b6971dbec27fdbf091",
      "070ccc15d7f744d9952b2cfcc5c1a03d",
      "0c4d185921e94f5d8bb14685365181b5",
      "3e859fbf9b2f4a41be031b2db9c7627a",
      "fa03952931e44307ab6f25f7b671d396",
      "db9355afbbd34dd2bde073ca66df51fa",
      "891af6df64394e7f814abea67ff96c13",
      "e0c3101296204961bb7874d51c07defe",
      "864f0a85f65447e28088ed951caaed78",
      "fbf10d28117a41c7a969f30bcbd4d406",
      "46a6387f1c6c42c9bfe7fc3252245fe6",
      "539769a53ed0412481fca0df1a2bee2d",
      "72a31a1998e44fc68eb7be9038b316c5",
      "0f5b4f894feb4dde9a5221286330df32",
      "1160b9390fdc48758b30f069060413b7",
      "1d0d713f3e1842cfa7af2b4021c98e84",
      "53c03db80e11409eac1be3a5ecb47f29",
      "aaa64fd676734afca43913ebdcba1e59",
      "f5788ab750d74f3985abf7d6c9847d1f",
      "5428454391574abcbbff82c32ac1d20d",
      "6122ca259f49478591b44c0060c6055b",
      "61a0c4aad27f466585d4b99c2cfff94c",
      "60a39d5111b040708c9c8c4eeb9f5ec2",
      "c0d4f3c9cc1b4bfc83faf50e497ffa0f",
      "cf0187e2e2184e63b0d4ee68dcdf717f",
      "d7919ea077a146c2a13d229ea7817cf2",
      "c6902305c72c4669a9293db6c6d812c3",
      "50c6f0d535a84cebae5a1bb50d0dfd1b",
      "da28da977f314dafb4ab31599b3ebd57",
      "189668cabeef45a781e4ff40495b15b6",
      "86eb57030ee04c4bb218694c880174f3",
      "b70b9bac49654584a9023a014451077b",
      "5bf9ef627f9945c7b107f6ae885004de",
      "c9ceb0c88d7e424897de331483032d6d",
      "678e6ef6acf64d0db6bae931e06b9cc2",
      "7e21762f2261487b8a1efbaff4204556",
      "f0de8106ef2247878c10bc9354975afa",
      "6680ae08f78a46e8befe8d1c9049d18a",
      "a5bfbc0fc2e84474b0325838f03b7198",
      "eb8503c78ec0423085593a279c7054a0",
      "de19f8f552c94e41942944aaeee870d0",
      "f9d8dac3decb4e80955d71641d0f9b5d",
      "5ede41c279e3469b9098c957ed879975",
      "336a5502b06c4ebdbdda916acc486cf9",
      "99e5fc37293f4b8cb7bc6d037f3da446",
      "c02c8bb8a5634fefbcad0eb09949f721",
      "10097d65948c4bd4bfcb973023480ee4",
      "7dc4a04f9392404bb34215a18898982b",
      "f43760f4e4044f059a81443607e7e481",
      "cf37916430214a1686268fc6145628f4",
      "b0579778da9e4914b612fb76633de7d0",
      "0d2d90bbe1694296a0d04b65235b92c5",
      "1e779c611c194732b9ac5030a29f06d8",
      "4f5c175b859c40d6b575c2c76b06f6a9",
      "c47ad5019491445fb436c5a204e76a11",
      "43f064f2f4b34bb7958e8ff504725cd1",
      "5f2f682b34474395ab7554e1197635df",
      "ec66ab61a1c04122882e889cf44e6e72",
      "4909abd263014114a0f1957e180c6872",
      "d48a7bba7aed4b36a55e9edf8c45ac9e",
      "720c1300ab4e4537a3fa747b884cefdd",
      "a927d67392bb4b1f8b58d83bc4e50736",
      "f359c12331f3442d85212f33786edb20",
      "d072a1c59694490788db52c5f844b0cb",
      "dd6d1384908040b38d0f0f81046f69a2",
      "80e7a763e9814a299a2b0543915cb9c2",
      "a999f0eb03ee4d28a2aef3dbee06d5ad",
      "9d5aaf48d9ff4024aed580e09da5078b",
      "fefc742804c942cf95a8bb8069c319eb",
      "d23dcdd100704fd4ace25bbd8ce974f4",
      "509738733ea042da9f39502b59b5aa55",
      "a6840db5ed6844c9a14cdd3271e3318c",
      "0642e21d931645c9b69f38b26652e344",
      "241edd59c7ed42e387833aa28c23b40e",
      "6cedef138c85458a80149a97ec541de0",
      "dc26e3a5e1ee4807824453c2c5836ca1",
      "a514d0ed197d471eafb53d7c22601735",
      "b5472685783e4ba0aa71cd62221944ed",
      "5e35d433bf714340a19b002364a7f590",
      "a60e62e1f9f848c0a9606f1092254217",
      "35693fcc25de4d1c92b88d8adc6ec5b1",
      "8333591ec5744a6dade390d42a309911",
      "cf949a300711483bab87e42390e3bf25",
      "e053f092ca2b4cb286d80de174b257c0",
      "40f4694a7ed149cd9ba57ebc4990b87f",
      "5224a747f9514611bb5ac131e80a3feb",
      "4469d53c561c47b08a1903a747094eb3",
      "4728428c7f414984b7e6a514b2362864",
      "d1846164f42847f9ae13d8530a595382",
      "a0c7617333ad44279174258ae37cae02",
      "6f3046fff82b463e99d14a53f6dba296",
      "f2360ee0c44b405285e35dcd87327662",
      "311d7511f9ff475ba493029b6aa3a525",
      "a09839ef7fc345be8990d3624f98cf74",
      "51b3d852c12c48b19afe258f34f7e936",
      "9dcd0dfd3c0c4f329234d0d52c4b6d2d",
      "69b23e85b1cf4926b0203b820f2d041f",
      "599a54c412da4162946b7ce70689567b",
      "87b98b0b08634fb1a05978a14a7b51cb",
      "7928592b63794fbb8100ac2e671f9bd6",
      "dedb863ce62d445a823fa9b9c7768ea8",
      "8e353c20a0b34be9913429eb9ce47c41",
      "53f11869b67a4aa9abf5faf9e1766fe5",
      "21c91aa6f4124c83a00bd1a8e62db797",
      "41330cc8d79a419a8f19f11a8ff68e3e",
      "d9a46ad4275c45f09fb8ca461d00537b",
      "2fbd5a5010aa464c8bf640402cd06c09",
      "fa0c1664adce4710bf44320b4d14e118",
      "28fe590ee0064058bd27be6b3f4c25c9",
      "b2ef5d39e27144959fb00d89877d78ed",
      "2163e39effbb4ff7a06c2a33587b81ea",
      "cf261f9c772c449682a0f94588c511e0",
      "305d673a98f74de4ba1278f23da6ec4e",
      "0c4ce11097e14803aba51fff95736f99",
      "5e3560f1a79644bea57421a85e6565e9",
      "3f15362968e740589c279e82fee62768",
      "0aaeaf15af0945c59ea53c9507f91db7",
      "978d906c13654f1daa5dceb7c66f4196",
      "4e442763047c4ae29a767f587e87596c",
      "6fa2416b606e4203a7426f7a4d594702",
      "3e4d3eed18194417ae7296ab277aea44",
      "69d51f86b31342f495251cc28e5a46d6",
      "094dbf2a30f4450c8e3f37cdcf5e68f8",
      "8bc45e1906bc45a2aa22e97846bc11d0",
      "74ac8512d4f9413f8abe2edff67f38d7",
      "bf3d2dd8205f471bbe59672d6d9bbf65",
      "2441519a6ecb481e99d49324873870f6",
      "4876af23d4e04831b53b0895a6d1f3c5",
      "7bfe65b9059b45dc98711c7e84780eb6",
      "a05f3fbfc0c34f3ab38354cda9d886d6",
      "a312d9a8eb2d40e5a387f2de9a914981",
      "550f1924dc0345b98009a86c4d315c40",
      "5d75a6be2697496f8971342a11bc84df",
      "a914d62872b149739140b6a906f1ef8f",
      "7f56f98e51ce4705a394c9afa6a57159",
      "508e85e7aa354b539c5223c3289800d4",
      "3278acc8ba4744ca9dc016e1ff19b72b",
      "3d7316e2345c45d5a5d430087fa9d953",
      "b8f5a399d0a44481a60c40a50ba692b1",
      "f35450acbacb4f668fac3326a967e93f",
      "f32476143a674bf0a1de79b690642db0",
      "90fa3431861f4843bf05768cc9c0694b",
      "3cd536c23a454ca58614198a7ffe9ed4",
      "ab59eb68f9b94bbda18b6d64b2d31014",
      "c23ceb0507fa4b999e70c45d55aef1df",
      "c6453f5f8ae94eb1baa1b5fc8ae6425b",
      "2c45f6602b9d43d481855738f791a5c5",
      "6494b01c819a4e27b62c6362d3f8f0e5",
      "057c40b0cc5648bc8f4d173b84ebedd7",
      "0a8e8213116744a68e81d0ad2ed7c4d5",
      "b9aa2bfbc7f643a2bf9ddd1a230450d9",
      "03fa93adc4204c5ab5acb09ba8843006",
      "a1d73d495b514d59b5be08b06291676b",
      "b450ece1e1f14f3ca1b6664d934c436d",
      "9bbe2ee82a624a7da2dff6e9be27c85a",
      "6086c78299cd4041860323cbd35bffc7",
      "53f518b818794776bd426f1966c1a987",
      "e517e744b9714a27bd3c45b58a7d240c",
      "9eba1554bc1a44779d580b6614e885e1",
      "8532142a54e248c88d314267c0efc88e",
      "0c913116180a4c86b784e1c8dc6d137a",
      "ad6e650fa8d8472c9774e7f3c29de783",
      "c9b9f8711a13401b88c71eb7162a9b89",
      "99747f07318a46e598a48116b80c40be",
      "085f59b4a00247d2926bc8061e3c3d78",
      "c16e1513e5754194988c0c6bd62eb2b3",
      "a14277bcaa45464cab2b94aaa4a9145a",
      "590438f053f949358ef1bd9ac321cb34",
      "a899e129d32146c8b3d0b8a05cd90016",
      "b7bd06c140f54825843dccce65169339",
      "ab2171f33d634dfe8b5834ef11470f5b",
      "78ce1ee7e920474dbda3f6f5a440697c",
      "64c415daf7134837885c63bed998e856",
      "c52a6b9ac70643129afe11721784e689",
      "20c7a34bcb7b453c8eb9745e6e32d8b6",
      "77654f96fba84864894036a9ac9d02b4",
      "5465ffaaadd34753a5b99c3501a429ac",
      "c30d569bb81b411e9d75f6ce50dbef06",
      "d2d18bcc5a674f12b618e68bd688492b",
      "4fb70ca485054cc1bc16761b1bd85a47",
      "b0a5d80f779d4a0a9fc3ffea116c9b26",
      "e714656f89284661b90bb27d251f8bba",
      "710d446e602d41c1bf48070ff2143c93",
      "c38e1f63f506471f8463b9ac9a75af96",
      "50a6d6f9f092432c8b43580148923d81",
      "da3aad684351440a97292e76273ece71",
      "34c5718e301745f1a605d892b40dd3d3",
      "4b0b0215cf584a4991d4cd7629918e22",
      "7a89919786ed4f1f96f8526fee265dcd",
      "c4bc3a7ac5d34b159742b81f8e4eb6d6",
      "d87b956421ff409d95e093e62dd004e7",
      "e2852b680a72432cb78ea39ca7206323",
      "1ae2b6588f7a4eec8b23fd6af5050db2",
      "97c19ce227194c92b2eb5b2a3568a8d3",
      "01d1fc006806427f8a2239a0fdd30165",
      "a86f96c3eb4747ee983aba8d3f6a4abd",
      "d5c99b4519f44273bbebfc0ee48191a2",
      "adc24d0f35b740e8b3d8fc0b918ae95c",
      "b429cb67d5af4ecea6216786d5956e65",
      "a6c9e81d86084c8ab02824ca098c22d5",
      "21ff333285164c4db1ac8eef5a54d78e",
      "b0ea6e3ab9774fe5bddb74f306e93d30",
      "29a3ac5f2ef643cc881c304b7d568f0d",
      "cefa5a66aefa497da2a6ef9e12fdc1c1",
      "b5e87bd966d4463b9a4047f65bf4c834",
      "11bf8c530c054ce8815e1a9df933eb3c",
      "1aec16f2535e4bb6b046ecc60fd6b5fa",
      "64b0713df13642758803dbb07bdf206d",
      "3cf19f414a00404bb8df0323762bb14e",
      "ae8e26abe7e246d7b5a67d78afbbce47",
      "ce70d84ae8274dd486b7e201337a83b1",
      "3c0a3e3232234497b51fc96c5b9d896a",
      "c0caed0c91bb42a69875aa8454d823a8",
      "c0b89d0ba92e4768a9a0b63c9718cb3e",
      "9431c8f76f52463783291f449184c7ae",
      "20656b2c2cc641478ad5fc5302c19b1b",
      "484729d34810486184ea90b331f5cbf9",
      "c7d0e91ae77a4d92a6c59a621007e14f",
      "eabfaa07a30e48a8807cede6bbabf8e8",
      "60401ba2198e471192e97bfa5c81aa87",
      "85a06cab36874fbc8eaebb247368a42e",
      "aca1286a449244688fec11966602080c",
      "792312c5ad164a4f8df3dca9da35b1f6",
      "8726bf9e24824cafa9d81812d71f34da",
      "d16e43e4e854478884adad4ea9ab2d5b",
      "cf4dc20991944cf2ad16f0df5ce9f8f2",
      "ffa45fe61ff7481687077e1382fb0751",
      "a66ef4e9546e449b9b08266c6931177a",
      "8ba287b898834f0380d8fdd71554161a",
      "44aea77ee70843b79a746e78410db76e",
      "7f6de01b0fb04a03ac40b07d9464254d",
      "7639d4423cc54d7e87011effd15e3931",
      "2e22591383674157be6152ddacf94c78",
      "1a3af4918691465abe0b8ac4c86a9739",
      "b8d4f9fa02854e50811d85597d5cc78f",
      "7b0d078a2da3479392c189f92add25aa",
      "c66ff37deba24ad19d504755e0e82507",
      "74915fe8e22e46fdba1ac5a41f4222b0",
      "cb2809bc1f064ce4b68575bb6ea9d0cc",
      "d07ad359d7ad498babaf224868506d91",
      "306e57e8c99f4059bfd46eb42ce1575b",
      "84a87aca87444ca789ca54874405d6e5",
      "5cf2ca1f21944e20962766f1ecd1071f",
      "685c3ebbcd134f82a4daa486217f2985",
      "16e31056dbef4ab183d2ec54536adbad",
      "72c02006720748d4a57528e841397a16",
      "e942775c9c044aa785c24c14809e87e9",
      "e2d60fad20304b90a0372b0543608712",
      "b76df76e6dc94b15916d578a39a733ed",
      "0d1e2c44f7334f778c76890462e995d1",
      "be921fe88aaf41e1be3f15691cc0a5f9",
      "034005db8bb44ea2910e7db137eabaaf",
      "f557bca0c31d4d438700bed88771ef32",
      "eba5a76b61f14d7fb001c389b038187a",
      "e3f7ad4975ed4266b1cde39980213c90",
      "66007aa30a0e41efa0160e0c0a41ac68",
      "4a37791b5df74b18af6e8eaa4a70e4ea",
      "9470152c6a934cc9a8a46e246098495a",
      "2f2a76e79c864090905188674900fc12",
      "6febcb2fd0de4b9abe4d7a33d96d7ab1",
      "ffb085c4e67341e38b8fa6c8cbe8a06c",
      "f55e18c679654d4fabc66422121df97d",
      "ac6d5dea44dc42ffa7aaa475cf73fe0b",
      "b3b7f6469fe949e888a25dc5e1907a18",
      "e908829865b147b3abbce29460b4996c",
      "0081e514e21949f99b34196d0dbac70b",
      "331051b6ffcf450f82ab9f53b0a27529",
      "70612ad765ad46289cf1ff5b607b625b",
      "08752c47817d487e95b2387e29057757",
      "d5e34be3c4044655981f1770659a8ede",
      "929facfe639b40b59fed9c603108406c",
      "fc1d410193fe4dca87a0260872758a78",
      "7e7c93e0868744d3a26289813e893806",
      "7e09d6b869864c3b9d876a00d59a3c97",
      "fa5f0c4122274e8b98865e63af680f4a",
      "12e2040272bc492f99413df029e1a092",
      "ca71ee5bec8d4269a255887f847f3a58",
      "76c2a4501e6a401c9e3a4b9e389d3c81",
      "d225b1a3209840e68eacbd13225fa150",
      "1370f4f0f6af4e538089208361b63c9a",
      "7303c4429c514910a81ff0a2ba42d885",
      "efab5596102f4ffbac72fd4e4952a39a",
      "a16cb596c4c14b38be173fe3733accf5",
      "1d3e55a3a2c543d7a0c75419b0c7ec20",
      "11c5cc776aa84ba0817c2cf24a560e0d",
      "794ee95172964c248b8f19b69d10468a",
      "563d7e4d64a342abba6681fcfe5c7b19",
      "9aebbdfd7630492887ea614d636b3126",
      "464a74678dbc41278e3ef1b3b0397a7a",
      "4f419e9c78cf42f2a3f8d1119ae1a33e",
      "3cd65f1e24144b89a6970180fea095b3",
      "9316bdf73c1c4250808cac62faccceb2",
      "0ee59e3eefd941e8ad8396de8958fdd0",
      "5d3693efd8814169b7f91d3f44d87d69",
      "dc08a28fe54b433fbfd7b8d0d3c4b303",
      "675932c7867e437b848e0ecf9f6be2a1",
      "3918d2cdaaf7433d9b0f4b1f501b1275",
      "be0360a6748a496397473c64e34918d9",
      "00a3a56d20bd4e12ac5e846c59ef2979",
      "e164231f58b4463496e96d0d15b1d6b1",
      "47841863a7a54d9f96ce9e17cab5726a",
      "a1aed0f5f19f4469a554e30ed20ecdb9",
      "f8d32616be5a40c98ace2d73ce73286d",
      "20dad71bd08249c6a73faaa9c49dc2fd",
      "bd296579602a43b3b2b8b831dfc78c22",
      "07b44f55481d4fdfbd7c4d71fa55b377",
      "214df66b6ffc4404be64e4dfe839bb96",
      "d66a312cc0d2475da964db40e15fda60",
      "5c56f9e15d214d918d629bac06851d0b",
      "cc76adf1fa7641e7aaaf1cfec5694d56",
      "17151226b90c4a44b96103f56cd1dc71",
      "9167d1ea539c4a0bae5d3c54ddee19bb",
      "769fef59b3264bc3a299ecc1a1a51492",
      "6ae3a194788840e38727c9eddb6a4775",
      "7e5e60d22ebc41c3911a4fd47f46fdc8",
      "3e8f4d63bff444e49d45e2caae21c240",
      "5964bcc178d342b7ad4da2261c3faa7f",
      "1c73430e7d964b9bba5014f54c7351e0",
      "cebe3f9445b249c3a40fafbf21024867",
      "d288dd5be5bf4216a8473585fdea602b",
      "d94b38023b404f28a6ef76b0c68de905",
      "7f549cd063b44fb3b81c855e8cda06d8",
      "b3dde480b1a045208904fd0a83c40130",
      "2b69d7bbf6e74615a14aec6ea0deb1af",
      "aa426605059a4edab03c18c8eb8b3e31",
      "b4ca59caf4884ed3b2aecb917219d1ef",
      "6fca218cf79e46f18314d9712a32d15b",
      "c28a0c4004874958b43afdeaa486a502",
      "321b6f3b2d8546998f296daee0e2902a",
      "7e1b3d948d3049448f67ae14da95d8bc",
      "8f1996893d884cb4b1179c7cd953388d",
      "8b83d6fee0634353a53eb563217ff5fa",
      "c4a8f70846e5458bb37ebe94b9c53c29",
      "6248f36d6ff4489db687edac938fe5f8",
      "8f7ae73d47fa4b01b9fd3b7d400ebb6c",
      "623104f4ee2f4cb3986e0ad7984f03de",
      "62712f5dff89428cb960abbdb2412bd8",
      "80146b4a6ed446548abb3b694f1dfb25",
      "21a9d4e8eb684691804121bd6298061b",
      "c1ed6c673032469cb297ebdfc420a98c",
      "4aea56708ec14f16810cc59726fb18b0",
      "f1b0b5af72bd4c91b528f1f39a2b8ed2",
      "62c79294bab44b368b29c09181c01e89",
      "fa2497a01c954af9a837b9487123aa06",
      "81c6d4f8978046938638b80212fdaf4e",
      "760d635b97c84c7e913a5cc58f63b2f5",
      "ac0b0d39155c4201b745145cdcec0bba",
      "94b7abd961a34f89af573e57f3bb5c7d",
      "d3f3f4db294f41a18396d07d35366401",
      "8053469179fe43fd8643949fdfb31ad8",
      "2137e62c1d4e4287acf446701b4f2d11",
      "2a8948e4402a4b059a06274bbb72cb09",
      "bdf38c53280b4d1e977cc2034d3fabb6",
      "a58ecf8b5b694e5db4a3f842ddb12082",
      "c7ebc87f74234edcb509a51638aa3987",
      "cbb2b9de7c134531a6e02b7060d909ee",
      "2a6e48cd86024c20b5a6b48dae5abf1d",
      "17b76024732a4c4598a9b430438a7246",
      "32388d692d744c899724fcd9f69bfbca",
      "824d761b3c174e3f9c8e60a65ec89256",
      "c12062bef8554d3b952c1bc5d73faacf",
      "4307ba9f2dd14b9eb26ae6898ca234e7",
      "09462eb527cb4a9f9e7ffdb2f0517616",
      "ad166d1a3d81473cae21f64a40eecf52",
      "1e5bc4dbc1904921bddd1008438a58a4",
      "793b8f2719104320a02bc045228ee2a9",
      "6ffd6a5dc5b54589b5f4ccce5f806a51",
      "919d9613e1494e3a8e1ed54a4a6027f1",
      "fbf80460b3574c5d9d30b0685f12750e",
      "e422ec28dc404c198ad8833c068555fc",
      "fee849d6891948848411c5c770885b2f",
      "90c2d1aaf59d459cb7efa81f9507129c",
      "14603677efbc4043baf55bfb8fc34c99",
      "ebc9418e7f414bee8744a90b948adc73",
      "f6065ec1286849869070755c3bffc12d",
      "f984061d047b440c8c6ead7d83814574",
      "d4277ce64c264daea33465022bdb8285",
      "99d6679ec91b4323b420bba6f14b1553"
     ]
    },
    "collapsed": true,
    "id": "-tEzV-2K303E",
    "outputId": "a7529f20-3838-4596-a372-1e37e5bd7d58"
   },
   "outputs": [
    {
     "name": "stdout",
     "output_type": "stream",
     "text": [
      "\n",
      "Starting experiment: Gradient Noise\n"
     ]
    },
    {
     "data": {
      "application/vnd.jupyter.widget-view+json": {
       "model_id": "3a7dee13727147928885c508cc64798b",
       "version_major": 2,
       "version_minor": 0
      },
      "text/plain": [
       "Epoch 2/76:   0%|          | 0/566 [00:00<?, ?it/s]"
      ]
     },
     "metadata": {},
     "output_type": "display_data"
    },
    {
     "name": "stdout",
     "output_type": "stream",
     "text": [
      "Epoch 1: Train Loss=0.5620\n"
     ]
    },
    {
     "data": {
      "application/vnd.jupyter.widget-view+json": {
       "model_id": "5358ab46e32649fb8f69a025770861a9",
       "version_major": 2,
       "version_minor": 0
      },
      "text/plain": [
       "Epoch 3/76:   0%|          | 0/566 [00:00<?, ?it/s]"
      ]
     },
     "metadata": {},
     "output_type": "display_data"
    },
    {
     "name": "stdout",
     "output_type": "stream",
     "text": [
      "Epoch 2: Train Loss=0.5620\n"
     ]
    },
    {
     "data": {
      "application/vnd.jupyter.widget-view+json": {
       "model_id": "a8944444f585485e82bb614c1d3d1c9c",
       "version_major": 2,
       "version_minor": 0
      },
      "text/plain": [
       "Epoch 4/76:   0%|          | 0/566 [00:00<?, ?it/s]"
      ]
     },
     "metadata": {},
     "output_type": "display_data"
    },
    {
     "name": "stdout",
     "output_type": "stream",
     "text": [
      "Epoch 3: Train Loss=0.5620\n"
     ]
    },
    {
     "data": {
      "application/vnd.jupyter.widget-view+json": {
       "model_id": "7f9763b6d4b149d28db24976961267d1",
       "version_major": 2,
       "version_minor": 0
      },
      "text/plain": [
       "Epoch 5/76:   0%|          | 0/566 [00:00<?, ?it/s]"
      ]
     },
     "metadata": {},
     "output_type": "display_data"
    },
    {
     "name": "stdout",
     "output_type": "stream",
     "text": [
      "Epoch 4: Train Loss=0.5621\n"
     ]
    },
    {
     "data": {
      "application/vnd.jupyter.widget-view+json": {
       "model_id": "78400bb35e2c48fea920aea6e00e4e61",
       "version_major": 2,
       "version_minor": 0
      },
      "text/plain": [
       "Epoch 6/76:   0%|          | 0/566 [00:00<?, ?it/s]"
      ]
     },
     "metadata": {},
     "output_type": "display_data"
    },
    {
     "name": "stdout",
     "output_type": "stream",
     "text": [
      "Epoch 5: Train Loss=0.5617\n"
     ]
    },
    {
     "data": {
      "application/vnd.jupyter.widget-view+json": {
       "model_id": "353ce551beb743d9baab7aac5d3d7421",
       "version_major": 2,
       "version_minor": 0
      },
      "text/plain": [
       "Epoch 7/76:   0%|          | 0/566 [00:00<?, ?it/s]"
      ]
     },
     "metadata": {},
     "output_type": "display_data"
    },
    {
     "name": "stdout",
     "output_type": "stream",
     "text": [
      "Epoch 6: Train Loss=0.5617\n"
     ]
    },
    {
     "data": {
      "application/vnd.jupyter.widget-view+json": {
       "model_id": "33f78a98814f4647a16bfc3e8682a6cb",
       "version_major": 2,
       "version_minor": 0
      },
      "text/plain": [
       "Epoch 8/76:   0%|          | 0/566 [00:00<?, ?it/s]"
      ]
     },
     "metadata": {},
     "output_type": "display_data"
    },
    {
     "name": "stdout",
     "output_type": "stream",
     "text": [
      "Epoch 7: Train Loss=0.5617\n"
     ]
    },
    {
     "data": {
      "application/vnd.jupyter.widget-view+json": {
       "model_id": "a186843ddc9c49438c985f293bebaeec",
       "version_major": 2,
       "version_minor": 0
      },
      "text/plain": [
       "Epoch 9/76:   0%|          | 0/566 [00:00<?, ?it/s]"
      ]
     },
     "metadata": {},
     "output_type": "display_data"
    },
    {
     "name": "stdout",
     "output_type": "stream",
     "text": [
      "Epoch 8: Train Loss=0.5616\n"
     ]
    },
    {
     "data": {
      "application/vnd.jupyter.widget-view+json": {
       "model_id": "26ca96f299394b8f8b3b663ea3f9c2bb",
       "version_major": 2,
       "version_minor": 0
      },
      "text/plain": [
       "Epoch 10/76:   0%|          | 0/566 [00:00<?, ?it/s]"
      ]
     },
     "metadata": {},
     "output_type": "display_data"
    },
    {
     "name": "stdout",
     "output_type": "stream",
     "text": [
      "Epoch 9: Train Loss=0.5615\n"
     ]
    },
    {
     "data": {
      "application/vnd.jupyter.widget-view+json": {
       "model_id": "e7f4baa8d207434a8bd1e3d77216786a",
       "version_major": 2,
       "version_minor": 0
      },
      "text/plain": [
       "Epoch 11/76:   0%|          | 0/566 [00:00<?, ?it/s]"
      ]
     },
     "metadata": {},
     "output_type": "display_data"
    },
    {
     "name": "stdout",
     "output_type": "stream",
     "text": [
      "Epoch 10: Train Loss=0.5612\n"
     ]
    },
    {
     "data": {
      "application/vnd.jupyter.widget-view+json": {
       "model_id": "d313c2e6fcb649f789f0d1cff26d7dba",
       "version_major": 2,
       "version_minor": 0
      },
      "text/plain": [
       "Epoch 12/76:   0%|          | 0/566 [00:00<?, ?it/s]"
      ]
     },
     "metadata": {},
     "output_type": "display_data"
    },
    {
     "name": "stdout",
     "output_type": "stream",
     "text": [
      "Epoch 11: Train Loss=0.5613\n"
     ]
    },
    {
     "data": {
      "application/vnd.jupyter.widget-view+json": {
       "model_id": "1570ba7759fc499385735f15aa2fa66d",
       "version_major": 2,
       "version_minor": 0
      },
      "text/plain": [
       "Epoch 13/76:   0%|          | 0/566 [00:00<?, ?it/s]"
      ]
     },
     "metadata": {},
     "output_type": "display_data"
    },
    {
     "name": "stdout",
     "output_type": "stream",
     "text": [
      "Epoch 12: Train Loss=0.5609\n"
     ]
    },
    {
     "data": {
      "application/vnd.jupyter.widget-view+json": {
       "model_id": "9564f53f9e0c4a2c82aac27099ace66f",
       "version_major": 2,
       "version_minor": 0
      },
      "text/plain": [
       "Epoch 14/76:   0%|          | 0/566 [00:00<?, ?it/s]"
      ]
     },
     "metadata": {},
     "output_type": "display_data"
    },
    {
     "name": "stdout",
     "output_type": "stream",
     "text": [
      "Epoch 13: Train Loss=0.5604\n"
     ]
    },
    {
     "data": {
      "application/vnd.jupyter.widget-view+json": {
       "model_id": "58317f4b96f34c0e871c96b9cc3a407d",
       "version_major": 2,
       "version_minor": 0
      },
      "text/plain": [
       "Epoch 15/76:   0%|          | 0/566 [00:00<?, ?it/s]"
      ]
     },
     "metadata": {},
     "output_type": "display_data"
    },
    {
     "name": "stdout",
     "output_type": "stream",
     "text": [
      "Epoch 14: Train Loss=0.5600\n"
     ]
    },
    {
     "data": {
      "application/vnd.jupyter.widget-view+json": {
       "model_id": "dd46965f716f4c4983589d93c2486383",
       "version_major": 2,
       "version_minor": 0
      },
      "text/plain": [
       "Epoch 16/76:   0%|          | 0/566 [00:00<?, ?it/s]"
      ]
     },
     "metadata": {},
     "output_type": "display_data"
    },
    {
     "name": "stdout",
     "output_type": "stream",
     "text": [
      "Epoch 15: Train Loss=0.5581\n"
     ]
    },
    {
     "data": {
      "application/vnd.jupyter.widget-view+json": {
       "model_id": "6f31e43ddaf149dea7ae359c953f7cb3",
       "version_major": 2,
       "version_minor": 0
      },
      "text/plain": [
       "Epoch 17/76:   0%|          | 0/566 [00:00<?, ?it/s]"
      ]
     },
     "metadata": {},
     "output_type": "display_data"
    },
    {
     "name": "stdout",
     "output_type": "stream",
     "text": [
      "Epoch 16: Train Loss=0.5548\n"
     ]
    },
    {
     "data": {
      "application/vnd.jupyter.widget-view+json": {
       "model_id": "e88b017570d94aaaabe9032ef6632f40",
       "version_major": 2,
       "version_minor": 0
      },
      "text/plain": [
       "Epoch 18/76:   0%|          | 0/566 [00:00<?, ?it/s]"
      ]
     },
     "metadata": {},
     "output_type": "display_data"
    },
    {
     "name": "stdout",
     "output_type": "stream",
     "text": [
      "Epoch 17: Train Loss=0.5380\n"
     ]
    },
    {
     "data": {
      "application/vnd.jupyter.widget-view+json": {
       "model_id": "942ee939b27c4c25a4b24f1a6073787f",
       "version_major": 2,
       "version_minor": 0
      },
      "text/plain": [
       "Epoch 19/76:   0%|          | 0/566 [00:00<?, ?it/s]"
      ]
     },
     "metadata": {},
     "output_type": "display_data"
    },
    {
     "name": "stdout",
     "output_type": "stream",
     "text": [
      "Epoch 18: Train Loss=0.4352\n"
     ]
    },
    {
     "data": {
      "application/vnd.jupyter.widget-view+json": {
       "model_id": "85b8a3e6168d4bae9cf811a7bea1ecd6",
       "version_major": 2,
       "version_minor": 0
      },
      "text/plain": [
       "Epoch 20/76:   0%|          | 0/566 [00:00<?, ?it/s]"
      ]
     },
     "metadata": {},
     "output_type": "display_data"
    },
    {
     "name": "stdout",
     "output_type": "stream",
     "text": [
      "Epoch 19: Train Loss=0.3539\n"
     ]
    },
    {
     "data": {
      "application/vnd.jupyter.widget-view+json": {
       "model_id": "965e67d3f65844bb9dde09e6119ba85b",
       "version_major": 2,
       "version_minor": 0
      },
      "text/plain": [
       "Epoch 21/76:   0%|          | 0/566 [00:00<?, ?it/s]"
      ]
     },
     "metadata": {},
     "output_type": "display_data"
    },
    {
     "name": "stdout",
     "output_type": "stream",
     "text": [
      "Epoch 20: Train Loss=0.3433\n"
     ]
    },
    {
     "data": {
      "application/vnd.jupyter.widget-view+json": {
       "model_id": "35a1cc8348a64d269a5525f56921e6b8",
       "version_major": 2,
       "version_minor": 0
      },
      "text/plain": [
       "Epoch 22/76:   0%|          | 0/566 [00:00<?, ?it/s]"
      ]
     },
     "metadata": {},
     "output_type": "display_data"
    },
    {
     "name": "stdout",
     "output_type": "stream",
     "text": [
      "Epoch 21: Train Loss=0.3385\n"
     ]
    },
    {
     "data": {
      "application/vnd.jupyter.widget-view+json": {
       "model_id": "627a62a996c6429dbfee977710abf32e",
       "version_major": 2,
       "version_minor": 0
      },
      "text/plain": [
       "Epoch 23/76:   0%|          | 0/566 [00:00<?, ?it/s]"
      ]
     },
     "metadata": {},
     "output_type": "display_data"
    },
    {
     "name": "stdout",
     "output_type": "stream",
     "text": [
      "Epoch 22: Train Loss=0.3355\n"
     ]
    },
    {
     "data": {
      "application/vnd.jupyter.widget-view+json": {
       "model_id": "5b59218894294163a3a3ca778bfbbd01",
       "version_major": 2,
       "version_minor": 0
      },
      "text/plain": [
       "Epoch 24/76:   0%|          | 0/566 [00:00<?, ?it/s]"
      ]
     },
     "metadata": {},
     "output_type": "display_data"
    },
    {
     "name": "stdout",
     "output_type": "stream",
     "text": [
      "Epoch 23: Train Loss=0.3327\n"
     ]
    },
    {
     "data": {
      "application/vnd.jupyter.widget-view+json": {
       "model_id": "a863c8a4a6484c1784493058dd822c36",
       "version_major": 2,
       "version_minor": 0
      },
      "text/plain": [
       "Epoch 25/76:   0%|          | 0/566 [00:00<?, ?it/s]"
      ]
     },
     "metadata": {},
     "output_type": "display_data"
    },
    {
     "name": "stdout",
     "output_type": "stream",
     "text": [
      "Epoch 24: Train Loss=0.3312\n"
     ]
    },
    {
     "data": {
      "application/vnd.jupyter.widget-view+json": {
       "model_id": "6c0b7c1a77c44d97bac7bea344dbc647",
       "version_major": 2,
       "version_minor": 0
      },
      "text/plain": [
       "Epoch 26/76:   0%|          | 0/566 [00:00<?, ?it/s]"
      ]
     },
     "metadata": {},
     "output_type": "display_data"
    },
    {
     "name": "stdout",
     "output_type": "stream",
     "text": [
      "Epoch 25: Train Loss=0.3300\n"
     ]
    },
    {
     "data": {
      "application/vnd.jupyter.widget-view+json": {
       "model_id": "63124548dac54a6da04b9e0468b7a41e",
       "version_major": 2,
       "version_minor": 0
      },
      "text/plain": [
       "Epoch 27/76:   0%|          | 0/566 [00:00<?, ?it/s]"
      ]
     },
     "metadata": {},
     "output_type": "display_data"
    },
    {
     "name": "stdout",
     "output_type": "stream",
     "text": [
      "Epoch 26: Train Loss=0.3288\n"
     ]
    },
    {
     "data": {
      "application/vnd.jupyter.widget-view+json": {
       "model_id": "8cf11a619a8e42b78aaf3d7ebb98ede8",
       "version_major": 2,
       "version_minor": 0
      },
      "text/plain": [
       "Epoch 28/76:   0%|          | 0/566 [00:00<?, ?it/s]"
      ]
     },
     "metadata": {},
     "output_type": "display_data"
    },
    {
     "name": "stdout",
     "output_type": "stream",
     "text": [
      "Epoch 27: Train Loss=0.3267\n"
     ]
    },
    {
     "data": {
      "application/vnd.jupyter.widget-view+json": {
       "model_id": "56568463cd02446b9509e05c40379ae0",
       "version_major": 2,
       "version_minor": 0
      },
      "text/plain": [
       "Epoch 29/76:   0%|          | 0/566 [00:00<?, ?it/s]"
      ]
     },
     "metadata": {},
     "output_type": "display_data"
    },
    {
     "name": "stdout",
     "output_type": "stream",
     "text": [
      "Epoch 28: Train Loss=0.3273\n"
     ]
    },
    {
     "data": {
      "application/vnd.jupyter.widget-view+json": {
       "model_id": "e75ef36958f64c869effa56046791dc4",
       "version_major": 2,
       "version_minor": 0
      },
      "text/plain": [
       "Epoch 30/76:   0%|          | 0/566 [00:00<?, ?it/s]"
      ]
     },
     "metadata": {},
     "output_type": "display_data"
    },
    {
     "name": "stdout",
     "output_type": "stream",
     "text": [
      "Epoch 29: Train Loss=0.3263\n"
     ]
    },
    {
     "data": {
      "application/vnd.jupyter.widget-view+json": {
       "model_id": "85b1873b38a64e319bce8b5885c4aa77",
       "version_major": 2,
       "version_minor": 0
      },
      "text/plain": [
       "Epoch 31/76:   0%|          | 0/566 [00:00<?, ?it/s]"
      ]
     },
     "metadata": {},
     "output_type": "display_data"
    },
    {
     "name": "stdout",
     "output_type": "stream",
     "text": [
      "Epoch 30: Train Loss=0.3250\n"
     ]
    },
    {
     "data": {
      "application/vnd.jupyter.widget-view+json": {
       "model_id": "c776a30fad124204b69d490d51527657",
       "version_major": 2,
       "version_minor": 0
      },
      "text/plain": [
       "Epoch 32/76:   0%|          | 0/566 [00:00<?, ?it/s]"
      ]
     },
     "metadata": {},
     "output_type": "display_data"
    },
    {
     "name": "stdout",
     "output_type": "stream",
     "text": [
      "Epoch 31: Train Loss=0.3256\n"
     ]
    },
    {
     "data": {
      "application/vnd.jupyter.widget-view+json": {
       "model_id": "3a36ca70c45f4e68a5c4cb0c545ff054",
       "version_major": 2,
       "version_minor": 0
      },
      "text/plain": [
       "Epoch 33/76:   0%|          | 0/566 [00:00<?, ?it/s]"
      ]
     },
     "metadata": {},
     "output_type": "display_data"
    },
    {
     "name": "stdout",
     "output_type": "stream",
     "text": [
      "Epoch 32: Train Loss=0.3244\n"
     ]
    },
    {
     "data": {
      "application/vnd.jupyter.widget-view+json": {
       "model_id": "59bf5e5dc60e419ca276a4590c35d9bf",
       "version_major": 2,
       "version_minor": 0
      },
      "text/plain": [
       "Epoch 34/76:   0%|          | 0/566 [00:00<?, ?it/s]"
      ]
     },
     "metadata": {},
     "output_type": "display_data"
    },
    {
     "name": "stdout",
     "output_type": "stream",
     "text": [
      "Epoch 33: Train Loss=0.3243\n"
     ]
    },
    {
     "data": {
      "application/vnd.jupyter.widget-view+json": {
       "model_id": "730db3098886400e8b71d497f2978ff2",
       "version_major": 2,
       "version_minor": 0
      },
      "text/plain": [
       "Epoch 35/76:   0%|          | 0/566 [00:00<?, ?it/s]"
      ]
     },
     "metadata": {},
     "output_type": "display_data"
    },
    {
     "name": "stdout",
     "output_type": "stream",
     "text": [
      "Epoch 34: Train Loss=0.3234\n"
     ]
    },
    {
     "data": {
      "application/vnd.jupyter.widget-view+json": {
       "model_id": "44aea03623fc40698bedfa41babd982e",
       "version_major": 2,
       "version_minor": 0
      },
      "text/plain": [
       "Epoch 36/76:   0%|          | 0/566 [00:00<?, ?it/s]"
      ]
     },
     "metadata": {},
     "output_type": "display_data"
    },
    {
     "name": "stdout",
     "output_type": "stream",
     "text": [
      "Epoch 35: Train Loss=0.3232\n"
     ]
    },
    {
     "data": {
      "application/vnd.jupyter.widget-view+json": {
       "model_id": "71ec7b5ac974407a8911b77c72eb30d1",
       "version_major": 2,
       "version_minor": 0
      },
      "text/plain": [
       "Epoch 37/76:   0%|          | 0/566 [00:00<?, ?it/s]"
      ]
     },
     "metadata": {},
     "output_type": "display_data"
    },
    {
     "name": "stdout",
     "output_type": "stream",
     "text": [
      "Epoch 36: Train Loss=0.3228\n"
     ]
    },
    {
     "data": {
      "application/vnd.jupyter.widget-view+json": {
       "model_id": "43717849dc994f2088c115a56ee65521",
       "version_major": 2,
       "version_minor": 0
      },
      "text/plain": [
       "Epoch 38/76:   0%|          | 0/566 [00:00<?, ?it/s]"
      ]
     },
     "metadata": {},
     "output_type": "display_data"
    },
    {
     "name": "stdout",
     "output_type": "stream",
     "text": [
      "Epoch 37: Train Loss=0.3218\n"
     ]
    },
    {
     "data": {
      "application/vnd.jupyter.widget-view+json": {
       "model_id": "50ffb4571d3b4276a3472c4d41c64637",
       "version_major": 2,
       "version_minor": 0
      },
      "text/plain": [
       "Epoch 39/76:   0%|          | 0/566 [00:00<?, ?it/s]"
      ]
     },
     "metadata": {},
     "output_type": "display_data"
    },
    {
     "name": "stdout",
     "output_type": "stream",
     "text": [
      "Epoch 38: Train Loss=0.3221\n"
     ]
    },
    {
     "data": {
      "application/vnd.jupyter.widget-view+json": {
       "model_id": "60f126366bc14d2dbebb9f3b48af0b88",
       "version_major": 2,
       "version_minor": 0
      },
      "text/plain": [
       "Epoch 40/76:   0%|          | 0/566 [00:00<?, ?it/s]"
      ]
     },
     "metadata": {},
     "output_type": "display_data"
    },
    {
     "name": "stdout",
     "output_type": "stream",
     "text": [
      "Epoch 39: Train Loss=0.3204\n"
     ]
    },
    {
     "data": {
      "application/vnd.jupyter.widget-view+json": {
       "model_id": "3fe0f34997db4086b0c50776ee0c5f6e",
       "version_major": 2,
       "version_minor": 0
      },
      "text/plain": [
       "Epoch 41/76:   0%|          | 0/566 [00:00<?, ?it/s]"
      ]
     },
     "metadata": {},
     "output_type": "display_data"
    },
    {
     "name": "stdout",
     "output_type": "stream",
     "text": [
      "Epoch 40: Train Loss=0.3206\n"
     ]
    },
    {
     "data": {
      "application/vnd.jupyter.widget-view+json": {
       "model_id": "c5d8d50c68ab4f549b61867953e6c955",
       "version_major": 2,
       "version_minor": 0
      },
      "text/plain": [
       "Epoch 42/76:   0%|          | 0/566 [00:00<?, ?it/s]"
      ]
     },
     "metadata": {},
     "output_type": "display_data"
    },
    {
     "name": "stdout",
     "output_type": "stream",
     "text": [
      "Epoch 41: Train Loss=0.3199\n"
     ]
    },
    {
     "data": {
      "application/vnd.jupyter.widget-view+json": {
       "model_id": "fa03952931e44307ab6f25f7b671d396",
       "version_major": 2,
       "version_minor": 0
      },
      "text/plain": [
       "Epoch 43/76:   0%|          | 0/566 [00:00<?, ?it/s]"
      ]
     },
     "metadata": {},
     "output_type": "display_data"
    },
    {
     "name": "stdout",
     "output_type": "stream",
     "text": [
      "Epoch 42: Train Loss=0.3189\n"
     ]
    },
    {
     "data": {
      "application/vnd.jupyter.widget-view+json": {
       "model_id": "1d0d713f3e1842cfa7af2b4021c98e84",
       "version_major": 2,
       "version_minor": 0
      },
      "text/plain": [
       "Epoch 44/76:   0%|          | 0/566 [00:00<?, ?it/s]"
      ]
     },
     "metadata": {},
     "output_type": "display_data"
    },
    {
     "name": "stdout",
     "output_type": "stream",
     "text": [
      "Epoch 43: Train Loss=0.3189\n"
     ]
    },
    {
     "data": {
      "application/vnd.jupyter.widget-view+json": {
       "model_id": "c6902305c72c4669a9293db6c6d812c3",
       "version_major": 2,
       "version_minor": 0
      },
      "text/plain": [
       "Epoch 45/76:   0%|          | 0/566 [00:00<?, ?it/s]"
      ]
     },
     "metadata": {},
     "output_type": "display_data"
    },
    {
     "name": "stdout",
     "output_type": "stream",
     "text": [
      "Epoch 44: Train Loss=0.3183\n"
     ]
    },
    {
     "data": {
      "application/vnd.jupyter.widget-view+json": {
       "model_id": "6680ae08f78a46e8befe8d1c9049d18a",
       "version_major": 2,
       "version_minor": 0
      },
      "text/plain": [
       "Epoch 46/76:   0%|          | 0/566 [00:00<?, ?it/s]"
      ]
     },
     "metadata": {},
     "output_type": "display_data"
    },
    {
     "name": "stdout",
     "output_type": "stream",
     "text": [
      "Epoch 45: Train Loss=0.3181\n"
     ]
    },
    {
     "data": {
      "application/vnd.jupyter.widget-view+json": {
       "model_id": "f43760f4e4044f059a81443607e7e481",
       "version_major": 2,
       "version_minor": 0
      },
      "text/plain": [
       "Epoch 47/76:   0%|          | 0/566 [00:00<?, ?it/s]"
      ]
     },
     "metadata": {},
     "output_type": "display_data"
    },
    {
     "name": "stdout",
     "output_type": "stream",
     "text": [
      "Epoch 46: Train Loss=0.3175\n"
     ]
    },
    {
     "data": {
      "application/vnd.jupyter.widget-view+json": {
       "model_id": "d48a7bba7aed4b36a55e9edf8c45ac9e",
       "version_major": 2,
       "version_minor": 0
      },
      "text/plain": [
       "Epoch 48/76:   0%|          | 0/566 [00:00<?, ?it/s]"
      ]
     },
     "metadata": {},
     "output_type": "display_data"
    },
    {
     "name": "stdout",
     "output_type": "stream",
     "text": [
      "Epoch 47: Train Loss=0.3163\n"
     ]
    },
    {
     "data": {
      "application/vnd.jupyter.widget-view+json": {
       "model_id": "509738733ea042da9f39502b59b5aa55",
       "version_major": 2,
       "version_minor": 0
      },
      "text/plain": [
       "Epoch 49/76:   0%|          | 0/566 [00:00<?, ?it/s]"
      ]
     },
     "metadata": {},
     "output_type": "display_data"
    },
    {
     "name": "stdout",
     "output_type": "stream",
     "text": [
      "Epoch 48: Train Loss=0.3165\n"
     ]
    },
    {
     "data": {
      "application/vnd.jupyter.widget-view+json": {
       "model_id": "8333591ec5744a6dade390d42a309911",
       "version_major": 2,
       "version_minor": 0
      },
      "text/plain": [
       "Epoch 50/76:   0%|          | 0/566 [00:00<?, ?it/s]"
      ]
     },
     "metadata": {},
     "output_type": "display_data"
    },
    {
     "name": "stdout",
     "output_type": "stream",
     "text": [
      "Epoch 49: Train Loss=0.3157\n"
     ]
    },
    {
     "data": {
      "application/vnd.jupyter.widget-view+json": {
       "model_id": "311d7511f9ff475ba493029b6aa3a525",
       "version_major": 2,
       "version_minor": 0
      },
      "text/plain": [
       "Epoch 51/76:   0%|          | 0/566 [00:00<?, ?it/s]"
      ]
     },
     "metadata": {},
     "output_type": "display_data"
    },
    {
     "name": "stdout",
     "output_type": "stream",
     "text": [
      "Epoch 50: Train Loss=0.3158\n"
     ]
    },
    {
     "data": {
      "application/vnd.jupyter.widget-view+json": {
       "model_id": "21c91aa6f4124c83a00bd1a8e62db797",
       "version_major": 2,
       "version_minor": 0
      },
      "text/plain": [
       "Epoch 52/76:   0%|          | 0/566 [00:00<?, ?it/s]"
      ]
     },
     "metadata": {},
     "output_type": "display_data"
    },
    {
     "name": "stdout",
     "output_type": "stream",
     "text": [
      "Epoch 51: Train Loss=0.3142\n"
     ]
    },
    {
     "data": {
      "application/vnd.jupyter.widget-view+json": {
       "model_id": "5e3560f1a79644bea57421a85e6565e9",
       "version_major": 2,
       "version_minor": 0
      },
      "text/plain": [
       "Epoch 53/76:   0%|          | 0/566 [00:00<?, ?it/s]"
      ]
     },
     "metadata": {},
     "output_type": "display_data"
    },
    {
     "name": "stdout",
     "output_type": "stream",
     "text": [
      "Epoch 52: Train Loss=0.3147\n"
     ]
    },
    {
     "data": {
      "application/vnd.jupyter.widget-view+json": {
       "model_id": "bf3d2dd8205f471bbe59672d6d9bbf65",
       "version_major": 2,
       "version_minor": 0
      },
      "text/plain": [
       "Epoch 54/76:   0%|          | 0/566 [00:00<?, ?it/s]"
      ]
     },
     "metadata": {},
     "output_type": "display_data"
    },
    {
     "name": "stdout",
     "output_type": "stream",
     "text": [
      "Epoch 53: Train Loss=0.3142\n"
     ]
    },
    {
     "data": {
      "application/vnd.jupyter.widget-view+json": {
       "model_id": "3278acc8ba4744ca9dc016e1ff19b72b",
       "version_major": 2,
       "version_minor": 0
      },
      "text/plain": [
       "Epoch 55/76:   0%|          | 0/566 [00:00<?, ?it/s]"
      ]
     },
     "metadata": {},
     "output_type": "display_data"
    },
    {
     "name": "stdout",
     "output_type": "stream",
     "text": [
      "Epoch 54: Train Loss=0.3129\n"
     ]
    },
    {
     "data": {
      "application/vnd.jupyter.widget-view+json": {
       "model_id": "6494b01c819a4e27b62c6362d3f8f0e5",
       "version_major": 2,
       "version_minor": 0
      },
      "text/plain": [
       "Epoch 56/76:   0%|          | 0/566 [00:00<?, ?it/s]"
      ]
     },
     "metadata": {},
     "output_type": "display_data"
    },
    {
     "name": "stdout",
     "output_type": "stream",
     "text": [
      "Epoch 55: Train Loss=0.3135\n"
     ]
    },
    {
     "data": {
      "application/vnd.jupyter.widget-view+json": {
       "model_id": "9eba1554bc1a44779d580b6614e885e1",
       "version_major": 2,
       "version_minor": 0
      },
      "text/plain": [
       "Epoch 57/76:   0%|          | 0/566 [00:00<?, ?it/s]"
      ]
     },
     "metadata": {},
     "output_type": "display_data"
    },
    {
     "name": "stdout",
     "output_type": "stream",
     "text": [
      "Epoch 56: Train Loss=0.3128\n"
     ]
    },
    {
     "data": {
      "application/vnd.jupyter.widget-view+json": {
       "model_id": "b7bd06c140f54825843dccce65169339",
       "version_major": 2,
       "version_minor": 0
      },
      "text/plain": [
       "Epoch 58/76:   0%|          | 0/566 [00:00<?, ?it/s]"
      ]
     },
     "metadata": {},
     "output_type": "display_data"
    },
    {
     "name": "stdout",
     "output_type": "stream",
     "text": [
      "Epoch 57: Train Loss=0.3112\n"
     ]
    },
    {
     "data": {
      "application/vnd.jupyter.widget-view+json": {
       "model_id": "b0a5d80f779d4a0a9fc3ffea116c9b26",
       "version_major": 2,
       "version_minor": 0
      },
      "text/plain": [
       "Epoch 59/76:   0%|          | 0/566 [00:00<?, ?it/s]"
      ]
     },
     "metadata": {},
     "output_type": "display_data"
    },
    {
     "name": "stdout",
     "output_type": "stream",
     "text": [
      "Epoch 58: Train Loss=0.3115\n"
     ]
    },
    {
     "data": {
      "application/vnd.jupyter.widget-view+json": {
       "model_id": "e2852b680a72432cb78ea39ca7206323",
       "version_major": 2,
       "version_minor": 0
      },
      "text/plain": [
       "Epoch 60/76:   0%|          | 0/566 [00:00<?, ?it/s]"
      ]
     },
     "metadata": {},
     "output_type": "display_data"
    },
    {
     "name": "stdout",
     "output_type": "stream",
     "text": [
      "Epoch 59: Train Loss=0.3111\n"
     ]
    },
    {
     "data": {
      "application/vnd.jupyter.widget-view+json": {
       "model_id": "29a3ac5f2ef643cc881c304b7d568f0d",
       "version_major": 2,
       "version_minor": 0
      },
      "text/plain": [
       "Epoch 61/76:   0%|          | 0/566 [00:00<?, ?it/s]"
      ]
     },
     "metadata": {},
     "output_type": "display_data"
    },
    {
     "name": "stdout",
     "output_type": "stream",
     "text": [
      "Epoch 60: Train Loss=0.3113\n"
     ]
    },
    {
     "data": {
      "application/vnd.jupyter.widget-view+json": {
       "model_id": "c0b89d0ba92e4768a9a0b63c9718cb3e",
       "version_major": 2,
       "version_minor": 0
      },
      "text/plain": [
       "Epoch 62/76:   0%|          | 0/566 [00:00<?, ?it/s]"
      ]
     },
     "metadata": {},
     "output_type": "display_data"
    },
    {
     "name": "stdout",
     "output_type": "stream",
     "text": [
      "Epoch 61: Train Loss=0.3103\n"
     ]
    },
    {
     "data": {
      "application/vnd.jupyter.widget-view+json": {
       "model_id": "d16e43e4e854478884adad4ea9ab2d5b",
       "version_major": 2,
       "version_minor": 0
      },
      "text/plain": [
       "Epoch 63/76:   0%|          | 0/566 [00:00<?, ?it/s]"
      ]
     },
     "metadata": {},
     "output_type": "display_data"
    },
    {
     "name": "stdout",
     "output_type": "stream",
     "text": [
      "Epoch 62: Train Loss=0.3100\n"
     ]
    },
    {
     "data": {
      "application/vnd.jupyter.widget-view+json": {
       "model_id": "7b0d078a2da3479392c189f92add25aa",
       "version_major": 2,
       "version_minor": 0
      },
      "text/plain": [
       "Epoch 64/76:   0%|          | 0/566 [00:00<?, ?it/s]"
      ]
     },
     "metadata": {},
     "output_type": "display_data"
    },
    {
     "name": "stdout",
     "output_type": "stream",
     "text": [
      "Epoch 63: Train Loss=0.3091\n"
     ]
    },
    {
     "data": {
      "application/vnd.jupyter.widget-view+json": {
       "model_id": "e942775c9c044aa785c24c14809e87e9",
       "version_major": 2,
       "version_minor": 0
      },
      "text/plain": [
       "Epoch 65/76:   0%|          | 0/566 [00:00<?, ?it/s]"
      ]
     },
     "metadata": {},
     "output_type": "display_data"
    },
    {
     "name": "stdout",
     "output_type": "stream",
     "text": [
      "Epoch 64: Train Loss=0.3089\n"
     ]
    },
    {
     "data": {
      "application/vnd.jupyter.widget-view+json": {
       "model_id": "9470152c6a934cc9a8a46e246098495a",
       "version_major": 2,
       "version_minor": 0
      },
      "text/plain": [
       "Epoch 66/76:   0%|          | 0/566 [00:00<?, ?it/s]"
      ]
     },
     "metadata": {},
     "output_type": "display_data"
    },
    {
     "name": "stdout",
     "output_type": "stream",
     "text": [
      "Epoch 65: Train Loss=0.3082\n"
     ]
    },
    {
     "data": {
      "application/vnd.jupyter.widget-view+json": {
       "model_id": "08752c47817d487e95b2387e29057757",
       "version_major": 2,
       "version_minor": 0
      },
      "text/plain": [
       "Epoch 67/76:   0%|          | 0/566 [00:00<?, ?it/s]"
      ]
     },
     "metadata": {},
     "output_type": "display_data"
    },
    {
     "name": "stdout",
     "output_type": "stream",
     "text": [
      "Epoch 66: Train Loss=0.3080\n"
     ]
    },
    {
     "data": {
      "application/vnd.jupyter.widget-view+json": {
       "model_id": "1370f4f0f6af4e538089208361b63c9a",
       "version_major": 2,
       "version_minor": 0
      },
      "text/plain": [
       "Epoch 68/76:   0%|          | 0/566 [00:00<?, ?it/s]"
      ]
     },
     "metadata": {},
     "output_type": "display_data"
    },
    {
     "name": "stdout",
     "output_type": "stream",
     "text": [
      "Epoch 67: Train Loss=0.3076\n"
     ]
    },
    {
     "data": {
      "application/vnd.jupyter.widget-view+json": {
       "model_id": "3cd65f1e24144b89a6970180fea095b3",
       "version_major": 2,
       "version_minor": 0
      },
      "text/plain": [
       "Epoch 69/76:   0%|          | 0/566 [00:00<?, ?it/s]"
      ]
     },
     "metadata": {},
     "output_type": "display_data"
    },
    {
     "name": "stdout",
     "output_type": "stream",
     "text": [
      "Epoch 68: Train Loss=0.3070\n"
     ]
    },
    {
     "data": {
      "application/vnd.jupyter.widget-view+json": {
       "model_id": "a1aed0f5f19f4469a554e30ed20ecdb9",
       "version_major": 2,
       "version_minor": 0
      },
      "text/plain": [
       "Epoch 70/76:   0%|          | 0/566 [00:00<?, ?it/s]"
      ]
     },
     "metadata": {},
     "output_type": "display_data"
    },
    {
     "name": "stdout",
     "output_type": "stream",
     "text": [
      "Epoch 69: Train Loss=0.3072\n"
     ]
    },
    {
     "data": {
      "application/vnd.jupyter.widget-view+json": {
       "model_id": "769fef59b3264bc3a299ecc1a1a51492",
       "version_major": 2,
       "version_minor": 0
      },
      "text/plain": [
       "Epoch 71/76:   0%|          | 0/566 [00:00<?, ?it/s]"
      ]
     },
     "metadata": {},
     "output_type": "display_data"
    },
    {
     "name": "stdout",
     "output_type": "stream",
     "text": [
      "Epoch 70: Train Loss=0.3069\n"
     ]
    },
    {
     "data": {
      "application/vnd.jupyter.widget-view+json": {
       "model_id": "2b69d7bbf6e74615a14aec6ea0deb1af",
       "version_major": 2,
       "version_minor": 0
      },
      "text/plain": [
       "Epoch 72/76:   0%|          | 0/566 [00:00<?, ?it/s]"
      ]
     },
     "metadata": {},
     "output_type": "display_data"
    },
    {
     "name": "stdout",
     "output_type": "stream",
     "text": [
      "Epoch 71: Train Loss=0.3058\n"
     ]
    },
    {
     "data": {
      "application/vnd.jupyter.widget-view+json": {
       "model_id": "8f7ae73d47fa4b01b9fd3b7d400ebb6c",
       "version_major": 2,
       "version_minor": 0
      },
      "text/plain": [
       "Epoch 73/76:   0%|          | 0/566 [00:00<?, ?it/s]"
      ]
     },
     "metadata": {},
     "output_type": "display_data"
    },
    {
     "name": "stdout",
     "output_type": "stream",
     "text": [
      "Epoch 72: Train Loss=0.3057\n"
     ]
    },
    {
     "data": {
      "application/vnd.jupyter.widget-view+json": {
       "model_id": "760d635b97c84c7e913a5cc58f63b2f5",
       "version_major": 2,
       "version_minor": 0
      },
      "text/plain": [
       "Epoch 74/76:   0%|          | 0/566 [00:00<?, ?it/s]"
      ]
     },
     "metadata": {},
     "output_type": "display_data"
    },
    {
     "name": "stdout",
     "output_type": "stream",
     "text": [
      "Epoch 73: Train Loss=0.3058\n"
     ]
    },
    {
     "data": {
      "application/vnd.jupyter.widget-view+json": {
       "model_id": "2a6e48cd86024c20b5a6b48dae5abf1d",
       "version_major": 2,
       "version_minor": 0
      },
      "text/plain": [
       "Epoch 75/76:   0%|          | 0/566 [00:00<?, ?it/s]"
      ]
     },
     "metadata": {},
     "output_type": "display_data"
    },
    {
     "name": "stdout",
     "output_type": "stream",
     "text": [
      "Epoch 74: Train Loss=0.3052\n"
     ]
    },
    {
     "data": {
      "application/vnd.jupyter.widget-view+json": {
       "model_id": "919d9613e1494e3a8e1ed54a4a6027f1",
       "version_major": 2,
       "version_minor": 0
      },
      "text/plain": [
       "Epoch 76/76:   0%|          | 0/566 [00:00<?, ?it/s]"
      ]
     },
     "metadata": {},
     "output_type": "display_data"
    },
    {
     "name": "stdout",
     "output_type": "stream",
     "text": [
      "Epoch 75: Train Loss=0.3050\n",
      "\n",
      "Training completed in 142.43 seconds.\n"
     ]
    },
    {
     "data": {
      "image/png": "[encoded data removed]",
      "text/plain": [
       "<Figure size 640x480 with 1 Axes>"
      ]
     },
     "metadata": {},
     "output_type": "display_data"
    },
    {
     "name": "stdout",
     "output_type": "stream",
     "text": [
      "Test Accuracy: 0.8472\n"
     ]
    }
   ],
   "source": [
    "# Training\n",
    "grad_noise_trained_model = run_experiment(\"Gradient Noise\", test_loader, train_loader, neurons_per_layer, amount_layers, activation, learning_rate, epochs, dropout_rate=0.0, weight_decay=0.0, grad_noise_std=0.01)\n"
   ]
  },
  {
   "cell_type": "markdown",
   "metadata": {
    "id": "WWMYvWzLMRQB"
   },
   "source": [
    "# ASGD"
   ]
  },
  {
   "cell_type": "code",
   "execution_count": 48,
   "metadata": {
    "id": "1SHLc30_MU-h"
   },
   "outputs": [],
   "source": [
    "# Hyperparameters\n",
    "layers = 4\n",
    "neurons = 64\n",
    "activation = 'sigmoid'\n",
    "dropout_rate = 0.0\n",
    "learning_rate = 0.065\n",
    "num_workers = 4\n",
    "epochs_ASGD = epochs//num_workers      # should epochs_ASGD = pochs/num_workers to get equal amount of updates as regular?\n",
    "batch_size = 64"
   ]
  },
  {
   "cell_type": "code",
   "execution_count": 49,
   "metadata": {
    "colab": {
     "base_uri": "https://localhost:8080/"
    },
    "id": "0iBZR-qiNTlB",
    "outputId": "580e2862-9e17-4bce-a4cf-ed741ddc1dce"
   },
   "outputs": [
    {
     "data": {
      "text/plain": [
       "MLP(\n",
       "  (hidden_layers): ModuleList(\n",
       "    (0): Linear(in_features=105, out_features=64, bias=True)\n",
       "    (1-3): 3 x Linear(in_features=64, out_features=64, bias=True)\n",
       "  )\n",
       "  (activation): Sigmoid()\n",
       "  (output_layer): Linear(in_features=64, out_features=2, bias=True)\n",
       ")"
      ]
     },
     "execution_count": 49,
     "metadata": {},
     "output_type": "execute_result"
    }
   ],
   "source": [
    "# Initialize model and move it to shared memory\n",
    "\n",
    "model = MLP(input_dim, num_classes, layers, neurons, activation, dropout_rate)\n",
    "model.share_memory()  # allow multiprocessing to access the model's parameters"
   ]
  },
  {
   "cell_type": "code",
   "execution_count": 50,
   "metadata": {
    "id": "X6ngAAwyNlkS"
   },
   "outputs": [],
   "source": [
    "def train_worker(rank, shared_model, optimizer, train_data, epochs, device):\n",
    "    # Create a DataLoader for this worker (here using a simple TensorDataset)\n",
    "    train_loader = DataLoader(train_data, batch_size, shuffle=True)\n",
    "    criterion = nn.CrossEntropyLoss()\n",
    "\n",
    "    shared_model.to(device)\n",
    "    for epoch in range(epochs):\n",
    "        for batch_x, batch_y in train_loader:\n",
    "            batch_x, batch_y = batch_x.to(device), batch_y.to(device)\n",
    "            optimizer.zero_grad()\n",
    "            output = shared_model(batch_x)\n",
    "            loss = criterion(output, batch_y)\n",
    "            loss.backward()\n",
    "            optimizer.step()\n",
    "        print(f\"Worker {rank} finished epoch {epoch+1}\")"
   ]
  },
  {
   "cell_type": "markdown",
   "metadata": {
    "id": "u9sf4P_sTbQE"
   },
   "source": [
    "Currently all workers access the same shared dataset concurrently and process it in batches for full epochs."
   ]
  },
  {
   "cell_type": "code",
   "execution_count": 52,
   "metadata": {
    "colab": {
     "base_uri": "https://localhost:8080/"
    },
    "id": "a017vl2bN8_h",
    "outputId": "2ad94ff0-acc5-43cd-a595-19db35bc8ca0"
   },
   "outputs": [
    {
     "name": "stdout",
     "output_type": "stream",
     "text": [
      "Worker 2 finished epoch 1Worker 3 finished epoch 1\n",
      "\n",
      "Worker 1 finished epoch 1\n",
      "Worker 0 finished epoch 1\n",
      "Worker 3 finished epoch 2\n",
      "Worker 2 finished epoch 2Worker 0 finished epoch 2\n",
      "\n",
      "Worker 1 finished epoch 2\n",
      "Worker 2 finished epoch 3\n",
      "Worker 3 finished epoch 3\n",
      "Worker 1 finished epoch 3\n",
      "Worker 0 finished epoch 3\n",
      "Worker 3 finished epoch 4\n",
      "Worker 1 finished epoch 4\n",
      "Worker 2 finished epoch 4\n",
      "Worker 0 finished epoch 4\n",
      "Worker 1 finished epoch 5\n",
      "Worker 2 finished epoch 5\n",
      "Worker 3 finished epoch 5\n",
      "Worker 0 finished epoch 5\n",
      "Worker 1 finished epoch 6\n",
      "Worker 2 finished epoch 6\n",
      "Worker 3 finished epoch 6\n",
      "Worker 0 finished epoch 6\n",
      "Worker 3 finished epoch 7\n",
      "Worker 1 finished epoch 7\n",
      "Worker 2 finished epoch 7\n",
      "Worker 0 finished epoch 7\n",
      "Worker 3 finished epoch 8\n",
      "Worker 1 finished epoch 8\n",
      "Worker 2 finished epoch 8\n",
      "Worker 0 finished epoch 8\n",
      "Worker 3 finished epoch 9\n",
      "Worker 1 finished epoch 9\n",
      "Worker 2 finished epoch 9\n",
      "Worker 0 finished epoch 9\n",
      "Worker 3 finished epoch 10\n",
      "Worker 1 finished epoch 10Worker 2 finished epoch 10\n",
      "\n",
      "Worker 0 finished epoch 10\n",
      "Worker 3 finished epoch 11\n",
      "Worker 2 finished epoch 11\n",
      "Worker 1 finished epoch 11\n",
      "Worker 0 finished epoch 11\n",
      "Worker 2 finished epoch 12\n",
      "Worker 3 finished epoch 12\n",
      "Worker 1 finished epoch 12\n",
      "Worker 0 finished epoch 12\n",
      "Worker 2 finished epoch 13\n",
      "Worker 1 finished epoch 13\n",
      "Worker 3 finished epoch 13\n",
      "Worker 0 finished epoch 13\n",
      "Worker 2 finished epoch 14\n",
      "Worker 1 finished epoch 14\n",
      "Worker 3 finished epoch 14\n",
      "Worker 0 finished epoch 14\n",
      "Worker 2 finished epoch 15\n",
      "Worker 3 finished epoch 15\n",
      "Worker 1 finished epoch 15\n",
      "Worker 0 finished epoch 15\n",
      "Worker 2 finished epoch 16\n",
      "Worker 3 finished epoch 16\n",
      "Worker 1 finished epoch 16\n",
      "Worker 0 finished epoch 16\n",
      "Worker 2 finished epoch 17\n",
      "Worker 3 finished epoch 17\n",
      "Worker 1 finished epoch 17\n",
      "Worker 0 finished epoch 17\n",
      "Worker 2 finished epoch 18\n",
      "Worker 3 finished epoch 18\n",
      "Worker 1 finished epoch 18\n",
      "Worker 0 finished epoch 18\n",
      "Training complete. Final model parameters have been updated asynchronously.\n"
     ]
    }
   ],
   "source": [
    "import torch.multiprocessing as mp\n",
    "\n",
    "# Create an optimizer (the same instance is shared across processes)\n",
    "optimizer = optim.SGD(model.parameters(), lr=learning_rate)\n",
    "\n",
    "# Set device to CPU for Hogwild (this method works best on CPU)\n",
    "device = torch.device('cpu')\n",
    "\n",
    "# Launch multiple training processes in parallel\n",
    "processes = []\n",
    "for rank in range(num_workers):\n",
    "    p = mp.Process(target=train_worker, args=(rank, model, optimizer, train_dataset, epochs_ASGD, device))\n",
    "    p.start()\n",
    "    processes.append(p)\n",
    "for p in processes:\n",
    "    p.join()\n",
    "\n",
    "print(\"Training complete. Final model parameters have been updated asynchronously.\")"
   ]
  },
  {
   "cell_type": "code",
   "execution_count": 53,
   "metadata": {
    "colab": {
     "base_uri": "https://localhost:8080/"
    },
    "id": "DZLunkC1PGAQ",
    "outputId": "0124d1e3-0de9-4542-ac82-8ed46b36eb1b"
   },
   "outputs": [
    {
     "name": "stdout",
     "output_type": "stream",
     "text": [
      "Test Accuracy: 0.8418\n"
     ]
    }
   ],
   "source": [
    "acc = evaluate_model(model, test_loader)\n",
    "print(f\"Test Accuracy: {acc:.4f}\")"
   ]
  }
 ],
 "metadata": {
  "colab": {
   "authorship_tag": "ABX9TyNaFIdYW29VUbJm0KcySdeI",
   "collapsed_sections": [
    "qGtfWTnpcYzJ",
    "OB657BuSRMcQ",
    "1OpYarbFRkiL",
    "QM6XVabRRqug",
    "K4w01JJLRuLT",
    "uFZ8xat4R0Aq"
   ],
   "include_colab_link": true,
   "provenance": []
  },
  "kernelspec": {
   "display_name": "Python 3",
   "name": "python3"
  },
  "language_info": {
   "name": "python"
  }
 },
 "nbformat": 4,
 "nbformat_minor": 0
}
